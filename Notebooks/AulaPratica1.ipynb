{
 "cells": [
  {
   "cell_type": "markdown",
   "metadata": {
    "colab_type": "text",
    "id": "52OdmD7ydh4k"
   },
   "source": [
    "# <font color=green> **AULA PRÁTICA 1**\n",
    "-----\n",
    "\n",
    "## Objetivo:\n",
    "Apresentar o Python e as principais ferramentas necessárias para inicializar o estudo de Ciência de Dados\n",
    "\n",
    "\n",
    "## Tópicos:\n",
    "1.   Python Básico\n",
    "2.   Numpy\n",
    "3.   Pandas\n",
    "4.   Matplotlib\n",
    "5.   Seaborn\n",
    "\n",
    "\n",
    "\n",
    "\n"
   ]
  },
  {
   "cell_type": "markdown",
   "metadata": {
    "colab_type": "text",
    "id": "1MZVgsVEdZ9p"
   },
   "source": [
    "----\n",
    "# 1 - Python Básico"
   ]
  },
  {
   "cell_type": "code",
   "execution_count": null,
   "metadata": {
    "colab": {},
    "colab_type": "code",
    "id": "cwzu_EMfdlaf"
   },
   "outputs": [],
   "source": [
    "# Atalhos:\n",
    "\n",
    "# Ctrl + Enter -> rodar a célula\n",
    "# Shift + Enter -> rodar a célula e ir para próxima linha\n",
    "# Alt + Enter -> rodar a célula e inserir nova célula imediatamente após "
   ]
  },
  {
   "cell_type": "markdown",
   "metadata": {
    "colab_type": "text",
    "id": "Tv9iWRNwjDY9"
   },
   "source": [
    "### 1.1 Operações matemáticas"
   ]
  },
  {
   "cell_type": "code",
   "execution_count": 1,
   "metadata": {
    "colab": {},
    "colab_type": "code",
    "id": "Eze7EaXQg9Lq"
   },
   "outputs": [
    {
     "data": {
      "text/plain": [
       "9"
      ]
     },
     "execution_count": 1,
     "metadata": {},
     "output_type": "execute_result"
    }
   ],
   "source": [
    "# adição\n",
    "2 + 7      "
   ]
  },
  {
   "cell_type": "code",
   "execution_count": 2,
   "metadata": {
    "colab": {},
    "colab_type": "code",
    "id": "DWrtBjwPiXTd"
   },
   "outputs": [
    {
     "data": {
      "text/plain": [
       "-5"
      ]
     },
     "execution_count": 2,
     "metadata": {},
     "output_type": "execute_result"
    }
   ],
   "source": [
    "# subtração\n",
    "2 - 7      "
   ]
  },
  {
   "cell_type": "code",
   "execution_count": 3,
   "metadata": {
    "colab": {},
    "colab_type": "code",
    "id": "e8xjSu8RiXhU"
   },
   "outputs": [
    {
     "data": {
      "text/plain": [
       "6"
      ]
     },
     "execution_count": 3,
     "metadata": {},
     "output_type": "execute_result"
    }
   ],
   "source": [
    "# multiplicação\n",
    "2 * 3"
   ]
  },
  {
   "cell_type": "code",
   "execution_count": 4,
   "metadata": {
    "colab": {},
    "colab_type": "code",
    "id": "SHYpdHPGiXpE"
   },
   "outputs": [
    {
     "data": {
      "text/plain": [
       "3.5"
      ]
     },
     "execution_count": 4,
     "metadata": {},
     "output_type": "execute_result"
    }
   ],
   "source": [
    "# divisão\n",
    "7/2        "
   ]
  },
  {
   "cell_type": "code",
   "execution_count": 5,
   "metadata": {
    "colab": {},
    "colab_type": "code",
    "id": "tc7U6mw6iX2E"
   },
   "outputs": [
    {
     "data": {
      "text/plain": [
       "3"
      ]
     },
     "execution_count": 5,
     "metadata": {},
     "output_type": "execute_result"
    }
   ],
   "source": [
    "# retorna apenas parte inteira\n",
    "7 // 2     "
   ]
  },
  {
   "cell_type": "code",
   "execution_count": 6,
   "metadata": {
    "colab": {},
    "colab_type": "code",
    "id": "bYn1fK9Iie5Z"
   },
   "outputs": [
    {
     "data": {
      "text/plain": [
       "32"
      ]
     },
     "execution_count": 6,
     "metadata": {},
     "output_type": "execute_result"
    }
   ],
   "source": [
    "# exponenciação\n",
    "2 ** 5     "
   ]
  },
  {
   "cell_type": "code",
   "execution_count": 7,
   "metadata": {
    "colab": {},
    "colab_type": "code",
    "id": "cAKO3f5IifGA"
   },
   "outputs": [
    {
     "data": {
      "text/plain": [
       "1"
      ]
     },
     "execution_count": 7,
     "metadata": {},
     "output_type": "execute_result"
    }
   ],
   "source": [
    "# resto da divisão\n",
    "5 % 2      "
   ]
  },
  {
   "cell_type": "code",
   "execution_count": 8,
   "metadata": {
    "colab": {},
    "colab_type": "code",
    "id": "UC2TBif7ifLo"
   },
   "outputs": [
    {
     "data": {
      "text/plain": [
       "0"
      ]
     },
     "execution_count": 8,
     "metadata": {},
     "output_type": "execute_result"
    }
   ],
   "source": [
    "# resto da divisão\n",
    "6 % 2      "
   ]
  },
  {
   "cell_type": "code",
   "execution_count": 9,
   "metadata": {
    "colab": {},
    "colab_type": "code",
    "id": "8vakDhl6hpVL"
   },
   "outputs": [
    {
     "data": {
      "text/plain": [
       "41"
      ]
     },
     "execution_count": 9,
     "metadata": {},
     "output_type": "execute_result"
    }
   ],
   "source": [
    "# Expressões matemáticas\n",
    "2**5 + 3**2"
   ]
  },
  {
   "cell_type": "markdown",
   "metadata": {
    "colab_type": "text",
    "id": "r5ecE_mCgxGA"
   },
   "source": [
    "### 1.2 Variáveis"
   ]
  },
  {
   "cell_type": "markdown",
   "metadata": {
    "colab_type": "text",
    "id": "nNhpC_6qnZSL"
   },
   "source": [
    "Sabendo que a fórmula da porosidade é dada por:\n",
    "\n",
    "> $\\Phi = 100 *\\frac{VP}{Vt}$\n",
    "\n",
    "Calcular a porosidade, considerando que o volume de poros (VP) é $67 cm^3$, volume total (Vt) é $269.39 cm^3$.\n",
    "\n"
   ]
  },
  {
   "cell_type": "code",
   "execution_count": 10,
   "metadata": {
    "colab": {},
    "colab_type": "code",
    "id": "W2z9pvcQnYft"
   },
   "outputs": [
    {
     "data": {
      "text/plain": [
       "24.871004862838266"
      ]
     },
     "execution_count": 10,
     "metadata": {},
     "output_type": "execute_result"
    }
   ],
   "source": [
    "100*67/269.39"
   ]
  },
  {
   "cell_type": "code",
   "execution_count": 11,
   "metadata": {
    "colab": {},
    "colab_type": "code",
    "id": "TdNdrlqkcIW-"
   },
   "outputs": [
    {
     "data": {
      "text/plain": [
       "24.87"
      ]
     },
     "execution_count": 11,
     "metadata": {},
     "output_type": "execute_result"
    }
   ],
   "source": [
    "round(100*67/269.39,2)     # round(number, digits) -> define o número de casas decimais"
   ]
  },
  {
   "cell_type": "code",
   "execution_count": 12,
   "metadata": {
    "colab": {},
    "colab_type": "code",
    "id": "Mf6UMpVTb9Xg"
   },
   "outputs": [],
   "source": [
    "# definindo variáveis\n",
    "vp = 67\n",
    "vt = 269.39"
   ]
  },
  {
   "cell_type": "code",
   "execution_count": 13,
   "metadata": {
    "colab": {},
    "colab_type": "code",
    "id": "idhr1uUwsZwI"
   },
   "outputs": [],
   "source": [
    "# definindo variáveis\n",
    "porosidade = 100*vp/vt"
   ]
  },
  {
   "cell_type": "code",
   "execution_count": 14,
   "metadata": {
    "colab": {},
    "colab_type": "code",
    "id": "nu3JTJHmtUMy"
   },
   "outputs": [
    {
     "data": {
      "text/plain": [
       "24.871004862838266"
      ]
     },
     "execution_count": 14,
     "metadata": {},
     "output_type": "execute_result"
    }
   ],
   "source": [
    "porosidade"
   ]
  },
  {
   "cell_type": "code",
   "execution_count": 15,
   "metadata": {
    "colab": {},
    "colab_type": "code",
    "id": "5xhtVaXXtk9s"
   },
   "outputs": [
    {
     "data": {
      "text/plain": [
       "24.871004862838266"
      ]
     },
     "execution_count": 15,
     "metadata": {},
     "output_type": "execute_result"
    }
   ],
   "source": [
    "vp = 70\n",
    "vt = 250\n",
    "porosidade"
   ]
  },
  {
   "cell_type": "code",
   "execution_count": 16,
   "metadata": {
    "colab": {},
    "colab_type": "code",
    "id": "uIDwwtMMw7h4"
   },
   "outputs": [
    {
     "data": {
      "text/plain": [
       "28.0"
      ]
     },
     "execution_count": 16,
     "metadata": {},
     "output_type": "execute_result"
    }
   ],
   "source": [
    "# definindo variáveis\n",
    "porosidade = 100*vp/vt\n",
    "porosidade"
   ]
  },
  {
   "cell_type": "code",
   "execution_count": 17,
   "metadata": {
    "colab": {},
    "colab_type": "code",
    "id": "AEVoM87RvNAR"
   },
   "outputs": [
    {
     "ename": "NameError",
     "evalue": "name 'Porosidade' is not defined",
     "output_type": "error",
     "traceback": [
      "\u001b[1;31m---------------------------------------------------------------------------\u001b[0m",
      "\u001b[1;31mNameError\u001b[0m                                 Traceback (most recent call last)",
      "\u001b[1;32m<ipython-input-17-2a54136dd91a>\u001b[0m in \u001b[0;36m<module>\u001b[1;34m\u001b[0m\n\u001b[1;32m----> 1\u001b[1;33m \u001b[0mPorosidade\u001b[0m   \u001b[1;31m# irá dar erro - Python é case sensitive (tem diferença entre maiusculo e minusculo)\u001b[0m\u001b[1;33m\u001b[0m\u001b[1;33m\u001b[0m\u001b[0m\n\u001b[0m",
      "\u001b[1;31mNameError\u001b[0m: name 'Porosidade' is not defined"
     ]
    }
   ],
   "source": [
    "Porosidade   # irá dar erro - Python é case sensitive (tem diferença entre maiusculo e minusculo)"
   ]
  },
  {
   "cell_type": "markdown",
   "metadata": {
    "colab_type": "text",
    "id": "dArwBCHqxea6"
   },
   "source": [
    "### 1.3 Tipos de dados"
   ]
  },
  {
   "cell_type": "markdown",
   "metadata": {
    "colab_type": "text",
    "id": "Bij3ar6Q1mr0"
   },
   "source": [
    "Os tipos básicos de dados do Python são:\n",
    "\n",
    "1. **Números**\n",
    "    * ***int*** - Inteiros\n",
    "    * ***float*** - Ponto flutuante\n",
    "2. **Booleanos** - Assume os valores True ou False. Para declarações condicionais\n",
    "3. ***Strings*** - Representa um texto.\n",
    "4. **None** - Representa a ausência de valor"
   ]
  },
  {
   "cell_type": "code",
   "execution_count": 18,
   "metadata": {
    "colab": {},
    "colab_type": "code",
    "id": "WIvidLeWxb2h"
   },
   "outputs": [
    {
     "data": {
      "text/plain": [
       "int"
      ]
     },
     "execution_count": 18,
     "metadata": {},
     "output_type": "execute_result"
    }
   ],
   "source": [
    "# int\n",
    "ano = 2020\n",
    "type(ano)"
   ]
  },
  {
   "cell_type": "code",
   "execution_count": 19,
   "metadata": {
    "colab": {},
    "colab_type": "code",
    "id": "zOhmU0yw7huS"
   },
   "outputs": [
    {
     "data": {
      "text/plain": [
       "float"
      ]
     },
     "execution_count": 19,
     "metadata": {},
     "output_type": "execute_result"
    }
   ],
   "source": [
    "# float \n",
    "pressao = 204.65\n",
    "type(pressao)"
   ]
  },
  {
   "cell_type": "code",
   "execution_count": 20,
   "metadata": {
    "colab": {},
    "colab_type": "code",
    "id": "r-BfJm6F7qkP"
   },
   "outputs": [
    {
     "data": {
      "text/plain": [
       "bool"
      ]
     },
     "execution_count": 20,
     "metadata": {},
     "output_type": "execute_result"
    }
   ],
   "source": [
    "# booleanos\n",
    "opcao = True\n",
    "type(opcao)"
   ]
  },
  {
   "cell_type": "code",
   "execution_count": 21,
   "metadata": {
    "colab": {},
    "colab_type": "code",
    "id": "4TIwYPUMF0bS"
   },
   "outputs": [
    {
     "data": {
      "text/plain": [
       "False"
      ]
     },
     "execution_count": 21,
     "metadata": {},
     "output_type": "execute_result"
    }
   ],
   "source": [
    "2 == 3        # == indica igualdade (retorna True ou False)"
   ]
  },
  {
   "cell_type": "code",
   "execution_count": 22,
   "metadata": {
    "colab": {},
    "colab_type": "code",
    "id": "_OcwjAK0IhZi"
   },
   "outputs": [
    {
     "data": {
      "text/plain": [
       "True"
      ]
     },
     "execution_count": 22,
     "metadata": {},
     "output_type": "execute_result"
    }
   ],
   "source": [
    "2 != 3         # != indica diferente"
   ]
  },
  {
   "cell_type": "code",
   "execution_count": 23,
   "metadata": {
    "colab": {},
    "colab_type": "code",
    "id": "O4J7meeXI29J"
   },
   "outputs": [],
   "source": [
    "# String\n",
    "nome = 'bomba1'"
   ]
  },
  {
   "cell_type": "code",
   "execution_count": 24,
   "metadata": {
    "colab": {},
    "colab_type": "code",
    "id": "snSI3_c5Joz3"
   },
   "outputs": [
    {
     "data": {
      "text/plain": [
       "'válvula aberta'"
      ]
     },
     "execution_count": 24,
     "metadata": {},
     "output_type": "execute_result"
    }
   ],
   "source": [
    "'válvula ' + 'aberta' "
   ]
  },
  {
   "cell_type": "code",
   "execution_count": 25,
   "metadata": {
    "colab": {},
    "colab_type": "code",
    "id": "KHowh5zeJ2_c"
   },
   "outputs": [
    {
     "ename": "TypeError",
     "evalue": "can only concatenate str (not \"int\") to str",
     "output_type": "error",
     "traceback": [
      "\u001b[1;31m---------------------------------------------------------------------------\u001b[0m",
      "\u001b[1;31mTypeError\u001b[0m                                 Traceback (most recent call last)",
      "\u001b[1;32m<ipython-input-25-d47887d322aa>\u001b[0m in \u001b[0;36m<module>\u001b[1;34m\u001b[0m\n\u001b[1;32m----> 1\u001b[1;33m \u001b[1;34m'tipo'\u001b[0m \u001b[1;33m+\u001b[0m \u001b[1;36m1\u001b[0m   \u001b[1;31m# dará erro, não podemos juntar string com número. Temos que passar o número para string\u001b[0m\u001b[1;33m\u001b[0m\u001b[1;33m\u001b[0m\u001b[0m\n\u001b[0m",
      "\u001b[1;31mTypeError\u001b[0m: can only concatenate str (not \"int\") to str"
     ]
    }
   ],
   "source": [
    "'tipo' + 1   # dará erro, não podemos juntar string com número. Temos que passar o número para string"
   ]
  },
  {
   "cell_type": "code",
   "execution_count": 26,
   "metadata": {
    "colab": {},
    "colab_type": "code",
    "id": "qiux-EBEJ6lm"
   },
   "outputs": [
    {
     "data": {
      "text/plain": [
       "'tipo 1'"
      ]
     },
     "execution_count": 26,
     "metadata": {},
     "output_type": "execute_result"
    }
   ],
   "source": [
    "'tipo ' + str(1)           # transformamos o número em string"
   ]
  },
  {
   "cell_type": "code",
   "execution_count": 27,
   "metadata": {
    "colab": {},
    "colab_type": "code",
    "id": "_y3fjEb6KFEv"
   },
   "outputs": [
    {
     "data": {
      "text/plain": [
       "NoneType"
      ]
     },
     "execution_count": 27,
     "metadata": {},
     "output_type": "execute_result"
    }
   ],
   "source": [
    "# None\n",
    "a = None\n",
    "type(a)"
   ]
  },
  {
   "cell_type": "code",
   "execution_count": null,
   "metadata": {
    "colab": {},
    "colab_type": "code",
    "id": "Bkl5vWF8LuzN"
   },
   "outputs": [],
   "source": []
  },
  {
   "cell_type": "markdown",
   "metadata": {
    "colab_type": "text",
    "id": "HPFyAOH5MDbu"
   },
   "source": [
    "### 1.4 Listas\n",
    "Sequências mutáveis, armazenam coleções de itens.\n",
    "forma: [1,2,3]\n",
    "\n",
    "Operações com listas:\n",
    "https://docs.python.org/3.6/library/stdtypes.html#common-sequence-operations\n",
    "\n",
    "\n",
    "Métodos de listas:\n",
    "https://docs.python.org/3.6/library/stdtypes.html#mutable-sequence-types"
   ]
  },
  {
   "cell_type": "code",
   "execution_count": 28,
   "metadata": {
    "colab": {},
    "colab_type": "code",
    "id": "pUkOuMvhMOWb"
   },
   "outputs": [
    {
     "data": {
      "text/plain": [
       "[0.75, 0.875, 1, 0.25]"
      ]
     },
     "execution_count": 28,
     "metadata": {},
     "output_type": "execute_result"
    }
   ],
   "source": [
    "brocas =  [3/4, 7/8, 1, 1/4]   # criando uma lista\n",
    "brocas"
   ]
  },
  {
   "cell_type": "code",
   "execution_count": 29,
   "metadata": {
    "colab": {},
    "colab_type": "code",
    "id": "g2hTLmx6ViWT"
   },
   "outputs": [
    {
     "data": {
      "text/plain": [
       "True"
      ]
     },
     "execution_count": 29,
     "metadata": {},
     "output_type": "execute_result"
    }
   ],
   "source": [
    "3/4 in brocas     # teste lógico - retorna True e False"
   ]
  },
  {
   "cell_type": "code",
   "execution_count": 30,
   "metadata": {
    "colab": {},
    "colab_type": "code",
    "id": "yfdaVz7IVnjE"
   },
   "outputs": [
    {
     "data": {
      "text/plain": [
       "False"
      ]
     },
     "execution_count": 30,
     "metadata": {},
     "output_type": "execute_result"
    }
   ],
   "source": [
    "5 in brocas       # teste lógico - retorna True e False"
   ]
  },
  {
   "cell_type": "code",
   "execution_count": 31,
   "metadata": {
    "colab": {},
    "colab_type": "code",
    "id": "jLSObErgVuiA"
   },
   "outputs": [
    {
     "data": {
      "text/plain": [
       "['tipo A', 'tipo B', 'tipo C']"
      ]
     },
     "execution_count": 31,
     "metadata": {},
     "output_type": "execute_result"
    }
   ],
   "source": [
    "falhas = ['tipo A','tipo B', 'tipo C']    # criando outra lista\n",
    "falhas"
   ]
  },
  {
   "cell_type": "code",
   "execution_count": 32,
   "metadata": {
    "colab": {},
    "colab_type": "code",
    "id": "BXbVUB05WM_x"
   },
   "outputs": [
    {
     "data": {
      "text/plain": [
       "[0.75, 0.875, 1, 0.25, 'tipo A', 'tipo B', 'tipo C']"
      ]
     },
     "execution_count": 32,
     "metadata": {},
     "output_type": "execute_result"
    }
   ],
   "source": [
    "brocas + falhas              # somar listas concatena em uma lista só"
   ]
  },
  {
   "cell_type": "code",
   "execution_count": 33,
   "metadata": {
    "colab": {},
    "colab_type": "code",
    "id": "iSbEtwkgWWnU"
   },
   "outputs": [
    {
     "data": {
      "text/plain": [
       "4"
      ]
     },
     "execution_count": 33,
     "metadata": {},
     "output_type": "execute_result"
    }
   ],
   "source": [
    "len(brocas)                 # tamanho da lista, quantos itens tem na lista"
   ]
  },
  {
   "cell_type": "code",
   "execution_count": 34,
   "metadata": {
    "colab": {},
    "colab_type": "code",
    "id": "mp6-TrJzWn1O"
   },
   "outputs": [
    {
     "data": {
      "text/plain": [
       "[0.75, 0.875, 1, 0.25]"
      ]
     },
     "execution_count": 34,
     "metadata": {},
     "output_type": "execute_result"
    }
   ],
   "source": [
    "brocas"
   ]
  },
  {
   "cell_type": "code",
   "execution_count": 35,
   "metadata": {
    "colab": {},
    "colab_type": "code",
    "id": "sn_Lcfm3WY92"
   },
   "outputs": [
    {
     "data": {
      "text/plain": [
       "0.75"
      ]
     },
     "execution_count": 35,
     "metadata": {},
     "output_type": "execute_result"
    }
   ],
   "source": [
    "brocas[0]                   # primeiro elemento da lista"
   ]
  },
  {
   "cell_type": "code",
   "execution_count": 36,
   "metadata": {
    "colab": {},
    "colab_type": "code",
    "id": "KiS2usz0We1Z"
   },
   "outputs": [
    {
     "data": {
      "text/plain": [
       "0.25"
      ]
     },
     "execution_count": 36,
     "metadata": {},
     "output_type": "execute_result"
    }
   ],
   "source": [
    "brocas[3]                  # elemento da lista brocas que está na posição 4"
   ]
  },
  {
   "cell_type": "code",
   "execution_count": 37,
   "metadata": {
    "colab": {},
    "colab_type": "code",
    "id": "QZkyxHsuWqgI"
   },
   "outputs": [
    {
     "ename": "IndexError",
     "evalue": "list index out of range",
     "output_type": "error",
     "traceback": [
      "\u001b[1;31m---------------------------------------------------------------------------\u001b[0m",
      "\u001b[1;31mIndexError\u001b[0m                                Traceback (most recent call last)",
      "\u001b[1;32m<ipython-input-37-087aa232b1dd>\u001b[0m in \u001b[0;36m<module>\u001b[1;34m\u001b[0m\n\u001b[1;32m----> 1\u001b[1;33m \u001b[0mbrocas\u001b[0m\u001b[1;33m[\u001b[0m\u001b[1;36m4\u001b[0m\u001b[1;33m]\u001b[0m                  \u001b[1;31m# vai dar erro\u001b[0m\u001b[1;33m\u001b[0m\u001b[1;33m\u001b[0m\u001b[0m\n\u001b[0m",
      "\u001b[1;31mIndexError\u001b[0m: list index out of range"
     ]
    }
   ],
   "source": [
    "brocas[4]                  # vai dar erro"
   ]
  },
  {
   "cell_type": "code",
   "execution_count": 38,
   "metadata": {
    "colab": {},
    "colab_type": "code",
    "id": "d_9S6Ap7W1Ex"
   },
   "outputs": [
    {
     "data": {
      "text/plain": [
       "[0.75, 0.875]"
      ]
     },
     "execution_count": 38,
     "metadata": {},
     "output_type": "execute_result"
    }
   ],
   "source": [
    "brocas[0:2]                 # A[i:j] -> recorta a lista do indíce i até o j, sendo o j não é incluído"
   ]
  },
  {
   "cell_type": "code",
   "execution_count": 39,
   "metadata": {
    "colab": {},
    "colab_type": "code",
    "id": "BdBX0fOiXUYa"
   },
   "outputs": [
    {
     "data": {
      "text/plain": [
       "[0.75, 0.875, 1, 0.25]"
      ]
     },
     "execution_count": 39,
     "metadata": {},
     "output_type": "execute_result"
    }
   ],
   "source": [
    "brocas"
   ]
  },
  {
   "cell_type": "code",
   "execution_count": 40,
   "metadata": {
    "colab": {},
    "colab_type": "code",
    "id": "Zupoupk_XAu-"
   },
   "outputs": [
    {
     "data": {
      "text/plain": [
       "0.25"
      ]
     },
     "execution_count": 40,
     "metadata": {},
     "output_type": "execute_result"
    }
   ],
   "source": [
    "brocas[-1]                 # acessa último elemento da lista"
   ]
  },
  {
   "cell_type": "code",
   "execution_count": 41,
   "metadata": {
    "colab": {},
    "colab_type": "code",
    "id": "YD1dF2LYXWeB"
   },
   "outputs": [
    {
     "data": {
      "text/plain": [
       "0.875"
      ]
     },
     "execution_count": 41,
     "metadata": {},
     "output_type": "execute_result"
    }
   ],
   "source": [
    "brocas[-3]                 # terceira posição, começando pelo final da lista"
   ]
  },
  {
   "cell_type": "code",
   "execution_count": 42,
   "metadata": {
    "colab": {},
    "colab_type": "code",
    "id": "vLU3G7n3XZ9L"
   },
   "outputs": [],
   "source": [
    "valores = [['a','b','c'], 1, 2 ,3]           # podemos ter listas dentro de uma determinada lista"
   ]
  },
  {
   "cell_type": "code",
   "execution_count": 43,
   "metadata": {
    "colab": {},
    "colab_type": "code",
    "id": "OE3gyi48X-Ma"
   },
   "outputs": [
    {
     "data": {
      "text/plain": [
       "['a', 'b', 'c']"
      ]
     },
     "execution_count": 43,
     "metadata": {},
     "output_type": "execute_result"
    }
   ],
   "source": [
    "valores[0]"
   ]
  },
  {
   "cell_type": "code",
   "execution_count": 44,
   "metadata": {
    "colab": {},
    "colab_type": "code",
    "id": "iodMUJ_gYAma"
   },
   "outputs": [
    {
     "data": {
      "text/plain": [
       "1"
      ]
     },
     "execution_count": 44,
     "metadata": {},
     "output_type": "execute_result"
    }
   ],
   "source": [
    "valores[1]"
   ]
  },
  {
   "cell_type": "code",
   "execution_count": 45,
   "metadata": {
    "colab": {},
    "colab_type": "code",
    "id": "JQKUncuzYD5Y"
   },
   "outputs": [
    {
     "data": {
      "text/plain": [
       "[0.25, 0.75, 0.875, 1]"
      ]
     },
     "execution_count": 45,
     "metadata": {},
     "output_type": "execute_result"
    }
   ],
   "source": [
    "# sort -> coloca na ordem crescente\n",
    "brocas.sort()  \n",
    "brocas"
   ]
  },
  {
   "cell_type": "code",
   "execution_count": 46,
   "metadata": {
    "colab": {},
    "colab_type": "code",
    "id": "YwIe5tHQYSS1"
   },
   "outputs": [
    {
     "data": {
      "text/plain": [
       "[1, 0.875, 0.75, 0.25]"
      ]
     },
     "execution_count": 46,
     "metadata": {},
     "output_type": "execute_result"
    }
   ],
   "source": [
    "brocas.sort(reverse=True)                # reverse = True -> coloca na ordem decrescente\n",
    "brocas"
   ]
  },
  {
   "cell_type": "code",
   "execution_count": 47,
   "metadata": {
    "colab": {},
    "colab_type": "code",
    "id": "noOUAWNYYbUj"
   },
   "outputs": [
    {
     "name": "stdout",
     "output_type": "stream",
     "text": [
      "[0.25, 0.75, 0.875, 1]\n",
      "[1, 0.875, 0.75, 0.25]\n"
     ]
    }
   ],
   "source": [
    " # copy -> faz uma cópia da lista original. Mudanças nessa nova lista não irá alterar a lista original\n",
    "brocas1 = brocas.copy()  \n",
    "brocas1.sort()\n",
    "print(brocas1)\n",
    "print(brocas)"
   ]
  },
  {
   "cell_type": "code",
   "execution_count": 48,
   "metadata": {
    "colab": {},
    "colab_type": "code",
    "id": "t156fFN2Yt4Z"
   },
   "outputs": [
    {
     "data": {
      "text/plain": [
       "[0.25, 0.75, 0.875, 1, 1.5]"
      ]
     },
     "execution_count": 48,
     "metadata": {},
     "output_type": "execute_result"
    }
   ],
   "source": [
    " # append -> adiciona um novo elemento da lista já existente (na última posição)\n",
    "brocas1.append(1.5)  \n",
    "brocas1"
   ]
  },
  {
   "cell_type": "code",
   "execution_count": null,
   "metadata": {
    "colab": {},
    "colab_type": "code",
    "id": "fN0zZELQYz5b"
   },
   "outputs": [],
   "source": []
  },
  {
   "cell_type": "markdown",
   "metadata": {
    "colab_type": "text",
    "id": "g3JrU056avKO"
   },
   "source": [
    "### 1.5 Repetição e condicionais\n",
    "\n"
   ]
  },
  {
   "cell_type": "markdown",
   "metadata": {
    "colab_type": "text",
    "id": "HRxZ0iAUDTCQ"
   },
   "source": [
    "*    **for**\n",
    "\n",
    "**Formato padrão**\n",
    "\n",
    "```\n",
    "for <variável> in <coleção>:\n",
    "    <instruções>\n",
    "```\n",
    "\n",
    "*    **if-else e if-elif-else**\n",
    "\n",
    "**Formato padrão**\n",
    "\n",
    "```\n",
    "if <condição 1>:\n",
    "    <instruções caso a condição 1 seja verdadeira>\n",
    "elif <condição 2>:\n",
    "    <instruções caso a condição 2 seja verdadeira>\n",
    "elif <condição 3>:\n",
    "    <instruções caso a condição 3 seja verdadeira>\n",
    "                        .\n",
    "                        .\n",
    "                        .\n",
    "else:\n",
    "    <instruções caso as condições anteriores não sejam verdadeiras>\n",
    "```\n"
   ]
  },
  {
   "cell_type": "code",
   "execution_count": 49,
   "metadata": {
    "colab": {},
    "colab_type": "code",
    "id": "1qXMe30Oa07q"
   },
   "outputs": [
    {
     "ename": "TypeError",
     "evalue": "unsupported operand type(s) for ** or pow(): 'range' and 'int'",
     "output_type": "error",
     "traceback": [
      "\u001b[1;31m---------------------------------------------------------------------------\u001b[0m",
      "\u001b[1;31mTypeError\u001b[0m                                 Traceback (most recent call last)",
      "\u001b[1;32m<ipython-input-49-4e31e495c6b6>\u001b[0m in \u001b[0;36m<module>\u001b[1;34m\u001b[0m\n\u001b[0;32m      1\u001b[0m \u001b[0mx\u001b[0m \u001b[1;33m=\u001b[0m \u001b[0mrange\u001b[0m\u001b[1;33m(\u001b[0m\u001b[1;36m1\u001b[0m\u001b[1;33m,\u001b[0m\u001b[1;36m11\u001b[0m\u001b[1;33m)\u001b[0m   \u001b[1;31m# funçao range() -> lista começando em 1 e terminando em 10\u001b[0m\u001b[1;33m\u001b[0m\u001b[1;33m\u001b[0m\u001b[0m\n\u001b[1;32m----> 2\u001b[1;33m \u001b[0my\u001b[0m \u001b[1;33m=\u001b[0m \u001b[0mx\u001b[0m\u001b[1;33m**\u001b[0m\u001b[1;36m2\u001b[0m      \u001b[1;31m# erro - como podemos criar uma lista com os valores de x ao quadrado?\u001b[0m\u001b[1;33m\u001b[0m\u001b[1;33m\u001b[0m\u001b[0m\n\u001b[0m",
      "\u001b[1;31mTypeError\u001b[0m: unsupported operand type(s) for ** or pow(): 'range' and 'int'"
     ]
    }
   ],
   "source": [
    "x = range(1,11)   # funçao range() -> lista começando em 1 e terminando em 10\n",
    "y = x**2      # erro - como podemos criar uma lista com os valores de x ao quadrado?"
   ]
  },
  {
   "cell_type": "code",
   "execution_count": 50,
   "metadata": {
    "colab": {},
    "colab_type": "code",
    "id": "4Tscd5lEqGeC"
   },
   "outputs": [
    {
     "data": {
      "text/plain": [
       "range(1, 11)"
      ]
     },
     "execution_count": 50,
     "metadata": {},
     "output_type": "execute_result"
    }
   ],
   "source": [
    "x"
   ]
  },
  {
   "cell_type": "code",
   "execution_count": 51,
   "metadata": {
    "colab": {},
    "colab_type": "code",
    "id": "SC8G8CRLqSTU"
   },
   "outputs": [
    {
     "name": "stdout",
     "output_type": "stream",
     "text": [
      "1\n",
      "2\n",
      "3\n",
      "4\n",
      "5\n",
      "6\n",
      "7\n",
      "8\n",
      "9\n",
      "10\n"
     ]
    }
   ],
   "source": [
    "for valor in x:\n",
    "  print(valor)"
   ]
  },
  {
   "cell_type": "code",
   "execution_count": 52,
   "metadata": {
    "colab": {},
    "colab_type": "code",
    "id": "rxouYjAKqbvN"
   },
   "outputs": [
    {
     "data": {
      "text/plain": [
       "[1, 4, 9, 16, 25, 36, 49, 64, 81, 100]"
      ]
     },
     "execution_count": 52,
     "metadata": {},
     "output_type": "execute_result"
    }
   ],
   "source": [
    "y = []\n",
    "for valor in x:     # para cada valor da lista x\n",
    "  y.append(valor**2)   # adicionar (append) na lista y, o valor elevado ao quadrado\n",
    "\n",
    "y"
   ]
  },
  {
   "cell_type": "code",
   "execution_count": 53,
   "metadata": {
    "colab": {},
    "colab_type": "code",
    "id": "puY-6MO1rtNZ"
   },
   "outputs": [
    {
     "name": "stdout",
     "output_type": "stream",
     "text": [
      "[1, 4, 9, 16, 25, 36, 49, 64, 81, 100]\n"
     ]
    }
   ],
   "source": [
    "y = []\n",
    "for i in range(len(x)):\n",
    "  y.append((x[i])**2)\n",
    "print(y)"
   ]
  },
  {
   "cell_type": "code",
   "execution_count": 54,
   "metadata": {
    "colab": {},
    "colab_type": "code",
    "id": "aaxv8gC-qqYr"
   },
   "outputs": [
    {
     "data": {
      "text/plain": [
       "[1, 4, 9, 16, 25, 36, 49, 64, 81, 100]"
      ]
     },
     "execution_count": 54,
     "metadata": {},
     "output_type": "execute_result"
    }
   ],
   "source": [
    "y = [valor**2 for valor in x]\n",
    "y"
   ]
  },
  {
   "cell_type": "code",
   "execution_count": 55,
   "metadata": {
    "colab": {},
    "colab_type": "code",
    "id": "fpLwQJwUsNSx"
   },
   "outputs": [
    {
     "name": "stdout",
     "output_type": "stream",
     "text": [
      "pares: [2, 4, 6, 8, 10]\n",
      "impares: [1, 3, 5, 7, 9]\n"
     ]
    }
   ],
   "source": [
    "# Separar os valores de x em duas listas de par e ímpares:\n",
    "par = []\n",
    "impar = []\n",
    "for valor in x:\n",
    "  if valor % 2 == 0:\n",
    "    par.append(valor)\n",
    "  else:\n",
    "    impar.append(valor)\n",
    "\n",
    "print(f'pares: {par}')\n",
    "print(f'impares: {impar}')"
   ]
  },
  {
   "cell_type": "code",
   "execution_count": 56,
   "metadata": {
    "colab": {},
    "colab_type": "code",
    "id": "3a3edO2ruMtE"
   },
   "outputs": [
    {
     "data": {
      "text/plain": [
       "[2, 4, 6, 8, 10]"
      ]
     },
     "execution_count": 56,
     "metadata": {},
     "output_type": "execute_result"
    }
   ],
   "source": [
    "par = [valor for valor in x if valor % 2 == 0]\n",
    "par"
   ]
  },
  {
   "cell_type": "code",
   "execution_count": 57,
   "metadata": {
    "colab": {},
    "colab_type": "code",
    "id": "_H6Ph2hHuXCL"
   },
   "outputs": [
    {
     "data": {
      "text/plain": [
       "[1, 3, 5, 7, 9]"
      ]
     },
     "execution_count": 57,
     "metadata": {},
     "output_type": "execute_result"
    }
   ],
   "source": [
    "impar = [valor for valor in x if valor % 2 != 0]\n",
    "impar"
   ]
  },
  {
   "cell_type": "markdown",
   "metadata": {
    "colab_type": "text",
    "id": "nG_MEORuwsQz"
   },
   "source": [
    "**Exemplo 1**\n",
    "\n",
    "**A partir da densidade relativa do óleo em relação à água das amostras de diferentes campos, indique automaticamente o  $^OAPI$  e sua classificação.**\n",
    "\n",
    "**Densidade: 0.88**\n",
    "\n",
    "\n",
    "\n",
    "\n",
    "Resposta:\n",
    "> $\\rho = \\frac{141.5}{^OAPI + 131.5}$\n",
    "\n",
    "Além disso:\n",
    "\n",
    "* $^OAPI > 30$ : petróleo leves\n",
    "\n",
    "*  $22 \\leq ^OAPI \\leq 30$ : petróleos médios\n",
    "\n",
    "*  $10 < ^OAPI <  22 $ : petróleos pesados\n",
    "\n",
    "* $ ^OAPI \\leq  10 $ : petróleos extrapesados\n",
    "\n",
    "\n",
    "\n"
   ]
  },
  {
   "cell_type": "code",
   "execution_count": 58,
   "metadata": {
    "colab": {},
    "colab_type": "code",
    "id": "vZzMvTzH230e"
   },
   "outputs": [],
   "source": [
    "ro = 0.88"
   ]
  },
  {
   "cell_type": "code",
   "execution_count": 59,
   "metadata": {
    "colab": {},
    "colab_type": "code",
    "id": "xPe16Yl1wrmP"
   },
   "outputs": [
    {
     "data": {
      "text/plain": [
       "29.295454545454533"
      ]
     },
     "execution_count": 59,
     "metadata": {},
     "output_type": "execute_result"
    }
   ],
   "source": [
    "API = (141.5/ro) - 131.5\n",
    "API"
   ]
  },
  {
   "cell_type": "code",
   "execution_count": 60,
   "metadata": {
    "colab": {},
    "colab_type": "code",
    "id": "lEs_f9rb42IK"
   },
   "outputs": [
    {
     "name": "stdout",
     "output_type": "stream",
     "text": [
      "petróleo médio\n"
     ]
    }
   ],
   "source": [
    "if API > 31:\n",
    "  print('petróleo leve')\n",
    "elif 22 <= API and API <= 31:  # and -> satisfaz a condição 1 e a condição 2\n",
    "  print('petróleo médio')\n",
    "elif 10 < API and API <22:\n",
    "  print('petróleo pesado')\n",
    "else:\n",
    "  print('petróleo extrapesado')"
   ]
  },
  {
   "cell_type": "markdown",
   "metadata": {
    "colab_type": "text",
    "id": "WCt7USOw8iXO"
   },
   "source": [
    "### 1.6 Funções\n",
    "\n",
    "\n"
   ]
  },
  {
   "cell_type": "markdown",
   "metadata": {
    "colab_type": "text",
    "id": "SXgxGIrcDwNA"
   },
   "source": [
    " * **Formato padrão**\n",
    "\n",
    "```\n",
    "def nome_function(parametros):\n",
    "    <instruções>\n",
    "    return(output)\n",
    "```\n"
   ]
  },
  {
   "cell_type": "markdown",
   "metadata": {
    "colab_type": "text",
    "id": "JE8tdYkp9vkf"
   },
   "source": [
    "Imagine que queremos agora achar o API e o tipo de petróleo para densidade de 0.75. O que fazemos? Rodamos tudo de novo?"
   ]
  },
  {
   "cell_type": "code",
   "execution_count": 61,
   "metadata": {
    "colab": {},
    "colab_type": "code",
    "id": "oqwkoO5I8t4w"
   },
   "outputs": [],
   "source": [
    "ro = 0.75"
   ]
  },
  {
   "cell_type": "code",
   "execution_count": 62,
   "metadata": {
    "colab": {},
    "colab_type": "code",
    "id": "kyI_MeIb-COJ"
   },
   "outputs": [
    {
     "data": {
      "text/plain": [
       "57.16666666666666"
      ]
     },
     "execution_count": 62,
     "metadata": {},
     "output_type": "execute_result"
    }
   ],
   "source": [
    "API = (141.5/ro) - 131.5\n",
    "API"
   ]
  },
  {
   "cell_type": "code",
   "execution_count": 63,
   "metadata": {
    "colab": {},
    "colab_type": "code",
    "id": "JxBxemPY-Ebv"
   },
   "outputs": [
    {
     "name": "stdout",
     "output_type": "stream",
     "text": [
      "petróleo leve\n"
     ]
    }
   ],
   "source": [
    "if API > 31:\n",
    "  print('petróleo leve')\n",
    "elif 22 <= API and API <= 31:  # and -> satisfaz a condição 1 e a condição 2\n",
    "  print('petróleo médio')\n",
    "elif 10 < API and API <22:\n",
    "  print('petróleo pesado')\n",
    "else:\n",
    "  print('petróleo extrapesado')"
   ]
  },
  {
   "cell_type": "markdown",
   "metadata": {
    "colab_type": "text",
    "id": "dvJ0bG2p-Jmc"
   },
   "source": [
    "Ao invés de rodar tudo, podemos criar uma função que, a partir da entrada da densidade relativa do óleo, irá fornecer o grau API e o tipo de óleo\n",
    "\n",
    "Então:\n",
    "\n",
    "* nome_do_programa = calcular_API\n",
    "\n",
    "* entradas = densidade relativa do óleo\n",
    "\n",
    "* programa = calcular API e definir as condições\n",
    "\n",
    "* saídas = o valor API calculado e o tipo de óleo"
   ]
  },
  {
   "cell_type": "code",
   "execution_count": 64,
   "metadata": {
    "colab": {},
    "colab_type": "code",
    "id": "Tmd8f1yc-z01"
   },
   "outputs": [],
   "source": [
    "def calcular_API(ro):\n",
    "  API = (141.5/ro) - 131.5\n",
    "  if API > 31:\n",
    "    print('petróleo leve')\n",
    "  elif 22 <= API and API <= 31:  # and -> satisfaz a condição 1 e a condição 2\n",
    "    print('petróleo médio')\n",
    "  elif 10 < API and API <22:\n",
    "    print('petróleo pesado')\n",
    "  else:\n",
    "    print('petróleo extrapesado')\n",
    "  return(print(f'Grau API : {API}'))"
   ]
  },
  {
   "cell_type": "code",
   "execution_count": 65,
   "metadata": {
    "colab": {},
    "colab_type": "code",
    "id": "3Bn3ByN2_b_N"
   },
   "outputs": [
    {
     "name": "stdout",
     "output_type": "stream",
     "text": [
      "petróleo leve\n",
      "Grau API : 57.16666666666666\n"
     ]
    }
   ],
   "source": [
    "ro = 0.75\n",
    "calcular_API(ro)"
   ]
  },
  {
   "cell_type": "code",
   "execution_count": 66,
   "metadata": {
    "colab": {},
    "colab_type": "code",
    "id": "AbnGFkj9_qxE"
   },
   "outputs": [],
   "source": [
    "ros = [0.89, 1.1, 0.67,0.95]   # podemos aplicar para diferentes ro"
   ]
  },
  {
   "cell_type": "code",
   "execution_count": 67,
   "metadata": {
    "colab": {},
    "colab_type": "code",
    "id": "7aUupaU__0JW"
   },
   "outputs": [
    {
     "name": "stdout",
     "output_type": "stream",
     "text": [
      "ro: 0.89\n",
      "petróleo médio\n",
      "Grau API : 27.48876404494382\n",
      "\n",
      "ro: 1.1\n",
      "petróleo extrapesado\n",
      "Grau API : -2.863636363636374\n",
      "\n",
      "ro: 0.67\n",
      "petróleo leve\n",
      "Grau API : 79.69402985074626\n",
      "\n",
      "ro: 0.95\n",
      "petróleo pesado\n",
      "Grau API : 17.44736842105263\n",
      "\n"
     ]
    }
   ],
   "source": [
    "for ro1 in ros:\n",
    "  print(f'ro: {ro1}')\n",
    "  calcular_API(ro1)\n",
    "  print(\"\")"
   ]
  },
  {
   "cell_type": "markdown",
   "metadata": {
    "colab_type": "text",
    "id": "cv7zBIWffTIT"
   },
   "source": [
    "**Exemplo 2**\n",
    "\n",
    "Imagine um tanque cilíndrico com 5 metros de raio e 10 metros de altura. O tanque possui uma vazão de entrada de $15 m^3/min$. Queremos determinar se o tanque irá transbordar após 2 horas."
   ]
  },
  {
   "cell_type": "markdown",
   "metadata": {
    "colab_type": "text",
    "id": "FdIQffw1iuf_"
   },
   "source": [
    "Resposta:\n",
    "\n",
    "$Vtanque = \\pi R^2 h$\n",
    "\n",
    "$Vliq = Q * t$"
   ]
  },
  {
   "cell_type": "code",
   "execution_count": 68,
   "metadata": {
    "colab": {},
    "colab_type": "code",
    "id": "1lZH56Kagl2T"
   },
   "outputs": [],
   "source": [
    "raio = 5     # m\n",
    "altura = 10  # m\n",
    "q = 15      # m3/min\n",
    "t = 2 * 60  # minutos"
   ]
  },
  {
   "cell_type": "code",
   "execution_count": 69,
   "metadata": {
    "colab": {},
    "colab_type": "code",
    "id": "S7z7N_MShpiW"
   },
   "outputs": [
    {
     "data": {
      "text/plain": [
       "785.3981633974483"
      ]
     },
     "execution_count": 69,
     "metadata": {},
     "output_type": "execute_result"
    }
   ],
   "source": [
    "import math     # pacote de operações matemáticas\n",
    "Vtanque = math.pi*((raio)**2)* altura\n",
    "Vtanque"
   ]
  },
  {
   "cell_type": "code",
   "execution_count": 70,
   "metadata": {
    "colab": {},
    "colab_type": "code",
    "id": "oqB0VLn2iSnr"
   },
   "outputs": [
    {
     "data": {
      "text/plain": [
       "1800"
      ]
     },
     "execution_count": 70,
     "metadata": {},
     "output_type": "execute_result"
    }
   ],
   "source": [
    "Vliq = q * t\n",
    "Vliq"
   ]
  },
  {
   "cell_type": "code",
   "execution_count": 71,
   "metadata": {
    "colab": {},
    "colab_type": "code",
    "id": "rUMQD7dynCu3"
   },
   "outputs": [
    {
     "name": "stdout",
     "output_type": "stream",
     "text": [
      "irá transbordar. Volume 1014.6018366025517 acima da capacidade\n"
     ]
    }
   ],
   "source": [
    "if Vliq > Vtanque:\n",
    "  print(f'irá transbordar. Volume {Vliq - Vtanque} acima da capacidade')\n",
    "else:\n",
    "  print('Não irá transbordar')"
   ]
  },
  {
   "cell_type": "code",
   "execution_count": 72,
   "metadata": {
    "colab": {},
    "colab_type": "code",
    "id": "sasWLLh4A1iJ"
   },
   "outputs": [],
   "source": [
    "def volume_liq_por_hora(raio_tanque,altura_tanque,q_entrada,t_em_horas):\n",
    "  # 1 - Calculo do volume to tanque:\n",
    "  import math     # pacote de operações matemáticas\n",
    "  Vtanque = math.pi*((raio)**2)* altura\n",
    "\n",
    "  # 2 - Volume do líquido na hora dada:\n",
    "  t = t_em_horas * 60  # (transforma o tempo em min)\n",
    "  Vliq = q_entrada * t\n",
    "\n",
    "  # 3 - Transborda ou não transborda?\n",
    "  if Vliq > Vtanque:\n",
    "    print('Irá transbordar.')\n",
    "  else:\n",
    "    print('Não irá transbordar.')\n",
    "  return(print(f'Volume de líquido em {t_em_horas}: {Vliq}'))\n",
    "\n"
   ]
  },
  {
   "cell_type": "code",
   "execution_count": 73,
   "metadata": {
    "colab": {},
    "colab_type": "code",
    "id": "yrzla9rSCSGf"
   },
   "outputs": [
    {
     "name": "stdout",
     "output_type": "stream",
     "text": [
      "Irá transbordar.\n",
      "Volume de líquido em 2: 1800\n"
     ]
    }
   ],
   "source": [
    "volume_liq_por_hora(raio_tanque =5,altura_tanque=10,q_entrada = 15,t_em_horas = 2)"
   ]
  },
  {
   "cell_type": "code",
   "execution_count": 74,
   "metadata": {
    "colab": {},
    "colab_type": "code",
    "id": "8lQ9OGbRCi85"
   },
   "outputs": [],
   "source": [
    "raio = 5     # m\n",
    "altura = 10  # m\n",
    "q = 15      # m3/min\n",
    "t1 = 0.5     # horas"
   ]
  },
  {
   "cell_type": "code",
   "execution_count": 75,
   "metadata": {
    "colab": {},
    "colab_type": "code",
    "id": "Y-wFEQEsCmkc"
   },
   "outputs": [
    {
     "name": "stdout",
     "output_type": "stream",
     "text": [
      "Não irá transbordar.\n",
      "Volume de líquido em 0.5: 450.0\n"
     ]
    }
   ],
   "source": [
    "volume_liq_por_hora(raio_tanque =raio,altura_tanque = altura,q_entrada = q ,t_em_horas = t1)"
   ]
  },
  {
   "cell_type": "markdown",
   "metadata": {
    "colab_type": "text",
    "id": "dCB_e4WSdjdJ"
   },
   "source": [
    "-------\n",
    "# 2 - Numpy"
   ]
  },
  {
   "cell_type": "markdown",
   "metadata": {
    "colab_type": "text",
    "id": "FWBCVwU_EM3u"
   },
   "source": [
    "**Pacote (ou biblioteca) destinado a computação científica.**\n",
    "\n",
    "* Realiza cálculos em arrays multidimensionais.\n",
    "* Disponibiliza diferentes funções e operações para cálculos númericos.\n",
    "* Fornece tarefas matemáticas,como integração, diferenciação, interpolação, operações de álgebra linear e geração de números aleatórios.\n",
    "* São muito poderosos e rápidos.\n",
    "\n",
    "**Documentação:**\n",
    "\n",
    "https://numpy.org/doc/stable/\n",
    "\n",
    "https://numpy.org/doc/stable/numpy-ref.pdf\n"
   ]
  },
  {
   "cell_type": "markdown",
   "metadata": {
    "colab_type": "text",
    "id": "0pmSBEAfY7JV"
   },
   "source": [
    "### 2.1 Pacotes\n",
    "\n",
    "Existem diferentes pacotes Python disponíveis para download na internet. Cada pacote tem como objetivo a solução de determinado tipo de problema. Por exemplo, um grupo quer criar em Python funções que resolvem diferentes equações da área reservatório. O grupo pode criar a biblioteca e disponibilizar na internet, de forma que outras pessoas também tenham acesso.\n",
    "\n",
    "Alguns pacotes são bastante utilizados em um contexto de ciência de dados como por exemplo:\n",
    "\n",
    "- Numpy\n",
    "- Pandas\n",
    "- Matplotlib\n",
    "- Seaborn\n",
    "- Scikit-learn\n",
    "\n",
    "Os pacotes listados costumam vir na instalação default do Python. Caso seja um pacote que não tenha, devemos instala-lo em nosso sistema."
   ]
  },
  {
   "cell_type": "markdown",
   "metadata": {
    "colab_type": "text",
    "id": "PAGp698scrzy"
   },
   "source": [
    "### 2.2 Importanto o pacote"
   ]
  },
  {
   "cell_type": "code",
   "execution_count": 76,
   "metadata": {
    "colab": {},
    "colab_type": "code",
    "id": "4GdED8MJdwG4"
   },
   "outputs": [],
   "source": [
    "import numpy    # importando o pacote numpy"
   ]
  },
  {
   "cell_type": "code",
   "execution_count": 77,
   "metadata": {
    "colab": {},
    "colab_type": "code",
    "id": "yOxCLutZc5af"
   },
   "outputs": [
    {
     "data": {
      "text/plain": [
       "1.0"
      ]
     },
     "execution_count": 77,
     "metadata": {},
     "output_type": "execute_result"
    }
   ],
   "source": [
    "numpy.sin((numpy.pi)/2)    # seno(pi/2)"
   ]
  },
  {
   "cell_type": "code",
   "execution_count": 78,
   "metadata": {
    "colab": {},
    "colab_type": "code",
    "id": "JKP2riADe-kJ"
   },
   "outputs": [],
   "source": [
    "import numpy as np         # importando o pacote numpy, abreviando o nome do pacote"
   ]
  },
  {
   "cell_type": "code",
   "execution_count": 79,
   "metadata": {
    "colab": {},
    "colab_type": "code",
    "id": "lzmyCUcWfEb_"
   },
   "outputs": [
    {
     "data": {
      "text/plain": [
       "1.0"
      ]
     },
     "execution_count": 79,
     "metadata": {},
     "output_type": "execute_result"
    }
   ],
   "source": [
    "np.sin((np.pi)/2)"
   ]
  },
  {
   "cell_type": "code",
   "execution_count": 80,
   "metadata": {
    "colab": {},
    "colab_type": "code",
    "id": "chTZzKtNfPGy"
   },
   "outputs": [],
   "source": [
    "from numpy import sin,pi    # do numpy só iremos importar o sin e pi"
   ]
  },
  {
   "cell_type": "code",
   "execution_count": 81,
   "metadata": {
    "colab": {},
    "colab_type": "code",
    "id": "ShUzGiBLfWzE"
   },
   "outputs": [
    {
     "data": {
      "text/plain": [
       "1.0"
      ]
     },
     "execution_count": 81,
     "metadata": {},
     "output_type": "execute_result"
    }
   ],
   "source": [
    "sin(pi/2)"
   ]
  },
  {
   "cell_type": "code",
   "execution_count": 82,
   "metadata": {
    "colab": {},
    "colab_type": "code",
    "id": "MIuoRcNcf18t"
   },
   "outputs": [],
   "source": [
    "import numpy as np"
   ]
  },
  {
   "cell_type": "code",
   "execution_count": 83,
   "metadata": {
    "colab": {},
    "colab_type": "code",
    "id": "TSw9IDUOhll7"
   },
   "outputs": [
    {
     "data": {
      "text/plain": [
       "'1.16.5'"
      ]
     },
     "execution_count": 83,
     "metadata": {},
     "output_type": "execute_result"
    }
   ],
   "source": [
    "np.version.version   # verificar a versão do numpy"
   ]
  },
  {
   "cell_type": "markdown",
   "metadata": {
    "colab_type": "text",
    "id": "UJkXaXZ5jahg"
   },
   "source": [
    "### 2.3 Criando arrays pelo Numpy"
   ]
  },
  {
   "cell_type": "code",
   "execution_count": 84,
   "metadata": {
    "colab": {},
    "colab_type": "code",
    "id": "Zj5yoEPOj3nZ"
   },
   "outputs": [
    {
     "data": {
      "text/plain": [
       "range(1, 11)"
      ]
     },
     "execution_count": 84,
     "metadata": {},
     "output_type": "execute_result"
    }
   ],
   "source": [
    "x = range(1,11)   # lista\n",
    "x"
   ]
  },
  {
   "cell_type": "code",
   "execution_count": 85,
   "metadata": {
    "colab": {},
    "colab_type": "code",
    "id": "0HpqhumZmMi1"
   },
   "outputs": [
    {
     "data": {
      "text/plain": [
       "array([ 1,  2,  3,  4,  5,  6,  7,  8,  9, 10])"
      ]
     },
     "execution_count": 85,
     "metadata": {},
     "output_type": "execute_result"
    }
   ],
   "source": [
    "np.array(x)     # array a partir de uma lista"
   ]
  },
  {
   "cell_type": "code",
   "execution_count": 86,
   "metadata": {
    "colab": {},
    "colab_type": "code",
    "id": "ohRwdu-KmbGj"
   },
   "outputs": [
    {
     "data": {
      "text/plain": [
       "array([ 1,  2,  3,  4,  5,  6,  7,  8,  9, 10])"
      ]
     },
     "execution_count": 86,
     "metadata": {},
     "output_type": "execute_result"
    }
   ],
   "source": [
    "x_array = np.arange(1,11)    # array por built-in methods (própio do numpy)\n",
    "x_array"
   ]
  },
  {
   "cell_type": "code",
   "execution_count": 87,
   "metadata": {
    "colab": {},
    "colab_type": "code",
    "id": "AaVJdLtLmwxx"
   },
   "outputs": [
    {
     "data": {
      "text/plain": [
       "numpy.ndarray"
      ]
     },
     "execution_count": 87,
     "metadata": {},
     "output_type": "execute_result"
    }
   ],
   "source": [
    "type(x_array)    # tipo do objeto"
   ]
  },
  {
   "cell_type": "code",
   "execution_count": 88,
   "metadata": {
    "colab": {},
    "colab_type": "code",
    "id": "zocsOf1KpP5-"
   },
   "outputs": [
    {
     "data": {
      "text/plain": [
       "dtype('int32')"
      ]
     },
     "execution_count": 88,
     "metadata": {},
     "output_type": "execute_result"
    }
   ],
   "source": [
    "x_array.dtype   # função própria do array para saber o tipo de elementos dentro do array"
   ]
  },
  {
   "cell_type": "code",
   "execution_count": 89,
   "metadata": {
    "colab": {},
    "colab_type": "code",
    "id": "_pJgJRGupsZr"
   },
   "outputs": [
    {
     "data": {
      "text/plain": [
       "[[1, 2, 3], [4, 5, 6], [7, 8, 9]]"
      ]
     },
     "execution_count": 89,
     "metadata": {},
     "output_type": "execute_result"
    }
   ],
   "source": [
    "matriz = [[1,2,3], [4,5,6], [7,8,9]]\n",
    "matriz"
   ]
  },
  {
   "cell_type": "code",
   "execution_count": 90,
   "metadata": {
    "colab": {},
    "colab_type": "code",
    "id": "_BIyTnYSp7D4"
   },
   "outputs": [
    {
     "data": {
      "text/plain": [
       "list"
      ]
     },
     "execution_count": 90,
     "metadata": {},
     "output_type": "execute_result"
    }
   ],
   "source": [
    "type(matriz)"
   ]
  },
  {
   "cell_type": "code",
   "execution_count": 91,
   "metadata": {
    "colab": {},
    "colab_type": "code",
    "id": "uxYdaD4mp9ag"
   },
   "outputs": [
    {
     "data": {
      "text/plain": [
       "array([[1, 2, 3],\n",
       "       [4, 5, 6],\n",
       "       [7, 8, 9]])"
      ]
     },
     "execution_count": 91,
     "metadata": {},
     "output_type": "execute_result"
    }
   ],
   "source": [
    "matriz1 = np.array(matriz)\n",
    "matriz1"
   ]
  },
  {
   "cell_type": "code",
   "execution_count": 92,
   "metadata": {
    "colab": {},
    "colab_type": "code",
    "id": "wDdGDm8eq351"
   },
   "outputs": [
    {
     "data": {
      "text/plain": [
       "array([ 1,  2,  3,  4,  5,  6,  7,  8,  9, 10])"
      ]
     },
     "execution_count": 92,
     "metadata": {},
     "output_type": "execute_result"
    }
   ],
   "source": [
    "x_array"
   ]
  },
  {
   "cell_type": "code",
   "execution_count": 93,
   "metadata": {
    "colab": {},
    "colab_type": "code",
    "id": "a03SGTN5rCb8"
   },
   "outputs": [
    {
     "data": {
      "text/plain": [
       "(10,)"
      ]
     },
     "execution_count": 93,
     "metadata": {},
     "output_type": "execute_result"
    }
   ],
   "source": [
    "x_array.shape   # 10 linhas"
   ]
  },
  {
   "cell_type": "code",
   "execution_count": 94,
   "metadata": {
    "colab": {},
    "colab_type": "code",
    "id": "_OU2EKoArMHW"
   },
   "outputs": [
    {
     "data": {
      "text/plain": [
       "(3, 3)"
      ]
     },
     "execution_count": 94,
     "metadata": {},
     "output_type": "execute_result"
    }
   ],
   "source": [
    "matriz1.shape   # 3 linhas e 3 colunas"
   ]
  },
  {
   "cell_type": "markdown",
   "metadata": {
    "colab_type": "text",
    "id": "3t1RE2rErYdY"
   },
   "source": [
    "### 2.4 Listas x Arrays"
   ]
  },
  {
   "cell_type": "code",
   "execution_count": 95,
   "metadata": {
    "colab": {},
    "colab_type": "code",
    "id": "u5sZebnsrew4"
   },
   "outputs": [
    {
     "data": {
      "text/plain": [
       "[1, 4, 9, 16, 25, 36, 49, 64, 81, 100]"
      ]
     },
     "execution_count": 95,
     "metadata": {},
     "output_type": "execute_result"
    }
   ],
   "source": [
    "# Listas\n",
    "x = range(1,11)\n",
    "y = [valor**2 for valor in x]\n",
    "y"
   ]
  },
  {
   "cell_type": "code",
   "execution_count": 96,
   "metadata": {
    "colab": {},
    "colab_type": "code",
    "id": "396lYBM-r_1k"
   },
   "outputs": [
    {
     "data": {
      "text/plain": [
       "array([  1,   4,   9,  16,  25,  36,  49,  64,  81, 100], dtype=int32)"
      ]
     },
     "execution_count": 96,
     "metadata": {},
     "output_type": "execute_result"
    }
   ],
   "source": [
    "# Array\n",
    "x_array = np.arange(1,11)\n",
    "y_array = np.square(x_array)\n",
    "y_array"
   ]
  },
  {
   "cell_type": "code",
   "execution_count": 97,
   "metadata": {
    "colab": {},
    "colab_type": "code",
    "id": "njrHLi0Msep-"
   },
   "outputs": [
    {
     "data": {
      "text/plain": [
       "[-4, -3, -2, -1, 0, 1, 2, 3, 4, 5]"
      ]
     },
     "execution_count": 97,
     "metadata": {},
     "output_type": "execute_result"
    }
   ],
   "source": [
    "# Listas\n",
    "z = [valor - 5 for valor in x]   # subtraindo cada um dos valores por 5\n",
    "z"
   ]
  },
  {
   "cell_type": "code",
   "execution_count": 98,
   "metadata": {
    "colab": {},
    "colab_type": "code",
    "id": "81P9la5ptEiy"
   },
   "outputs": [
    {
     "data": {
      "text/plain": [
       "array([-4, -3, -2, -1,  0,  1,  2,  3,  4,  5])"
      ]
     },
     "execution_count": 98,
     "metadata": {},
     "output_type": "execute_result"
    }
   ],
   "source": [
    "# Array\n",
    "z_array = x_array - 5           # subtraindo cada um dos valores por 5\n",
    "z_array"
   ]
  },
  {
   "cell_type": "code",
   "execution_count": 99,
   "metadata": {
    "colab": {},
    "colab_type": "code",
    "id": "H33le558tWkh"
   },
   "outputs": [
    {
     "name": "stdout",
     "output_type": "stream",
     "text": [
      "Wall time: 36.3 s\n"
     ]
    }
   ],
   "source": [
    "# Lista\n",
    "%time lista1 = [valor**2 for valor in range(100000000)]"
   ]
  },
  {
   "cell_type": "code",
   "execution_count": 100,
   "metadata": {
    "colab": {},
    "colab_type": "code",
    "id": "kCBMpJ-4tyb0"
   },
   "outputs": [
    {
     "name": "stdout",
     "output_type": "stream",
     "text": [
      "Wall time: 277 ms\n"
     ]
    }
   ],
   "source": [
    "# Array\n",
    "%time lista2 = np.square(np.arange(100000000))"
   ]
  },
  {
   "cell_type": "code",
   "execution_count": null,
   "metadata": {
    "colab": {},
    "colab_type": "code",
    "id": "dTtwrmKIwdv0"
   },
   "outputs": [],
   "source": []
  },
  {
   "cell_type": "markdown",
   "metadata": {
    "colab_type": "text",
    "id": "wgtzYprIx3OI"
   },
   "source": [
    "### 2.5 Seleções com Arrays Numpy"
   ]
  },
  {
   "cell_type": "code",
   "execution_count": 101,
   "metadata": {
    "colab": {},
    "colab_type": "code",
    "id": "SgNZzAAByPYo"
   },
   "outputs": [
    {
     "data": {
      "text/plain": [
       "array([ 0,  1,  2,  3,  4,  5,  6,  7,  8,  9, 10])"
      ]
     },
     "execution_count": 101,
     "metadata": {},
     "output_type": "execute_result"
    }
   ],
   "source": [
    "arr = np.arange(11)\n",
    "arr"
   ]
  },
  {
   "cell_type": "code",
   "execution_count": 102,
   "metadata": {
    "colab": {},
    "colab_type": "code",
    "id": "Ztd7AZZuydRG"
   },
   "outputs": [
    {
     "data": {
      "text/plain": [
       "0"
      ]
     },
     "execution_count": 102,
     "metadata": {},
     "output_type": "execute_result"
    }
   ],
   "source": [
    "arr[0]"
   ]
  },
  {
   "cell_type": "code",
   "execution_count": 103,
   "metadata": {
    "colab": {},
    "colab_type": "code",
    "id": "JXUv02MxydgB"
   },
   "outputs": [
    {
     "data": {
      "text/plain": [
       "6"
      ]
     },
     "execution_count": 103,
     "metadata": {},
     "output_type": "execute_result"
    }
   ],
   "source": [
    "arr[6]"
   ]
  },
  {
   "cell_type": "code",
   "execution_count": 104,
   "metadata": {
    "colab": {},
    "colab_type": "code",
    "id": "0T8saDcQydcS"
   },
   "outputs": [
    {
     "data": {
      "text/plain": [
       "10"
      ]
     },
     "execution_count": 104,
     "metadata": {},
     "output_type": "execute_result"
    }
   ],
   "source": [
    "arr[-1]"
   ]
  },
  {
   "cell_type": "code",
   "execution_count": 105,
   "metadata": {
    "colab": {},
    "colab_type": "code",
    "id": "n5HKrWGkzfy1"
   },
   "outputs": [
    {
     "data": {
      "text/plain": [
       "array([0, 1, 2, 3, 4])"
      ]
     },
     "execution_count": 105,
     "metadata": {},
     "output_type": "execute_result"
    }
   ],
   "source": [
    "arr[0:5]          # [ inicio(inclusive):fim(exclusive)]"
   ]
  },
  {
   "cell_type": "code",
   "execution_count": 106,
   "metadata": {
    "colab": {},
    "colab_type": "code",
    "id": "-gTuZYUczyFT"
   },
   "outputs": [
    {
     "data": {
      "text/plain": [
       "array([ 6,  7,  8,  9, 10])"
      ]
     },
     "execution_count": 106,
     "metadata": {},
     "output_type": "execute_result"
    }
   ],
   "source": [
    "arr[6:]          #inicio até o final"
   ]
  },
  {
   "cell_type": "code",
   "execution_count": 107,
   "metadata": {
    "colab": {},
    "colab_type": "code",
    "id": "WKzTA24TydZq"
   },
   "outputs": [
    {
     "data": {
      "text/plain": [
       "array([10,  9,  8,  7,  6,  5,  4,  3,  2,  1,  0])"
      ]
     },
     "execution_count": 107,
     "metadata": {},
     "output_type": "execute_result"
    }
   ],
   "source": [
    "arr[::-1]       # [inicio,final,passo] - ordem inversa"
   ]
  },
  {
   "cell_type": "code",
   "execution_count": 108,
   "metadata": {
    "colab": {},
    "colab_type": "code",
    "id": "L2PL1ksx0F2I"
   },
   "outputs": [
    {
     "data": {
      "text/plain": [
       "array([ 0,  2,  4,  6,  8, 10])"
      ]
     },
     "execution_count": 108,
     "metadata": {},
     "output_type": "execute_result"
    }
   ],
   "source": [
    "arr[0::2]       # [inicio:final:passo]"
   ]
  },
  {
   "cell_type": "code",
   "execution_count": 109,
   "metadata": {
    "colab": {},
    "colab_type": "code",
    "id": "62hkI4Ye6FTl"
   },
   "outputs": [
    {
     "data": {
      "text/plain": [
       "array([False, False, False, False, False, False,  True,  True,  True,\n",
       "        True,  True])"
      ]
     },
     "execution_count": 109,
     "metadata": {},
     "output_type": "execute_result"
    }
   ],
   "source": [
    "arr > 5"
   ]
  },
  {
   "cell_type": "code",
   "execution_count": 110,
   "metadata": {
    "colab": {},
    "colab_type": "code",
    "id": "8QTdruAM6M6w"
   },
   "outputs": [
    {
     "data": {
      "text/plain": [
       "array([ 6,  7,  8,  9, 10])"
      ]
     },
     "execution_count": 110,
     "metadata": {},
     "output_type": "execute_result"
    }
   ],
   "source": [
    "arr[arr > 5]"
   ]
  },
  {
   "cell_type": "code",
   "execution_count": 111,
   "metadata": {
    "colab": {},
    "colab_type": "code",
    "id": "4G7V7M1-6QXl"
   },
   "outputs": [
    {
     "data": {
      "text/plain": [
       "array([ 0,  2,  4,  6,  8, 10])"
      ]
     },
     "execution_count": 111,
     "metadata": {},
     "output_type": "execute_result"
    }
   ],
   "source": [
    "arr[((arr % 2) == 0)]    # pegar apenas os valores pares, ou seja, resto da divisão por 2 é 0"
   ]
  },
  {
   "cell_type": "code",
   "execution_count": 112,
   "metadata": {
    "colab": {},
    "colab_type": "code",
    "id": "YSyvFbDj61p3"
   },
   "outputs": [
    {
     "ename": "ValueError",
     "evalue": "The truth value of an array with more than one element is ambiguous. Use a.any() or a.all()",
     "output_type": "error",
     "traceback": [
      "\u001b[1;31m---------------------------------------------------------------------------\u001b[0m",
      "\u001b[1;31mValueError\u001b[0m                                Traceback (most recent call last)",
      "\u001b[1;32m<ipython-input-112-de8734c97c9b>\u001b[0m in \u001b[0;36m<module>\u001b[1;34m\u001b[0m\n\u001b[1;32m----> 1\u001b[1;33m \u001b[0marr\u001b[0m\u001b[1;33m[\u001b[0m\u001b[1;33m(\u001b[0m\u001b[1;33m(\u001b[0m\u001b[0marr\u001b[0m \u001b[1;33m%\u001b[0m \u001b[1;36m2\u001b[0m\u001b[1;33m)\u001b[0m \u001b[1;33m==\u001b[0m \u001b[1;36m0\u001b[0m\u001b[1;33m)\u001b[0m \u001b[1;32mor\u001b[0m \u001b[1;33m(\u001b[0m\u001b[0marr\u001b[0m\u001b[1;33m<\u001b[0m\u001b[1;36m5\u001b[0m\u001b[1;33m)\u001b[0m\u001b[1;33m]\u001b[0m   \u001b[1;31m# dá erro\u001b[0m\u001b[1;33m\u001b[0m\u001b[1;33m\u001b[0m\u001b[0m\n\u001b[0m",
      "\u001b[1;31mValueError\u001b[0m: The truth value of an array with more than one element is ambiguous. Use a.any() or a.all()"
     ]
    }
   ],
   "source": [
    "arr[((arr % 2) == 0) or (arr<5)]   # dá erro"
   ]
  },
  {
   "cell_type": "code",
   "execution_count": null,
   "metadata": {
    "colab": {},
    "colab_type": "code",
    "id": "BQqUtXcY68Xm"
   },
   "outputs": [],
   "source": [
    "arr[np.any([arr %2 == 0, arr < 5],0)]    # duas condições: resto é 0 OU valor é menor que 5"
   ]
  },
  {
   "cell_type": "code",
   "execution_count": 113,
   "metadata": {
    "colab": {},
    "colab_type": "code",
    "id": "cbRpohvi0ZcC"
   },
   "outputs": [
    {
     "data": {
      "text/plain": [
       "array([[1, 2, 3],\n",
       "       [4, 5, 6],\n",
       "       [7, 8, 9]])"
      ]
     },
     "execution_count": 113,
     "metadata": {},
     "output_type": "execute_result"
    }
   ],
   "source": [
    "arr_2d = np.array([[1,2,3],[4,5,6],[7,8,9]])\n",
    "arr_2d"
   ]
  },
  {
   "cell_type": "markdown",
   "metadata": {
    "colab_type": "text",
    "id": "3aV3UfYk1g0i"
   },
   "source": [
    "[imagem](https://drive.google.com/file/d/1lAKyVgeH0VechbvDfxQnC2AWXET2RY-c/view?usp=sharing)"
   ]
  },
  {
   "cell_type": "code",
   "execution_count": 114,
   "metadata": {
    "colab": {},
    "colab_type": "code",
    "id": "LDql9ghs0sKf"
   },
   "outputs": [
    {
     "data": {
      "text/plain": [
       "array([1, 2, 3])"
      ]
     },
     "execution_count": 114,
     "metadata": {},
     "output_type": "execute_result"
    }
   ],
   "source": [
    "arr_2d[0]   # linha 0"
   ]
  },
  {
   "cell_type": "code",
   "execution_count": 115,
   "metadata": {
    "colab": {},
    "colab_type": "code",
    "id": "WOvLj0xr5bY6"
   },
   "outputs": [
    {
     "data": {
      "text/plain": [
       "2"
      ]
     },
     "execution_count": 115,
     "metadata": {},
     "output_type": "execute_result"
    }
   ],
   "source": [
    "arr_2d[0][1]   # linha 0, coluna 1"
   ]
  },
  {
   "cell_type": "code",
   "execution_count": 116,
   "metadata": {
    "colab": {},
    "colab_type": "code",
    "id": "tpZmT5kI5g2q"
   },
   "outputs": [
    {
     "data": {
      "text/plain": [
       "1"
      ]
     },
     "execution_count": 116,
     "metadata": {},
     "output_type": "execute_result"
    }
   ],
   "source": [
    "arr_2d[0][0]   # linha 0, coluna 0"
   ]
  },
  {
   "cell_type": "code",
   "execution_count": 117,
   "metadata": {
    "colab": {},
    "colab_type": "code",
    "id": "DPLfKfuO5n77"
   },
   "outputs": [
    {
     "data": {
      "text/plain": [
       "array([3, 6, 9])"
      ]
     },
     "execution_count": 117,
     "metadata": {},
     "output_type": "execute_result"
    }
   ],
   "source": [
    "arr_2d[:,2]   # todos os elementos da coluna 2"
   ]
  },
  {
   "cell_type": "code",
   "execution_count": 118,
   "metadata": {
    "colab": {},
    "colab_type": "code",
    "id": "GO0N4xtw53An"
   },
   "outputs": [
    {
     "data": {
      "text/plain": [
       "array([3, 6])"
      ]
     },
     "execution_count": 118,
     "metadata": {},
     "output_type": "execute_result"
    }
   ],
   "source": [
    "arr_2d[0:2,2]   # 3 e 6 apenas"
   ]
  },
  {
   "cell_type": "markdown",
   "metadata": {
    "colab_type": "text",
    "id": "j7446hiA8JYH"
   },
   "source": [
    "### 2.6 Funções para array\n",
    "\n",
    "https://numpy.org/doc/stable/reference/ufuncs.html"
   ]
  },
  {
   "cell_type": "code",
   "execution_count": 119,
   "metadata": {
    "colab": {},
    "colab_type": "code",
    "id": "h5ai_V3f8V_6"
   },
   "outputs": [
    {
     "data": {
      "text/plain": [
       "array([ 0,  1,  2,  3,  4,  5,  6,  7,  8,  9, 10])"
      ]
     },
     "execution_count": 119,
     "metadata": {},
     "output_type": "execute_result"
    }
   ],
   "source": [
    "arr = np.arange(11)\n",
    "arr"
   ]
  },
  {
   "cell_type": "code",
   "execution_count": 120,
   "metadata": {
    "colab": {},
    "colab_type": "code",
    "id": "KqL-n80C8eSg"
   },
   "outputs": [
    {
     "data": {
      "text/plain": [
       "array([0.        , 1.        , 1.41421356, 1.73205081, 2.        ,\n",
       "       2.23606798, 2.44948974, 2.64575131, 2.82842712, 3.        ,\n",
       "       3.16227766])"
      ]
     },
     "execution_count": 120,
     "metadata": {},
     "output_type": "execute_result"
    }
   ],
   "source": [
    "np.sqrt(arr)   #raiz"
   ]
  },
  {
   "cell_type": "code",
   "execution_count": 121,
   "metadata": {
    "colab": {},
    "colab_type": "code",
    "id": "2N5sBoBQ8kYK"
   },
   "outputs": [
    {
     "data": {
      "text/plain": [
       "array([1.00000000e+00, 2.71828183e+00, 7.38905610e+00, 2.00855369e+01,\n",
       "       5.45981500e+01, 1.48413159e+02, 4.03428793e+02, 1.09663316e+03,\n",
       "       2.98095799e+03, 8.10308393e+03, 2.20264658e+04])"
      ]
     },
     "execution_count": 121,
     "metadata": {},
     "output_type": "execute_result"
    }
   ],
   "source": [
    "np.exp(arr)    # exponencial"
   ]
  },
  {
   "cell_type": "code",
   "execution_count": 122,
   "metadata": {
    "colab": {},
    "colab_type": "code",
    "id": "Ri7Q7F1g8qf7"
   },
   "outputs": [
    {
     "data": {
      "text/plain": [
       "10"
      ]
     },
     "execution_count": 122,
     "metadata": {},
     "output_type": "execute_result"
    }
   ],
   "source": [
    "np.max(arr)    # maximo"
   ]
  },
  {
   "cell_type": "code",
   "execution_count": 123,
   "metadata": {
    "colab": {},
    "colab_type": "code",
    "id": "hc8roRKT8tqZ"
   },
   "outputs": [
    {
     "data": {
      "text/plain": [
       "0"
      ]
     },
     "execution_count": 123,
     "metadata": {},
     "output_type": "execute_result"
    }
   ],
   "source": [
    "np.min(arr)    # mínimo"
   ]
  },
  {
   "cell_type": "code",
   "execution_count": null,
   "metadata": {
    "colab": {},
    "colab_type": "code",
    "id": "coH85ioc8wQd"
   },
   "outputs": [],
   "source": []
  },
  {
   "cell_type": "markdown",
   "metadata": {
    "colab_type": "text",
    "id": "gfR9fDiJdwtK"
   },
   "source": [
    "-----\n",
    "# 3 - Pandas"
   ]
  },
  {
   "cell_type": "markdown",
   "metadata": {
    "colab_type": "text",
    "id": "5lDm0XdxAk1V"
   },
   "source": [
    "Pacote para manipulação e análise de dados.\n",
    "\n",
    "* Biblioteca fundamental para ciência de dados.\n",
    "* Oferece estruturas e operações para manipular tabelas (bidimensional) e séries (1-dimensão).\n",
    "* Construída com base no pacote Numpy.\n",
    "\n",
    "\n",
    "<br />\n",
    "\n",
    "**Documentação:**\n",
    "\n",
    "https://pandas.pydata.org/docs/\n",
    "\n",
    "https://pandas.pydata.org/docs/pandas.pdf\n"
   ]
  },
  {
   "cell_type": "markdown",
   "metadata": {
    "colab_type": "text",
    "id": "Ma3xlsmgL7zm"
   },
   "source": [
    "### 3.1 - Estruturas de Dados\n"
   ]
  },
  {
   "cell_type": "markdown",
   "metadata": {
    "colab_type": "text",
    "id": "SAA1GYC2PLys"
   },
   "source": [
    "**Séries & DataFrames**\n",
    "\n",
    "<br />\n",
    "\n",
    "**Séries**\n",
    "\n",
    "Arrays unidimensionais **rotulados** capazes de armazenar qualquer tipo de dado. Rótulos das linhas são chamados de **index**. \n",
    "\n",
    "A forma básica de criação de uma Series é a seguinte:\n",
    "\n",
    "```\n",
    "    s = pd.Series(dados, index = index)\n",
    "```\n",
    "\n",
    "O argumento *dados* pode ser um dicionário, uma lista, um array Numpy ou uma constante.\n",
    "\n",
    "<br />\n",
    "\n",
    "**DataFrames**\n",
    "\n",
    "Estrutura de dados tabular bidimensional com rótulos nas linha e colunas. Como a Series, os DataFrames são capazes de armazenar qualquer tipo de dados.\n",
    "\n",
    "\n",
    "```\n",
    "    df = pd.DataFrame(dados, index = index, columns = columns)\n",
    "```\n",
    "\n",
    "O argumento *dados* pode ser um dicionário, uma lista, um array Numpy, uma Series e outro DataFrame.\n"
   ]
  },
  {
   "cell_type": "code",
   "execution_count": 124,
   "metadata": {
    "colab": {},
    "colab_type": "code",
    "id": "jf2Vslu3d2fu"
   },
   "outputs": [],
   "source": [
    "import numpy as np\n",
    "import pandas as pd    # importando o pandas"
   ]
  },
  {
   "cell_type": "code",
   "execution_count": 125,
   "metadata": {
    "colab": {},
    "colab_type": "code",
    "id": "4HhL9U9zQEyR"
   },
   "outputs": [],
   "source": [
    "permeabilidade = [6.3, 6.3,17.1,82.4, 119]\n",
    "s = pd.Series(permeabilidade)         # series"
   ]
  },
  {
   "cell_type": "code",
   "execution_count": 126,
   "metadata": {
    "colab": {},
    "colab_type": "code",
    "id": "p2Mz8NuBT_sm"
   },
   "outputs": [
    {
     "data": {
      "text/plain": [
       "0      6.3\n",
       "1      6.3\n",
       "2     17.1\n",
       "3     82.4\n",
       "4    119.0\n",
       "dtype: float64"
      ]
     },
     "execution_count": 126,
     "metadata": {},
     "output_type": "execute_result"
    }
   ],
   "source": [
    "s"
   ]
  },
  {
   "cell_type": "code",
   "execution_count": 127,
   "metadata": {
    "colab": {},
    "colab_type": "code",
    "id": "elznabYUUCIv"
   },
   "outputs": [
    {
     "data": {
      "text/plain": [
       "pandas.core.series.Series"
      ]
     },
     "execution_count": 127,
     "metadata": {},
     "output_type": "execute_result"
    }
   ],
   "source": [
    "type(s)    # tipo do s"
   ]
  },
  {
   "cell_type": "code",
   "execution_count": 128,
   "metadata": {
    "colab": {},
    "colab_type": "code",
    "id": "CwElRkn8UEl_"
   },
   "outputs": [
    {
     "data": {
      "text/plain": [
       "dtype('float64')"
      ]
     },
     "execution_count": 128,
     "metadata": {},
     "output_type": "execute_result"
    }
   ],
   "source": [
    "s.dtype   # tipo dos elementos"
   ]
  },
  {
   "cell_type": "code",
   "execution_count": 129,
   "metadata": {
    "colab": {},
    "colab_type": "code",
    "id": "ToJulScOTa0W"
   },
   "outputs": [
    {
     "data": {
      "text/plain": [
       "6.3"
      ]
     },
     "execution_count": 129,
     "metadata": {},
     "output_type": "execute_result"
    }
   ],
   "source": [
    "s[0]"
   ]
  },
  {
   "cell_type": "code",
   "execution_count": 130,
   "metadata": {
    "colab": {},
    "colab_type": "code",
    "id": "Jyspp1YqTc7V"
   },
   "outputs": [
    {
     "data": {
      "text/plain": [
       "Amostra1      6.3\n",
       "Amostra2      6.3\n",
       "Amostra3     17.1\n",
       "Amostra4     82.4\n",
       "Amostra5    119.0\n",
       "dtype: float64"
      ]
     },
     "execution_count": 130,
     "metadata": {},
     "output_type": "execute_result"
    }
   ],
   "source": [
    "permeabilidade = [6.3, 6.3,17.1,82.4, 119]   # lista de permeabilidades\n",
    "s1 = pd.Series(permeabilidade, index = ['Amostra1','Amostra2','Amostra3','Amostra4', 'Amostra5'])   # dando nomes para os índices\n",
    "s1"
   ]
  },
  {
   "cell_type": "code",
   "execution_count": 131,
   "metadata": {
    "colab": {},
    "colab_type": "code",
    "id": "sCJ-WUr1TtXF"
   },
   "outputs": [
    {
     "data": {
      "text/plain": [
       "6.3"
      ]
     },
     "execution_count": 131,
     "metadata": {},
     "output_type": "execute_result"
    }
   ],
   "source": [
    "s1['Amostra1']"
   ]
  },
  {
   "cell_type": "code",
   "execution_count": 132,
   "metadata": {
    "colab": {},
    "colab_type": "code",
    "id": "B7faNqWST32B"
   },
   "outputs": [
    {
     "data": {
      "text/plain": [
       "6.3"
      ]
     },
     "execution_count": 132,
     "metadata": {},
     "output_type": "execute_result"
    }
   ],
   "source": [
    "s1[0]"
   ]
  },
  {
   "cell_type": "code",
   "execution_count": 133,
   "metadata": {
    "colab": {},
    "colab_type": "code",
    "id": "pPX1jo3rVStx"
   },
   "outputs": [],
   "source": [
    "permeabilidade = [6.3, 6.3,17.1,82.4, 119] \n",
    "area = [4990, 7002, 7943,10651,8624]\n",
    "shape = [0.09,0.149,0.122,0.23,0.20]"
   ]
  },
  {
   "cell_type": "code",
   "execution_count": 134,
   "metadata": {
    "colab": {},
    "colab_type": "code",
    "id": "wtptmn1bWY-E"
   },
   "outputs": [
    {
     "data": {
      "text/html": [
       "<div>\n",
       "<style scoped>\n",
       "    .dataframe tbody tr th:only-of-type {\n",
       "        vertical-align: middle;\n",
       "    }\n",
       "\n",
       "    .dataframe tbody tr th {\n",
       "        vertical-align: top;\n",
       "    }\n",
       "\n",
       "    .dataframe thead th {\n",
       "        text-align: right;\n",
       "    }\n",
       "</style>\n",
       "<table border=\"1\" class=\"dataframe\">\n",
       "  <thead>\n",
       "    <tr style=\"text-align: right;\">\n",
       "      <th></th>\n",
       "      <th>area</th>\n",
       "      <th>permeabilidade</th>\n",
       "      <th>shape</th>\n",
       "    </tr>\n",
       "  </thead>\n",
       "  <tbody>\n",
       "    <tr>\n",
       "      <td>0</td>\n",
       "      <td>4990</td>\n",
       "      <td>6.3</td>\n",
       "      <td>0.090</td>\n",
       "    </tr>\n",
       "    <tr>\n",
       "      <td>1</td>\n",
       "      <td>7002</td>\n",
       "      <td>6.3</td>\n",
       "      <td>0.149</td>\n",
       "    </tr>\n",
       "    <tr>\n",
       "      <td>2</td>\n",
       "      <td>7943</td>\n",
       "      <td>17.1</td>\n",
       "      <td>0.122</td>\n",
       "    </tr>\n",
       "    <tr>\n",
       "      <td>3</td>\n",
       "      <td>10651</td>\n",
       "      <td>82.4</td>\n",
       "      <td>0.230</td>\n",
       "    </tr>\n",
       "    <tr>\n",
       "      <td>4</td>\n",
       "      <td>8624</td>\n",
       "      <td>119.0</td>\n",
       "      <td>0.200</td>\n",
       "    </tr>\n",
       "  </tbody>\n",
       "</table>\n",
       "</div>"
      ],
      "text/plain": [
       "    area  permeabilidade  shape\n",
       "0   4990             6.3  0.090\n",
       "1   7002             6.3  0.149\n",
       "2   7943            17.1  0.122\n",
       "3  10651            82.4  0.230\n",
       "4   8624           119.0  0.200"
      ]
     },
     "execution_count": 134,
     "metadata": {},
     "output_type": "execute_result"
    }
   ],
   "source": [
    "df = pd.DataFrame(data = {'area': area,'permeabilidade':permeabilidade,'shape':shape})\n",
    "df"
   ]
  },
  {
   "cell_type": "code",
   "execution_count": 135,
   "metadata": {
    "colab": {},
    "colab_type": "code",
    "id": "81DfSrUiXOHx"
   },
   "outputs": [
    {
     "data": {
      "text/html": [
       "<div>\n",
       "<style scoped>\n",
       "    .dataframe tbody tr th:only-of-type {\n",
       "        vertical-align: middle;\n",
       "    }\n",
       "\n",
       "    .dataframe tbody tr th {\n",
       "        vertical-align: top;\n",
       "    }\n",
       "\n",
       "    .dataframe thead th {\n",
       "        text-align: right;\n",
       "    }\n",
       "</style>\n",
       "<table border=\"1\" class=\"dataframe\">\n",
       "  <thead>\n",
       "    <tr style=\"text-align: right;\">\n",
       "      <th></th>\n",
       "      <th>0</th>\n",
       "      <th>1</th>\n",
       "      <th>2</th>\n",
       "      <th>3</th>\n",
       "      <th>4</th>\n",
       "    </tr>\n",
       "  </thead>\n",
       "  <tbody>\n",
       "    <tr>\n",
       "      <td>0</td>\n",
       "      <td>4990.00</td>\n",
       "      <td>7002.000</td>\n",
       "      <td>7943.000</td>\n",
       "      <td>10651.00</td>\n",
       "      <td>8624.0</td>\n",
       "    </tr>\n",
       "    <tr>\n",
       "      <td>1</td>\n",
       "      <td>6.30</td>\n",
       "      <td>6.300</td>\n",
       "      <td>17.100</td>\n",
       "      <td>82.40</td>\n",
       "      <td>119.0</td>\n",
       "    </tr>\n",
       "    <tr>\n",
       "      <td>2</td>\n",
       "      <td>0.09</td>\n",
       "      <td>0.149</td>\n",
       "      <td>0.122</td>\n",
       "      <td>0.23</td>\n",
       "      <td>0.2</td>\n",
       "    </tr>\n",
       "  </tbody>\n",
       "</table>\n",
       "</div>"
      ],
      "text/plain": [
       "         0         1         2         3       4\n",
       "0  4990.00  7002.000  7943.000  10651.00  8624.0\n",
       "1     6.30     6.300    17.100     82.40   119.0\n",
       "2     0.09     0.149     0.122      0.23     0.2"
      ]
     },
     "execution_count": 135,
     "metadata": {},
     "output_type": "execute_result"
    }
   ],
   "source": [
    "df_forma2 = pd.DataFrame(data = np.array([area,permeabilidade,shape]))\n",
    "df_forma2"
   ]
  },
  {
   "cell_type": "code",
   "execution_count": 136,
   "metadata": {
    "colab": {},
    "colab_type": "code",
    "id": "TkruphCfXeIz"
   },
   "outputs": [
    {
     "data": {
      "text/html": [
       "<div>\n",
       "<style scoped>\n",
       "    .dataframe tbody tr th:only-of-type {\n",
       "        vertical-align: middle;\n",
       "    }\n",
       "\n",
       "    .dataframe tbody tr th {\n",
       "        vertical-align: top;\n",
       "    }\n",
       "\n",
       "    .dataframe thead th {\n",
       "        text-align: right;\n",
       "    }\n",
       "</style>\n",
       "<table border=\"1\" class=\"dataframe\">\n",
       "  <thead>\n",
       "    <tr style=\"text-align: right;\">\n",
       "      <th></th>\n",
       "      <th>0</th>\n",
       "      <th>1</th>\n",
       "      <th>2</th>\n",
       "    </tr>\n",
       "  </thead>\n",
       "  <tbody>\n",
       "    <tr>\n",
       "      <td>0</td>\n",
       "      <td>4990.0</td>\n",
       "      <td>6.3</td>\n",
       "      <td>0.090</td>\n",
       "    </tr>\n",
       "    <tr>\n",
       "      <td>1</td>\n",
       "      <td>7002.0</td>\n",
       "      <td>6.3</td>\n",
       "      <td>0.149</td>\n",
       "    </tr>\n",
       "    <tr>\n",
       "      <td>2</td>\n",
       "      <td>7943.0</td>\n",
       "      <td>17.1</td>\n",
       "      <td>0.122</td>\n",
       "    </tr>\n",
       "    <tr>\n",
       "      <td>3</td>\n",
       "      <td>10651.0</td>\n",
       "      <td>82.4</td>\n",
       "      <td>0.230</td>\n",
       "    </tr>\n",
       "    <tr>\n",
       "      <td>4</td>\n",
       "      <td>8624.0</td>\n",
       "      <td>119.0</td>\n",
       "      <td>0.200</td>\n",
       "    </tr>\n",
       "  </tbody>\n",
       "</table>\n",
       "</div>"
      ],
      "text/plain": [
       "         0      1      2\n",
       "0   4990.0    6.3  0.090\n",
       "1   7002.0    6.3  0.149\n",
       "2   7943.0   17.1  0.122\n",
       "3  10651.0   82.4  0.230\n",
       "4   8624.0  119.0  0.200"
      ]
     },
     "execution_count": 136,
     "metadata": {},
     "output_type": "execute_result"
    }
   ],
   "source": [
    "df_forma2 = df_forma2.T   # calcula a transposta \n",
    "df_forma2"
   ]
  },
  {
   "cell_type": "code",
   "execution_count": 137,
   "metadata": {
    "colab": {},
    "colab_type": "code",
    "id": "yLHnO--SXw9I"
   },
   "outputs": [
    {
     "data": {
      "text/html": [
       "<div>\n",
       "<style scoped>\n",
       "    .dataframe tbody tr th:only-of-type {\n",
       "        vertical-align: middle;\n",
       "    }\n",
       "\n",
       "    .dataframe tbody tr th {\n",
       "        vertical-align: top;\n",
       "    }\n",
       "\n",
       "    .dataframe thead th {\n",
       "        text-align: right;\n",
       "    }\n",
       "</style>\n",
       "<table border=\"1\" class=\"dataframe\">\n",
       "  <thead>\n",
       "    <tr style=\"text-align: right;\">\n",
       "      <th></th>\n",
       "      <th>area</th>\n",
       "      <th>permeabilidade</th>\n",
       "      <th>shape</th>\n",
       "    </tr>\n",
       "  </thead>\n",
       "  <tbody>\n",
       "    <tr>\n",
       "      <td>0</td>\n",
       "      <td>4990.0</td>\n",
       "      <td>6.3</td>\n",
       "      <td>0.090</td>\n",
       "    </tr>\n",
       "    <tr>\n",
       "      <td>1</td>\n",
       "      <td>7002.0</td>\n",
       "      <td>6.3</td>\n",
       "      <td>0.149</td>\n",
       "    </tr>\n",
       "    <tr>\n",
       "      <td>2</td>\n",
       "      <td>7943.0</td>\n",
       "      <td>17.1</td>\n",
       "      <td>0.122</td>\n",
       "    </tr>\n",
       "    <tr>\n",
       "      <td>3</td>\n",
       "      <td>10651.0</td>\n",
       "      <td>82.4</td>\n",
       "      <td>0.230</td>\n",
       "    </tr>\n",
       "    <tr>\n",
       "      <td>4</td>\n",
       "      <td>8624.0</td>\n",
       "      <td>119.0</td>\n",
       "      <td>0.200</td>\n",
       "    </tr>\n",
       "  </tbody>\n",
       "</table>\n",
       "</div>"
      ],
      "text/plain": [
       "      area  permeabilidade  shape\n",
       "0   4990.0             6.3  0.090\n",
       "1   7002.0             6.3  0.149\n",
       "2   7943.0            17.1  0.122\n",
       "3  10651.0            82.4  0.230\n",
       "4   8624.0           119.0  0.200"
      ]
     },
     "execution_count": 137,
     "metadata": {},
     "output_type": "execute_result"
    }
   ],
   "source": [
    "df_forma2.columns = ['area','permeabilidade','shape']\n",
    "df_forma2"
   ]
  },
  {
   "cell_type": "code",
   "execution_count": 138,
   "metadata": {
    "colab": {},
    "colab_type": "code",
    "id": "cSmZFBOmYAL8"
   },
   "outputs": [
    {
     "data": {
      "text/html": [
       "<div>\n",
       "<style scoped>\n",
       "    .dataframe tbody tr th:only-of-type {\n",
       "        vertical-align: middle;\n",
       "    }\n",
       "\n",
       "    .dataframe tbody tr th {\n",
       "        vertical-align: top;\n",
       "    }\n",
       "\n",
       "    .dataframe thead th {\n",
       "        text-align: right;\n",
       "    }\n",
       "</style>\n",
       "<table border=\"1\" class=\"dataframe\">\n",
       "  <thead>\n",
       "    <tr style=\"text-align: right;\">\n",
       "      <th></th>\n",
       "      <th>area</th>\n",
       "      <th>permeabilidade</th>\n",
       "      <th>shape</th>\n",
       "    </tr>\n",
       "  </thead>\n",
       "  <tbody>\n",
       "    <tr>\n",
       "      <td>Amostra0</td>\n",
       "      <td>4990.0</td>\n",
       "      <td>6.3</td>\n",
       "      <td>0.090</td>\n",
       "    </tr>\n",
       "    <tr>\n",
       "      <td>Amostra1</td>\n",
       "      <td>7002.0</td>\n",
       "      <td>6.3</td>\n",
       "      <td>0.149</td>\n",
       "    </tr>\n",
       "    <tr>\n",
       "      <td>Amostra2</td>\n",
       "      <td>7943.0</td>\n",
       "      <td>17.1</td>\n",
       "      <td>0.122</td>\n",
       "    </tr>\n",
       "    <tr>\n",
       "      <td>Amostra3</td>\n",
       "      <td>10651.0</td>\n",
       "      <td>82.4</td>\n",
       "      <td>0.230</td>\n",
       "    </tr>\n",
       "    <tr>\n",
       "      <td>Amostra4</td>\n",
       "      <td>8624.0</td>\n",
       "      <td>119.0</td>\n",
       "      <td>0.200</td>\n",
       "    </tr>\n",
       "  </tbody>\n",
       "</table>\n",
       "</div>"
      ],
      "text/plain": [
       "             area  permeabilidade  shape\n",
       "Amostra0   4990.0             6.3  0.090\n",
       "Amostra1   7002.0             6.3  0.149\n",
       "Amostra2   7943.0            17.1  0.122\n",
       "Amostra3  10651.0            82.4  0.230\n",
       "Amostra4   8624.0           119.0  0.200"
      ]
     },
     "execution_count": 138,
     "metadata": {},
     "output_type": "execute_result"
    }
   ],
   "source": [
    "df_forma2.index = ['Amostra'+ str(i) for i in range(len(df_forma2))]\n",
    "df_forma2"
   ]
  },
  {
   "cell_type": "markdown",
   "metadata": {
    "colab_type": "text",
    "id": "YwU8WfbpYfNL"
   },
   "source": [
    "### 3.2 - Importar arquivos"
   ]
  },
  {
   "cell_type": "markdown",
   "metadata": {
    "colab_type": "text",
    "id": "sOxwiX_6cY1e"
   },
   "source": [
    "* **Forma 1:**\n",
    "\n",
    "Em arquivos (a esquerda, no google colab), apertar em *Fazer upload para o armazenamento da sessão*.\n",
    "> OBS: Essa forma é temporária. Assim, ao abrir novamente o colab ou perder a conexão, o arquivo não estará mais lá e terá que fazer upload novamente.\n",
    "\n",
    "<br />\n",
    "\n",
    "* **Forma 2:**\n",
    "\n",
    "Conectar Drive, assim o google colab terá acesso a sua pasta no drive.\n",
    "\n",
    "<br />"
   ]
  },
  {
   "cell_type": "code",
   "execution_count": 139,
   "metadata": {
    "colab": {},
    "colab_type": "code",
    "id": "52nJzwcN1qzt"
   },
   "outputs": [],
   "source": [
    "import pandas as pd"
   ]
  },
  {
   "cell_type": "code",
   "execution_count": 172,
   "metadata": {
    "colab": {},
    "colab_type": "code",
    "id": "SSaXTXEsYnHO"
   },
   "outputs": [],
   "source": [
    "# 1. Importando arquivos .csv\n",
    "\n",
    "# Forma 1 (upload do arquivo)\n",
    "df = pd.read_csv(\"\\\\Datasets\\\\datasets_363876_710670_rock.csv\", sep = ',',index_col=0)  # Importando o arquivo .csv pelo Pandas (notar sep : tipo de separador)"
   ]
  },
  {
   "cell_type": "code",
   "execution_count": 152,
   "metadata": {
    "colab": {},
    "colab_type": "code",
    "id": "k7zFG5w3g_N5"
   },
   "outputs": [
    {
     "data": {
      "text/html": [
       "<div>\n",
       "<style scoped>\n",
       "    .dataframe tbody tr th:only-of-type {\n",
       "        vertical-align: middle;\n",
       "    }\n",
       "\n",
       "    .dataframe tbody tr th {\n",
       "        vertical-align: top;\n",
       "    }\n",
       "\n",
       "    .dataframe thead th {\n",
       "        text-align: right;\n",
       "    }\n",
       "</style>\n",
       "<table border=\"1\" class=\"dataframe\">\n",
       "  <thead>\n",
       "    <tr style=\"text-align: right;\">\n",
       "      <th></th>\n",
       "      <th>,\"area\",\"peri\",\"shape\",\"perm\"</th>\n",
       "    </tr>\n",
       "  </thead>\n",
       "  <tbody>\n",
       "    <tr>\n",
       "      <td>0</td>\n",
       "      <td>1,4990,2791.9,0.0903296,6.3</td>\n",
       "    </tr>\n",
       "    <tr>\n",
       "      <td>1</td>\n",
       "      <td>2,7002,3892.6,0.148622,6.3</td>\n",
       "    </tr>\n",
       "    <tr>\n",
       "      <td>2</td>\n",
       "      <td>3,7558,3930.66,0.183312,6.3</td>\n",
       "    </tr>\n",
       "    <tr>\n",
       "      <td>3</td>\n",
       "      <td>4,7352,3869.32,0.117063,6.3</td>\n",
       "    </tr>\n",
       "    <tr>\n",
       "      <td>4</td>\n",
       "      <td>5,7943,3948.54,0.122417,17.1</td>\n",
       "    </tr>\n",
       "  </tbody>\n",
       "</table>\n",
       "</div>"
      ],
      "text/plain": [
       "  ,\"area\",\"peri\",\"shape\",\"perm\"\n",
       "0   1,4990,2791.9,0.0903296,6.3\n",
       "1    2,7002,3892.6,0.148622,6.3\n",
       "2   3,7558,3930.66,0.183312,6.3\n",
       "3   4,7352,3869.32,0.117063,6.3\n",
       "4  5,7943,3948.54,0.122417,17.1"
      ]
     },
     "execution_count": 152,
     "metadata": {},
     "output_type": "execute_result"
    }
   ],
   "source": [
    "df.head()   # lê as 5 primeiras linhas"
   ]
  },
  {
   "cell_type": "code",
   "execution_count": null,
   "metadata": {
    "colab": {},
    "colab_type": "code",
    "id": "DrCLuCTnhZap"
   },
   "outputs": [],
   "source": [
    "df = pd.read_csv('datasets_363876_710670_rock.csv', sep = ',')   # o separador das colunas neste caso deve ser ',', por isso modificamos"
   ]
  },
  {
   "cell_type": "code",
   "execution_count": 155,
   "metadata": {
    "colab": {},
    "colab_type": "code",
    "id": "AqeqxzwLhc8b"
   },
   "outputs": [
    {
     "data": {
      "text/html": [
       "<div>\n",
       "<style scoped>\n",
       "    .dataframe tbody tr th:only-of-type {\n",
       "        vertical-align: middle;\n",
       "    }\n",
       "\n",
       "    .dataframe tbody tr th {\n",
       "        vertical-align: top;\n",
       "    }\n",
       "\n",
       "    .dataframe thead th {\n",
       "        text-align: right;\n",
       "    }\n",
       "</style>\n",
       "<table border=\"1\" class=\"dataframe\">\n",
       "  <thead>\n",
       "    <tr style=\"text-align: right;\">\n",
       "      <th></th>\n",
       "      <th>Unnamed: 0</th>\n",
       "      <th>area</th>\n",
       "      <th>peri</th>\n",
       "      <th>shape</th>\n",
       "      <th>perm</th>\n",
       "    </tr>\n",
       "  </thead>\n",
       "  <tbody>\n",
       "    <tr>\n",
       "      <td>0</td>\n",
       "      <td>1</td>\n",
       "      <td>4990</td>\n",
       "      <td>2791.90</td>\n",
       "      <td>0.090330</td>\n",
       "      <td>6.3</td>\n",
       "    </tr>\n",
       "    <tr>\n",
       "      <td>1</td>\n",
       "      <td>2</td>\n",
       "      <td>7002</td>\n",
       "      <td>3892.60</td>\n",
       "      <td>0.148622</td>\n",
       "      <td>6.3</td>\n",
       "    </tr>\n",
       "    <tr>\n",
       "      <td>2</td>\n",
       "      <td>3</td>\n",
       "      <td>7558</td>\n",
       "      <td>3930.66</td>\n",
       "      <td>0.183312</td>\n",
       "      <td>6.3</td>\n",
       "    </tr>\n",
       "    <tr>\n",
       "      <td>3</td>\n",
       "      <td>4</td>\n",
       "      <td>7352</td>\n",
       "      <td>3869.32</td>\n",
       "      <td>0.117063</td>\n",
       "      <td>6.3</td>\n",
       "    </tr>\n",
       "    <tr>\n",
       "      <td>4</td>\n",
       "      <td>5</td>\n",
       "      <td>7943</td>\n",
       "      <td>3948.54</td>\n",
       "      <td>0.122417</td>\n",
       "      <td>17.1</td>\n",
       "    </tr>\n",
       "    <tr>\n",
       "      <td>5</td>\n",
       "      <td>6</td>\n",
       "      <td>7979</td>\n",
       "      <td>4010.15</td>\n",
       "      <td>0.167045</td>\n",
       "      <td>17.1</td>\n",
       "    </tr>\n",
       "    <tr>\n",
       "      <td>6</td>\n",
       "      <td>7</td>\n",
       "      <td>9333</td>\n",
       "      <td>4345.75</td>\n",
       "      <td>0.189651</td>\n",
       "      <td>17.1</td>\n",
       "    </tr>\n",
       "    <tr>\n",
       "      <td>7</td>\n",
       "      <td>8</td>\n",
       "      <td>8209</td>\n",
       "      <td>4344.75</td>\n",
       "      <td>0.164127</td>\n",
       "      <td>17.1</td>\n",
       "    </tr>\n",
       "    <tr>\n",
       "      <td>8</td>\n",
       "      <td>9</td>\n",
       "      <td>8393</td>\n",
       "      <td>3682.04</td>\n",
       "      <td>0.203654</td>\n",
       "      <td>119.0</td>\n",
       "    </tr>\n",
       "    <tr>\n",
       "      <td>9</td>\n",
       "      <td>10</td>\n",
       "      <td>6425</td>\n",
       "      <td>3098.65</td>\n",
       "      <td>0.162394</td>\n",
       "      <td>119.0</td>\n",
       "    </tr>\n",
       "  </tbody>\n",
       "</table>\n",
       "</div>"
      ],
      "text/plain": [
       "   Unnamed: 0  area     peri     shape   perm\n",
       "0           1  4990  2791.90  0.090330    6.3\n",
       "1           2  7002  3892.60  0.148622    6.3\n",
       "2           3  7558  3930.66  0.183312    6.3\n",
       "3           4  7352  3869.32  0.117063    6.3\n",
       "4           5  7943  3948.54  0.122417   17.1\n",
       "5           6  7979  4010.15  0.167045   17.1\n",
       "6           7  9333  4345.75  0.189651   17.1\n",
       "7           8  8209  4344.75  0.164127   17.1\n",
       "8           9  8393  3682.04  0.203654  119.0\n",
       "9          10  6425  3098.65  0.162394  119.0"
      ]
     },
     "execution_count": 155,
     "metadata": {},
     "output_type": "execute_result"
    }
   ],
   "source": [
    "df.head(10)"
   ]
  },
  {
   "cell_type": "code",
   "execution_count": null,
   "metadata": {
    "colab": {},
    "colab_type": "code",
    "id": "gje3WI_biMDf"
   },
   "outputs": [],
   "source": [
    "df = pd.read_csv('datasets_363876_710670_rock.csv', sep = ',',index_col=0)  # determina qual coluna é o index index_col=0. O default é None\n",
    "df.head(10)"
   ]
  },
  {
   "cell_type": "code",
   "execution_count": null,
   "metadata": {
    "colab": {},
    "colab_type": "code",
    "id": "vjGfPD97ikyE"
   },
   "outputs": [],
   "source": [
    "# Forma 2 (importando pelo google drive):\n",
    "df = pd.read_csv('/content/drive/My Drive/2020/Matéria Data Science/aula pratica1/datasets_363876_710670_rock.csv', sep = ',',index_col=0)  # determina qual coluna é o index index_col=0. O default é None\n"
   ]
  },
  {
   "cell_type": "code",
   "execution_count": null,
   "metadata": {
    "colab": {},
    "colab_type": "code",
    "id": "z07K8BcjmrkF"
   },
   "outputs": [],
   "source": [
    "df.head(10)"
   ]
  },
  {
   "cell_type": "code",
   "execution_count": null,
   "metadata": {
    "colab": {},
    "colab_type": "code",
    "id": "f8Qy_ypTjv3u"
   },
   "outputs": [],
   "source": [
    "# 2. Importando arquivos .xlxs\n",
    "df_xlsx = pd.read_excel('/content/drive/My Drive/2020/Matéria Data Science/aula pratica1/tabela-de-pocos-ANP CAMPOS BRASILEIROS.xlsx')\n",
    "df_xlsx.head(10)"
   ]
  },
  {
   "cell_type": "code",
   "execution_count": 157,
   "metadata": {
    "colab": {},
    "colab_type": "code",
    "id": "xqHK_lFRkx0O"
   },
   "outputs": [
    {
     "data": {
      "text/html": [
       "<div>\n",
       "<style scoped>\n",
       "    .dataframe tbody tr th:only-of-type {\n",
       "        vertical-align: middle;\n",
       "    }\n",
       "\n",
       "    .dataframe tbody tr th {\n",
       "        vertical-align: top;\n",
       "    }\n",
       "\n",
       "    .dataframe thead th {\n",
       "        text-align: right;\n",
       "    }\n",
       "</style>\n",
       "<table border=\"1\" class=\"dataframe\">\n",
       "  <thead>\n",
       "    <tr style=\"text-align: right;\">\n",
       "      <th></th>\n",
       "      <th>POCO</th>\n",
       "      <th>CADASTRO</th>\n",
       "      <th>OPERADOR</th>\n",
       "      <th>POCO_OPERADOR</th>\n",
       "      <th>ESTADO</th>\n",
       "      <th>BACIA</th>\n",
       "      <th>BLOCO</th>\n",
       "      <th>SIG_CAMPO</th>\n",
       "      <th>CAMPO</th>\n",
       "      <th>TERRA_MAR</th>\n",
       "      <th>...</th>\n",
       "      <th>TABELA_TEMPO_PROFUNDIDADE</th>\n",
       "      <th>DADOS_DIRECIONAIS</th>\n",
       "      <th>TESTE_A_CABO</th>\n",
       "      <th>TESTE_DE_FORMACAO</th>\n",
       "      <th>CANHONEIO</th>\n",
       "      <th>TESTEMUNHO</th>\n",
       "      <th>GEOQUIMICA</th>\n",
       "      <th>SIG_SONDA</th>\n",
       "      <th>NOM_SONDA</th>\n",
       "      <th>DHA_ATUALIZACAO</th>\n",
       "    </tr>\n",
       "  </thead>\n",
       "  <tbody>\n",
       "    <tr>\n",
       "      <td>0</td>\n",
       "      <td>7-TQ-220D-BA</td>\n",
       "      <td>20240027592</td>\n",
       "      <td>Petrobras</td>\n",
       "      <td>7TQ220DBA</td>\n",
       "      <td>BA</td>\n",
       "      <td>Recôncavo</td>\n",
       "      <td>NaN</td>\n",
       "      <td>TQ</td>\n",
       "      <td>TAQUIPE</td>\n",
       "      <td>T</td>\n",
       "      <td>...</td>\n",
       "      <td>NaN</td>\n",
       "      <td>Existe</td>\n",
       "      <td>NaN</td>\n",
       "      <td>NaN</td>\n",
       "      <td>NaN</td>\n",
       "      <td>NaN</td>\n",
       "      <td>NaN</td>\n",
       "      <td>SC-82</td>\n",
       "      <td>SONDA CONVENCIONAL 82</td>\n",
       "      <td>2020-07-12 05:00:06</td>\n",
       "    </tr>\n",
       "    <tr>\n",
       "      <td>1</td>\n",
       "      <td>1-BRSA-1257-MA</td>\n",
       "      <td>50090027727</td>\n",
       "      <td>Petrobras</td>\n",
       "      <td>1FZC1MA</td>\n",
       "      <td>MA</td>\n",
       "      <td>Parnaíba</td>\n",
       "      <td>PN-T-66</td>\n",
       "      <td>NaN</td>\n",
       "      <td>NaN</td>\n",
       "      <td>T</td>\n",
       "      <td>...</td>\n",
       "      <td>NaN</td>\n",
       "      <td>Existe</td>\n",
       "      <td>Existe</td>\n",
       "      <td>NaN</td>\n",
       "      <td>NaN</td>\n",
       "      <td>NaN</td>\n",
       "      <td>NaN</td>\n",
       "      <td>SC-109</td>\n",
       "      <td>SONDA CONVENCIONAL 109</td>\n",
       "      <td>2020-07-12 05:00:06</td>\n",
       "    </tr>\n",
       "    <tr>\n",
       "      <td>2</td>\n",
       "      <td>1-BRSA-1204-MT</td>\n",
       "      <td>54320027294</td>\n",
       "      <td>Petrobras</td>\n",
       "      <td>1SRT1MT</td>\n",
       "      <td>MT</td>\n",
       "      <td>Parecis - Alto Xingu</td>\n",
       "      <td>PRC-T-122</td>\n",
       "      <td>NaN</td>\n",
       "      <td>NaN</td>\n",
       "      <td>T</td>\n",
       "      <td>...</td>\n",
       "      <td>NaN</td>\n",
       "      <td>Existe</td>\n",
       "      <td>Existe</td>\n",
       "      <td>NaN</td>\n",
       "      <td>NaN</td>\n",
       "      <td>Existe</td>\n",
       "      <td>NaN</td>\n",
       "      <td>QG-06</td>\n",
       "      <td>QUEIROZ GALVÃO 06</td>\n",
       "      <td>2020-07-12 05:00:06</td>\n",
       "    </tr>\n",
       "    <tr>\n",
       "      <td>3</td>\n",
       "      <td>7-ET-22-RN</td>\n",
       "      <td>721000100500</td>\n",
       "      <td>Petrobras</td>\n",
       "      <td>7ET  0022  RN</td>\n",
       "      <td>RN</td>\n",
       "      <td>Potiguar</td>\n",
       "      <td>ET</td>\n",
       "      <td>ET</td>\n",
       "      <td>ESTREITO</td>\n",
       "      <td>T</td>\n",
       "      <td>...</td>\n",
       "      <td>NaN</td>\n",
       "      <td>NaN</td>\n",
       "      <td>NaN</td>\n",
       "      <td>NaN</td>\n",
       "      <td>NaN</td>\n",
       "      <td>NaN</td>\n",
       "      <td>NaN</td>\n",
       "      <td>SC-85</td>\n",
       "      <td>SONDA CONVENCIONAL 85</td>\n",
       "      <td>2020-07-12 05:00:06</td>\n",
       "    </tr>\n",
       "    <tr>\n",
       "      <td>4</td>\n",
       "      <td>3-PIR-54-AL</td>\n",
       "      <td>81150279100</td>\n",
       "      <td>Petrobras</td>\n",
       "      <td>3PIR 0054  AL</td>\n",
       "      <td>AL</td>\n",
       "      <td>Alagoas</td>\n",
       "      <td>PIR</td>\n",
       "      <td>PIR</td>\n",
       "      <td>PILAR</td>\n",
       "      <td>T</td>\n",
       "      <td>...</td>\n",
       "      <td>NaN</td>\n",
       "      <td>NaN</td>\n",
       "      <td>NaN</td>\n",
       "      <td>NaN</td>\n",
       "      <td>NaN</td>\n",
       "      <td>NaN</td>\n",
       "      <td>Existe</td>\n",
       "      <td>QG-01</td>\n",
       "      <td>QUEIROZ GALVÃO 01</td>\n",
       "      <td>2020-07-12 05:00:06</td>\n",
       "    </tr>\n",
       "    <tr>\n",
       "      <td>5</td>\n",
       "      <td>4-PIR-110-AL</td>\n",
       "      <td>81150307200</td>\n",
       "      <td>Petrobras</td>\n",
       "      <td>4PIR 0110  AL</td>\n",
       "      <td>AL</td>\n",
       "      <td>Alagoas</td>\n",
       "      <td>PIR</td>\n",
       "      <td>PIR</td>\n",
       "      <td>PILAR</td>\n",
       "      <td>T</td>\n",
       "      <td>...</td>\n",
       "      <td>Existe</td>\n",
       "      <td>NaN</td>\n",
       "      <td>NaN</td>\n",
       "      <td>NaN</td>\n",
       "      <td>NaN</td>\n",
       "      <td>NaN</td>\n",
       "      <td>Existe</td>\n",
       "      <td>QG-01</td>\n",
       "      <td>QUEIROZ GALVÃO 01</td>\n",
       "      <td>2020-07-12 05:00:06</td>\n",
       "    </tr>\n",
       "    <tr>\n",
       "      <td>6</td>\n",
       "      <td>7-PIR-125-AL</td>\n",
       "      <td>81150325800</td>\n",
       "      <td>Petrobras</td>\n",
       "      <td>7PIR 0125  AL</td>\n",
       "      <td>AL</td>\n",
       "      <td>Alagoas</td>\n",
       "      <td>PIR</td>\n",
       "      <td>PIR</td>\n",
       "      <td>PILAR</td>\n",
       "      <td>T</td>\n",
       "      <td>...</td>\n",
       "      <td>NaN</td>\n",
       "      <td>NaN</td>\n",
       "      <td>NaN</td>\n",
       "      <td>NaN</td>\n",
       "      <td>NaN</td>\n",
       "      <td>NaN</td>\n",
       "      <td>NaN</td>\n",
       "      <td>ET-2</td>\n",
       "      <td>NaN</td>\n",
       "      <td>2020-07-12 05:00:06</td>\n",
       "    </tr>\n",
       "    <tr>\n",
       "      <td>7</td>\n",
       "      <td>7-CP-1761-SE</td>\n",
       "      <td>90120023277</td>\n",
       "      <td>Petrobras</td>\n",
       "      <td>7CP1761SE</td>\n",
       "      <td>SE</td>\n",
       "      <td>Sergipe</td>\n",
       "      <td>CP</td>\n",
       "      <td>CP</td>\n",
       "      <td>CARMÓPOLIS</td>\n",
       "      <td>T</td>\n",
       "      <td>...</td>\n",
       "      <td>NaN</td>\n",
       "      <td>Existe</td>\n",
       "      <td>NaN</td>\n",
       "      <td>NaN</td>\n",
       "      <td>NaN</td>\n",
       "      <td>NaN</td>\n",
       "      <td>NaN</td>\n",
       "      <td>BCH-06</td>\n",
       "      <td>BCH Energy 6</td>\n",
       "      <td>2020-07-12 05:00:06</td>\n",
       "    </tr>\n",
       "    <tr>\n",
       "      <td>8</td>\n",
       "      <td>7-CMR-1H-ESS</td>\n",
       "      <td>34271022990</td>\n",
       "      <td>Petrobras</td>\n",
       "      <td>7CMR1HESS</td>\n",
       "      <td>ES</td>\n",
       "      <td>Espírito Santo</td>\n",
       "      <td>BES-100</td>\n",
       "      <td>CMR</td>\n",
       "      <td>CAMARUPIM</td>\n",
       "      <td>M</td>\n",
       "      <td>...</td>\n",
       "      <td>NaN</td>\n",
       "      <td>Existe</td>\n",
       "      <td>NaN</td>\n",
       "      <td>NaN</td>\n",
       "      <td>NaN</td>\n",
       "      <td>NaN</td>\n",
       "      <td>NaN</td>\n",
       "      <td>NS-09</td>\n",
       "      <td>S. C. LANCER</td>\n",
       "      <td>2020-07-12 05:00:06</td>\n",
       "    </tr>\n",
       "    <tr>\n",
       "      <td>9</td>\n",
       "      <td>7-I-56D-BA</td>\n",
       "      <td>202400339800</td>\n",
       "      <td>Petrobras</td>\n",
       "      <td>7I   0056D BA</td>\n",
       "      <td>BA</td>\n",
       "      <td>Recôncavo</td>\n",
       "      <td>I</td>\n",
       "      <td>I</td>\n",
       "      <td>ITAPARICA</td>\n",
       "      <td>T</td>\n",
       "      <td>...</td>\n",
       "      <td>NaN</td>\n",
       "      <td>NaN</td>\n",
       "      <td>NaN</td>\n",
       "      <td>NaN</td>\n",
       "      <td>NaN</td>\n",
       "      <td>NaN</td>\n",
       "      <td>NaN</td>\n",
       "      <td>SC-95</td>\n",
       "      <td>SONDA CONVENCIONAL 95</td>\n",
       "      <td>2020-07-12 05:00:06</td>\n",
       "    </tr>\n",
       "  </tbody>\n",
       "</table>\n",
       "<p>10 rows × 59 columns</p>\n",
       "</div>"
      ],
      "text/plain": [
       "             POCO      CADASTRO   OPERADOR  POCO_OPERADOR ESTADO  \\\n",
       "0    7-TQ-220D-BA   20240027592  Petrobras      7TQ220DBA     BA   \n",
       "1  1-BRSA-1257-MA   50090027727  Petrobras        1FZC1MA     MA   \n",
       "2  1-BRSA-1204-MT   54320027294  Petrobras        1SRT1MT     MT   \n",
       "3      7-ET-22-RN  721000100500  Petrobras  7ET  0022  RN     RN   \n",
       "4     3-PIR-54-AL   81150279100  Petrobras  3PIR 0054  AL     AL   \n",
       "5    4-PIR-110-AL   81150307200  Petrobras  4PIR 0110  AL     AL   \n",
       "6    7-PIR-125-AL   81150325800  Petrobras  7PIR 0125  AL     AL   \n",
       "7    7-CP-1761-SE   90120023277  Petrobras      7CP1761SE     SE   \n",
       "8    7-CMR-1H-ESS   34271022990  Petrobras      7CMR1HESS     ES   \n",
       "9      7-I-56D-BA  202400339800  Petrobras  7I   0056D BA     BA   \n",
       "\n",
       "                  BACIA      BLOCO SIG_CAMPO       CAMPO TERRA_MAR  ...  \\\n",
       "0             Recôncavo        NaN     TQ        TAQUIPE         T  ...   \n",
       "1              Parnaíba    PN-T-66       NaN         NaN         T  ...   \n",
       "2  Parecis - Alto Xingu  PRC-T-122       NaN         NaN         T  ...   \n",
       "3              Potiguar         ET     ET       ESTREITO         T  ...   \n",
       "4               Alagoas        PIR     PIR         PILAR         T  ...   \n",
       "5               Alagoas        PIR     PIR         PILAR         T  ...   \n",
       "6               Alagoas        PIR     PIR         PILAR         T  ...   \n",
       "7               Sergipe         CP     CP     CARMÓPOLIS         T  ...   \n",
       "8        Espírito Santo    BES-100     CMR     CAMARUPIM         M  ...   \n",
       "9             Recôncavo          I     I      ITAPARICA          T  ...   \n",
       "\n",
       "  TABELA_TEMPO_PROFUNDIDADE DADOS_DIRECIONAIS TESTE_A_CABO TESTE_DE_FORMACAO  \\\n",
       "0                       NaN            Existe          NaN               NaN   \n",
       "1                       NaN            Existe       Existe               NaN   \n",
       "2                       NaN            Existe       Existe               NaN   \n",
       "3                       NaN               NaN          NaN               NaN   \n",
       "4                       NaN               NaN          NaN               NaN   \n",
       "5                    Existe               NaN          NaN               NaN   \n",
       "6                       NaN               NaN          NaN               NaN   \n",
       "7                       NaN            Existe          NaN               NaN   \n",
       "8                       NaN            Existe          NaN               NaN   \n",
       "9                       NaN               NaN          NaN               NaN   \n",
       "\n",
       "  CANHONEIO TESTEMUNHO GEOQUIMICA                       SIG_SONDA  \\\n",
       "0       NaN        NaN        NaN                           SC-82   \n",
       "1       NaN        NaN        NaN                          SC-109   \n",
       "2       NaN     Existe        NaN                           QG-06   \n",
       "3       NaN        NaN        NaN                           SC-85   \n",
       "4       NaN        NaN     Existe                           QG-01   \n",
       "5       NaN        NaN     Existe                           QG-01   \n",
       "6       NaN        NaN        NaN  ET-2                             \n",
       "7       NaN        NaN        NaN                          BCH-06   \n",
       "8       NaN        NaN        NaN                           NS-09   \n",
       "9       NaN        NaN        NaN                           SC-95   \n",
       "\n",
       "                NOM_SONDA     DHA_ATUALIZACAO  \n",
       "0   SONDA CONVENCIONAL 82 2020-07-12 05:00:06  \n",
       "1  SONDA CONVENCIONAL 109 2020-07-12 05:00:06  \n",
       "2       QUEIROZ GALVÃO 06 2020-07-12 05:00:06  \n",
       "3   SONDA CONVENCIONAL 85 2020-07-12 05:00:06  \n",
       "4       QUEIROZ GALVÃO 01 2020-07-12 05:00:06  \n",
       "5       QUEIROZ GALVÃO 01 2020-07-12 05:00:06  \n",
       "6                     NaN 2020-07-12 05:00:06  \n",
       "7            BCH Energy 6 2020-07-12 05:00:06  \n",
       "8            S. C. LANCER 2020-07-12 05:00:06  \n",
       "9   SONDA CONVENCIONAL 95 2020-07-12 05:00:06  \n",
       "\n",
       "[10 rows x 59 columns]"
      ]
     },
     "execution_count": 157,
     "metadata": {},
     "output_type": "execute_result"
    }
   ],
   "source": [
    "df_xlsx = pd.read_excel(\"/Datasets/tabela-de-pocos-ANP CAMPOS BRASILEIROS.xlsx\",skiprows=4)\n",
    "df_xlsx.head(10)"
   ]
  },
  {
   "cell_type": "markdown",
   "metadata": {
    "colab_type": "text",
    "id": "hxqUy-jImx5O"
   },
   "source": [
    "### 3.3 - Funcionalidades do Pandas\n"
   ]
  },
  {
   "cell_type": "code",
   "execution_count": 173,
   "metadata": {
    "colab": {},
    "colab_type": "code",
    "id": "mRqtgPwenV-1"
   },
   "outputs": [
    {
     "data": {
      "text/html": [
       "<div>\n",
       "<style scoped>\n",
       "    .dataframe tbody tr th:only-of-type {\n",
       "        vertical-align: middle;\n",
       "    }\n",
       "\n",
       "    .dataframe tbody tr th {\n",
       "        vertical-align: top;\n",
       "    }\n",
       "\n",
       "    .dataframe thead th {\n",
       "        text-align: right;\n",
       "    }\n",
       "</style>\n",
       "<table border=\"1\" class=\"dataframe\">\n",
       "  <thead>\n",
       "    <tr style=\"text-align: right;\">\n",
       "      <th></th>\n",
       "      <th>area</th>\n",
       "      <th>peri</th>\n",
       "      <th>shape</th>\n",
       "      <th>perm</th>\n",
       "    </tr>\n",
       "  </thead>\n",
       "  <tbody>\n",
       "    <tr>\n",
       "      <td>1</td>\n",
       "      <td>4990</td>\n",
       "      <td>2791.90</td>\n",
       "      <td>0.090330</td>\n",
       "      <td>6.3</td>\n",
       "    </tr>\n",
       "    <tr>\n",
       "      <td>2</td>\n",
       "      <td>7002</td>\n",
       "      <td>3892.60</td>\n",
       "      <td>0.148622</td>\n",
       "      <td>6.3</td>\n",
       "    </tr>\n",
       "    <tr>\n",
       "      <td>3</td>\n",
       "      <td>7558</td>\n",
       "      <td>3930.66</td>\n",
       "      <td>0.183312</td>\n",
       "      <td>6.3</td>\n",
       "    </tr>\n",
       "    <tr>\n",
       "      <td>4</td>\n",
       "      <td>7352</td>\n",
       "      <td>3869.32</td>\n",
       "      <td>0.117063</td>\n",
       "      <td>6.3</td>\n",
       "    </tr>\n",
       "    <tr>\n",
       "      <td>5</td>\n",
       "      <td>7943</td>\n",
       "      <td>3948.54</td>\n",
       "      <td>0.122417</td>\n",
       "      <td>17.1</td>\n",
       "    </tr>\n",
       "  </tbody>\n",
       "</table>\n",
       "</div>"
      ],
      "text/plain": [
       "   area     peri     shape  perm\n",
       "1  4990  2791.90  0.090330   6.3\n",
       "2  7002  3892.60  0.148622   6.3\n",
       "3  7558  3930.66  0.183312   6.3\n",
       "4  7352  3869.32  0.117063   6.3\n",
       "5  7943  3948.54  0.122417  17.1"
      ]
     },
     "execution_count": 173,
     "metadata": {},
     "output_type": "execute_result"
    }
   ],
   "source": [
    "df.head()     # lê as primeiras linhas"
   ]
  },
  {
   "cell_type": "code",
   "execution_count": 174,
   "metadata": {
    "colab": {},
    "colab_type": "code",
    "id": "-YF80Cx1nr6h"
   },
   "outputs": [
    {
     "data": {
      "text/plain": [
       "pandas.core.frame.DataFrame"
      ]
     },
     "execution_count": 174,
     "metadata": {},
     "output_type": "execute_result"
    }
   ],
   "source": [
    "type(df)      # o tipo de df (dataframe)"
   ]
  },
  {
   "cell_type": "code",
   "execution_count": 175,
   "metadata": {
    "colab": {},
    "colab_type": "code",
    "id": "MQeQLECrnxgi"
   },
   "outputs": [
    {
     "data": {
      "text/plain": [
       "area       int64\n",
       "peri     float64\n",
       "shape    float64\n",
       "perm     float64\n",
       "dtype: object"
      ]
     },
     "execution_count": 175,
     "metadata": {},
     "output_type": "execute_result"
    }
   ],
   "source": [
    "df.dtypes      # define o tipo de objeto de cada coluna"
   ]
  },
  {
   "cell_type": "code",
   "execution_count": 176,
   "metadata": {
    "colab": {},
    "colab_type": "code",
    "id": "UhkHZSIfpI4p"
   },
   "outputs": [
    {
     "data": {
      "text/plain": [
       "(48, 4)"
      ]
     },
     "execution_count": 176,
     "metadata": {},
     "output_type": "execute_result"
    }
   ],
   "source": [
    "df.shape  # (linhas, colunas)"
   ]
  },
  {
   "cell_type": "code",
   "execution_count": 177,
   "metadata": {
    "colab": {},
    "colab_type": "code",
    "id": "V9MvtGoDoUKg"
   },
   "outputs": [
    {
     "data": {
      "text/html": [
       "<div>\n",
       "<style scoped>\n",
       "    .dataframe tbody tr th:only-of-type {\n",
       "        vertical-align: middle;\n",
       "    }\n",
       "\n",
       "    .dataframe tbody tr th {\n",
       "        vertical-align: top;\n",
       "    }\n",
       "\n",
       "    .dataframe thead th {\n",
       "        text-align: right;\n",
       "    }\n",
       "</style>\n",
       "<table border=\"1\" class=\"dataframe\">\n",
       "  <thead>\n",
       "    <tr style=\"text-align: right;\">\n",
       "      <th></th>\n",
       "      <th>area</th>\n",
       "      <th>peri</th>\n",
       "      <th>shape</th>\n",
       "    </tr>\n",
       "  </thead>\n",
       "  <tbody>\n",
       "    <tr>\n",
       "      <td>1</td>\n",
       "      <td>4990</td>\n",
       "      <td>2791.90</td>\n",
       "      <td>0.090330</td>\n",
       "    </tr>\n",
       "    <tr>\n",
       "      <td>2</td>\n",
       "      <td>7002</td>\n",
       "      <td>3892.60</td>\n",
       "      <td>0.148622</td>\n",
       "    </tr>\n",
       "    <tr>\n",
       "      <td>3</td>\n",
       "      <td>7558</td>\n",
       "      <td>3930.66</td>\n",
       "      <td>0.183312</td>\n",
       "    </tr>\n",
       "    <tr>\n",
       "      <td>4</td>\n",
       "      <td>7352</td>\n",
       "      <td>3869.32</td>\n",
       "      <td>0.117063</td>\n",
       "    </tr>\n",
       "    <tr>\n",
       "      <td>5</td>\n",
       "      <td>7943</td>\n",
       "      <td>3948.54</td>\n",
       "      <td>0.122417</td>\n",
       "    </tr>\n",
       "  </tbody>\n",
       "</table>\n",
       "</div>"
      ],
      "text/plain": [
       "   area     peri     shape\n",
       "1  4990  2791.90  0.090330\n",
       "2  7002  3892.60  0.148622\n",
       "3  7558  3930.66  0.183312\n",
       "4  7352  3869.32  0.117063\n",
       "5  7943  3948.54  0.122417"
      ]
     },
     "execution_count": 177,
     "metadata": {},
     "output_type": "execute_result"
    }
   ],
   "source": [
    "X = df.drop(['perm'],axis=1)   # remover a coluna 'perm' do dataframe df. Axis = 0 -> remove a linha, Axis = 1 -> remover a coluna\n",
    "X.head()"
   ]
  },
  {
   "cell_type": "code",
   "execution_count": 178,
   "metadata": {
    "colab": {},
    "colab_type": "code",
    "id": "6LGdhyXbpTkv"
   },
   "outputs": [
    {
     "data": {
      "text/plain": [
       "(48, 3)"
      ]
     },
     "execution_count": 178,
     "metadata": {},
     "output_type": "execute_result"
    }
   ],
   "source": [
    "X.shape     # (num linhas, num colunas)"
   ]
  },
  {
   "cell_type": "code",
   "execution_count": 179,
   "metadata": {
    "colab": {},
    "colab_type": "code",
    "id": "eoNbL6Zio4gq"
   },
   "outputs": [
    {
     "data": {
      "text/html": [
       "<div>\n",
       "<style scoped>\n",
       "    .dataframe tbody tr th:only-of-type {\n",
       "        vertical-align: middle;\n",
       "    }\n",
       "\n",
       "    .dataframe tbody tr th {\n",
       "        vertical-align: top;\n",
       "    }\n",
       "\n",
       "    .dataframe thead th {\n",
       "        text-align: right;\n",
       "    }\n",
       "</style>\n",
       "<table border=\"1\" class=\"dataframe\">\n",
       "  <thead>\n",
       "    <tr style=\"text-align: right;\">\n",
       "      <th></th>\n",
       "      <th>area</th>\n",
       "      <th>peri</th>\n",
       "      <th>shape</th>\n",
       "      <th>perm</th>\n",
       "    </tr>\n",
       "  </thead>\n",
       "  <tbody>\n",
       "    <tr>\n",
       "      <td>1</td>\n",
       "      <td>4990</td>\n",
       "      <td>2791.90</td>\n",
       "      <td>0.090330</td>\n",
       "      <td>6.3</td>\n",
       "    </tr>\n",
       "    <tr>\n",
       "      <td>2</td>\n",
       "      <td>7002</td>\n",
       "      <td>3892.60</td>\n",
       "      <td>0.148622</td>\n",
       "      <td>6.3</td>\n",
       "    </tr>\n",
       "    <tr>\n",
       "      <td>3</td>\n",
       "      <td>7558</td>\n",
       "      <td>3930.66</td>\n",
       "      <td>0.183312</td>\n",
       "      <td>6.3</td>\n",
       "    </tr>\n",
       "    <tr>\n",
       "      <td>4</td>\n",
       "      <td>7352</td>\n",
       "      <td>3869.32</td>\n",
       "      <td>0.117063</td>\n",
       "      <td>6.3</td>\n",
       "    </tr>\n",
       "    <tr>\n",
       "      <td>5</td>\n",
       "      <td>7943</td>\n",
       "      <td>3948.54</td>\n",
       "      <td>0.122417</td>\n",
       "      <td>17.1</td>\n",
       "    </tr>\n",
       "  </tbody>\n",
       "</table>\n",
       "</div>"
      ],
      "text/plain": [
       "   area     peri     shape  perm\n",
       "1  4990  2791.90  0.090330   6.3\n",
       "2  7002  3892.60  0.148622   6.3\n",
       "3  7558  3930.66  0.183312   6.3\n",
       "4  7352  3869.32  0.117063   6.3\n",
       "5  7943  3948.54  0.122417  17.1"
      ]
     },
     "execution_count": 179,
     "metadata": {},
     "output_type": "execute_result"
    }
   ],
   "source": [
    "df.head()"
   ]
  },
  {
   "cell_type": "code",
   "execution_count": 180,
   "metadata": {
    "colab": {},
    "colab_type": "code",
    "id": "bKEWy2ePo6yy"
   },
   "outputs": [],
   "source": [
    "df.drop(48, axis=0, inplace=True)         # para a modificação ocorrer no DataFrame"
   ]
  },
  {
   "cell_type": "code",
   "execution_count": 181,
   "metadata": {
    "colab": {},
    "colab_type": "code",
    "id": "UTkT0mt8o6J7"
   },
   "outputs": [
    {
     "data": {
      "text/plain": [
       "(47, 4)"
      ]
     },
     "execution_count": 181,
     "metadata": {},
     "output_type": "execute_result"
    }
   ],
   "source": [
    "df.shape    # removi uma linha"
   ]
  },
  {
   "cell_type": "code",
   "execution_count": 182,
   "metadata": {
    "colab": {},
    "colab_type": "code",
    "id": "7O7jMhQup_4l"
   },
   "outputs": [
    {
     "data": {
      "text/plain": [
       "array([   6.3,   17.1,  119. ,   82.4,   58.6,  142. ,  740. ,  890. ,\n",
       "        950. ,  100. , 1300. ,  580. ])"
      ]
     },
     "execution_count": 182,
     "metadata": {},
     "output_type": "execute_result"
    }
   ],
   "source": [
    "df['perm'].unique()   # para coluna 'perm', quantos elementos distintos se tem"
   ]
  },
  {
   "cell_type": "code",
   "execution_count": 183,
   "metadata": {
    "colab": {},
    "colab_type": "code",
    "id": "neuX0MtFqk_y"
   },
   "outputs": [],
   "source": [
    "df['tipo'] = pd.factorize(df['perm'])[0]"
   ]
  },
  {
   "cell_type": "code",
   "execution_count": 184,
   "metadata": {
    "colab": {},
    "colab_type": "code",
    "id": "P_v2gHrwssYn"
   },
   "outputs": [
    {
     "data": {
      "text/html": [
       "<div>\n",
       "<style scoped>\n",
       "    .dataframe tbody tr th:only-of-type {\n",
       "        vertical-align: middle;\n",
       "    }\n",
       "\n",
       "    .dataframe tbody tr th {\n",
       "        vertical-align: top;\n",
       "    }\n",
       "\n",
       "    .dataframe thead th {\n",
       "        text-align: right;\n",
       "    }\n",
       "</style>\n",
       "<table border=\"1\" class=\"dataframe\">\n",
       "  <thead>\n",
       "    <tr style=\"text-align: right;\">\n",
       "      <th></th>\n",
       "      <th>area</th>\n",
       "      <th>peri</th>\n",
       "      <th>shape</th>\n",
       "      <th>perm</th>\n",
       "      <th>tipo</th>\n",
       "    </tr>\n",
       "  </thead>\n",
       "  <tbody>\n",
       "    <tr>\n",
       "      <td>1</td>\n",
       "      <td>4990</td>\n",
       "      <td>2791.90</td>\n",
       "      <td>0.090330</td>\n",
       "      <td>6.3</td>\n",
       "      <td>0</td>\n",
       "    </tr>\n",
       "    <tr>\n",
       "      <td>2</td>\n",
       "      <td>7002</td>\n",
       "      <td>3892.60</td>\n",
       "      <td>0.148622</td>\n",
       "      <td>6.3</td>\n",
       "      <td>0</td>\n",
       "    </tr>\n",
       "    <tr>\n",
       "      <td>3</td>\n",
       "      <td>7558</td>\n",
       "      <td>3930.66</td>\n",
       "      <td>0.183312</td>\n",
       "      <td>6.3</td>\n",
       "      <td>0</td>\n",
       "    </tr>\n",
       "    <tr>\n",
       "      <td>4</td>\n",
       "      <td>7352</td>\n",
       "      <td>3869.32</td>\n",
       "      <td>0.117063</td>\n",
       "      <td>6.3</td>\n",
       "      <td>0</td>\n",
       "    </tr>\n",
       "    <tr>\n",
       "      <td>5</td>\n",
       "      <td>7943</td>\n",
       "      <td>3948.54</td>\n",
       "      <td>0.122417</td>\n",
       "      <td>17.1</td>\n",
       "      <td>1</td>\n",
       "    </tr>\n",
       "  </tbody>\n",
       "</table>\n",
       "</div>"
      ],
      "text/plain": [
       "   area     peri     shape  perm  tipo\n",
       "1  4990  2791.90  0.090330   6.3     0\n",
       "2  7002  3892.60  0.148622   6.3     0\n",
       "3  7558  3930.66  0.183312   6.3     0\n",
       "4  7352  3869.32  0.117063   6.3     0\n",
       "5  7943  3948.54  0.122417  17.1     1"
      ]
     },
     "execution_count": 184,
     "metadata": {},
     "output_type": "execute_result"
    }
   ],
   "source": [
    "df.head()"
   ]
  },
  {
   "cell_type": "code",
   "execution_count": 185,
   "metadata": {
    "colab": {},
    "colab_type": "code",
    "id": "slNuY8r2s4fb"
   },
   "outputs": [],
   "source": [
    "df['temp'] = df['peri']*df['shape']"
   ]
  },
  {
   "cell_type": "code",
   "execution_count": 186,
   "metadata": {
    "colab": {},
    "colab_type": "code",
    "id": "3syFHbZWtNil"
   },
   "outputs": [
    {
     "data": {
      "text/html": [
       "<div>\n",
       "<style scoped>\n",
       "    .dataframe tbody tr th:only-of-type {\n",
       "        vertical-align: middle;\n",
       "    }\n",
       "\n",
       "    .dataframe tbody tr th {\n",
       "        vertical-align: top;\n",
       "    }\n",
       "\n",
       "    .dataframe thead th {\n",
       "        text-align: right;\n",
       "    }\n",
       "</style>\n",
       "<table border=\"1\" class=\"dataframe\">\n",
       "  <thead>\n",
       "    <tr style=\"text-align: right;\">\n",
       "      <th></th>\n",
       "      <th>area</th>\n",
       "      <th>peri</th>\n",
       "      <th>shape</th>\n",
       "      <th>perm</th>\n",
       "      <th>tipo</th>\n",
       "      <th>temp</th>\n",
       "    </tr>\n",
       "  </thead>\n",
       "  <tbody>\n",
       "    <tr>\n",
       "      <td>1</td>\n",
       "      <td>4990</td>\n",
       "      <td>2791.90</td>\n",
       "      <td>0.090330</td>\n",
       "      <td>6.3</td>\n",
       "      <td>0</td>\n",
       "      <td>252.191210</td>\n",
       "    </tr>\n",
       "    <tr>\n",
       "      <td>2</td>\n",
       "      <td>7002</td>\n",
       "      <td>3892.60</td>\n",
       "      <td>0.148622</td>\n",
       "      <td>6.3</td>\n",
       "      <td>0</td>\n",
       "      <td>578.525997</td>\n",
       "    </tr>\n",
       "    <tr>\n",
       "      <td>3</td>\n",
       "      <td>7558</td>\n",
       "      <td>3930.66</td>\n",
       "      <td>0.183312</td>\n",
       "      <td>6.3</td>\n",
       "      <td>0</td>\n",
       "      <td>720.537146</td>\n",
       "    </tr>\n",
       "    <tr>\n",
       "      <td>4</td>\n",
       "      <td>7352</td>\n",
       "      <td>3869.32</td>\n",
       "      <td>0.117063</td>\n",
       "      <td>6.3</td>\n",
       "      <td>0</td>\n",
       "      <td>452.954207</td>\n",
       "    </tr>\n",
       "    <tr>\n",
       "      <td>5</td>\n",
       "      <td>7943</td>\n",
       "      <td>3948.54</td>\n",
       "      <td>0.122417</td>\n",
       "      <td>17.1</td>\n",
       "      <td>1</td>\n",
       "      <td>483.368421</td>\n",
       "    </tr>\n",
       "  </tbody>\n",
       "</table>\n",
       "</div>"
      ],
      "text/plain": [
       "   area     peri     shape  perm  tipo        temp\n",
       "1  4990  2791.90  0.090330   6.3     0  252.191210\n",
       "2  7002  3892.60  0.148622   6.3     0  578.525997\n",
       "3  7558  3930.66  0.183312   6.3     0  720.537146\n",
       "4  7352  3869.32  0.117063   6.3     0  452.954207\n",
       "5  7943  3948.54  0.122417  17.1     1  483.368421"
      ]
     },
     "execution_count": 186,
     "metadata": {},
     "output_type": "execute_result"
    }
   ],
   "source": [
    "df.head()"
   ]
  },
  {
   "cell_type": "code",
   "execution_count": 187,
   "metadata": {
    "colab": {},
    "colab_type": "code",
    "id": "hJqiXlNItQkB"
   },
   "outputs": [],
   "source": [
    "df.drop(['temp'], axis = 1, inplace = True)"
   ]
  },
  {
   "cell_type": "code",
   "execution_count": 188,
   "metadata": {
    "colab": {},
    "colab_type": "code",
    "id": "-kAYBIJhtfpR"
   },
   "outputs": [
    {
     "data": {
      "text/html": [
       "<div>\n",
       "<style scoped>\n",
       "    .dataframe tbody tr th:only-of-type {\n",
       "        vertical-align: middle;\n",
       "    }\n",
       "\n",
       "    .dataframe tbody tr th {\n",
       "        vertical-align: top;\n",
       "    }\n",
       "\n",
       "    .dataframe thead th {\n",
       "        text-align: right;\n",
       "    }\n",
       "</style>\n",
       "<table border=\"1\" class=\"dataframe\">\n",
       "  <thead>\n",
       "    <tr style=\"text-align: right;\">\n",
       "      <th></th>\n",
       "      <th>area</th>\n",
       "      <th>peri</th>\n",
       "      <th>shape</th>\n",
       "      <th>perm</th>\n",
       "      <th>tipo</th>\n",
       "    </tr>\n",
       "  </thead>\n",
       "  <tbody>\n",
       "    <tr>\n",
       "      <td>1</td>\n",
       "      <td>4990</td>\n",
       "      <td>2791.90</td>\n",
       "      <td>0.090330</td>\n",
       "      <td>6.3</td>\n",
       "      <td>0</td>\n",
       "    </tr>\n",
       "    <tr>\n",
       "      <td>2</td>\n",
       "      <td>7002</td>\n",
       "      <td>3892.60</td>\n",
       "      <td>0.148622</td>\n",
       "      <td>6.3</td>\n",
       "      <td>0</td>\n",
       "    </tr>\n",
       "    <tr>\n",
       "      <td>3</td>\n",
       "      <td>7558</td>\n",
       "      <td>3930.66</td>\n",
       "      <td>0.183312</td>\n",
       "      <td>6.3</td>\n",
       "      <td>0</td>\n",
       "    </tr>\n",
       "    <tr>\n",
       "      <td>4</td>\n",
       "      <td>7352</td>\n",
       "      <td>3869.32</td>\n",
       "      <td>0.117063</td>\n",
       "      <td>6.3</td>\n",
       "      <td>0</td>\n",
       "    </tr>\n",
       "    <tr>\n",
       "      <td>5</td>\n",
       "      <td>7943</td>\n",
       "      <td>3948.54</td>\n",
       "      <td>0.122417</td>\n",
       "      <td>17.1</td>\n",
       "      <td>1</td>\n",
       "    </tr>\n",
       "  </tbody>\n",
       "</table>\n",
       "</div>"
      ],
      "text/plain": [
       "   area     peri     shape  perm  tipo\n",
       "1  4990  2791.90  0.090330   6.3     0\n",
       "2  7002  3892.60  0.148622   6.3     0\n",
       "3  7558  3930.66  0.183312   6.3     0\n",
       "4  7352  3869.32  0.117063   6.3     0\n",
       "5  7943  3948.54  0.122417  17.1     1"
      ]
     },
     "execution_count": 188,
     "metadata": {},
     "output_type": "execute_result"
    }
   ],
   "source": [
    "df.head()"
   ]
  },
  {
   "cell_type": "code",
   "execution_count": null,
   "metadata": {
    "colab": {},
    "colab_type": "code",
    "id": "5ExGqR66d3ML"
   },
   "outputs": [],
   "source": [
    "\n"
   ]
  },
  {
   "cell_type": "markdown",
   "metadata": {
    "colab_type": "text",
    "id": "NckW10681Yhv"
   },
   "source": [
    "### 3.4 - Seleções de linhas e colunas\n",
    "\n",
    "Duas formas de selecionar linhas e colunas no Pandas:\n",
    "\n",
    "> * Utilizando o .loc\n",
    "\n",
    ">> <font color=red>**Observação:**</font> Seleciona um grupo de linhas e colunas segundo os **rótulos** ou uma matriz booleana.\n",
    "\n",
    "\n",
    "> * Utilizando o .iloc\n",
    "\n",
    ">> <font color=red>**Observação:**</font> Seleciona com base nos índices, ou seja, se baseia na posição das informações."
   ]
  },
  {
   "cell_type": "code",
   "execution_count": 189,
   "metadata": {
    "colab": {},
    "colab_type": "code",
    "id": "dKfB9hprnaBP"
   },
   "outputs": [
    {
     "data": {
      "text/html": [
       "<div>\n",
       "<style scoped>\n",
       "    .dataframe tbody tr th:only-of-type {\n",
       "        vertical-align: middle;\n",
       "    }\n",
       "\n",
       "    .dataframe tbody tr th {\n",
       "        vertical-align: top;\n",
       "    }\n",
       "\n",
       "    .dataframe thead th {\n",
       "        text-align: right;\n",
       "    }\n",
       "</style>\n",
       "<table border=\"1\" class=\"dataframe\">\n",
       "  <thead>\n",
       "    <tr style=\"text-align: right;\">\n",
       "      <th></th>\n",
       "      <th>area</th>\n",
       "      <th>peri</th>\n",
       "      <th>shape</th>\n",
       "      <th>perm</th>\n",
       "      <th>tipo</th>\n",
       "    </tr>\n",
       "  </thead>\n",
       "  <tbody>\n",
       "    <tr>\n",
       "      <td>1</td>\n",
       "      <td>4990</td>\n",
       "      <td>2791.90</td>\n",
       "      <td>0.090330</td>\n",
       "      <td>6.3</td>\n",
       "      <td>0</td>\n",
       "    </tr>\n",
       "    <tr>\n",
       "      <td>2</td>\n",
       "      <td>7002</td>\n",
       "      <td>3892.60</td>\n",
       "      <td>0.148622</td>\n",
       "      <td>6.3</td>\n",
       "      <td>0</td>\n",
       "    </tr>\n",
       "    <tr>\n",
       "      <td>3</td>\n",
       "      <td>7558</td>\n",
       "      <td>3930.66</td>\n",
       "      <td>0.183312</td>\n",
       "      <td>6.3</td>\n",
       "      <td>0</td>\n",
       "    </tr>\n",
       "    <tr>\n",
       "      <td>4</td>\n",
       "      <td>7352</td>\n",
       "      <td>3869.32</td>\n",
       "      <td>0.117063</td>\n",
       "      <td>6.3</td>\n",
       "      <td>0</td>\n",
       "    </tr>\n",
       "    <tr>\n",
       "      <td>5</td>\n",
       "      <td>7943</td>\n",
       "      <td>3948.54</td>\n",
       "      <td>0.122417</td>\n",
       "      <td>17.1</td>\n",
       "      <td>1</td>\n",
       "    </tr>\n",
       "    <tr>\n",
       "      <td>6</td>\n",
       "      <td>7979</td>\n",
       "      <td>4010.15</td>\n",
       "      <td>0.167045</td>\n",
       "      <td>17.1</td>\n",
       "      <td>1</td>\n",
       "    </tr>\n",
       "    <tr>\n",
       "      <td>7</td>\n",
       "      <td>9333</td>\n",
       "      <td>4345.75</td>\n",
       "      <td>0.189651</td>\n",
       "      <td>17.1</td>\n",
       "      <td>1</td>\n",
       "    </tr>\n",
       "    <tr>\n",
       "      <td>8</td>\n",
       "      <td>8209</td>\n",
       "      <td>4344.75</td>\n",
       "      <td>0.164127</td>\n",
       "      <td>17.1</td>\n",
       "      <td>1</td>\n",
       "    </tr>\n",
       "    <tr>\n",
       "      <td>9</td>\n",
       "      <td>8393</td>\n",
       "      <td>3682.04</td>\n",
       "      <td>0.203654</td>\n",
       "      <td>119.0</td>\n",
       "      <td>2</td>\n",
       "    </tr>\n",
       "    <tr>\n",
       "      <td>10</td>\n",
       "      <td>6425</td>\n",
       "      <td>3098.65</td>\n",
       "      <td>0.162394</td>\n",
       "      <td>119.0</td>\n",
       "      <td>2</td>\n",
       "    </tr>\n",
       "  </tbody>\n",
       "</table>\n",
       "</div>"
      ],
      "text/plain": [
       "    area     peri     shape   perm  tipo\n",
       "1   4990  2791.90  0.090330    6.3     0\n",
       "2   7002  3892.60  0.148622    6.3     0\n",
       "3   7558  3930.66  0.183312    6.3     0\n",
       "4   7352  3869.32  0.117063    6.3     0\n",
       "5   7943  3948.54  0.122417   17.1     1\n",
       "6   7979  4010.15  0.167045   17.1     1\n",
       "7   9333  4345.75  0.189651   17.1     1\n",
       "8   8209  4344.75  0.164127   17.1     1\n",
       "9   8393  3682.04  0.203654  119.0     2\n",
       "10  6425  3098.65  0.162394  119.0     2"
      ]
     },
     "execution_count": 189,
     "metadata": {},
     "output_type": "execute_result"
    }
   ],
   "source": [
    "df.head(10)"
   ]
  },
  {
   "cell_type": "code",
   "execution_count": 190,
   "metadata": {
    "colab": {},
    "colab_type": "code",
    "id": "W_ivtip61jh8"
   },
   "outputs": [
    {
     "data": {
      "text/plain": [
       "4990"
      ]
     },
     "execution_count": 190,
     "metadata": {},
     "output_type": "execute_result"
    }
   ],
   "source": [
    "df.loc[1,'area']     # [nome do indice, nome da coluna]"
   ]
  },
  {
   "cell_type": "code",
   "execution_count": 191,
   "metadata": {
    "colab": {},
    "colab_type": "code",
    "id": "rwudZu-M2dRE"
   },
   "outputs": [
    {
     "data": {
      "text/plain": [
       "4990"
      ]
     },
     "execution_count": 191,
     "metadata": {},
     "output_type": "execute_result"
    }
   ],
   "source": [
    "df.iloc[0,0]         # [posicao_linha,posicao_coluna]"
   ]
  },
  {
   "cell_type": "code",
   "execution_count": 192,
   "metadata": {
    "colab": {},
    "colab_type": "code",
    "id": "9XtERItA2uJ1"
   },
   "outputs": [
    {
     "data": {
      "text/plain": [
       "1      4990\n",
       "2      7002\n",
       "3      7558\n",
       "4      7352\n",
       "5      7943\n",
       "6      7979\n",
       "7      9333\n",
       "8      8209\n",
       "9      8393\n",
       "10     6425\n",
       "11     9364\n",
       "12     8624\n",
       "13    10651\n",
       "14     8868\n",
       "15     9417\n",
       "16     8874\n",
       "17    10962\n",
       "18    10743\n",
       "19    11878\n",
       "20     9867\n",
       "21     7838\n",
       "22    11876\n",
       "23    12212\n",
       "24     8233\n",
       "25     6360\n",
       "26     4193\n",
       "27     7416\n",
       "28     5246\n",
       "29     6509\n",
       "30     4895\n",
       "31     6775\n",
       "32     7894\n",
       "33     5980\n",
       "34     5318\n",
       "35     7392\n",
       "36     7894\n",
       "37     3469\n",
       "38     1468\n",
       "39     3524\n",
       "40     5267\n",
       "41     5048\n",
       "42     1016\n",
       "43     5605\n",
       "44     8793\n",
       "45     3475\n",
       "46     1651\n",
       "47     5514\n",
       "Name: area, dtype: int64"
      ]
     },
     "execution_count": 192,
     "metadata": {},
     "output_type": "execute_result"
    }
   ],
   "source": [
    "df['area']           # nome da coluna"
   ]
  },
  {
   "cell_type": "code",
   "execution_count": 193,
   "metadata": {
    "colab": {},
    "colab_type": "code",
    "id": "h_2IpwVQ3AkP"
   },
   "outputs": [
    {
     "ename": "KeyError",
     "evalue": "0",
     "output_type": "error",
     "traceback": [
      "\u001b[1;31m---------------------------------------------------------------------------\u001b[0m",
      "\u001b[1;31mKeyError\u001b[0m                                  Traceback (most recent call last)",
      "\u001b[1;32m~\\AppData\\Local\\Continuum\\anaconda3\\lib\\site-packages\\pandas\\core\\indexes\\base.py\u001b[0m in \u001b[0;36mget_loc\u001b[1;34m(self, key, method, tolerance)\u001b[0m\n\u001b[0;32m   2896\u001b[0m             \u001b[1;32mtry\u001b[0m\u001b[1;33m:\u001b[0m\u001b[1;33m\u001b[0m\u001b[1;33m\u001b[0m\u001b[0m\n\u001b[1;32m-> 2897\u001b[1;33m                 \u001b[1;32mreturn\u001b[0m \u001b[0mself\u001b[0m\u001b[1;33m.\u001b[0m\u001b[0m_engine\u001b[0m\u001b[1;33m.\u001b[0m\u001b[0mget_loc\u001b[0m\u001b[1;33m(\u001b[0m\u001b[0mkey\u001b[0m\u001b[1;33m)\u001b[0m\u001b[1;33m\u001b[0m\u001b[1;33m\u001b[0m\u001b[0m\n\u001b[0m\u001b[0;32m   2898\u001b[0m             \u001b[1;32mexcept\u001b[0m \u001b[0mKeyError\u001b[0m\u001b[1;33m:\u001b[0m\u001b[1;33m\u001b[0m\u001b[1;33m\u001b[0m\u001b[0m\n",
      "\u001b[1;32mpandas\\_libs\\index.pyx\u001b[0m in \u001b[0;36mpandas._libs.index.IndexEngine.get_loc\u001b[1;34m()\u001b[0m\n",
      "\u001b[1;32mpandas\\_libs\\index.pyx\u001b[0m in \u001b[0;36mpandas._libs.index.IndexEngine.get_loc\u001b[1;34m()\u001b[0m\n",
      "\u001b[1;32mpandas\\_libs\\hashtable_class_helper.pxi\u001b[0m in \u001b[0;36mpandas._libs.hashtable.PyObjectHashTable.get_item\u001b[1;34m()\u001b[0m\n",
      "\u001b[1;32mpandas\\_libs\\hashtable_class_helper.pxi\u001b[0m in \u001b[0;36mpandas._libs.hashtable.PyObjectHashTable.get_item\u001b[1;34m()\u001b[0m\n",
      "\u001b[1;31mKeyError\u001b[0m: 0",
      "\nDuring handling of the above exception, another exception occurred:\n",
      "\u001b[1;31mKeyError\u001b[0m                                  Traceback (most recent call last)",
      "\u001b[1;32m<ipython-input-193-0f99af83e397>\u001b[0m in \u001b[0;36m<module>\u001b[1;34m\u001b[0m\n\u001b[1;32m----> 1\u001b[1;33m \u001b[0mdf\u001b[0m\u001b[1;33m[\u001b[0m\u001b[1;36m0\u001b[0m\u001b[1;33m]\u001b[0m          \u001b[1;31m# dará erro, precisamos passar a posição por .iloc\u001b[0m\u001b[1;33m\u001b[0m\u001b[1;33m\u001b[0m\u001b[0m\n\u001b[0m",
      "\u001b[1;32m~\\AppData\\Local\\Continuum\\anaconda3\\lib\\site-packages\\pandas\\core\\frame.py\u001b[0m in \u001b[0;36m__getitem__\u001b[1;34m(self, key)\u001b[0m\n\u001b[0;32m   2978\u001b[0m             \u001b[1;32mif\u001b[0m \u001b[0mself\u001b[0m\u001b[1;33m.\u001b[0m\u001b[0mcolumns\u001b[0m\u001b[1;33m.\u001b[0m\u001b[0mnlevels\u001b[0m \u001b[1;33m>\u001b[0m \u001b[1;36m1\u001b[0m\u001b[1;33m:\u001b[0m\u001b[1;33m\u001b[0m\u001b[1;33m\u001b[0m\u001b[0m\n\u001b[0;32m   2979\u001b[0m                 \u001b[1;32mreturn\u001b[0m \u001b[0mself\u001b[0m\u001b[1;33m.\u001b[0m\u001b[0m_getitem_multilevel\u001b[0m\u001b[1;33m(\u001b[0m\u001b[0mkey\u001b[0m\u001b[1;33m)\u001b[0m\u001b[1;33m\u001b[0m\u001b[1;33m\u001b[0m\u001b[0m\n\u001b[1;32m-> 2980\u001b[1;33m             \u001b[0mindexer\u001b[0m \u001b[1;33m=\u001b[0m \u001b[0mself\u001b[0m\u001b[1;33m.\u001b[0m\u001b[0mcolumns\u001b[0m\u001b[1;33m.\u001b[0m\u001b[0mget_loc\u001b[0m\u001b[1;33m(\u001b[0m\u001b[0mkey\u001b[0m\u001b[1;33m)\u001b[0m\u001b[1;33m\u001b[0m\u001b[1;33m\u001b[0m\u001b[0m\n\u001b[0m\u001b[0;32m   2981\u001b[0m             \u001b[1;32mif\u001b[0m \u001b[0mis_integer\u001b[0m\u001b[1;33m(\u001b[0m\u001b[0mindexer\u001b[0m\u001b[1;33m)\u001b[0m\u001b[1;33m:\u001b[0m\u001b[1;33m\u001b[0m\u001b[1;33m\u001b[0m\u001b[0m\n\u001b[0;32m   2982\u001b[0m                 \u001b[0mindexer\u001b[0m \u001b[1;33m=\u001b[0m \u001b[1;33m[\u001b[0m\u001b[0mindexer\u001b[0m\u001b[1;33m]\u001b[0m\u001b[1;33m\u001b[0m\u001b[1;33m\u001b[0m\u001b[0m\n",
      "\u001b[1;32m~\\AppData\\Local\\Continuum\\anaconda3\\lib\\site-packages\\pandas\\core\\indexes\\base.py\u001b[0m in \u001b[0;36mget_loc\u001b[1;34m(self, key, method, tolerance)\u001b[0m\n\u001b[0;32m   2897\u001b[0m                 \u001b[1;32mreturn\u001b[0m \u001b[0mself\u001b[0m\u001b[1;33m.\u001b[0m\u001b[0m_engine\u001b[0m\u001b[1;33m.\u001b[0m\u001b[0mget_loc\u001b[0m\u001b[1;33m(\u001b[0m\u001b[0mkey\u001b[0m\u001b[1;33m)\u001b[0m\u001b[1;33m\u001b[0m\u001b[1;33m\u001b[0m\u001b[0m\n\u001b[0;32m   2898\u001b[0m             \u001b[1;32mexcept\u001b[0m \u001b[0mKeyError\u001b[0m\u001b[1;33m:\u001b[0m\u001b[1;33m\u001b[0m\u001b[1;33m\u001b[0m\u001b[0m\n\u001b[1;32m-> 2899\u001b[1;33m                 \u001b[1;32mreturn\u001b[0m \u001b[0mself\u001b[0m\u001b[1;33m.\u001b[0m\u001b[0m_engine\u001b[0m\u001b[1;33m.\u001b[0m\u001b[0mget_loc\u001b[0m\u001b[1;33m(\u001b[0m\u001b[0mself\u001b[0m\u001b[1;33m.\u001b[0m\u001b[0m_maybe_cast_indexer\u001b[0m\u001b[1;33m(\u001b[0m\u001b[0mkey\u001b[0m\u001b[1;33m)\u001b[0m\u001b[1;33m)\u001b[0m\u001b[1;33m\u001b[0m\u001b[1;33m\u001b[0m\u001b[0m\n\u001b[0m\u001b[0;32m   2900\u001b[0m         \u001b[0mindexer\u001b[0m \u001b[1;33m=\u001b[0m \u001b[0mself\u001b[0m\u001b[1;33m.\u001b[0m\u001b[0mget_indexer\u001b[0m\u001b[1;33m(\u001b[0m\u001b[1;33m[\u001b[0m\u001b[0mkey\u001b[0m\u001b[1;33m]\u001b[0m\u001b[1;33m,\u001b[0m \u001b[0mmethod\u001b[0m\u001b[1;33m=\u001b[0m\u001b[0mmethod\u001b[0m\u001b[1;33m,\u001b[0m \u001b[0mtolerance\u001b[0m\u001b[1;33m=\u001b[0m\u001b[0mtolerance\u001b[0m\u001b[1;33m)\u001b[0m\u001b[1;33m\u001b[0m\u001b[1;33m\u001b[0m\u001b[0m\n\u001b[0;32m   2901\u001b[0m         \u001b[1;32mif\u001b[0m \u001b[0mindexer\u001b[0m\u001b[1;33m.\u001b[0m\u001b[0mndim\u001b[0m \u001b[1;33m>\u001b[0m \u001b[1;36m1\u001b[0m \u001b[1;32mor\u001b[0m \u001b[0mindexer\u001b[0m\u001b[1;33m.\u001b[0m\u001b[0msize\u001b[0m \u001b[1;33m>\u001b[0m \u001b[1;36m1\u001b[0m\u001b[1;33m:\u001b[0m\u001b[1;33m\u001b[0m\u001b[1;33m\u001b[0m\u001b[0m\n",
      "\u001b[1;32mpandas\\_libs\\index.pyx\u001b[0m in \u001b[0;36mpandas._libs.index.IndexEngine.get_loc\u001b[1;34m()\u001b[0m\n",
      "\u001b[1;32mpandas\\_libs\\index.pyx\u001b[0m in \u001b[0;36mpandas._libs.index.IndexEngine.get_loc\u001b[1;34m()\u001b[0m\n",
      "\u001b[1;32mpandas\\_libs\\hashtable_class_helper.pxi\u001b[0m in \u001b[0;36mpandas._libs.hashtable.PyObjectHashTable.get_item\u001b[1;34m()\u001b[0m\n",
      "\u001b[1;32mpandas\\_libs\\hashtable_class_helper.pxi\u001b[0m in \u001b[0;36mpandas._libs.hashtable.PyObjectHashTable.get_item\u001b[1;34m()\u001b[0m\n",
      "\u001b[1;31mKeyError\u001b[0m: 0"
     ]
    }
   ],
   "source": [
    "df[0]          # dará erro, precisamos passar a posição por .iloc "
   ]
  },
  {
   "cell_type": "code",
   "execution_count": 194,
   "metadata": {
    "colab": {},
    "colab_type": "code",
    "id": "R-GJm_lz3Lfr"
   },
   "outputs": [
    {
     "data": {
      "text/plain": [
       "1      4990\n",
       "2      7002\n",
       "3      7558\n",
       "4      7352\n",
       "5      7943\n",
       "6      7979\n",
       "7      9333\n",
       "8      8209\n",
       "9      8393\n",
       "10     6425\n",
       "11     9364\n",
       "12     8624\n",
       "13    10651\n",
       "14     8868\n",
       "15     9417\n",
       "16     8874\n",
       "17    10962\n",
       "18    10743\n",
       "19    11878\n",
       "20     9867\n",
       "21     7838\n",
       "22    11876\n",
       "23    12212\n",
       "24     8233\n",
       "25     6360\n",
       "26     4193\n",
       "27     7416\n",
       "28     5246\n",
       "29     6509\n",
       "30     4895\n",
       "31     6775\n",
       "32     7894\n",
       "33     5980\n",
       "34     5318\n",
       "35     7392\n",
       "36     7894\n",
       "37     3469\n",
       "38     1468\n",
       "39     3524\n",
       "40     5267\n",
       "41     5048\n",
       "42     1016\n",
       "43     5605\n",
       "44     8793\n",
       "45     3475\n",
       "46     1651\n",
       "47     5514\n",
       "Name: area, dtype: int64"
      ]
     },
     "execution_count": 194,
     "metadata": {},
     "output_type": "execute_result"
    }
   ],
   "source": [
    "df.iloc[:,0]   # todas as linhas, da coluna na posição 0"
   ]
  },
  {
   "cell_type": "code",
   "execution_count": 195,
   "metadata": {
    "colab": {},
    "colab_type": "code",
    "id": "QMPcxa6Q3uLs"
   },
   "outputs": [],
   "source": [
    "df2 = df[['area','perm']]"
   ]
  },
  {
   "cell_type": "code",
   "execution_count": 196,
   "metadata": {
    "colab": {},
    "colab_type": "code",
    "id": "6zGXdfeu3_b7"
   },
   "outputs": [
    {
     "data": {
      "text/html": [
       "<div>\n",
       "<style scoped>\n",
       "    .dataframe tbody tr th:only-of-type {\n",
       "        vertical-align: middle;\n",
       "    }\n",
       "\n",
       "    .dataframe tbody tr th {\n",
       "        vertical-align: top;\n",
       "    }\n",
       "\n",
       "    .dataframe thead th {\n",
       "        text-align: right;\n",
       "    }\n",
       "</style>\n",
       "<table border=\"1\" class=\"dataframe\">\n",
       "  <thead>\n",
       "    <tr style=\"text-align: right;\">\n",
       "      <th></th>\n",
       "      <th>area</th>\n",
       "      <th>perm</th>\n",
       "    </tr>\n",
       "  </thead>\n",
       "  <tbody>\n",
       "    <tr>\n",
       "      <td>1</td>\n",
       "      <td>4990</td>\n",
       "      <td>6.3</td>\n",
       "    </tr>\n",
       "    <tr>\n",
       "      <td>2</td>\n",
       "      <td>7002</td>\n",
       "      <td>6.3</td>\n",
       "    </tr>\n",
       "    <tr>\n",
       "      <td>3</td>\n",
       "      <td>7558</td>\n",
       "      <td>6.3</td>\n",
       "    </tr>\n",
       "    <tr>\n",
       "      <td>4</td>\n",
       "      <td>7352</td>\n",
       "      <td>6.3</td>\n",
       "    </tr>\n",
       "    <tr>\n",
       "      <td>5</td>\n",
       "      <td>7943</td>\n",
       "      <td>17.1</td>\n",
       "    </tr>\n",
       "  </tbody>\n",
       "</table>\n",
       "</div>"
      ],
      "text/plain": [
       "   area  perm\n",
       "1  4990   6.3\n",
       "2  7002   6.3\n",
       "3  7558   6.3\n",
       "4  7352   6.3\n",
       "5  7943  17.1"
      ]
     },
     "execution_count": 196,
     "metadata": {},
     "output_type": "execute_result"
    }
   ],
   "source": [
    "df2.head()"
   ]
  },
  {
   "cell_type": "code",
   "execution_count": 197,
   "metadata": {
    "colab": {},
    "colab_type": "code",
    "id": "XR2plerC4CCD"
   },
   "outputs": [],
   "source": [
    "df2 = df.loc[:,['area','perm']]"
   ]
  },
  {
   "cell_type": "code",
   "execution_count": 198,
   "metadata": {
    "colab": {},
    "colab_type": "code",
    "id": "HeDfD7oP4GS7"
   },
   "outputs": [
    {
     "data": {
      "text/html": [
       "<div>\n",
       "<style scoped>\n",
       "    .dataframe tbody tr th:only-of-type {\n",
       "        vertical-align: middle;\n",
       "    }\n",
       "\n",
       "    .dataframe tbody tr th {\n",
       "        vertical-align: top;\n",
       "    }\n",
       "\n",
       "    .dataframe thead th {\n",
       "        text-align: right;\n",
       "    }\n",
       "</style>\n",
       "<table border=\"1\" class=\"dataframe\">\n",
       "  <thead>\n",
       "    <tr style=\"text-align: right;\">\n",
       "      <th></th>\n",
       "      <th>area</th>\n",
       "      <th>perm</th>\n",
       "    </tr>\n",
       "  </thead>\n",
       "  <tbody>\n",
       "    <tr>\n",
       "      <td>1</td>\n",
       "      <td>4990</td>\n",
       "      <td>6.3</td>\n",
       "    </tr>\n",
       "    <tr>\n",
       "      <td>2</td>\n",
       "      <td>7002</td>\n",
       "      <td>6.3</td>\n",
       "    </tr>\n",
       "    <tr>\n",
       "      <td>3</td>\n",
       "      <td>7558</td>\n",
       "      <td>6.3</td>\n",
       "    </tr>\n",
       "    <tr>\n",
       "      <td>4</td>\n",
       "      <td>7352</td>\n",
       "      <td>6.3</td>\n",
       "    </tr>\n",
       "    <tr>\n",
       "      <td>5</td>\n",
       "      <td>7943</td>\n",
       "      <td>17.1</td>\n",
       "    </tr>\n",
       "  </tbody>\n",
       "</table>\n",
       "</div>"
      ],
      "text/plain": [
       "   area  perm\n",
       "1  4990   6.3\n",
       "2  7002   6.3\n",
       "3  7558   6.3\n",
       "4  7352   6.3\n",
       "5  7943  17.1"
      ]
     },
     "execution_count": 198,
     "metadata": {},
     "output_type": "execute_result"
    }
   ],
   "source": [
    "df2.head()"
   ]
  },
  {
   "cell_type": "code",
   "execution_count": 199,
   "metadata": {
    "colab": {},
    "colab_type": "code",
    "id": "vyGFpLZx4Njl"
   },
   "outputs": [
    {
     "data": {
      "text/html": [
       "<div>\n",
       "<style scoped>\n",
       "    .dataframe tbody tr th:only-of-type {\n",
       "        vertical-align: middle;\n",
       "    }\n",
       "\n",
       "    .dataframe tbody tr th {\n",
       "        vertical-align: top;\n",
       "    }\n",
       "\n",
       "    .dataframe thead th {\n",
       "        text-align: right;\n",
       "    }\n",
       "</style>\n",
       "<table border=\"1\" class=\"dataframe\">\n",
       "  <thead>\n",
       "    <tr style=\"text-align: right;\">\n",
       "      <th></th>\n",
       "      <th>area</th>\n",
       "      <th>peri</th>\n",
       "      <th>shape</th>\n",
       "      <th>perm</th>\n",
       "      <th>tipo</th>\n",
       "    </tr>\n",
       "  </thead>\n",
       "  <tbody>\n",
       "    <tr>\n",
       "      <td>1</td>\n",
       "      <td>4990</td>\n",
       "      <td>2791.90</td>\n",
       "      <td>0.090330</td>\n",
       "      <td>6.3</td>\n",
       "      <td>0</td>\n",
       "    </tr>\n",
       "    <tr>\n",
       "      <td>2</td>\n",
       "      <td>7002</td>\n",
       "      <td>3892.60</td>\n",
       "      <td>0.148622</td>\n",
       "      <td>6.3</td>\n",
       "      <td>0</td>\n",
       "    </tr>\n",
       "    <tr>\n",
       "      <td>3</td>\n",
       "      <td>7558</td>\n",
       "      <td>3930.66</td>\n",
       "      <td>0.183312</td>\n",
       "      <td>6.3</td>\n",
       "      <td>0</td>\n",
       "    </tr>\n",
       "    <tr>\n",
       "      <td>4</td>\n",
       "      <td>7352</td>\n",
       "      <td>3869.32</td>\n",
       "      <td>0.117063</td>\n",
       "      <td>6.3</td>\n",
       "      <td>0</td>\n",
       "    </tr>\n",
       "    <tr>\n",
       "      <td>5</td>\n",
       "      <td>7943</td>\n",
       "      <td>3948.54</td>\n",
       "      <td>0.122417</td>\n",
       "      <td>17.1</td>\n",
       "      <td>1</td>\n",
       "    </tr>\n",
       "    <tr>\n",
       "      <td>6</td>\n",
       "      <td>7979</td>\n",
       "      <td>4010.15</td>\n",
       "      <td>0.167045</td>\n",
       "      <td>17.1</td>\n",
       "      <td>1</td>\n",
       "    </tr>\n",
       "    <tr>\n",
       "      <td>7</td>\n",
       "      <td>9333</td>\n",
       "      <td>4345.75</td>\n",
       "      <td>0.189651</td>\n",
       "      <td>17.1</td>\n",
       "      <td>1</td>\n",
       "    </tr>\n",
       "    <tr>\n",
       "      <td>8</td>\n",
       "      <td>8209</td>\n",
       "      <td>4344.75</td>\n",
       "      <td>0.164127</td>\n",
       "      <td>17.1</td>\n",
       "      <td>1</td>\n",
       "    </tr>\n",
       "    <tr>\n",
       "      <td>9</td>\n",
       "      <td>8393</td>\n",
       "      <td>3682.04</td>\n",
       "      <td>0.203654</td>\n",
       "      <td>119.0</td>\n",
       "      <td>2</td>\n",
       "    </tr>\n",
       "    <tr>\n",
       "      <td>10</td>\n",
       "      <td>6425</td>\n",
       "      <td>3098.65</td>\n",
       "      <td>0.162394</td>\n",
       "      <td>119.0</td>\n",
       "      <td>2</td>\n",
       "    </tr>\n",
       "  </tbody>\n",
       "</table>\n",
       "</div>"
      ],
      "text/plain": [
       "    area     peri     shape   perm  tipo\n",
       "1   4990  2791.90  0.090330    6.3     0\n",
       "2   7002  3892.60  0.148622    6.3     0\n",
       "3   7558  3930.66  0.183312    6.3     0\n",
       "4   7352  3869.32  0.117063    6.3     0\n",
       "5   7943  3948.54  0.122417   17.1     1\n",
       "6   7979  4010.15  0.167045   17.1     1\n",
       "7   9333  4345.75  0.189651   17.1     1\n",
       "8   8209  4344.75  0.164127   17.1     1\n",
       "9   8393  3682.04  0.203654  119.0     2\n",
       "10  6425  3098.65  0.162394  119.0     2"
      ]
     },
     "execution_count": 199,
     "metadata": {},
     "output_type": "execute_result"
    }
   ],
   "source": [
    "df.head(10)"
   ]
  },
  {
   "cell_type": "code",
   "execution_count": 200,
   "metadata": {
    "colab": {},
    "colab_type": "code",
    "id": "rMZIT-1S4SVz"
   },
   "outputs": [
    {
     "data": {
      "text/html": [
       "<div>\n",
       "<style scoped>\n",
       "    .dataframe tbody tr th:only-of-type {\n",
       "        vertical-align: middle;\n",
       "    }\n",
       "\n",
       "    .dataframe tbody tr th {\n",
       "        vertical-align: top;\n",
       "    }\n",
       "\n",
       "    .dataframe thead th {\n",
       "        text-align: right;\n",
       "    }\n",
       "</style>\n",
       "<table border=\"1\" class=\"dataframe\">\n",
       "  <thead>\n",
       "    <tr style=\"text-align: right;\">\n",
       "      <th></th>\n",
       "      <th>area</th>\n",
       "      <th>peri</th>\n",
       "    </tr>\n",
       "  </thead>\n",
       "  <tbody>\n",
       "    <tr>\n",
       "      <td>1</td>\n",
       "      <td>4990</td>\n",
       "      <td>2791.90</td>\n",
       "    </tr>\n",
       "    <tr>\n",
       "      <td>2</td>\n",
       "      <td>7002</td>\n",
       "      <td>3892.60</td>\n",
       "    </tr>\n",
       "    <tr>\n",
       "      <td>3</td>\n",
       "      <td>7558</td>\n",
       "      <td>3930.66</td>\n",
       "    </tr>\n",
       "  </tbody>\n",
       "</table>\n",
       "</div>"
      ],
      "text/plain": [
       "   area     peri\n",
       "1  4990  2791.90\n",
       "2  7002  3892.60\n",
       "3  7558  3930.66"
      ]
     },
     "execution_count": 200,
     "metadata": {},
     "output_type": "execute_result"
    }
   ],
   "source": [
    "df.loc[1:3,['area','peri']]    # [nome_das_linhas,nome_das_colunas]"
   ]
  },
  {
   "cell_type": "code",
   "execution_count": 201,
   "metadata": {
    "colab": {},
    "colab_type": "code",
    "id": "WWYsxJmQ4der"
   },
   "outputs": [
    {
     "data": {
      "text/html": [
       "<div>\n",
       "<style scoped>\n",
       "    .dataframe tbody tr th:only-of-type {\n",
       "        vertical-align: middle;\n",
       "    }\n",
       "\n",
       "    .dataframe tbody tr th {\n",
       "        vertical-align: top;\n",
       "    }\n",
       "\n",
       "    .dataframe thead th {\n",
       "        text-align: right;\n",
       "    }\n",
       "</style>\n",
       "<table border=\"1\" class=\"dataframe\">\n",
       "  <thead>\n",
       "    <tr style=\"text-align: right;\">\n",
       "      <th></th>\n",
       "      <th>area</th>\n",
       "      <th>peri</th>\n",
       "    </tr>\n",
       "  </thead>\n",
       "  <tbody>\n",
       "    <tr>\n",
       "      <td>1</td>\n",
       "      <td>4990</td>\n",
       "      <td>2791.90</td>\n",
       "    </tr>\n",
       "    <tr>\n",
       "      <td>2</td>\n",
       "      <td>7002</td>\n",
       "      <td>3892.60</td>\n",
       "    </tr>\n",
       "    <tr>\n",
       "      <td>3</td>\n",
       "      <td>7558</td>\n",
       "      <td>3930.66</td>\n",
       "    </tr>\n",
       "  </tbody>\n",
       "</table>\n",
       "</div>"
      ],
      "text/plain": [
       "   area     peri\n",
       "1  4990  2791.90\n",
       "2  7002  3892.60\n",
       "3  7558  3930.66"
      ]
     },
     "execution_count": 201,
     "metadata": {},
     "output_type": "execute_result"
    }
   ],
   "source": [
    "df.iloc[0:3,0:2]    # [linhas de índice 0 a 2, colunas de 0 a 1]"
   ]
  },
  {
   "cell_type": "code",
   "execution_count": 202,
   "metadata": {
    "colab": {},
    "colab_type": "code",
    "id": "3m0U8FxY4zzB"
   },
   "outputs": [
    {
     "data": {
      "text/html": [
       "<div>\n",
       "<style scoped>\n",
       "    .dataframe tbody tr th:only-of-type {\n",
       "        vertical-align: middle;\n",
       "    }\n",
       "\n",
       "    .dataframe tbody tr th {\n",
       "        vertical-align: top;\n",
       "    }\n",
       "\n",
       "    .dataframe thead th {\n",
       "        text-align: right;\n",
       "    }\n",
       "</style>\n",
       "<table border=\"1\" class=\"dataframe\">\n",
       "  <thead>\n",
       "    <tr style=\"text-align: right;\">\n",
       "      <th></th>\n",
       "      <th>area</th>\n",
       "      <th>peri</th>\n",
       "      <th>shape</th>\n",
       "      <th>perm</th>\n",
       "      <th>tipo</th>\n",
       "    </tr>\n",
       "  </thead>\n",
       "  <tbody>\n",
       "    <tr>\n",
       "      <td>1</td>\n",
       "      <td>4990</td>\n",
       "      <td>2791.90</td>\n",
       "      <td>0.090330</td>\n",
       "      <td>6.3</td>\n",
       "      <td>0</td>\n",
       "    </tr>\n",
       "    <tr>\n",
       "      <td>2</td>\n",
       "      <td>7002</td>\n",
       "      <td>3892.60</td>\n",
       "      <td>0.148622</td>\n",
       "      <td>6.3</td>\n",
       "      <td>0</td>\n",
       "    </tr>\n",
       "    <tr>\n",
       "      <td>3</td>\n",
       "      <td>7558</td>\n",
       "      <td>3930.66</td>\n",
       "      <td>0.183312</td>\n",
       "      <td>6.3</td>\n",
       "      <td>0</td>\n",
       "    </tr>\n",
       "    <tr>\n",
       "      <td>4</td>\n",
       "      <td>7352</td>\n",
       "      <td>3869.32</td>\n",
       "      <td>0.117063</td>\n",
       "      <td>6.3</td>\n",
       "      <td>0</td>\n",
       "    </tr>\n",
       "    <tr>\n",
       "      <td>5</td>\n",
       "      <td>7943</td>\n",
       "      <td>3948.54</td>\n",
       "      <td>0.122417</td>\n",
       "      <td>17.1</td>\n",
       "      <td>1</td>\n",
       "    </tr>\n",
       "  </tbody>\n",
       "</table>\n",
       "</div>"
      ],
      "text/plain": [
       "   area     peri     shape  perm  tipo\n",
       "1  4990  2791.90  0.090330   6.3     0\n",
       "2  7002  3892.60  0.148622   6.3     0\n",
       "3  7558  3930.66  0.183312   6.3     0\n",
       "4  7352  3869.32  0.117063   6.3     0\n",
       "5  7943  3948.54  0.122417  17.1     1"
      ]
     },
     "execution_count": 202,
     "metadata": {},
     "output_type": "execute_result"
    }
   ],
   "source": [
    "# Seleção pelas condições\n",
    "df.head()"
   ]
  },
  {
   "cell_type": "code",
   "execution_count": 203,
   "metadata": {
    "colab": {},
    "colab_type": "code",
    "id": "K_hjRSbx483J"
   },
   "outputs": [
    {
     "data": {
      "text/plain": [
       "1      True\n",
       "2      True\n",
       "3      True\n",
       "4      True\n",
       "5      True\n",
       "6      True\n",
       "7      True\n",
       "8      True\n",
       "9     False\n",
       "10    False\n",
       "11    False\n",
       "12    False\n",
       "13    False\n",
       "14    False\n",
       "15    False\n",
       "16    False\n",
       "17    False\n",
       "18    False\n",
       "19    False\n",
       "20    False\n",
       "21    False\n",
       "22    False\n",
       "23    False\n",
       "24    False\n",
       "25    False\n",
       "26    False\n",
       "27    False\n",
       "28    False\n",
       "29    False\n",
       "30    False\n",
       "31    False\n",
       "32    False\n",
       "33    False\n",
       "34    False\n",
       "35    False\n",
       "36    False\n",
       "37    False\n",
       "38    False\n",
       "39    False\n",
       "40    False\n",
       "41    False\n",
       "42    False\n",
       "43    False\n",
       "44    False\n",
       "45    False\n",
       "46    False\n",
       "47    False\n",
       "Name: perm, dtype: bool"
      ]
     },
     "execution_count": 203,
     "metadata": {},
     "output_type": "execute_result"
    }
   ],
   "source": [
    "df['perm']< 20    # quais as linhas que a coluna 'perm' é maior que 20"
   ]
  },
  {
   "cell_type": "code",
   "execution_count": 204,
   "metadata": {
    "colab": {},
    "colab_type": "code",
    "id": "faHa6FyD5OIK"
   },
   "outputs": [
    {
     "data": {
      "text/html": [
       "<div>\n",
       "<style scoped>\n",
       "    .dataframe tbody tr th:only-of-type {\n",
       "        vertical-align: middle;\n",
       "    }\n",
       "\n",
       "    .dataframe tbody tr th {\n",
       "        vertical-align: top;\n",
       "    }\n",
       "\n",
       "    .dataframe thead th {\n",
       "        text-align: right;\n",
       "    }\n",
       "</style>\n",
       "<table border=\"1\" class=\"dataframe\">\n",
       "  <thead>\n",
       "    <tr style=\"text-align: right;\">\n",
       "      <th></th>\n",
       "      <th>area</th>\n",
       "      <th>peri</th>\n",
       "      <th>shape</th>\n",
       "      <th>perm</th>\n",
       "      <th>tipo</th>\n",
       "    </tr>\n",
       "  </thead>\n",
       "  <tbody>\n",
       "    <tr>\n",
       "      <td>1</td>\n",
       "      <td>4990</td>\n",
       "      <td>2791.90</td>\n",
       "      <td>0.090330</td>\n",
       "      <td>6.3</td>\n",
       "      <td>0</td>\n",
       "    </tr>\n",
       "    <tr>\n",
       "      <td>2</td>\n",
       "      <td>7002</td>\n",
       "      <td>3892.60</td>\n",
       "      <td>0.148622</td>\n",
       "      <td>6.3</td>\n",
       "      <td>0</td>\n",
       "    </tr>\n",
       "    <tr>\n",
       "      <td>3</td>\n",
       "      <td>7558</td>\n",
       "      <td>3930.66</td>\n",
       "      <td>0.183312</td>\n",
       "      <td>6.3</td>\n",
       "      <td>0</td>\n",
       "    </tr>\n",
       "    <tr>\n",
       "      <td>4</td>\n",
       "      <td>7352</td>\n",
       "      <td>3869.32</td>\n",
       "      <td>0.117063</td>\n",
       "      <td>6.3</td>\n",
       "      <td>0</td>\n",
       "    </tr>\n",
       "    <tr>\n",
       "      <td>5</td>\n",
       "      <td>7943</td>\n",
       "      <td>3948.54</td>\n",
       "      <td>0.122417</td>\n",
       "      <td>17.1</td>\n",
       "      <td>1</td>\n",
       "    </tr>\n",
       "    <tr>\n",
       "      <td>6</td>\n",
       "      <td>7979</td>\n",
       "      <td>4010.15</td>\n",
       "      <td>0.167045</td>\n",
       "      <td>17.1</td>\n",
       "      <td>1</td>\n",
       "    </tr>\n",
       "    <tr>\n",
       "      <td>7</td>\n",
       "      <td>9333</td>\n",
       "      <td>4345.75</td>\n",
       "      <td>0.189651</td>\n",
       "      <td>17.1</td>\n",
       "      <td>1</td>\n",
       "    </tr>\n",
       "    <tr>\n",
       "      <td>8</td>\n",
       "      <td>8209</td>\n",
       "      <td>4344.75</td>\n",
       "      <td>0.164127</td>\n",
       "      <td>17.1</td>\n",
       "      <td>1</td>\n",
       "    </tr>\n",
       "  </tbody>\n",
       "</table>\n",
       "</div>"
      ],
      "text/plain": [
       "   area     peri     shape  perm  tipo\n",
       "1  4990  2791.90  0.090330   6.3     0\n",
       "2  7002  3892.60  0.148622   6.3     0\n",
       "3  7558  3930.66  0.183312   6.3     0\n",
       "4  7352  3869.32  0.117063   6.3     0\n",
       "5  7943  3948.54  0.122417  17.1     1\n",
       "6  7979  4010.15  0.167045  17.1     1\n",
       "7  9333  4345.75  0.189651  17.1     1\n",
       "8  8209  4344.75  0.164127  17.1     1"
      ]
     },
     "execution_count": 204,
     "metadata": {},
     "output_type": "execute_result"
    }
   ],
   "source": [
    "df[df['perm'] < 20 ]    # seleção das linhas em que a permeabilidade é menor que 20"
   ]
  },
  {
   "cell_type": "code",
   "execution_count": 205,
   "metadata": {
    "colab": {},
    "colab_type": "code",
    "id": "X3qggXzt5d5r"
   },
   "outputs": [
    {
     "data": {
      "text/html": [
       "<div>\n",
       "<style scoped>\n",
       "    .dataframe tbody tr th:only-of-type {\n",
       "        vertical-align: middle;\n",
       "    }\n",
       "\n",
       "    .dataframe tbody tr th {\n",
       "        vertical-align: top;\n",
       "    }\n",
       "\n",
       "    .dataframe thead th {\n",
       "        text-align: right;\n",
       "    }\n",
       "</style>\n",
       "<table border=\"1\" class=\"dataframe\">\n",
       "  <thead>\n",
       "    <tr style=\"text-align: right;\">\n",
       "      <th></th>\n",
       "      <th>area</th>\n",
       "      <th>peri</th>\n",
       "      <th>shape</th>\n",
       "      <th>perm</th>\n",
       "      <th>tipo</th>\n",
       "    </tr>\n",
       "  </thead>\n",
       "  <tbody>\n",
       "    <tr>\n",
       "      <td>1</td>\n",
       "      <td>4990</td>\n",
       "      <td>2791.90</td>\n",
       "      <td>0.090330</td>\n",
       "      <td>6.3</td>\n",
       "      <td>0</td>\n",
       "    </tr>\n",
       "    <tr>\n",
       "      <td>2</td>\n",
       "      <td>7002</td>\n",
       "      <td>3892.60</td>\n",
       "      <td>0.148622</td>\n",
       "      <td>6.3</td>\n",
       "      <td>0</td>\n",
       "    </tr>\n",
       "    <tr>\n",
       "      <td>3</td>\n",
       "      <td>7558</td>\n",
       "      <td>3930.66</td>\n",
       "      <td>0.183312</td>\n",
       "      <td>6.3</td>\n",
       "      <td>0</td>\n",
       "    </tr>\n",
       "    <tr>\n",
       "      <td>4</td>\n",
       "      <td>7352</td>\n",
       "      <td>3869.32</td>\n",
       "      <td>0.117063</td>\n",
       "      <td>6.3</td>\n",
       "      <td>0</td>\n",
       "    </tr>\n",
       "  </tbody>\n",
       "</table>\n",
       "</div>"
      ],
      "text/plain": [
       "   area     peri     shape  perm  tipo\n",
       "1  4990  2791.90  0.090330   6.3     0\n",
       "2  7002  3892.60  0.148622   6.3     0\n",
       "3  7558  3930.66  0.183312   6.3     0\n",
       "4  7352  3869.32  0.117063   6.3     0"
      ]
     },
     "execution_count": 205,
     "metadata": {},
     "output_type": "execute_result"
    }
   ],
   "source": [
    "df[df['tipo'] == 0]"
   ]
  },
  {
   "cell_type": "code",
   "execution_count": 206,
   "metadata": {
    "colab": {},
    "colab_type": "code",
    "id": "NPdLIQpF5q78"
   },
   "outputs": [
    {
     "data": {
      "text/html": [
       "<div>\n",
       "<style scoped>\n",
       "    .dataframe tbody tr th:only-of-type {\n",
       "        vertical-align: middle;\n",
       "    }\n",
       "\n",
       "    .dataframe tbody tr th {\n",
       "        vertical-align: top;\n",
       "    }\n",
       "\n",
       "    .dataframe thead th {\n",
       "        text-align: right;\n",
       "    }\n",
       "</style>\n",
       "<table border=\"1\" class=\"dataframe\">\n",
       "  <thead>\n",
       "    <tr style=\"text-align: right;\">\n",
       "      <th></th>\n",
       "      <th>area</th>\n",
       "      <th>peri</th>\n",
       "      <th>shape</th>\n",
       "      <th>perm</th>\n",
       "      <th>tipo</th>\n",
       "    </tr>\n",
       "  </thead>\n",
       "  <tbody>\n",
       "    <tr>\n",
       "      <td>1</td>\n",
       "      <td>4990</td>\n",
       "      <td>2791.90</td>\n",
       "      <td>0.090330</td>\n",
       "      <td>6.3</td>\n",
       "      <td>0</td>\n",
       "    </tr>\n",
       "    <tr>\n",
       "      <td>2</td>\n",
       "      <td>7002</td>\n",
       "      <td>3892.60</td>\n",
       "      <td>0.148622</td>\n",
       "      <td>6.3</td>\n",
       "      <td>0</td>\n",
       "    </tr>\n",
       "    <tr>\n",
       "      <td>3</td>\n",
       "      <td>7558</td>\n",
       "      <td>3930.66</td>\n",
       "      <td>0.183312</td>\n",
       "      <td>6.3</td>\n",
       "      <td>0</td>\n",
       "    </tr>\n",
       "    <tr>\n",
       "      <td>4</td>\n",
       "      <td>7352</td>\n",
       "      <td>3869.32</td>\n",
       "      <td>0.117063</td>\n",
       "      <td>6.3</td>\n",
       "      <td>0</td>\n",
       "    </tr>\n",
       "    <tr>\n",
       "      <td>5</td>\n",
       "      <td>7943</td>\n",
       "      <td>3948.54</td>\n",
       "      <td>0.122417</td>\n",
       "      <td>17.1</td>\n",
       "      <td>1</td>\n",
       "    </tr>\n",
       "    <tr>\n",
       "      <td>6</td>\n",
       "      <td>7979</td>\n",
       "      <td>4010.15</td>\n",
       "      <td>0.167045</td>\n",
       "      <td>17.1</td>\n",
       "      <td>1</td>\n",
       "    </tr>\n",
       "    <tr>\n",
       "      <td>7</td>\n",
       "      <td>9333</td>\n",
       "      <td>4345.75</td>\n",
       "      <td>0.189651</td>\n",
       "      <td>17.1</td>\n",
       "      <td>1</td>\n",
       "    </tr>\n",
       "    <tr>\n",
       "      <td>8</td>\n",
       "      <td>8209</td>\n",
       "      <td>4344.75</td>\n",
       "      <td>0.164127</td>\n",
       "      <td>17.1</td>\n",
       "      <td>1</td>\n",
       "    </tr>\n",
       "    <tr>\n",
       "      <td>9</td>\n",
       "      <td>8393</td>\n",
       "      <td>3682.04</td>\n",
       "      <td>0.203654</td>\n",
       "      <td>119.0</td>\n",
       "      <td>2</td>\n",
       "    </tr>\n",
       "    <tr>\n",
       "      <td>10</td>\n",
       "      <td>6425</td>\n",
       "      <td>3098.65</td>\n",
       "      <td>0.162394</td>\n",
       "      <td>119.0</td>\n",
       "      <td>2</td>\n",
       "    </tr>\n",
       "    <tr>\n",
       "      <td>11</td>\n",
       "      <td>9364</td>\n",
       "      <td>4480.05</td>\n",
       "      <td>0.150944</td>\n",
       "      <td>119.0</td>\n",
       "      <td>2</td>\n",
       "    </tr>\n",
       "    <tr>\n",
       "      <td>12</td>\n",
       "      <td>8624</td>\n",
       "      <td>3986.24</td>\n",
       "      <td>0.148141</td>\n",
       "      <td>119.0</td>\n",
       "      <td>2</td>\n",
       "    </tr>\n",
       "    <tr>\n",
       "      <td>13</td>\n",
       "      <td>10651</td>\n",
       "      <td>4036.54</td>\n",
       "      <td>0.228595</td>\n",
       "      <td>82.4</td>\n",
       "      <td>3</td>\n",
       "    </tr>\n",
       "    <tr>\n",
       "      <td>14</td>\n",
       "      <td>8868</td>\n",
       "      <td>3518.04</td>\n",
       "      <td>0.231623</td>\n",
       "      <td>82.4</td>\n",
       "      <td>3</td>\n",
       "    </tr>\n",
       "    <tr>\n",
       "      <td>15</td>\n",
       "      <td>9417</td>\n",
       "      <td>3999.37</td>\n",
       "      <td>0.172567</td>\n",
       "      <td>82.4</td>\n",
       "      <td>3</td>\n",
       "    </tr>\n",
       "  </tbody>\n",
       "</table>\n",
       "</div>"
      ],
      "text/plain": [
       "     area     peri     shape   perm  tipo\n",
       "1    4990  2791.90  0.090330    6.3     0\n",
       "2    7002  3892.60  0.148622    6.3     0\n",
       "3    7558  3930.66  0.183312    6.3     0\n",
       "4    7352  3869.32  0.117063    6.3     0\n",
       "5    7943  3948.54  0.122417   17.1     1\n",
       "6    7979  4010.15  0.167045   17.1     1\n",
       "7    9333  4345.75  0.189651   17.1     1\n",
       "8    8209  4344.75  0.164127   17.1     1\n",
       "9    8393  3682.04  0.203654  119.0     2\n",
       "10   6425  3098.65  0.162394  119.0     2\n",
       "11   9364  4480.05  0.150944  119.0     2\n",
       "12   8624  3986.24  0.148141  119.0     2\n",
       "13  10651  4036.54  0.228595   82.4     3\n",
       "14   8868  3518.04  0.231623   82.4     3\n",
       "15   9417  3999.37  0.172567   82.4     3"
      ]
     },
     "execution_count": 206,
     "metadata": {},
     "output_type": "execute_result"
    }
   ],
   "source": [
    "df.head(15)"
   ]
  },
  {
   "cell_type": "code",
   "execution_count": 207,
   "metadata": {
    "colab": {},
    "colab_type": "code",
    "id": "utCdW7NH5uEk"
   },
   "outputs": [
    {
     "ename": "ValueError",
     "evalue": "The truth value of a Series is ambiguous. Use a.empty, a.bool(), a.item(), a.any() or a.all().",
     "output_type": "error",
     "traceback": [
      "\u001b[1;31m---------------------------------------------------------------------------\u001b[0m",
      "\u001b[1;31mValueError\u001b[0m                                Traceback (most recent call last)",
      "\u001b[1;32m<ipython-input-207-973f6fbeb036>\u001b[0m in \u001b[0;36m<module>\u001b[1;34m\u001b[0m\n\u001b[1;32m----> 1\u001b[1;33m \u001b[0mdf\u001b[0m\u001b[1;33m[\u001b[0m\u001b[1;33m(\u001b[0m\u001b[0mdf\u001b[0m\u001b[1;33m[\u001b[0m\u001b[1;34m'shape'\u001b[0m\u001b[1;33m]\u001b[0m \u001b[1;33m>\u001b[0m \u001b[1;36m0.2\u001b[0m\u001b[1;33m)\u001b[0m \u001b[1;32mand\u001b[0m \u001b[1;33m(\u001b[0m\u001b[0mdf\u001b[0m\u001b[1;33m[\u001b[0m\u001b[1;34m'perm'\u001b[0m\u001b[1;33m]\u001b[0m \u001b[1;33m>\u001b[0m \u001b[1;36m100\u001b[0m\u001b[1;33m)\u001b[0m\u001b[1;33m]\u001b[0m    \u001b[1;31m# erro\u001b[0m\u001b[1;33m\u001b[0m\u001b[1;33m\u001b[0m\u001b[0m\n\u001b[0m",
      "\u001b[1;32m~\\AppData\\Local\\Continuum\\anaconda3\\lib\\site-packages\\pandas\\core\\generic.py\u001b[0m in \u001b[0;36m__nonzero__\u001b[1;34m(self)\u001b[0m\n\u001b[0;32m   1553\u001b[0m             \u001b[1;34m\"The truth value of a {0} is ambiguous. \"\u001b[0m\u001b[1;33m\u001b[0m\u001b[1;33m\u001b[0m\u001b[0m\n\u001b[0;32m   1554\u001b[0m             \"Use a.empty, a.bool(), a.item(), a.any() or a.all().\".format(\n\u001b[1;32m-> 1555\u001b[1;33m                 \u001b[0mself\u001b[0m\u001b[1;33m.\u001b[0m\u001b[0m__class__\u001b[0m\u001b[1;33m.\u001b[0m\u001b[0m__name__\u001b[0m\u001b[1;33m\u001b[0m\u001b[1;33m\u001b[0m\u001b[0m\n\u001b[0m\u001b[0;32m   1556\u001b[0m             )\n\u001b[0;32m   1557\u001b[0m         )\n",
      "\u001b[1;31mValueError\u001b[0m: The truth value of a Series is ambiguous. Use a.empty, a.bool(), a.item(), a.any() or a.all()."
     ]
    }
   ],
   "source": [
    "df[(df['shape'] > 0.2) and (df['perm'] > 100)]    # erro"
   ]
  },
  {
   "cell_type": "code",
   "execution_count": 208,
   "metadata": {
    "colab": {},
    "colab_type": "code",
    "id": "n4LQS1Kg5ko6"
   },
   "outputs": [
    {
     "data": {
      "text/html": [
       "<div>\n",
       "<style scoped>\n",
       "    .dataframe tbody tr th:only-of-type {\n",
       "        vertical-align: middle;\n",
       "    }\n",
       "\n",
       "    .dataframe tbody tr th {\n",
       "        vertical-align: top;\n",
       "    }\n",
       "\n",
       "    .dataframe thead th {\n",
       "        text-align: right;\n",
       "    }\n",
       "</style>\n",
       "<table border=\"1\" class=\"dataframe\">\n",
       "  <thead>\n",
       "    <tr style=\"text-align: right;\">\n",
       "      <th></th>\n",
       "      <th>area</th>\n",
       "      <th>peri</th>\n",
       "      <th>shape</th>\n",
       "      <th>perm</th>\n",
       "      <th>tipo</th>\n",
       "    </tr>\n",
       "  </thead>\n",
       "  <tbody>\n",
       "    <tr>\n",
       "      <td>9</td>\n",
       "      <td>8393</td>\n",
       "      <td>3682.040</td>\n",
       "      <td>0.203654</td>\n",
       "      <td>119.0</td>\n",
       "      <td>2</td>\n",
       "    </tr>\n",
       "    <tr>\n",
       "      <td>22</td>\n",
       "      <td>11876</td>\n",
       "      <td>4353.140</td>\n",
       "      <td>0.291029</td>\n",
       "      <td>142.0</td>\n",
       "      <td>5</td>\n",
       "    </tr>\n",
       "    <tr>\n",
       "      <td>23</td>\n",
       "      <td>12212</td>\n",
       "      <td>4697.650</td>\n",
       "      <td>0.240077</td>\n",
       "      <td>142.0</td>\n",
       "      <td>5</td>\n",
       "    </tr>\n",
       "    <tr>\n",
       "      <td>25</td>\n",
       "      <td>6360</td>\n",
       "      <td>1977.390</td>\n",
       "      <td>0.280887</td>\n",
       "      <td>740.0</td>\n",
       "      <td>6</td>\n",
       "    </tr>\n",
       "    <tr>\n",
       "      <td>29</td>\n",
       "      <td>6509</td>\n",
       "      <td>1851.210</td>\n",
       "      <td>0.225214</td>\n",
       "      <td>890.0</td>\n",
       "      <td>7</td>\n",
       "    </tr>\n",
       "    <tr>\n",
       "      <td>30</td>\n",
       "      <td>4895</td>\n",
       "      <td>1239.660</td>\n",
       "      <td>0.341273</td>\n",
       "      <td>890.0</td>\n",
       "      <td>7</td>\n",
       "    </tr>\n",
       "    <tr>\n",
       "      <td>31</td>\n",
       "      <td>6775</td>\n",
       "      <td>1728.140</td>\n",
       "      <td>0.311646</td>\n",
       "      <td>890.0</td>\n",
       "      <td>7</td>\n",
       "    </tr>\n",
       "    <tr>\n",
       "      <td>32</td>\n",
       "      <td>7894</td>\n",
       "      <td>1461.060</td>\n",
       "      <td>0.276016</td>\n",
       "      <td>890.0</td>\n",
       "      <td>7</td>\n",
       "    </tr>\n",
       "    <tr>\n",
       "      <td>34</td>\n",
       "      <td>5318</td>\n",
       "      <td>990.388</td>\n",
       "      <td>0.326635</td>\n",
       "      <td>950.0</td>\n",
       "      <td>8</td>\n",
       "    </tr>\n",
       "    <tr>\n",
       "      <td>36</td>\n",
       "      <td>7894</td>\n",
       "      <td>1461.060</td>\n",
       "      <td>0.276016</td>\n",
       "      <td>950.0</td>\n",
       "      <td>8</td>\n",
       "    </tr>\n",
       "    <tr>\n",
       "      <td>41</td>\n",
       "      <td>5048</td>\n",
       "      <td>941.543</td>\n",
       "      <td>0.328641</td>\n",
       "      <td>1300.0</td>\n",
       "      <td>10</td>\n",
       "    </tr>\n",
       "    <tr>\n",
       "      <td>42</td>\n",
       "      <td>1016</td>\n",
       "      <td>308.642</td>\n",
       "      <td>0.230081</td>\n",
       "      <td>1300.0</td>\n",
       "      <td>10</td>\n",
       "    </tr>\n",
       "    <tr>\n",
       "      <td>43</td>\n",
       "      <td>5605</td>\n",
       "      <td>1145.690</td>\n",
       "      <td>0.464125</td>\n",
       "      <td>1300.0</td>\n",
       "      <td>10</td>\n",
       "    </tr>\n",
       "    <tr>\n",
       "      <td>44</td>\n",
       "      <td>8793</td>\n",
       "      <td>2280.490</td>\n",
       "      <td>0.420477</td>\n",
       "      <td>1300.0</td>\n",
       "      <td>10</td>\n",
       "    </tr>\n",
       "    <tr>\n",
       "      <td>45</td>\n",
       "      <td>3475</td>\n",
       "      <td>1174.110</td>\n",
       "      <td>0.200744</td>\n",
       "      <td>580.0</td>\n",
       "      <td>11</td>\n",
       "    </tr>\n",
       "    <tr>\n",
       "      <td>46</td>\n",
       "      <td>1651</td>\n",
       "      <td>597.808</td>\n",
       "      <td>0.262651</td>\n",
       "      <td>580.0</td>\n",
       "      <td>11</td>\n",
       "    </tr>\n",
       "  </tbody>\n",
       "</table>\n",
       "</div>"
      ],
      "text/plain": [
       "     area      peri     shape    perm  tipo\n",
       "9    8393  3682.040  0.203654   119.0     2\n",
       "22  11876  4353.140  0.291029   142.0     5\n",
       "23  12212  4697.650  0.240077   142.0     5\n",
       "25   6360  1977.390  0.280887   740.0     6\n",
       "29   6509  1851.210  0.225214   890.0     7\n",
       "30   4895  1239.660  0.341273   890.0     7\n",
       "31   6775  1728.140  0.311646   890.0     7\n",
       "32   7894  1461.060  0.276016   890.0     7\n",
       "34   5318   990.388  0.326635   950.0     8\n",
       "36   7894  1461.060  0.276016   950.0     8\n",
       "41   5048   941.543  0.328641  1300.0    10\n",
       "42   1016   308.642  0.230081  1300.0    10\n",
       "43   5605  1145.690  0.464125  1300.0    10\n",
       "44   8793  2280.490  0.420477  1300.0    10\n",
       "45   3475  1174.110  0.200744   580.0    11\n",
       "46   1651   597.808  0.262651   580.0    11"
      ]
     },
     "execution_count": 208,
     "metadata": {},
     "output_type": "execute_result"
    }
   ],
   "source": [
    "df[(df['shape'] > 0.2) & (df['perm'] > 100)]         # condições multiplas em Series"
   ]
  },
  {
   "cell_type": "code",
   "execution_count": 209,
   "metadata": {
    "colab": {},
    "colab_type": "code",
    "id": "ATIF6G8X6NuD"
   },
   "outputs": [
    {
     "ename": "ValueError",
     "evalue": "The truth value of a Series is ambiguous. Use a.empty, a.bool(), a.item(), a.any() or a.all().",
     "output_type": "error",
     "traceback": [
      "\u001b[1;31m---------------------------------------------------------------------------\u001b[0m",
      "\u001b[1;31mValueError\u001b[0m                                Traceback (most recent call last)",
      "\u001b[1;32m<ipython-input-209-c284d2aad52a>\u001b[0m in \u001b[0;36m<module>\u001b[1;34m\u001b[0m\n\u001b[1;32m----> 1\u001b[1;33m \u001b[0mdf\u001b[0m\u001b[1;33m[\u001b[0m\u001b[1;33m(\u001b[0m\u001b[0mdf\u001b[0m\u001b[1;33m[\u001b[0m\u001b[1;34m'shape'\u001b[0m\u001b[1;33m]\u001b[0m \u001b[1;33m>\u001b[0m \u001b[1;36m0.2\u001b[0m\u001b[1;33m)\u001b[0m \u001b[1;32mor\u001b[0m \u001b[1;33m(\u001b[0m\u001b[0mdf\u001b[0m\u001b[1;33m[\u001b[0m\u001b[1;34m'perm'\u001b[0m\u001b[1;33m]\u001b[0m \u001b[1;33m>\u001b[0m \u001b[1;36m100\u001b[0m\u001b[1;33m)\u001b[0m\u001b[1;33m]\u001b[0m         \u001b[1;31m# erro\u001b[0m\u001b[1;33m\u001b[0m\u001b[1;33m\u001b[0m\u001b[0m\n\u001b[0m",
      "\u001b[1;32m~\\AppData\\Local\\Continuum\\anaconda3\\lib\\site-packages\\pandas\\core\\generic.py\u001b[0m in \u001b[0;36m__nonzero__\u001b[1;34m(self)\u001b[0m\n\u001b[0;32m   1553\u001b[0m             \u001b[1;34m\"The truth value of a {0} is ambiguous. \"\u001b[0m\u001b[1;33m\u001b[0m\u001b[1;33m\u001b[0m\u001b[0m\n\u001b[0;32m   1554\u001b[0m             \"Use a.empty, a.bool(), a.item(), a.any() or a.all().\".format(\n\u001b[1;32m-> 1555\u001b[1;33m                 \u001b[0mself\u001b[0m\u001b[1;33m.\u001b[0m\u001b[0m__class__\u001b[0m\u001b[1;33m.\u001b[0m\u001b[0m__name__\u001b[0m\u001b[1;33m\u001b[0m\u001b[1;33m\u001b[0m\u001b[0m\n\u001b[0m\u001b[0;32m   1556\u001b[0m             )\n\u001b[0;32m   1557\u001b[0m         )\n",
      "\u001b[1;31mValueError\u001b[0m: The truth value of a Series is ambiguous. Use a.empty, a.bool(), a.item(), a.any() or a.all()."
     ]
    }
   ],
   "source": [
    "df[(df['shape'] > 0.2) or (df['perm'] > 100)]         # erro"
   ]
  },
  {
   "cell_type": "code",
   "execution_count": 210,
   "metadata": {
    "colab": {},
    "colab_type": "code",
    "id": "FrzrS8eR6R2s"
   },
   "outputs": [
    {
     "data": {
      "text/html": [
       "<div>\n",
       "<style scoped>\n",
       "    .dataframe tbody tr th:only-of-type {\n",
       "        vertical-align: middle;\n",
       "    }\n",
       "\n",
       "    .dataframe tbody tr th {\n",
       "        vertical-align: top;\n",
       "    }\n",
       "\n",
       "    .dataframe thead th {\n",
       "        text-align: right;\n",
       "    }\n",
       "</style>\n",
       "<table border=\"1\" class=\"dataframe\">\n",
       "  <thead>\n",
       "    <tr style=\"text-align: right;\">\n",
       "      <th></th>\n",
       "      <th>area</th>\n",
       "      <th>peri</th>\n",
       "      <th>shape</th>\n",
       "      <th>perm</th>\n",
       "      <th>tipo</th>\n",
       "    </tr>\n",
       "  </thead>\n",
       "  <tbody>\n",
       "    <tr>\n",
       "      <td>9</td>\n",
       "      <td>8393</td>\n",
       "      <td>3682.040</td>\n",
       "      <td>0.203654</td>\n",
       "      <td>119.0</td>\n",
       "      <td>2</td>\n",
       "    </tr>\n",
       "    <tr>\n",
       "      <td>10</td>\n",
       "      <td>6425</td>\n",
       "      <td>3098.650</td>\n",
       "      <td>0.162394</td>\n",
       "      <td>119.0</td>\n",
       "      <td>2</td>\n",
       "    </tr>\n",
       "    <tr>\n",
       "      <td>11</td>\n",
       "      <td>9364</td>\n",
       "      <td>4480.050</td>\n",
       "      <td>0.150944</td>\n",
       "      <td>119.0</td>\n",
       "      <td>2</td>\n",
       "    </tr>\n",
       "    <tr>\n",
       "      <td>12</td>\n",
       "      <td>8624</td>\n",
       "      <td>3986.240</td>\n",
       "      <td>0.148141</td>\n",
       "      <td>119.0</td>\n",
       "      <td>2</td>\n",
       "    </tr>\n",
       "    <tr>\n",
       "      <td>13</td>\n",
       "      <td>10651</td>\n",
       "      <td>4036.540</td>\n",
       "      <td>0.228595</td>\n",
       "      <td>82.4</td>\n",
       "      <td>3</td>\n",
       "    </tr>\n",
       "    <tr>\n",
       "      <td>14</td>\n",
       "      <td>8868</td>\n",
       "      <td>3518.040</td>\n",
       "      <td>0.231623</td>\n",
       "      <td>82.4</td>\n",
       "      <td>3</td>\n",
       "    </tr>\n",
       "    <tr>\n",
       "      <td>17</td>\n",
       "      <td>10962</td>\n",
       "      <td>4608.660</td>\n",
       "      <td>0.204314</td>\n",
       "      <td>58.6</td>\n",
       "      <td>4</td>\n",
       "    </tr>\n",
       "    <tr>\n",
       "      <td>18</td>\n",
       "      <td>10743</td>\n",
       "      <td>4787.620</td>\n",
       "      <td>0.262727</td>\n",
       "      <td>58.6</td>\n",
       "      <td>4</td>\n",
       "    </tr>\n",
       "    <tr>\n",
       "      <td>19</td>\n",
       "      <td>11878</td>\n",
       "      <td>4864.220</td>\n",
       "      <td>0.200071</td>\n",
       "      <td>58.6</td>\n",
       "      <td>4</td>\n",
       "    </tr>\n",
       "    <tr>\n",
       "      <td>21</td>\n",
       "      <td>7838</td>\n",
       "      <td>3428.740</td>\n",
       "      <td>0.113852</td>\n",
       "      <td>142.0</td>\n",
       "      <td>5</td>\n",
       "    </tr>\n",
       "    <tr>\n",
       "      <td>22</td>\n",
       "      <td>11876</td>\n",
       "      <td>4353.140</td>\n",
       "      <td>0.291029</td>\n",
       "      <td>142.0</td>\n",
       "      <td>5</td>\n",
       "    </tr>\n",
       "    <tr>\n",
       "      <td>23</td>\n",
       "      <td>12212</td>\n",
       "      <td>4697.650</td>\n",
       "      <td>0.240077</td>\n",
       "      <td>142.0</td>\n",
       "      <td>5</td>\n",
       "    </tr>\n",
       "    <tr>\n",
       "      <td>24</td>\n",
       "      <td>8233</td>\n",
       "      <td>3518.440</td>\n",
       "      <td>0.161865</td>\n",
       "      <td>142.0</td>\n",
       "      <td>5</td>\n",
       "    </tr>\n",
       "    <tr>\n",
       "      <td>25</td>\n",
       "      <td>6360</td>\n",
       "      <td>1977.390</td>\n",
       "      <td>0.280887</td>\n",
       "      <td>740.0</td>\n",
       "      <td>6</td>\n",
       "    </tr>\n",
       "    <tr>\n",
       "      <td>26</td>\n",
       "      <td>4193</td>\n",
       "      <td>1379.350</td>\n",
       "      <td>0.179455</td>\n",
       "      <td>740.0</td>\n",
       "      <td>6</td>\n",
       "    </tr>\n",
       "    <tr>\n",
       "      <td>27</td>\n",
       "      <td>7416</td>\n",
       "      <td>1916.240</td>\n",
       "      <td>0.191802</td>\n",
       "      <td>740.0</td>\n",
       "      <td>6</td>\n",
       "    </tr>\n",
       "    <tr>\n",
       "      <td>28</td>\n",
       "      <td>5246</td>\n",
       "      <td>1585.420</td>\n",
       "      <td>0.133083</td>\n",
       "      <td>740.0</td>\n",
       "      <td>6</td>\n",
       "    </tr>\n",
       "    <tr>\n",
       "      <td>29</td>\n",
       "      <td>6509</td>\n",
       "      <td>1851.210</td>\n",
       "      <td>0.225214</td>\n",
       "      <td>890.0</td>\n",
       "      <td>7</td>\n",
       "    </tr>\n",
       "    <tr>\n",
       "      <td>30</td>\n",
       "      <td>4895</td>\n",
       "      <td>1239.660</td>\n",
       "      <td>0.341273</td>\n",
       "      <td>890.0</td>\n",
       "      <td>7</td>\n",
       "    </tr>\n",
       "    <tr>\n",
       "      <td>31</td>\n",
       "      <td>6775</td>\n",
       "      <td>1728.140</td>\n",
       "      <td>0.311646</td>\n",
       "      <td>890.0</td>\n",
       "      <td>7</td>\n",
       "    </tr>\n",
       "    <tr>\n",
       "      <td>32</td>\n",
       "      <td>7894</td>\n",
       "      <td>1461.060</td>\n",
       "      <td>0.276016</td>\n",
       "      <td>890.0</td>\n",
       "      <td>7</td>\n",
       "    </tr>\n",
       "    <tr>\n",
       "      <td>33</td>\n",
       "      <td>5980</td>\n",
       "      <td>1426.760</td>\n",
       "      <td>0.197653</td>\n",
       "      <td>950.0</td>\n",
       "      <td>8</td>\n",
       "    </tr>\n",
       "    <tr>\n",
       "      <td>34</td>\n",
       "      <td>5318</td>\n",
       "      <td>990.388</td>\n",
       "      <td>0.326635</td>\n",
       "      <td>950.0</td>\n",
       "      <td>8</td>\n",
       "    </tr>\n",
       "    <tr>\n",
       "      <td>35</td>\n",
       "      <td>7392</td>\n",
       "      <td>1350.760</td>\n",
       "      <td>0.154192</td>\n",
       "      <td>950.0</td>\n",
       "      <td>8</td>\n",
       "    </tr>\n",
       "    <tr>\n",
       "      <td>36</td>\n",
       "      <td>7894</td>\n",
       "      <td>1461.060</td>\n",
       "      <td>0.276016</td>\n",
       "      <td>950.0</td>\n",
       "      <td>8</td>\n",
       "    </tr>\n",
       "    <tr>\n",
       "      <td>38</td>\n",
       "      <td>1468</td>\n",
       "      <td>476.322</td>\n",
       "      <td>0.438712</td>\n",
       "      <td>100.0</td>\n",
       "      <td>9</td>\n",
       "    </tr>\n",
       "    <tr>\n",
       "      <td>40</td>\n",
       "      <td>5267</td>\n",
       "      <td>1644.960</td>\n",
       "      <td>0.253832</td>\n",
       "      <td>100.0</td>\n",
       "      <td>9</td>\n",
       "    </tr>\n",
       "    <tr>\n",
       "      <td>41</td>\n",
       "      <td>5048</td>\n",
       "      <td>941.543</td>\n",
       "      <td>0.328641</td>\n",
       "      <td>1300.0</td>\n",
       "      <td>10</td>\n",
       "    </tr>\n",
       "    <tr>\n",
       "      <td>42</td>\n",
       "      <td>1016</td>\n",
       "      <td>308.642</td>\n",
       "      <td>0.230081</td>\n",
       "      <td>1300.0</td>\n",
       "      <td>10</td>\n",
       "    </tr>\n",
       "    <tr>\n",
       "      <td>43</td>\n",
       "      <td>5605</td>\n",
       "      <td>1145.690</td>\n",
       "      <td>0.464125</td>\n",
       "      <td>1300.0</td>\n",
       "      <td>10</td>\n",
       "    </tr>\n",
       "    <tr>\n",
       "      <td>44</td>\n",
       "      <td>8793</td>\n",
       "      <td>2280.490</td>\n",
       "      <td>0.420477</td>\n",
       "      <td>1300.0</td>\n",
       "      <td>10</td>\n",
       "    </tr>\n",
       "    <tr>\n",
       "      <td>45</td>\n",
       "      <td>3475</td>\n",
       "      <td>1174.110</td>\n",
       "      <td>0.200744</td>\n",
       "      <td>580.0</td>\n",
       "      <td>11</td>\n",
       "    </tr>\n",
       "    <tr>\n",
       "      <td>46</td>\n",
       "      <td>1651</td>\n",
       "      <td>597.808</td>\n",
       "      <td>0.262651</td>\n",
       "      <td>580.0</td>\n",
       "      <td>11</td>\n",
       "    </tr>\n",
       "    <tr>\n",
       "      <td>47</td>\n",
       "      <td>5514</td>\n",
       "      <td>1455.880</td>\n",
       "      <td>0.182453</td>\n",
       "      <td>580.0</td>\n",
       "      <td>11</td>\n",
       "    </tr>\n",
       "  </tbody>\n",
       "</table>\n",
       "</div>"
      ],
      "text/plain": [
       "     area      peri     shape    perm  tipo\n",
       "9    8393  3682.040  0.203654   119.0     2\n",
       "10   6425  3098.650  0.162394   119.0     2\n",
       "11   9364  4480.050  0.150944   119.0     2\n",
       "12   8624  3986.240  0.148141   119.0     2\n",
       "13  10651  4036.540  0.228595    82.4     3\n",
       "14   8868  3518.040  0.231623    82.4     3\n",
       "17  10962  4608.660  0.204314    58.6     4\n",
       "18  10743  4787.620  0.262727    58.6     4\n",
       "19  11878  4864.220  0.200071    58.6     4\n",
       "21   7838  3428.740  0.113852   142.0     5\n",
       "22  11876  4353.140  0.291029   142.0     5\n",
       "23  12212  4697.650  0.240077   142.0     5\n",
       "24   8233  3518.440  0.161865   142.0     5\n",
       "25   6360  1977.390  0.280887   740.0     6\n",
       "26   4193  1379.350  0.179455   740.0     6\n",
       "27   7416  1916.240  0.191802   740.0     6\n",
       "28   5246  1585.420  0.133083   740.0     6\n",
       "29   6509  1851.210  0.225214   890.0     7\n",
       "30   4895  1239.660  0.341273   890.0     7\n",
       "31   6775  1728.140  0.311646   890.0     7\n",
       "32   7894  1461.060  0.276016   890.0     7\n",
       "33   5980  1426.760  0.197653   950.0     8\n",
       "34   5318   990.388  0.326635   950.0     8\n",
       "35   7392  1350.760  0.154192   950.0     8\n",
       "36   7894  1461.060  0.276016   950.0     8\n",
       "38   1468   476.322  0.438712   100.0     9\n",
       "40   5267  1644.960  0.253832   100.0     9\n",
       "41   5048   941.543  0.328641  1300.0    10\n",
       "42   1016   308.642  0.230081  1300.0    10\n",
       "43   5605  1145.690  0.464125  1300.0    10\n",
       "44   8793  2280.490  0.420477  1300.0    10\n",
       "45   3475  1174.110  0.200744   580.0    11\n",
       "46   1651   597.808  0.262651   580.0    11\n",
       "47   5514  1455.880  0.182453   580.0    11"
      ]
     },
     "execution_count": 210,
     "metadata": {},
     "output_type": "execute_result"
    }
   ],
   "source": [
    "df[(df['shape'] > 0.2) | (df['perm'] > 100)]         # condições multiplas em Series"
   ]
  },
  {
   "cell_type": "markdown",
   "metadata": {
    "colab_type": "text",
    "id": "i1SkY2IE7H-i"
   },
   "source": [
    "### 3.5 - Funções/operações do Pandas muito importantes"
   ]
  },
  {
   "cell_type": "code",
   "execution_count": 211,
   "metadata": {
    "colab": {},
    "colab_type": "code",
    "id": "dHuUrBRX7TTf"
   },
   "outputs": [
    {
     "data": {
      "text/html": [
       "<div>\n",
       "<style scoped>\n",
       "    .dataframe tbody tr th:only-of-type {\n",
       "        vertical-align: middle;\n",
       "    }\n",
       "\n",
       "    .dataframe tbody tr th {\n",
       "        vertical-align: top;\n",
       "    }\n",
       "\n",
       "    .dataframe thead th {\n",
       "        text-align: right;\n",
       "    }\n",
       "</style>\n",
       "<table border=\"1\" class=\"dataframe\">\n",
       "  <thead>\n",
       "    <tr style=\"text-align: right;\">\n",
       "      <th></th>\n",
       "      <th>area</th>\n",
       "      <th>peri</th>\n",
       "      <th>shape</th>\n",
       "      <th>perm</th>\n",
       "      <th>tipo</th>\n",
       "    </tr>\n",
       "  </thead>\n",
       "  <tbody>\n",
       "    <tr>\n",
       "      <td>1</td>\n",
       "      <td>4990</td>\n",
       "      <td>2791.90</td>\n",
       "      <td>0.090330</td>\n",
       "      <td>6.3</td>\n",
       "      <td>0</td>\n",
       "    </tr>\n",
       "    <tr>\n",
       "      <td>2</td>\n",
       "      <td>7002</td>\n",
       "      <td>3892.60</td>\n",
       "      <td>0.148622</td>\n",
       "      <td>6.3</td>\n",
       "      <td>0</td>\n",
       "    </tr>\n",
       "    <tr>\n",
       "      <td>3</td>\n",
       "      <td>7558</td>\n",
       "      <td>3930.66</td>\n",
       "      <td>0.183312</td>\n",
       "      <td>6.3</td>\n",
       "      <td>0</td>\n",
       "    </tr>\n",
       "    <tr>\n",
       "      <td>4</td>\n",
       "      <td>7352</td>\n",
       "      <td>3869.32</td>\n",
       "      <td>0.117063</td>\n",
       "      <td>6.3</td>\n",
       "      <td>0</td>\n",
       "    </tr>\n",
       "    <tr>\n",
       "      <td>5</td>\n",
       "      <td>7943</td>\n",
       "      <td>3948.54</td>\n",
       "      <td>0.122417</td>\n",
       "      <td>17.1</td>\n",
       "      <td>1</td>\n",
       "    </tr>\n",
       "    <tr>\n",
       "      <td>6</td>\n",
       "      <td>7979</td>\n",
       "      <td>4010.15</td>\n",
       "      <td>0.167045</td>\n",
       "      <td>17.1</td>\n",
       "      <td>1</td>\n",
       "    </tr>\n",
       "    <tr>\n",
       "      <td>7</td>\n",
       "      <td>9333</td>\n",
       "      <td>4345.75</td>\n",
       "      <td>0.189651</td>\n",
       "      <td>17.1</td>\n",
       "      <td>1</td>\n",
       "    </tr>\n",
       "    <tr>\n",
       "      <td>8</td>\n",
       "      <td>8209</td>\n",
       "      <td>4344.75</td>\n",
       "      <td>0.164127</td>\n",
       "      <td>17.1</td>\n",
       "      <td>1</td>\n",
       "    </tr>\n",
       "  </tbody>\n",
       "</table>\n",
       "</div>"
      ],
      "text/plain": [
       "   area     peri     shape  perm  tipo\n",
       "1  4990  2791.90  0.090330   6.3     0\n",
       "2  7002  3892.60  0.148622   6.3     0\n",
       "3  7558  3930.66  0.183312   6.3     0\n",
       "4  7352  3869.32  0.117063   6.3     0\n",
       "5  7943  3948.54  0.122417  17.1     1\n",
       "6  7979  4010.15  0.167045  17.1     1\n",
       "7  9333  4345.75  0.189651  17.1     1\n",
       "8  8209  4344.75  0.164127  17.1     1"
      ]
     },
     "execution_count": 211,
     "metadata": {},
     "output_type": "execute_result"
    }
   ],
   "source": [
    "df.head(8)"
   ]
  },
  {
   "cell_type": "code",
   "execution_count": 212,
   "metadata": {
    "colab": {},
    "colab_type": "code",
    "id": "_EmJgpDV7jzA"
   },
   "outputs": [
    {
     "data": {
      "text/plain": [
       "(47, 5)"
      ]
     },
     "execution_count": 212,
     "metadata": {},
     "output_type": "execute_result"
    }
   ],
   "source": [
    "df.shape"
   ]
  },
  {
   "cell_type": "code",
   "execution_count": 213,
   "metadata": {
    "colab": {},
    "colab_type": "code",
    "id": "I3IlKZG37aPr"
   },
   "outputs": [
    {
     "data": {
      "text/plain": [
       "array([   6.3,   17.1,  119. ,   82.4,   58.6,  142. ,  740. ,  890. ,\n",
       "        950. ,  100. , 1300. ,  580. ])"
      ]
     },
     "execution_count": 213,
     "metadata": {},
     "output_type": "execute_result"
    }
   ],
   "source": [
    "df['perm'].unique()   # retorna os diferentes valores"
   ]
  },
  {
   "cell_type": "code",
   "execution_count": 214,
   "metadata": {
    "colab": {},
    "colab_type": "code",
    "id": "DfYMasLo7ql6"
   },
   "outputs": [
    {
     "data": {
      "text/plain": [
       "12"
      ]
     },
     "execution_count": 214,
     "metadata": {},
     "output_type": "execute_result"
    }
   ],
   "source": [
    "df['perm'].nunique()   # a quantidade de valores diferentes em uma deternimada coluna"
   ]
  },
  {
   "cell_type": "code",
   "execution_count": 215,
   "metadata": {
    "colab": {},
    "colab_type": "code",
    "id": "WYVbI7hU8aQh"
   },
   "outputs": [
    {
     "data": {
      "text/plain": [
       "82.4      4\n",
       "58.6      4\n",
       "6.3       4\n",
       "17.1      4\n",
       "1300.0    4\n",
       "100.0     4\n",
       "950.0     4\n",
       "890.0     4\n",
       "740.0     4\n",
       "142.0     4\n",
       "119.0     4\n",
       "580.0     3\n",
       "Name: perm, dtype: int64"
      ]
     },
     "execution_count": 215,
     "metadata": {},
     "output_type": "execute_result"
    }
   ],
   "source": [
    "df['perm'].value_counts()   # quantidade de vezes que cada valor aparece na coluna"
   ]
  },
  {
   "cell_type": "code",
   "execution_count": 216,
   "metadata": {
    "colab": {},
    "colab_type": "code",
    "id": "61jIIyk58rYS"
   },
   "outputs": [
    {
     "data": {
      "text/plain": [
       "411.94893617021273"
      ]
     },
     "execution_count": 216,
     "metadata": {},
     "output_type": "execute_result"
    }
   ],
   "source": [
    "df['perm'].mean()   # média"
   ]
  },
  {
   "cell_type": "code",
   "execution_count": 217,
   "metadata": {
    "colab": {},
    "colab_type": "code",
    "id": "2-IQfX338yMb"
   },
   "outputs": [
    {
     "data": {
      "text/plain": [
       "1300.0"
      ]
     },
     "execution_count": 217,
     "metadata": {},
     "output_type": "execute_result"
    }
   ],
   "source": [
    "df['perm'].max()   # máximo"
   ]
  },
  {
   "cell_type": "code",
   "execution_count": 218,
   "metadata": {
    "colab": {},
    "colab_type": "code",
    "id": "itWQM9cq81vp"
   },
   "outputs": [
    {
     "data": {
      "text/plain": [
       "6.3"
      ]
     },
     "execution_count": 218,
     "metadata": {},
     "output_type": "execute_result"
    }
   ],
   "source": [
    "df['perm'].min()   # mínimo"
   ]
  },
  {
   "cell_type": "code",
   "execution_count": 219,
   "metadata": {
    "colab": {},
    "colab_type": "code",
    "id": "Hvh5CgXr86t8"
   },
   "outputs": [
    {
     "data": {
      "text/html": [
       "<div>\n",
       "<style scoped>\n",
       "    .dataframe tbody tr th:only-of-type {\n",
       "        vertical-align: middle;\n",
       "    }\n",
       "\n",
       "    .dataframe tbody tr th {\n",
       "        vertical-align: top;\n",
       "    }\n",
       "\n",
       "    .dataframe thead th {\n",
       "        text-align: right;\n",
       "    }\n",
       "</style>\n",
       "<table border=\"1\" class=\"dataframe\">\n",
       "  <thead>\n",
       "    <tr style=\"text-align: right;\">\n",
       "      <th></th>\n",
       "      <th>area</th>\n",
       "      <th>peri</th>\n",
       "      <th>shape</th>\n",
       "      <th>perm</th>\n",
       "      <th>tipo</th>\n",
       "    </tr>\n",
       "  </thead>\n",
       "  <tbody>\n",
       "    <tr>\n",
       "      <td>count</td>\n",
       "      <td>47.000000</td>\n",
       "      <td>47.000000</td>\n",
       "      <td>47.000000</td>\n",
       "      <td>47.000000</td>\n",
       "      <td>47.000000</td>\n",
       "    </tr>\n",
       "    <tr>\n",
       "      <td>mean</td>\n",
       "      <td>7133.893617</td>\n",
       "      <td>2707.672191</td>\n",
       "      <td>0.218486</td>\n",
       "      <td>411.948936</td>\n",
       "      <td>5.382979</td>\n",
       "    </tr>\n",
       "    <tr>\n",
       "      <td>std</td>\n",
       "      <td>2686.538958</td>\n",
       "      <td>1436.112876</td>\n",
       "      <td>0.084358</td>\n",
       "      <td>441.871828</td>\n",
       "      <td>3.429750</td>\n",
       "    </tr>\n",
       "    <tr>\n",
       "      <td>min</td>\n",
       "      <td>1016.000000</td>\n",
       "      <td>308.642000</td>\n",
       "      <td>0.090330</td>\n",
       "      <td>6.300000</td>\n",
       "      <td>0.000000</td>\n",
       "    </tr>\n",
       "    <tr>\n",
       "      <td>25%</td>\n",
       "      <td>5292.500000</td>\n",
       "      <td>1403.055000</td>\n",
       "      <td>0.162130</td>\n",
       "      <td>70.500000</td>\n",
       "      <td>2.500000</td>\n",
       "    </tr>\n",
       "    <tr>\n",
       "      <td>50%</td>\n",
       "      <td>7416.000000</td>\n",
       "      <td>2791.900000</td>\n",
       "      <td>0.197653</td>\n",
       "      <td>119.000000</td>\n",
       "      <td>5.000000</td>\n",
       "    </tr>\n",
       "    <tr>\n",
       "      <td>75%</td>\n",
       "      <td>8830.500000</td>\n",
       "      <td>3992.805000</td>\n",
       "      <td>0.262689</td>\n",
       "      <td>815.000000</td>\n",
       "      <td>8.000000</td>\n",
       "    </tr>\n",
       "    <tr>\n",
       "      <td>max</td>\n",
       "      <td>12212.000000</td>\n",
       "      <td>4864.220000</td>\n",
       "      <td>0.464125</td>\n",
       "      <td>1300.000000</td>\n",
       "      <td>11.000000</td>\n",
       "    </tr>\n",
       "  </tbody>\n",
       "</table>\n",
       "</div>"
      ],
      "text/plain": [
       "               area         peri      shape         perm       tipo\n",
       "count     47.000000    47.000000  47.000000    47.000000  47.000000\n",
       "mean    7133.893617  2707.672191   0.218486   411.948936   5.382979\n",
       "std     2686.538958  1436.112876   0.084358   441.871828   3.429750\n",
       "min     1016.000000   308.642000   0.090330     6.300000   0.000000\n",
       "25%     5292.500000  1403.055000   0.162130    70.500000   2.500000\n",
       "50%     7416.000000  2791.900000   0.197653   119.000000   5.000000\n",
       "75%     8830.500000  3992.805000   0.262689   815.000000   8.000000\n",
       "max    12212.000000  4864.220000   0.464125  1300.000000  11.000000"
      ]
     },
     "execution_count": 219,
     "metadata": {},
     "output_type": "execute_result"
    }
   ],
   "source": [
    "df.describe()   # resumo estatístico do dataframe (faz as análises para cada coluna)"
   ]
  },
  {
   "cell_type": "code",
   "execution_count": 220,
   "metadata": {
    "colab": {},
    "colab_type": "code",
    "id": "Zjjdl_II9Ejp"
   },
   "outputs": [],
   "source": [
    "df_resumo = df.describe()"
   ]
  },
  {
   "cell_type": "code",
   "execution_count": 221,
   "metadata": {
    "colab": {},
    "colab_type": "code",
    "id": "eJ33G03a-KUp"
   },
   "outputs": [
    {
     "data": {
      "text/plain": [
       "pandas.core.frame.DataFrame"
      ]
     },
     "execution_count": 221,
     "metadata": {},
     "output_type": "execute_result"
    }
   ],
   "source": [
    "type(df_resumo)"
   ]
  },
  {
   "cell_type": "code",
   "execution_count": 223,
   "metadata": {
    "colab": {},
    "colab_type": "code",
    "id": "eg_9ybom9RvO"
   },
   "outputs": [],
   "source": [
    "df_resumo.to_excel('resumo_estatistico.xlsx')   # exporta o dataframe df_resumo para uma planilha do excel (na pasta que foi definido)"
   ]
  },
  {
   "cell_type": "code",
   "execution_count": 224,
   "metadata": {
    "colab": {},
    "colab_type": "code",
    "id": "-OxUExez-NGf"
   },
   "outputs": [
    {
     "data": {
      "text/html": [
       "<div>\n",
       "<style scoped>\n",
       "    .dataframe tbody tr th:only-of-type {\n",
       "        vertical-align: middle;\n",
       "    }\n",
       "\n",
       "    .dataframe tbody tr th {\n",
       "        vertical-align: top;\n",
       "    }\n",
       "\n",
       "    .dataframe thead th {\n",
       "        text-align: right;\n",
       "    }\n",
       "</style>\n",
       "<table border=\"1\" class=\"dataframe\">\n",
       "  <thead>\n",
       "    <tr style=\"text-align: right;\">\n",
       "      <th></th>\n",
       "      <th>area</th>\n",
       "      <th>peri</th>\n",
       "      <th>shape</th>\n",
       "      <th>perm</th>\n",
       "      <th>tipo</th>\n",
       "    </tr>\n",
       "  </thead>\n",
       "  <tbody>\n",
       "    <tr>\n",
       "      <td>count</td>\n",
       "      <td>47.00</td>\n",
       "      <td>47.00</td>\n",
       "      <td>47.00</td>\n",
       "      <td>47.00</td>\n",
       "      <td>47.00</td>\n",
       "    </tr>\n",
       "    <tr>\n",
       "      <td>mean</td>\n",
       "      <td>7133.89</td>\n",
       "      <td>2707.67</td>\n",
       "      <td>0.22</td>\n",
       "      <td>411.95</td>\n",
       "      <td>5.38</td>\n",
       "    </tr>\n",
       "    <tr>\n",
       "      <td>std</td>\n",
       "      <td>2686.54</td>\n",
       "      <td>1436.11</td>\n",
       "      <td>0.08</td>\n",
       "      <td>441.87</td>\n",
       "      <td>3.43</td>\n",
       "    </tr>\n",
       "    <tr>\n",
       "      <td>min</td>\n",
       "      <td>1016.00</td>\n",
       "      <td>308.64</td>\n",
       "      <td>0.09</td>\n",
       "      <td>6.30</td>\n",
       "      <td>0.00</td>\n",
       "    </tr>\n",
       "    <tr>\n",
       "      <td>25%</td>\n",
       "      <td>5292.50</td>\n",
       "      <td>1403.05</td>\n",
       "      <td>0.16</td>\n",
       "      <td>70.50</td>\n",
       "      <td>2.50</td>\n",
       "    </tr>\n",
       "    <tr>\n",
       "      <td>50%</td>\n",
       "      <td>7416.00</td>\n",
       "      <td>2791.90</td>\n",
       "      <td>0.20</td>\n",
       "      <td>119.00</td>\n",
       "      <td>5.00</td>\n",
       "    </tr>\n",
       "    <tr>\n",
       "      <td>75%</td>\n",
       "      <td>8830.50</td>\n",
       "      <td>3992.80</td>\n",
       "      <td>0.26</td>\n",
       "      <td>815.00</td>\n",
       "      <td>8.00</td>\n",
       "    </tr>\n",
       "    <tr>\n",
       "      <td>max</td>\n",
       "      <td>12212.00</td>\n",
       "      <td>4864.22</td>\n",
       "      <td>0.46</td>\n",
       "      <td>1300.00</td>\n",
       "      <td>11.00</td>\n",
       "    </tr>\n",
       "  </tbody>\n",
       "</table>\n",
       "</div>"
      ],
      "text/plain": [
       "           area     peri  shape     perm   tipo\n",
       "count     47.00    47.00  47.00    47.00  47.00\n",
       "mean    7133.89  2707.67   0.22   411.95   5.38\n",
       "std     2686.54  1436.11   0.08   441.87   3.43\n",
       "min     1016.00   308.64   0.09     6.30   0.00\n",
       "25%     5292.50  1403.05   0.16    70.50   2.50\n",
       "50%     7416.00  2791.90   0.20   119.00   5.00\n",
       "75%     8830.50  3992.80   0.26   815.00   8.00\n",
       "max    12212.00  4864.22   0.46  1300.00  11.00"
      ]
     },
     "execution_count": 224,
     "metadata": {},
     "output_type": "execute_result"
    }
   ],
   "source": [
    "df_resumo.apply(lambda x: round(x,2))    # função apply - está aplicando a função round em todos os termos do dataframe df (round define o número de casas decimais)"
   ]
  },
  {
   "cell_type": "code",
   "execution_count": null,
   "metadata": {
    "colab": {},
    "colab_type": "code",
    "id": "zS5laSBS_v7r"
   },
   "outputs": [],
   "source": []
  },
  {
   "cell_type": "markdown",
   "metadata": {
    "colab_type": "text",
    "id": "CLX9vMPbd3uc"
   },
   "source": [
    "# 4 - Matplotlib"
   ]
  },
  {
   "cell_type": "markdown",
   "metadata": {
    "colab_type": "text",
    "id": "UFi5djfG_PT-"
   },
   "source": [
    "* Uma das mais famosas bibliotecas de visualização de dados do Python\n",
    "\n",
    "* **Documentação:**\n",
    "\n",
    "https://matplotlib.org/\n",
    "\n",
    "https://matplotlib.org/users/index.html\n",
    "\n",
    "<br />\n",
    "Bem útil:\n",
    "\n",
    "https://matplotlib.org/tutorials/introductory/usage.html#sphx-glr-tutorials-introductory-usage-py\n",
    "\n"
   ]
  },
  {
   "cell_type": "code",
   "execution_count": 225,
   "metadata": {
    "colab": {},
    "colab_type": "code",
    "id": "KsZ92n57d_Fz"
   },
   "outputs": [],
   "source": [
    "import matplotlib.pyplot as plt\n",
    "import numpy as np"
   ]
  },
  {
   "cell_type": "code",
   "execution_count": 226,
   "metadata": {
    "colab": {},
    "colab_type": "code",
    "id": "xBo3WSeL_ljo"
   },
   "outputs": [],
   "source": [
    "x = np.arange(1,7)\n",
    "y = x**2"
   ]
  },
  {
   "cell_type": "code",
   "execution_count": 227,
   "metadata": {
    "colab": {},
    "colab_type": "code",
    "id": "0ZxV8db-_tPm"
   },
   "outputs": [
    {
     "name": "stdout",
     "output_type": "stream",
     "text": [
      "[1 2 3 4 5 6]\n",
      "[ 1  4  9 16 25 36]\n"
     ]
    }
   ],
   "source": [
    "print(x)\n",
    "print(y)"
   ]
  },
  {
   "cell_type": "code",
   "execution_count": 228,
   "metadata": {
    "colab": {},
    "colab_type": "code",
    "id": "pctoXvWmAG2-"
   },
   "outputs": [
    {
     "data": {
      "image/png": "[encoded data removed]",
      "text/plain": [
       "<Figure size 432x288 with 1 Axes>"
      ]
     },
     "metadata": {
      "needs_background": "light"
     },
     "output_type": "display_data"
    }
   ],
   "source": [
    "# Functional\n",
    "plt.plot(x,y)\n",
    "plt.show()"
   ]
  },
  {
   "cell_type": "code",
   "execution_count": 229,
   "metadata": {
    "colab": {},
    "colab_type": "code",
    "id": "B-hJ1hMyAHUK"
   },
   "outputs": [
    {
     "data": {
      "image/png": "[encoded data removed]",
      "text/plain": [
       "<Figure size 432x288 with 1 Axes>"
      ]
     },
     "metadata": {
      "needs_background": "light"
     },
     "output_type": "display_data"
    }
   ],
   "source": [
    "plt.plot(x,y, color = 'r',label='Quadrado')\n",
    "plt.legend()\n",
    "plt.show()\n"
   ]
  },
  {
   "cell_type": "code",
   "execution_count": 230,
   "metadata": {
    "colab": {},
    "colab_type": "code",
    "id": "fFxG_cePAF8y"
   },
   "outputs": [
    {
     "data": {
      "image/png": "[encoded data removed]",
      "text/plain": [
       "<Figure size 432x288 with 1 Axes>"
      ]
     },
     "metadata": {
      "needs_background": "light"
     },
     "output_type": "display_data"
    }
   ],
   "source": [
    "plt.plot(x,y, color = 'r',label='Quadrado')\n",
    "plt.plot(x,x**3,color = 'b', label='Cubo')\n",
    "plt.legend()\n",
    "plt.show()"
   ]
  },
  {
   "cell_type": "code",
   "execution_count": 231,
   "metadata": {
    "colab": {},
    "colab_type": "code",
    "id": "0eGjCqW_ANp5"
   },
   "outputs": [
    {
     "data": {
      "image/png": "[encoded data removed]",
      "text/plain": [
       "<Figure size 720x360 with 1 Axes>"
      ]
     },
     "metadata": {
      "needs_background": "light"
     },
     "output_type": "display_data"
    }
   ],
   "source": [
    "plt.figure(figsize=(10,5))   # tamanho da figura\n",
    "plt.plot(x,y, '-r',label='Quadrado')   # \n",
    "plt.plot(x,x**3, '-g',label='Cubo')\n",
    "plt.legend(loc=0)\n",
    "plt.xlabel('Eixo X')\n",
    "plt.ylabel('Eixo Y')\n",
    "plt.title('Meu Grafico')\n",
    "plt.xlim(0,5)\n",
    "plt.ylim(0,30)\n",
    "plt.grid(b='on')\n",
    "#plt.savefig('Figura Exemplo.png')"
   ]
  },
  {
   "cell_type": "code",
   "execution_count": 232,
   "metadata": {
    "colab": {},
    "colab_type": "code",
    "id": "icM_NVAdAJNK"
   },
   "outputs": [
    {
     "data": {
      "image/png": "[encoded data removed]",
      "text/plain": [
       "<Figure size 432x288 with 1 Axes>"
      ]
     },
     "metadata": {
      "needs_background": "light"
     },
     "output_type": "display_data"
    }
   ],
   "source": [
    "dados = np.random.randint(0,1001,100)        # gera 100 números aleatórios inteiros de 0 a 1001\n",
    "plt.plot(list(range(100)),dados)\n",
    "plt.show()"
   ]
  },
  {
   "cell_type": "code",
   "execution_count": 233,
   "metadata": {
    "colab": {},
    "colab_type": "code",
    "id": "C55o7mB10_xw"
   },
   "outputs": [
    {
     "data": {
      "image/png": "[encoded data removed]",
      "text/plain": [
       "<Figure size 432x288 with 1 Axes>"
      ]
     },
     "metadata": {
      "needs_background": "light"
     },
     "output_type": "display_data"
    }
   ],
   "source": [
    "dados = np.random.randint(0,1001,100)        # gera 100 números aleatórios inteiros de 0 a 1001\n",
    "plt.plot(list(range(100)),dados,'--',lw = 3)\n",
    "plt.show()"
   ]
  },
  {
   "cell_type": "code",
   "execution_count": 234,
   "metadata": {
    "colab": {},
    "colab_type": "code",
    "id": "Nve59HlLCKNr"
   },
   "outputs": [
    {
     "data": {
      "image/png": "[encoded data removed]",
      "text/plain": [
       "<Figure size 432x288 with 1 Axes>"
      ]
     },
     "metadata": {
      "needs_background": "light"
     },
     "output_type": "display_data"
    }
   ],
   "source": [
    "plt.scatter(list(range(100)),dados,color = 'blue')     # gráfico de dispersão\n",
    "plt.xlim(0,100)\n",
    "plt.show()"
   ]
  },
  {
   "cell_type": "code",
   "execution_count": 235,
   "metadata": {
    "colab": {},
    "colab_type": "code",
    "id": "s5xJD79rCMNq"
   },
   "outputs": [
    {
     "data": {
      "image/png": "[encoded data removed]",
      "text/plain": [
       "<Figure size 432x288 with 1 Axes>"
      ]
     },
     "metadata": {
      "needs_background": "light"
     },
     "output_type": "display_data"
    }
   ],
   "source": [
    "plt.scatter(list(range(100)),dados, color='red', marker='*', label='Dados')\n",
    "plt.legend()\n",
    "plt.xlim(0,100)\n",
    "plt.ylim(0,1000)\n",
    "plt.title('Titulo Exemplo')\n",
    "plt.xlabel('Amostra')\n",
    "plt.ylabel('Valores')\n",
    "plt.show()"
   ]
  },
  {
   "cell_type": "code",
   "execution_count": 236,
   "metadata": {
    "colab": {},
    "colab_type": "code",
    "id": "7tRR4AH6ALO9"
   },
   "outputs": [
    {
     "data": {
      "image/png": "[encoded data removed]",
      "text/plain": [
       "<Figure size 432x288 with 1 Axes>"
      ]
     },
     "metadata": {
      "needs_background": "light"
     },
     "output_type": "display_data"
    }
   ],
   "source": [
    "# Histograma\n",
    "plt.hist(dados)\n",
    "plt.show()"
   ]
  },
  {
   "cell_type": "code",
   "execution_count": 237,
   "metadata": {
    "colab": {},
    "colab_type": "code",
    "id": "emZ_qKhECTzv"
   },
   "outputs": [
    {
     "data": {
      "image/png": "[encoded data removed]",
      "text/plain": [
       "<Figure size 432x288 with 1 Axes>"
      ]
     },
     "metadata": {
      "needs_background": "light"
     },
     "output_type": "display_data"
    }
   ],
   "source": [
    "plt.hist(dados, bins=12, color='orange')\n",
    "plt.show()"
   ]
  },
  {
   "cell_type": "code",
   "execution_count": 238,
   "metadata": {
    "colab": {},
    "colab_type": "code",
    "id": "8WFJpXbzCYjt"
   },
   "outputs": [
    {
     "data": {
      "image/png": "[encoded data removed]",
      "text/plain": [
       "<Figure size 432x288 with 1 Axes>"
      ]
     },
     "metadata": {
      "needs_background": "light"
     },
     "output_type": "display_data"
    }
   ],
   "source": [
    "\n",
    "plt.hist(dados, bins=12, color='purple', cumulative=True)\n",
    "plt.show()"
   ]
  },
  {
   "cell_type": "markdown",
   "metadata": {
    "colab_type": "text",
    "id": "Oziqfvucd8Lv"
   },
   "source": [
    "# 5 - Seaborn\n",
    "\n",
    "Pacote de gráficos baseado no matplotlib. Gráficos bonitos. "
   ]
  },
  {
   "cell_type": "markdown",
   "metadata": {
    "colab_type": "text",
    "id": "JKe7_HF-8EyQ"
   },
   "source": [
    "\n",
    "documentação:\n",
    "\n",
    "https://seaborn.pydata.org/\n",
    "\n",
    "https://seaborn.pydata.org/examples/index.html\n",
    "\n",
    "https://seaborn.pydata.org/tutorial.html"
   ]
  },
  {
   "cell_type": "code",
   "execution_count": 239,
   "metadata": {
    "colab": {},
    "colab_type": "code",
    "id": "LxOZt2qrd9u7"
   },
   "outputs": [],
   "source": [
    "import seaborn as sns"
   ]
  },
  {
   "cell_type": "code",
   "execution_count": 240,
   "metadata": {
    "colab": {},
    "colab_type": "code",
    "id": "gZPT-uoiCmUb"
   },
   "outputs": [
    {
     "data": {
      "text/html": [
       "<div>\n",
       "<style scoped>\n",
       "    .dataframe tbody tr th:only-of-type {\n",
       "        vertical-align: middle;\n",
       "    }\n",
       "\n",
       "    .dataframe tbody tr th {\n",
       "        vertical-align: top;\n",
       "    }\n",
       "\n",
       "    .dataframe thead th {\n",
       "        text-align: right;\n",
       "    }\n",
       "</style>\n",
       "<table border=\"1\" class=\"dataframe\">\n",
       "  <thead>\n",
       "    <tr style=\"text-align: right;\">\n",
       "      <th></th>\n",
       "      <th>area</th>\n",
       "      <th>peri</th>\n",
       "      <th>shape</th>\n",
       "      <th>perm</th>\n",
       "      <th>tipo</th>\n",
       "    </tr>\n",
       "  </thead>\n",
       "  <tbody>\n",
       "    <tr>\n",
       "      <td>1</td>\n",
       "      <td>4990</td>\n",
       "      <td>2791.90</td>\n",
       "      <td>0.090330</td>\n",
       "      <td>6.3</td>\n",
       "      <td>0</td>\n",
       "    </tr>\n",
       "    <tr>\n",
       "      <td>2</td>\n",
       "      <td>7002</td>\n",
       "      <td>3892.60</td>\n",
       "      <td>0.148622</td>\n",
       "      <td>6.3</td>\n",
       "      <td>0</td>\n",
       "    </tr>\n",
       "    <tr>\n",
       "      <td>3</td>\n",
       "      <td>7558</td>\n",
       "      <td>3930.66</td>\n",
       "      <td>0.183312</td>\n",
       "      <td>6.3</td>\n",
       "      <td>0</td>\n",
       "    </tr>\n",
       "    <tr>\n",
       "      <td>4</td>\n",
       "      <td>7352</td>\n",
       "      <td>3869.32</td>\n",
       "      <td>0.117063</td>\n",
       "      <td>6.3</td>\n",
       "      <td>0</td>\n",
       "    </tr>\n",
       "    <tr>\n",
       "      <td>5</td>\n",
       "      <td>7943</td>\n",
       "      <td>3948.54</td>\n",
       "      <td>0.122417</td>\n",
       "      <td>17.1</td>\n",
       "      <td>1</td>\n",
       "    </tr>\n",
       "  </tbody>\n",
       "</table>\n",
       "</div>"
      ],
      "text/plain": [
       "   area     peri     shape  perm  tipo\n",
       "1  4990  2791.90  0.090330   6.3     0\n",
       "2  7002  3892.60  0.148622   6.3     0\n",
       "3  7558  3930.66  0.183312   6.3     0\n",
       "4  7352  3869.32  0.117063   6.3     0\n",
       "5  7943  3948.54  0.122417  17.1     1"
      ]
     },
     "execution_count": 240,
     "metadata": {},
     "output_type": "execute_result"
    }
   ],
   "source": [
    "df.head()"
   ]
  },
  {
   "cell_type": "code",
   "execution_count": 241,
   "metadata": {
    "colab": {},
    "colab_type": "code",
    "id": "ZnWd08fQCrEw"
   },
   "outputs": [
    {
     "data": {
      "text/plain": [
       "<matplotlib.axes._subplots.AxesSubplot at 0x1c750419948>"
      ]
     },
     "execution_count": 241,
     "metadata": {},
     "output_type": "execute_result"
    },
    {
     "data": {
      "image/png": "[encoded data removed]",
      "text/plain": [
       "<Figure size 432x288 with 1 Axes>"
      ]
     },
     "metadata": {
      "needs_background": "light"
     },
     "output_type": "display_data"
    }
   ],
   "source": [
    "sns.distplot(df['area'])             # curva é o KDE (Kernel density estimation), uma forma muito comum de estimar a densidade dos dados"
   ]
  },
  {
   "cell_type": "code",
   "execution_count": 242,
   "metadata": {
    "colab": {},
    "colab_type": "code",
    "id": "Wue0vn9UCzRL"
   },
   "outputs": [
    {
     "data": {
      "text/plain": [
       "<matplotlib.axes._subplots.AxesSubplot at 0x1c7501e5a48>"
      ]
     },
     "execution_count": 242,
     "metadata": {},
     "output_type": "execute_result"
    },
    {
     "data": {
      "image/png": "[encoded data removed]",
      "text/plain": [
       "<Figure size 432x288 with 1 Axes>"
      ]
     },
     "metadata": {},
     "output_type": "display_data"
    }
   ],
   "source": [
    "sns.set_style(\"whitegrid\")\n",
    "sns.distplot(df['area'])"
   ]
  },
  {
   "cell_type": "code",
   "execution_count": 243,
   "metadata": {
    "colab": {},
    "colab_type": "code",
    "id": "W7Hjesu0C9AU"
   },
   "outputs": [
    {
     "data": {
      "text/plain": [
       "<matplotlib.axes._subplots.AxesSubplot at 0x1c750288548>"
      ]
     },
     "execution_count": 243,
     "metadata": {},
     "output_type": "execute_result"
    },
    {
     "data": {
      "image/png": "[encoded data removed]",
      "text/plain": [
       "<Figure size 432x288 with 1 Axes>"
      ]
     },
     "metadata": {},
     "output_type": "display_data"
    }
   ],
   "source": [
    "sns.distplot(df['area'],kde=False)          # kde = kernel density estimation"
   ]
  },
  {
   "cell_type": "code",
   "execution_count": 244,
   "metadata": {
    "colab": {},
    "colab_type": "code",
    "id": "x_5234JfDE7f"
   },
   "outputs": [
    {
     "data": {
      "text/plain": [
       "<matplotlib.axes._subplots.AxesSubplot at 0x1c75480d088>"
      ]
     },
     "execution_count": 244,
     "metadata": {},
     "output_type": "execute_result"
    },
    {
     "data": {
      "image/png": "[encoded data removed]",
      "text/plain": [
       "<Figure size 432x288 with 1 Axes>"
      ]
     },
     "metadata": {},
     "output_type": "display_data"
    }
   ],
   "source": [
    "sns.distplot(df['area'],kde=False,bins=20,color='purple')"
   ]
  },
  {
   "cell_type": "code",
   "execution_count": 245,
   "metadata": {
    "colab": {},
    "colab_type": "code",
    "id": "bWBqtZYS4sQ9"
   },
   "outputs": [
    {
     "data": {
      "text/html": [
       "<div>\n",
       "<style scoped>\n",
       "    .dataframe tbody tr th:only-of-type {\n",
       "        vertical-align: middle;\n",
       "    }\n",
       "\n",
       "    .dataframe tbody tr th {\n",
       "        vertical-align: top;\n",
       "    }\n",
       "\n",
       "    .dataframe thead th {\n",
       "        text-align: right;\n",
       "    }\n",
       "</style>\n",
       "<table border=\"1\" class=\"dataframe\">\n",
       "  <thead>\n",
       "    <tr style=\"text-align: right;\">\n",
       "      <th></th>\n",
       "      <th>area</th>\n",
       "      <th>peri</th>\n",
       "      <th>shape</th>\n",
       "      <th>perm</th>\n",
       "      <th>tipo</th>\n",
       "    </tr>\n",
       "  </thead>\n",
       "  <tbody>\n",
       "    <tr>\n",
       "      <td>1</td>\n",
       "      <td>4990</td>\n",
       "      <td>2791.90</td>\n",
       "      <td>0.090330</td>\n",
       "      <td>6.3</td>\n",
       "      <td>0</td>\n",
       "    </tr>\n",
       "    <tr>\n",
       "      <td>2</td>\n",
       "      <td>7002</td>\n",
       "      <td>3892.60</td>\n",
       "      <td>0.148622</td>\n",
       "      <td>6.3</td>\n",
       "      <td>0</td>\n",
       "    </tr>\n",
       "    <tr>\n",
       "      <td>3</td>\n",
       "      <td>7558</td>\n",
       "      <td>3930.66</td>\n",
       "      <td>0.183312</td>\n",
       "      <td>6.3</td>\n",
       "      <td>0</td>\n",
       "    </tr>\n",
       "    <tr>\n",
       "      <td>4</td>\n",
       "      <td>7352</td>\n",
       "      <td>3869.32</td>\n",
       "      <td>0.117063</td>\n",
       "      <td>6.3</td>\n",
       "      <td>0</td>\n",
       "    </tr>\n",
       "    <tr>\n",
       "      <td>5</td>\n",
       "      <td>7943</td>\n",
       "      <td>3948.54</td>\n",
       "      <td>0.122417</td>\n",
       "      <td>17.1</td>\n",
       "      <td>1</td>\n",
       "    </tr>\n",
       "  </tbody>\n",
       "</table>\n",
       "</div>"
      ],
      "text/plain": [
       "   area     peri     shape  perm  tipo\n",
       "1  4990  2791.90  0.090330   6.3     0\n",
       "2  7002  3892.60  0.148622   6.3     0\n",
       "3  7558  3930.66  0.183312   6.3     0\n",
       "4  7352  3869.32  0.117063   6.3     0\n",
       "5  7943  3948.54  0.122417  17.1     1"
      ]
     },
     "execution_count": 245,
     "metadata": {},
     "output_type": "execute_result"
    }
   ],
   "source": [
    "df.head()"
   ]
  },
  {
   "cell_type": "code",
   "execution_count": 246,
   "metadata": {
    "colab": {},
    "colab_type": "code",
    "id": "r3QrxdvS4zo0"
   },
   "outputs": [],
   "source": [
    "df.drop(['tipo'],axis=1, inplace = True)"
   ]
  },
  {
   "cell_type": "code",
   "execution_count": 247,
   "metadata": {
    "colab": {},
    "colab_type": "code",
    "id": "W_PJhIM9ARjH"
   },
   "outputs": [
    {
     "data": {
      "text/plain": [
       "<seaborn.axisgrid.PairGrid at 0x1c754906ec8>"
      ]
     },
     "execution_count": 247,
     "metadata": {},
     "output_type": "execute_result"
    },
    {
     "data": {
      "image/png": "[encoded data removed]",
      "text/plain": [
       "<Figure size 720x720 with 20 Axes>"
      ]
     },
     "metadata": {},
     "output_type": "display_data"
    }
   ],
   "source": [
    "sns.set(font_scale=1.5,style=\"whitegrid\")\n",
    "sns.pairplot(df)  # utiliza as colunas numericas"
   ]
  },
  {
   "cell_type": "code",
   "execution_count": 248,
   "metadata": {
    "colab": {},
    "colab_type": "code",
    "id": "GqUzAWjVGUEU"
   },
   "outputs": [
    {
     "data": {
      "text/html": [
       "<div>\n",
       "<style scoped>\n",
       "    .dataframe tbody tr th:only-of-type {\n",
       "        vertical-align: middle;\n",
       "    }\n",
       "\n",
       "    .dataframe tbody tr th {\n",
       "        vertical-align: top;\n",
       "    }\n",
       "\n",
       "    .dataframe thead th {\n",
       "        text-align: right;\n",
       "    }\n",
       "</style>\n",
       "<table border=\"1\" class=\"dataframe\">\n",
       "  <thead>\n",
       "    <tr style=\"text-align: right;\">\n",
       "      <th></th>\n",
       "      <th>area</th>\n",
       "      <th>peri</th>\n",
       "      <th>shape</th>\n",
       "      <th>perm</th>\n",
       "    </tr>\n",
       "  </thead>\n",
       "  <tbody>\n",
       "    <tr>\n",
       "      <td>area</td>\n",
       "      <td>1.000000</td>\n",
       "      <td>0.854366</td>\n",
       "      <td>-0.179657</td>\n",
       "      <td>-0.408927</td>\n",
       "    </tr>\n",
       "    <tr>\n",
       "      <td>peri</td>\n",
       "      <td>0.854366</td>\n",
       "      <td>1.000000</td>\n",
       "      <td>-0.440537</td>\n",
       "      <td>-0.738643</td>\n",
       "    </tr>\n",
       "    <tr>\n",
       "      <td>shape</td>\n",
       "      <td>-0.179657</td>\n",
       "      <td>-0.440537</td>\n",
       "      <td>1.000000</td>\n",
       "      <td>0.559580</td>\n",
       "    </tr>\n",
       "    <tr>\n",
       "      <td>perm</td>\n",
       "      <td>-0.408927</td>\n",
       "      <td>-0.738643</td>\n",
       "      <td>0.559580</td>\n",
       "      <td>1.000000</td>\n",
       "    </tr>\n",
       "  </tbody>\n",
       "</table>\n",
       "</div>"
      ],
      "text/plain": [
       "           area      peri     shape      perm\n",
       "area   1.000000  0.854366 -0.179657 -0.408927\n",
       "peri   0.854366  1.000000 -0.440537 -0.738643\n",
       "shape -0.179657 -0.440537  1.000000  0.559580\n",
       "perm  -0.408927 -0.738643  0.559580  1.000000"
      ]
     },
     "execution_count": 248,
     "metadata": {},
     "output_type": "execute_result"
    }
   ],
   "source": [
    "df_cor = df.corr()\n",
    "df_cor"
   ]
  },
  {
   "cell_type": "code",
   "execution_count": 249,
   "metadata": {
    "colab": {},
    "colab_type": "code",
    "id": "4ylRcZiVGcZF"
   },
   "outputs": [
    {
     "data": {
      "text/plain": [
       "<matplotlib.axes._subplots.AxesSubplot at 0x1c752b25708>"
      ]
     },
     "execution_count": 249,
     "metadata": {},
     "output_type": "execute_result"
    },
    {
     "data": {
      "image/png": "[encoded data removed]",
      "text/plain": [
       "<Figure size 720x576 with 2 Axes>"
      ]
     },
     "metadata": {},
     "output_type": "display_data"
    }
   ],
   "source": [
    "plt.figure(figsize=(10,8))   # tamanho da figura\n",
    "sns.heatmap(df_cor)"
   ]
  },
  {
   "cell_type": "code",
   "execution_count": 250,
   "metadata": {
    "colab": {},
    "colab_type": "code",
    "id": "hVGhGkExGkyg"
   },
   "outputs": [
    {
     "data": {
      "text/plain": [
       "<matplotlib.axes._subplots.AxesSubplot at 0x1c7545354c8>"
      ]
     },
     "execution_count": 250,
     "metadata": {},
     "output_type": "execute_result"
    },
    {
     "data": {
      "image/png": "[encoded data removed]",
      "text/plain": [
       "<Figure size 432x288 with 2 Axes>"
      ]
     },
     "metadata": {},
     "output_type": "display_data"
    }
   ],
   "source": [
    "sns.heatmap(df_cor, annot=True)"
   ]
  },
  {
   "cell_type": "code",
   "execution_count": 251,
   "metadata": {
    "colab": {},
    "colab_type": "code",
    "id": "oqHwBvx5GrJZ"
   },
   "outputs": [
    {
     "data": {
      "text/plain": [
       "<matplotlib.axes._subplots.AxesSubplot at 0x1c752d16208>"
      ]
     },
     "execution_count": 251,
     "metadata": {},
     "output_type": "execute_result"
    },
    {
     "data": {
      "image/png": "[encoded data removed]",
      "text/plain": [
       "<Figure size 432x288 with 2 Axes>"
      ]
     },
     "metadata": {},
     "output_type": "display_data"
    }
   ],
   "source": [
    "sns.heatmap(df_cor, annot=True, cmap='coolwarm')"
   ]
  },
  {
   "cell_type": "code",
   "execution_count": 252,
   "metadata": {
    "colab": {},
    "colab_type": "code",
    "id": "hikwIiq6GxQT"
   },
   "outputs": [
    {
     "data": {
      "text/plain": [
       "<matplotlib.axes._subplots.AxesSubplot at 0x1c7524e4b08>"
      ]
     },
     "execution_count": 252,
     "metadata": {},
     "output_type": "execute_result"
    },
    {
     "data": {
      "image/png": "[encoded data removed]",
      "text/plain": [
       "<Figure size 432x288 with 2 Axes>"
      ]
     },
     "metadata": {},
     "output_type": "display_data"
    }
   ],
   "source": [
    "sns.heatmap(df_cor, annot=True, cmap='coolwarm', linecolor='white', linewidths=0.5)"
   ]
  },
  {
   "cell_type": "code",
   "execution_count": 253,
   "metadata": {
    "colab": {},
    "colab_type": "code",
    "id": "kv7pfPvG5_cO"
   },
   "outputs": [
    {
     "data": {
      "text/plain": [
       "<matplotlib.axes._subplots.AxesSubplot at 0x1c752551208>"
      ]
     },
     "execution_count": 253,
     "metadata": {},
     "output_type": "execute_result"
    },
    {
     "data": {
      "image/png": "[encoded data removed]",
      "text/plain": [
       "<Figure size 720x576 with 2 Axes>"
      ]
     },
     "metadata": {},
     "output_type": "display_data"
    }
   ],
   "source": [
    "plt.figure(figsize=(10,8))   # tamanho da figura\n",
    "cmap1 = sns.color_palette(\"RdBu\", 10)\n",
    "sns.heatmap(df_cor,  cmap=cmap1,xticklabels = df_cor.columns, yticklabels = df_cor.columns)"
   ]
  },
  {
   "cell_type": "code",
   "execution_count": 254,
   "metadata": {
    "colab": {},
    "colab_type": "code",
    "id": "YV8LrM6cHK8V"
   },
   "outputs": [
    {
     "data": {
      "text/html": [
       "<div>\n",
       "<style scoped>\n",
       "    .dataframe tbody tr th:only-of-type {\n",
       "        vertical-align: middle;\n",
       "    }\n",
       "\n",
       "    .dataframe tbody tr th {\n",
       "        vertical-align: top;\n",
       "    }\n",
       "\n",
       "    .dataframe thead th {\n",
       "        text-align: right;\n",
       "    }\n",
       "</style>\n",
       "<table border=\"1\" class=\"dataframe\">\n",
       "  <thead>\n",
       "    <tr style=\"text-align: right;\">\n",
       "      <th></th>\n",
       "      <th>area</th>\n",
       "      <th>peri</th>\n",
       "      <th>shape</th>\n",
       "      <th>perm</th>\n",
       "    </tr>\n",
       "  </thead>\n",
       "  <tbody>\n",
       "    <tr>\n",
       "      <td>1</td>\n",
       "      <td>4990</td>\n",
       "      <td>2791.90</td>\n",
       "      <td>0.090330</td>\n",
       "      <td>6.3</td>\n",
       "    </tr>\n",
       "    <tr>\n",
       "      <td>2</td>\n",
       "      <td>7002</td>\n",
       "      <td>3892.60</td>\n",
       "      <td>0.148622</td>\n",
       "      <td>6.3</td>\n",
       "    </tr>\n",
       "    <tr>\n",
       "      <td>3</td>\n",
       "      <td>7558</td>\n",
       "      <td>3930.66</td>\n",
       "      <td>0.183312</td>\n",
       "      <td>6.3</td>\n",
       "    </tr>\n",
       "    <tr>\n",
       "      <td>4</td>\n",
       "      <td>7352</td>\n",
       "      <td>3869.32</td>\n",
       "      <td>0.117063</td>\n",
       "      <td>6.3</td>\n",
       "    </tr>\n",
       "    <tr>\n",
       "      <td>5</td>\n",
       "      <td>7943</td>\n",
       "      <td>3948.54</td>\n",
       "      <td>0.122417</td>\n",
       "      <td>17.1</td>\n",
       "    </tr>\n",
       "  </tbody>\n",
       "</table>\n",
       "</div>"
      ],
      "text/plain": [
       "   area     peri     shape  perm\n",
       "1  4990  2791.90  0.090330   6.3\n",
       "2  7002  3892.60  0.148622   6.3\n",
       "3  7558  3930.66  0.183312   6.3\n",
       "4  7352  3869.32  0.117063   6.3\n",
       "5  7943  3948.54  0.122417  17.1"
      ]
     },
     "execution_count": 254,
     "metadata": {},
     "output_type": "execute_result"
    }
   ],
   "source": [
    "df.head()"
   ]
  },
  {
   "cell_type": "code",
   "execution_count": 255,
   "metadata": {
    "colab": {},
    "colab_type": "code",
    "id": "vkfp-RrGAY2D"
   },
   "outputs": [
    {
     "data": {
      "text/plain": [
       "<seaborn.axisgrid.FacetGrid at 0x1c752585748>"
      ]
     },
     "execution_count": 255,
     "metadata": {},
     "output_type": "execute_result"
    },
    {
     "data": {
      "image/png": "[encoded data removed]",
      "text/plain": [
       "<Figure size 360x360 with 1 Axes>"
      ]
     },
     "metadata": {},
     "output_type": "display_data"
    }
   ],
   "source": [
    "#Regression Plots\n",
    "sns.lmplot(x='area', y='perm', data=df) \n"
   ]
  },
  {
   "cell_type": "code",
   "execution_count": 256,
   "metadata": {
    "colab": {},
    "colab_type": "code",
    "id": "jiTXAZX2G_RF"
   },
   "outputs": [
    {
     "data": {
      "text/plain": [
       "<seaborn.axisgrid.FacetGrid at 0x1c7524b0a48>"
      ]
     },
     "execution_count": 256,
     "metadata": {},
     "output_type": "execute_result"
    },
    {
     "data": {
      "image/png": "[encoded data removed]",
      "text/plain": [
       "<Figure size 360x360 with 1 Axes>"
      ]
     },
     "metadata": {},
     "output_type": "display_data"
    }
   ],
   "source": [
    "sns.lmplot(x='area', y='perm', data=df, fit_reg=False)"
   ]
  },
  {
   "cell_type": "code",
   "execution_count": 257,
   "metadata": {
    "colab": {},
    "colab_type": "code",
    "id": "3cMzNzX_HG6t"
   },
   "outputs": [
    {
     "name": "stderr",
     "output_type": "stream",
     "text": [
      "C:\\Users\\clara\\AppData\\Local\\Continuum\\anaconda3\\lib\\site-packages\\seaborn\\regression.py:546: UserWarning: The `size` paramter has been renamed to `height`; please update your code.\n",
      "  warnings.warn(msg, UserWarning)\n"
     ]
    },
    {
     "data": {
      "text/plain": [
       "<seaborn.axisgrid.FacetGrid at 0x1c7527b7788>"
      ]
     },
     "execution_count": 257,
     "metadata": {},
     "output_type": "execute_result"
    },
    {
     "data": {
      "image/png": "[encoded data removed]",
      "text/plain": [
       "<Figure size 691.2x576 with 1 Axes>"
      ]
     },
     "metadata": {},
     "output_type": "display_data"
    }
   ],
   "source": [
    "sns.lmplot(x='area', y='perm', data=df,aspect=1.2,size=8) # aspect= vertical/horizontal"
   ]
  },
  {
   "cell_type": "code",
   "execution_count": 258,
   "metadata": {
    "colab": {},
    "colab_type": "code",
    "id": "72W482r36rHZ"
   },
   "outputs": [
    {
     "data": {
      "text/plain": [
       "<matplotlib.axes._subplots.AxesSubplot at 0x1c7528b5108>"
      ]
     },
     "execution_count": 258,
     "metadata": {},
     "output_type": "execute_result"
    },
    {
     "data": {
      "image/png": "[encoded data removed]",
      "text/plain": [
       "<Figure size 432x288 with 1 Axes>"
      ]
     },
     "metadata": {},
     "output_type": "display_data"
    }
   ],
   "source": [
    "# boxplot\n",
    "sns.boxplot(x=\"variable\", y=\"value\", data=pd.melt(df))    # boxplot de todas as variáveis do dataframe"
   ]
  },
  {
   "cell_type": "code",
   "execution_count": 259,
   "metadata": {
    "colab": {},
    "colab_type": "code",
    "id": "4wW-5Zwe7G2Q"
   },
   "outputs": [
    {
     "data": {
      "text/plain": [
       "<matplotlib.axes._subplots.AxesSubplot at 0x1c751f7db88>"
      ]
     },
     "execution_count": 259,
     "metadata": {},
     "output_type": "execute_result"
    },
    {
     "data": {
      "image/png": "[encoded data removed]",
      "text/plain": [
       "<Figure size 216x432 with 1 Axes>"
      ]
     },
     "metadata": {},
     "output_type": "display_data"
    }
   ],
   "source": [
    "sns.set(font_scale=1.3,style=\"whitegrid\")\n",
    "plt.figure(figsize=(3,6))\n",
    "sns.boxplot(y=df['area'],showmeans=True,meanprops={\"marker\":\"s\",\n",
    "                       \"markerfacecolor\":\"red\", \n",
    "                       \"markeredgecolor\":\"red\",\n",
    "                      \"markersize\":\"10\"})"
   ]
  },
  {
   "cell_type": "code",
   "execution_count": null,
   "metadata": {
    "colab": {},
    "colab_type": "code",
    "id": "EEDAErBbIwP_"
   },
   "outputs": [],
   "source": []
  }
 ],
 "metadata": {
  "colab": {
   "collapsed_sections": [
    "1MZVgsVEdZ9p",
    "Tv9iWRNwjDY9",
    "UJkXaXZ5jahg",
    "3t1RE2rErYdY",
    "wgtzYprIx3OI"
   ],
   "name": "AulaPratica1.ipynb",
   "provenance": [],
   "toc_visible": true
  },
  "kernelspec": {
   "display_name": "Python 3",
   "language": "python",
   "name": "python3"
  },
  "language_info": {
   "codemirror_mode": {
    "name": "ipython",
    "version": 3
   },
   "file_extension": ".py",
   "mimetype": "text/x-python",
   "name": "python",
   "nbconvert_exporter": "python",
   "pygments_lexer": "ipython3",
   "version": "3.7.4"
  }
 },
 "nbformat": 4,
 "nbformat_minor": 1
}
