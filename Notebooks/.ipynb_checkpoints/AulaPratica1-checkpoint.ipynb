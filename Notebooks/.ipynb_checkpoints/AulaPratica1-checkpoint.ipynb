{
 "cells": [
  {
   "cell_type": "markdown",
   "metadata": {
    "colab_type": "text",
    "id": "52OdmD7ydh4k"
   },
   "source": [
    "# <font color=green> **AULA PRÁTICA 1**\n",
    "-----\n",
    "\n",
    "## Objetivo:\n",
    "Apresentar o Python e as principais ferramentas necessárias para inicializar o estudo de Ciência de Dados\n",
    "\n",
    "\n",
    "## Tópicos:\n",
    "1.   Python Básico\n",
    "2.   Numpy\n",
    "3.   Pandas\n",
    "4.   Matplotlib\n",
    "5.   Seaborn\n",
    "\n",
    "\n",
    "\n",
    "\n"
   ]
  },
  {
   "cell_type": "markdown",
   "metadata": {
    "colab_type": "text",
    "id": "1MZVgsVEdZ9p"
   },
   "source": [
    "----\n",
    "# 1 - Python Básico"
   ]
  },
  {
   "cell_type": "code",
   "execution_count": null,
   "metadata": {
    "colab": {},
    "colab_type": "code",
    "id": "cwzu_EMfdlaf"
   },
   "outputs": [],
   "source": [
    "# Atalhos:\n",
    "\n",
    "# Ctrl + Enter -> rodar a célula\n",
    "# Shift + Enter -> rodar a célula e ir para próxima linha\n",
    "# Alt + Enter -> rodar a célula e inserir nova célula imediatamente após "
   ]
  },
  {
   "cell_type": "markdown",
   "metadata": {
    "colab_type": "text",
    "id": "Tv9iWRNwjDY9"
   },
   "source": [
    "### 1.1 Operações matemáticas"
   ]
  },
  {
   "cell_type": "code",
   "execution_count": 1,
   "metadata": {
    "colab": {},
    "colab_type": "code",
    "id": "Eze7EaXQg9Lq"
   },
   "outputs": [
    {
     "data": {
      "text/plain": [
       "9"
      ]
     },
     "execution_count": 1,
     "metadata": {},
     "output_type": "execute_result"
    }
   ],
   "source": [
    "# adição\n",
    "2 + 7      "
   ]
  },
  {
   "cell_type": "code",
   "execution_count": 2,
   "metadata": {
    "colab": {},
    "colab_type": "code",
    "id": "DWrtBjwPiXTd"
   },
   "outputs": [
    {
     "data": {
      "text/plain": [
       "-5"
      ]
     },
     "execution_count": 2,
     "metadata": {},
     "output_type": "execute_result"
    }
   ],
   "source": [
    "# subtração\n",
    "2 - 7      "
   ]
  },
  {
   "cell_type": "code",
   "execution_count": 3,
   "metadata": {
    "colab": {},
    "colab_type": "code",
    "id": "e8xjSu8RiXhU"
   },
   "outputs": [
    {
     "data": {
      "text/plain": [
       "6"
      ]
     },
     "execution_count": 3,
     "metadata": {},
     "output_type": "execute_result"
    }
   ],
   "source": [
    "# multiplicação\n",
    "2 * 3"
   ]
  },
  {
   "cell_type": "code",
   "execution_count": 4,
   "metadata": {
    "colab": {},
    "colab_type": "code",
    "id": "SHYpdHPGiXpE"
   },
   "outputs": [
    {
     "data": {
      "text/plain": [
       "3.5"
      ]
     },
     "execution_count": 4,
     "metadata": {},
     "output_type": "execute_result"
    }
   ],
   "source": [
    "# divisão\n",
    "7/2        "
   ]
  },
  {
   "cell_type": "code",
   "execution_count": 5,
   "metadata": {
    "colab": {},
    "colab_type": "code",
    "id": "tc7U6mw6iX2E"
   },
   "outputs": [
    {
     "data": {
      "text/plain": [
       "3"
      ]
     },
     "execution_count": 5,
     "metadata": {},
     "output_type": "execute_result"
    }
   ],
   "source": [
    "# retorna apenas parte inteira\n",
    "7 // 2     "
   ]
  },
  {
   "cell_type": "code",
   "execution_count": 6,
   "metadata": {
    "colab": {},
    "colab_type": "code",
    "id": "bYn1fK9Iie5Z"
   },
   "outputs": [
    {
     "data": {
      "text/plain": [
       "32"
      ]
     },
     "execution_count": 6,
     "metadata": {},
     "output_type": "execute_result"
    }
   ],
   "source": [
    "# exponenciação\n",
    "2 ** 5     "
   ]
  },
  {
   "cell_type": "code",
   "execution_count": 7,
   "metadata": {
    "colab": {},
    "colab_type": "code",
    "id": "cAKO3f5IifGA"
   },
   "outputs": [
    {
     "data": {
      "text/plain": [
       "1"
      ]
     },
     "execution_count": 7,
     "metadata": {},
     "output_type": "execute_result"
    }
   ],
   "source": [
    "# resto da divisão\n",
    "5 % 2      "
   ]
  },
  {
   "cell_type": "code",
   "execution_count": 8,
   "metadata": {
    "colab": {},
    "colab_type": "code",
    "id": "UC2TBif7ifLo"
   },
   "outputs": [
    {
     "data": {
      "text/plain": [
       "0"
      ]
     },
     "execution_count": 8,
     "metadata": {},
     "output_type": "execute_result"
    }
   ],
   "source": [
    "# resto da divisão\n",
    "6 % 2      "
   ]
  },
  {
   "cell_type": "code",
   "execution_count": 9,
   "metadata": {
    "colab": {},
    "colab_type": "code",
    "id": "8vakDhl6hpVL"
   },
   "outputs": [
    {
     "data": {
      "text/plain": [
       "41"
      ]
     },
     "execution_count": 9,
     "metadata": {},
     "output_type": "execute_result"
    }
   ],
   "source": [
    "# Expressões matemáticas\n",
    "2**5 + 3**2"
   ]
  },
  {
   "cell_type": "markdown",
   "metadata": {
    "colab_type": "text",
    "id": "r5ecE_mCgxGA"
   },
   "source": [
    "### 1.2 Variáveis"
   ]
  },
  {
   "cell_type": "markdown",
   "metadata": {
    "colab_type": "text",
    "id": "nNhpC_6qnZSL"
   },
   "source": [
    "Sabendo que a fórmula da porosidade é dada por:\n",
    "\n",
    "> $\\Phi = 100 *\\frac{VP}{Vt}$\n",
    "\n",
    "Calcular a porosidade, considerando que o volume de poros (VP) é $67 cm^3$, volume total (Vt) é $269.39 cm^3$.\n",
    "\n"
   ]
  },
  {
   "cell_type": "code",
   "execution_count": 10,
   "metadata": {
    "colab": {},
    "colab_type": "code",
    "id": "W2z9pvcQnYft"
   },
   "outputs": [
    {
     "data": {
      "text/plain": [
       "24.871004862838266"
      ]
     },
     "execution_count": 10,
     "metadata": {},
     "output_type": "execute_result"
    }
   ],
   "source": [
    "100*67/269.39"
   ]
  },
  {
   "cell_type": "code",
   "execution_count": 11,
   "metadata": {
    "colab": {},
    "colab_type": "code",
    "id": "TdNdrlqkcIW-"
   },
   "outputs": [
    {
     "data": {
      "text/plain": [
       "24.87"
      ]
     },
     "execution_count": 11,
     "metadata": {},
     "output_type": "execute_result"
    }
   ],
   "source": [
    "round(100*67/269.39,2)     # round(number, digits) -> define o número de casas decimais"
   ]
  },
  {
   "cell_type": "code",
   "execution_count": 12,
   "metadata": {
    "colab": {},
    "colab_type": "code",
    "id": "Mf6UMpVTb9Xg"
   },
   "outputs": [],
   "source": [
    "# definindo variáveis\n",
    "vp = 67\n",
    "vt = 269.39"
   ]
  },
  {
   "cell_type": "code",
   "execution_count": 13,
   "metadata": {
    "colab": {},
    "colab_type": "code",
    "id": "idhr1uUwsZwI"
   },
   "outputs": [],
   "source": [
    "# definindo variáveis\n",
    "porosidade = 100*vp/vt"
   ]
  },
  {
   "cell_type": "code",
   "execution_count": 14,
   "metadata": {
    "colab": {},
    "colab_type": "code",
    "id": "nu3JTJHmtUMy"
   },
   "outputs": [
    {
     "data": {
      "text/plain": [
       "24.871004862838266"
      ]
     },
     "execution_count": 14,
     "metadata": {},
     "output_type": "execute_result"
    }
   ],
   "source": [
    "porosidade"
   ]
  },
  {
   "cell_type": "code",
   "execution_count": 15,
   "metadata": {
    "colab": {},
    "colab_type": "code",
    "id": "5xhtVaXXtk9s"
   },
   "outputs": [
    {
     "data": {
      "text/plain": [
       "24.871004862838266"
      ]
     },
     "execution_count": 15,
     "metadata": {},
     "output_type": "execute_result"
    }
   ],
   "source": [
    "vp = 70\n",
    "vt = 250\n",
    "porosidade"
   ]
  },
  {
   "cell_type": "code",
   "execution_count": 16,
   "metadata": {
    "colab": {},
    "colab_type": "code",
    "id": "uIDwwtMMw7h4"
   },
   "outputs": [
    {
     "data": {
      "text/plain": [
       "28.0"
      ]
     },
     "execution_count": 16,
     "metadata": {},
     "output_type": "execute_result"
    }
   ],
   "source": [
    "# definindo variáveis\n",
    "porosidade = 100*vp/vt\n",
    "porosidade"
   ]
  },
  {
   "cell_type": "code",
   "execution_count": 17,
   "metadata": {
    "colab": {},
    "colab_type": "code",
    "id": "AEVoM87RvNAR"
   },
   "outputs": [
    {
     "ename": "NameError",
     "evalue": "name 'Porosidade' is not defined",
     "output_type": "error",
     "traceback": [
      "\u001b[1;31m---------------------------------------------------------------------------\u001b[0m",
      "\u001b[1;31mNameError\u001b[0m                                 Traceback (most recent call last)",
      "\u001b[1;32m<ipython-input-17-2a54136dd91a>\u001b[0m in \u001b[0;36m<module>\u001b[1;34m\u001b[0m\n\u001b[1;32m----> 1\u001b[1;33m \u001b[0mPorosidade\u001b[0m   \u001b[1;31m# irá dar erro - Python é case sensitive (tem diferença entre maiusculo e minusculo)\u001b[0m\u001b[1;33m\u001b[0m\u001b[1;33m\u001b[0m\u001b[0m\n\u001b[0m",
      "\u001b[1;31mNameError\u001b[0m: name 'Porosidade' is not defined"
     ]
    }
   ],
   "source": [
    "Porosidade   # irá dar erro - Python é case sensitive (tem diferença entre maiusculo e minusculo)"
   ]
  },
  {
   "cell_type": "markdown",
   "metadata": {
    "colab_type": "text",
    "id": "dArwBCHqxea6"
   },
   "source": [
    "### 1.3 Tipos de dados"
   ]
  },
  {
   "cell_type": "markdown",
   "metadata": {
    "colab_type": "text",
    "id": "Bij3ar6Q1mr0"
   },
   "source": [
    "Os tipos básicos de dados do Python são:\n",
    "\n",
    "1. **Números**\n",
    "    * ***int*** - Inteiros\n",
    "    * ***float*** - Ponto flutuante\n",
    "2. **Booleanos** - Assume os valores True ou False. Para declarações condicionais\n",
    "3. ***Strings*** - Representa um texto.\n",
    "4. **None** - Representa a ausência de valor"
   ]
  },
  {
   "cell_type": "code",
   "execution_count": 18,
   "metadata": {
    "colab": {},
    "colab_type": "code",
    "id": "WIvidLeWxb2h"
   },
   "outputs": [
    {
     "data": {
      "text/plain": [
       "int"
      ]
     },
     "execution_count": 18,
     "metadata": {},
     "output_type": "execute_result"
    }
   ],
   "source": [
    "# int\n",
    "ano = 2020\n",
    "type(ano)"
   ]
  },
  {
   "cell_type": "code",
   "execution_count": 19,
   "metadata": {
    "colab": {},
    "colab_type": "code",
    "id": "zOhmU0yw7huS"
   },
   "outputs": [
    {
     "data": {
      "text/plain": [
       "float"
      ]
     },
     "execution_count": 19,
     "metadata": {},
     "output_type": "execute_result"
    }
   ],
   "source": [
    "# float \n",
    "pressao = 204.65\n",
    "type(pressao)"
   ]
  },
  {
   "cell_type": "code",
   "execution_count": 20,
   "metadata": {
    "colab": {},
    "colab_type": "code",
    "id": "r-BfJm6F7qkP"
   },
   "outputs": [
    {
     "data": {
      "text/plain": [
       "bool"
      ]
     },
     "execution_count": 20,
     "metadata": {},
     "output_type": "execute_result"
    }
   ],
   "source": [
    "# booleanos\n",
    "opcao = True\n",
    "type(opcao)"
   ]
  },
  {
   "cell_type": "code",
   "execution_count": 21,
   "metadata": {
    "colab": {},
    "colab_type": "code",
    "id": "4TIwYPUMF0bS"
   },
   "outputs": [
    {
     "data": {
      "text/plain": [
       "False"
      ]
     },
     "execution_count": 21,
     "metadata": {},
     "output_type": "execute_result"
    }
   ],
   "source": [
    "2 == 3        # == indica igualdade (retorna True ou False)"
   ]
  },
  {
   "cell_type": "code",
   "execution_count": 22,
   "metadata": {
    "colab": {},
    "colab_type": "code",
    "id": "_OcwjAK0IhZi"
   },
   "outputs": [
    {
     "data": {
      "text/plain": [
       "True"
      ]
     },
     "execution_count": 22,
     "metadata": {},
     "output_type": "execute_result"
    }
   ],
   "source": [
    "2 != 3         # != indica diferente"
   ]
  },
  {
   "cell_type": "code",
   "execution_count": 23,
   "metadata": {
    "colab": {},
    "colab_type": "code",
    "id": "O4J7meeXI29J"
   },
   "outputs": [],
   "source": [
    "# String\n",
    "nome = 'bomba1'"
   ]
  },
  {
   "cell_type": "code",
   "execution_count": 24,
   "metadata": {
    "colab": {},
    "colab_type": "code",
    "id": "snSI3_c5Joz3"
   },
   "outputs": [
    {
     "data": {
      "text/plain": [
       "'válvula aberta'"
      ]
     },
     "execution_count": 24,
     "metadata": {},
     "output_type": "execute_result"
    }
   ],
   "source": [
    "'válvula ' + 'aberta' "
   ]
  },
  {
   "cell_type": "code",
   "execution_count": 25,
   "metadata": {
    "colab": {},
    "colab_type": "code",
    "id": "KHowh5zeJ2_c"
   },
   "outputs": [
    {
     "ename": "TypeError",
     "evalue": "can only concatenate str (not \"int\") to str",
     "output_type": "error",
     "traceback": [
      "\u001b[1;31m---------------------------------------------------------------------------\u001b[0m",
      "\u001b[1;31mTypeError\u001b[0m                                 Traceback (most recent call last)",
      "\u001b[1;32m<ipython-input-25-d47887d322aa>\u001b[0m in \u001b[0;36m<module>\u001b[1;34m\u001b[0m\n\u001b[1;32m----> 1\u001b[1;33m \u001b[1;34m'tipo'\u001b[0m \u001b[1;33m+\u001b[0m \u001b[1;36m1\u001b[0m   \u001b[1;31m# dará erro, não podemos juntar string com número. Temos que passar o número para string\u001b[0m\u001b[1;33m\u001b[0m\u001b[1;33m\u001b[0m\u001b[0m\n\u001b[0m",
      "\u001b[1;31mTypeError\u001b[0m: can only concatenate str (not \"int\") to str"
     ]
    }
   ],
   "source": [
    "'tipo' + 1   # dará erro, não podemos juntar string com número. Temos que passar o número para string"
   ]
  },
  {
   "cell_type": "code",
   "execution_count": 26,
   "metadata": {
    "colab": {},
    "colab_type": "code",
    "id": "qiux-EBEJ6lm"
   },
   "outputs": [
    {
     "data": {
      "text/plain": [
       "'tipo 1'"
      ]
     },
     "execution_count": 26,
     "metadata": {},
     "output_type": "execute_result"
    }
   ],
   "source": [
    "'tipo ' + str(1)           # transformamos o número em string"
   ]
  },
  {
   "cell_type": "code",
   "execution_count": 27,
   "metadata": {
    "colab": {},
    "colab_type": "code",
    "id": "_y3fjEb6KFEv"
   },
   "outputs": [
    {
     "data": {
      "text/plain": [
       "NoneType"
      ]
     },
     "execution_count": 27,
     "metadata": {},
     "output_type": "execute_result"
    }
   ],
   "source": [
    "# None\n",
    "a = None\n",
    "type(a)"
   ]
  },
  {
   "cell_type": "code",
   "execution_count": null,
   "metadata": {
    "colab": {},
    "colab_type": "code",
    "id": "Bkl5vWF8LuzN"
   },
   "outputs": [],
   "source": []
  },
  {
   "cell_type": "markdown",
   "metadata": {
    "colab_type": "text",
    "id": "HPFyAOH5MDbu"
   },
   "source": [
    "### 1.4 Listas\n",
    "Sequências mutáveis, armazenam coleções de itens.\n",
    "forma: [1,2,3]\n",
    "\n",
    "Operações com listas:\n",
    "https://docs.python.org/3.6/library/stdtypes.html#common-sequence-operations\n",
    "\n",
    "\n",
    "Métodos de listas:\n",
    "https://docs.python.org/3.6/library/stdtypes.html#mutable-sequence-types"
   ]
  },
  {
   "cell_type": "code",
   "execution_count": 28,
   "metadata": {
    "colab": {},
    "colab_type": "code",
    "id": "pUkOuMvhMOWb"
   },
   "outputs": [
    {
     "data": {
      "text/plain": [
       "[0.75, 0.875, 1, 0.25]"
      ]
     },
     "execution_count": 28,
     "metadata": {},
     "output_type": "execute_result"
    }
   ],
   "source": [
    "brocas =  [3/4, 7/8, 1, 1/4]   # criando uma lista\n",
    "brocas"
   ]
  },
  {
   "cell_type": "code",
   "execution_count": 29,
   "metadata": {
    "colab": {},
    "colab_type": "code",
    "id": "g2hTLmx6ViWT"
   },
   "outputs": [
    {
     "data": {
      "text/plain": [
       "True"
      ]
     },
     "execution_count": 29,
     "metadata": {},
     "output_type": "execute_result"
    }
   ],
   "source": [
    "3/4 in brocas     # teste lógico - retorna True e False"
   ]
  },
  {
   "cell_type": "code",
   "execution_count": 30,
   "metadata": {
    "colab": {},
    "colab_type": "code",
    "id": "yfdaVz7IVnjE"
   },
   "outputs": [
    {
     "data": {
      "text/plain": [
       "False"
      ]
     },
     "execution_count": 30,
     "metadata": {},
     "output_type": "execute_result"
    }
   ],
   "source": [
    "5 in brocas       # teste lógico - retorna True e False"
   ]
  },
  {
   "cell_type": "code",
   "execution_count": 31,
   "metadata": {
    "colab": {},
    "colab_type": "code",
    "id": "jLSObErgVuiA"
   },
   "outputs": [
    {
     "data": {
      "text/plain": [
       "['tipo A', 'tipo B', 'tipo C']"
      ]
     },
     "execution_count": 31,
     "metadata": {},
     "output_type": "execute_result"
    }
   ],
   "source": [
    "falhas = ['tipo A','tipo B', 'tipo C']    # criando outra lista\n",
    "falhas"
   ]
  },
  {
   "cell_type": "code",
   "execution_count": 32,
   "metadata": {
    "colab": {},
    "colab_type": "code",
    "id": "BXbVUB05WM_x"
   },
   "outputs": [
    {
     "data": {
      "text/plain": [
       "[0.75, 0.875, 1, 0.25, 'tipo A', 'tipo B', 'tipo C']"
      ]
     },
     "execution_count": 32,
     "metadata": {},
     "output_type": "execute_result"
    }
   ],
   "source": [
    "brocas + falhas              # somar listas concatena em uma lista só"
   ]
  },
  {
   "cell_type": "code",
   "execution_count": 33,
   "metadata": {
    "colab": {},
    "colab_type": "code",
    "id": "iSbEtwkgWWnU"
   },
   "outputs": [
    {
     "data": {
      "text/plain": [
       "4"
      ]
     },
     "execution_count": 33,
     "metadata": {},
     "output_type": "execute_result"
    }
   ],
   "source": [
    "len(brocas)                 # tamanho da lista, quantos itens tem na lista"
   ]
  },
  {
   "cell_type": "code",
   "execution_count": 34,
   "metadata": {
    "colab": {},
    "colab_type": "code",
    "id": "mp6-TrJzWn1O"
   },
   "outputs": [
    {
     "data": {
      "text/plain": [
       "[0.75, 0.875, 1, 0.25]"
      ]
     },
     "execution_count": 34,
     "metadata": {},
     "output_type": "execute_result"
    }
   ],
   "source": [
    "brocas"
   ]
  },
  {
   "cell_type": "code",
   "execution_count": 35,
   "metadata": {
    "colab": {},
    "colab_type": "code",
    "id": "sn_Lcfm3WY92"
   },
   "outputs": [
    {
     "data": {
      "text/plain": [
       "0.75"
      ]
     },
     "execution_count": 35,
     "metadata": {},
     "output_type": "execute_result"
    }
   ],
   "source": [
    "brocas[0]                   # primeiro elemento da lista"
   ]
  },
  {
   "cell_type": "code",
   "execution_count": 36,
   "metadata": {
    "colab": {},
    "colab_type": "code",
    "id": "KiS2usz0We1Z"
   },
   "outputs": [
    {
     "data": {
      "text/plain": [
       "0.25"
      ]
     },
     "execution_count": 36,
     "metadata": {},
     "output_type": "execute_result"
    }
   ],
   "source": [
    "brocas[3]                  # elemento da lista brocas que está na posição 4"
   ]
  },
  {
   "cell_type": "code",
   "execution_count": 37,
   "metadata": {
    "colab": {},
    "colab_type": "code",
    "id": "QZkyxHsuWqgI"
   },
   "outputs": [
    {
     "ename": "IndexError",
     "evalue": "list index out of range",
     "output_type": "error",
     "traceback": [
      "\u001b[1;31m---------------------------------------------------------------------------\u001b[0m",
      "\u001b[1;31mIndexError\u001b[0m                                Traceback (most recent call last)",
      "\u001b[1;32m<ipython-input-37-087aa232b1dd>\u001b[0m in \u001b[0;36m<module>\u001b[1;34m\u001b[0m\n\u001b[1;32m----> 1\u001b[1;33m \u001b[0mbrocas\u001b[0m\u001b[1;33m[\u001b[0m\u001b[1;36m4\u001b[0m\u001b[1;33m]\u001b[0m                  \u001b[1;31m# vai dar erro\u001b[0m\u001b[1;33m\u001b[0m\u001b[1;33m\u001b[0m\u001b[0m\n\u001b[0m",
      "\u001b[1;31mIndexError\u001b[0m: list index out of range"
     ]
    }
   ],
   "source": [
    "brocas[4]                  # vai dar erro"
   ]
  },
  {
   "cell_type": "code",
   "execution_count": 38,
   "metadata": {
    "colab": {},
    "colab_type": "code",
    "id": "d_9S6Ap7W1Ex"
   },
   "outputs": [
    {
     "data": {
      "text/plain": [
       "[0.75, 0.875]"
      ]
     },
     "execution_count": 38,
     "metadata": {},
     "output_type": "execute_result"
    }
   ],
   "source": [
    "brocas[0:2]                 # A[i:j] -> recorta a lista do indíce i até o j, sendo o j não é incluído"
   ]
  },
  {
   "cell_type": "code",
   "execution_count": 39,
   "metadata": {
    "colab": {},
    "colab_type": "code",
    "id": "BdBX0fOiXUYa"
   },
   "outputs": [
    {
     "data": {
      "text/plain": [
       "[0.75, 0.875, 1, 0.25]"
      ]
     },
     "execution_count": 39,
     "metadata": {},
     "output_type": "execute_result"
    }
   ],
   "source": [
    "brocas"
   ]
  },
  {
   "cell_type": "code",
   "execution_count": 40,
   "metadata": {
    "colab": {},
    "colab_type": "code",
    "id": "Zupoupk_XAu-"
   },
   "outputs": [
    {
     "data": {
      "text/plain": [
       "0.25"
      ]
     },
     "execution_count": 40,
     "metadata": {},
     "output_type": "execute_result"
    }
   ],
   "source": [
    "brocas[-1]                 # acessa último elemento da lista"
   ]
  },
  {
   "cell_type": "code",
   "execution_count": 41,
   "metadata": {
    "colab": {},
    "colab_type": "code",
    "id": "YD1dF2LYXWeB"
   },
   "outputs": [
    {
     "data": {
      "text/plain": [
       "0.875"
      ]
     },
     "execution_count": 41,
     "metadata": {},
     "output_type": "execute_result"
    }
   ],
   "source": [
    "brocas[-3]                 # terceira posição, começando pelo final da lista"
   ]
  },
  {
   "cell_type": "code",
   "execution_count": 42,
   "metadata": {
    "colab": {},
    "colab_type": "code",
    "id": "vLU3G7n3XZ9L"
   },
   "outputs": [],
   "source": [
    "valores = [['a','b','c'], 1, 2 ,3]           # podemos ter listas dentro de uma determinada lista"
   ]
  },
  {
   "cell_type": "code",
   "execution_count": 43,
   "metadata": {
    "colab": {},
    "colab_type": "code",
    "id": "OE3gyi48X-Ma"
   },
   "outputs": [
    {
     "data": {
      "text/plain": [
       "['a', 'b', 'c']"
      ]
     },
     "execution_count": 43,
     "metadata": {},
     "output_type": "execute_result"
    }
   ],
   "source": [
    "valores[0]"
   ]
  },
  {
   "cell_type": "code",
   "execution_count": 44,
   "metadata": {
    "colab": {},
    "colab_type": "code",
    "id": "iodMUJ_gYAma"
   },
   "outputs": [
    {
     "data": {
      "text/plain": [
       "1"
      ]
     },
     "execution_count": 44,
     "metadata": {},
     "output_type": "execute_result"
    }
   ],
   "source": [
    "valores[1]"
   ]
  },
  {
   "cell_type": "code",
   "execution_count": 45,
   "metadata": {
    "colab": {},
    "colab_type": "code",
    "id": "JQKUncuzYD5Y"
   },
   "outputs": [
    {
     "data": {
      "text/plain": [
       "[0.25, 0.75, 0.875, 1]"
      ]
     },
     "execution_count": 45,
     "metadata": {},
     "output_type": "execute_result"
    }
   ],
   "source": [
    "# sort -> coloca na ordem crescente\n",
    "brocas.sort()  \n",
    "brocas"
   ]
  },
  {
   "cell_type": "code",
   "execution_count": 46,
   "metadata": {
    "colab": {},
    "colab_type": "code",
    "id": "YwIe5tHQYSS1"
   },
   "outputs": [
    {
     "data": {
      "text/plain": [
       "[1, 0.875, 0.75, 0.25]"
      ]
     },
     "execution_count": 46,
     "metadata": {},
     "output_type": "execute_result"
    }
   ],
   "source": [
    "brocas.sort(reverse=True)                # reverse = True -> coloca na ordem decrescente\n",
    "brocas"
   ]
  },
  {
   "cell_type": "code",
   "execution_count": 47,
   "metadata": {
    "colab": {},
    "colab_type": "code",
    "id": "noOUAWNYYbUj"
   },
   "outputs": [
    {
     "name": "stdout",
     "output_type": "stream",
     "text": [
      "[0.25, 0.75, 0.875, 1]\n",
      "[1, 0.875, 0.75, 0.25]\n"
     ]
    }
   ],
   "source": [
    " # copy -> faz uma cópia da lista original. Mudanças nessa nova lista não irá alterar a lista original\n",
    "brocas1 = brocas.copy()  \n",
    "brocas1.sort()\n",
    "print(brocas1)\n",
    "print(brocas)"
   ]
  },
  {
   "cell_type": "code",
   "execution_count": 48,
   "metadata": {
    "colab": {},
    "colab_type": "code",
    "id": "t156fFN2Yt4Z"
   },
   "outputs": [
    {
     "data": {
      "text/plain": [
       "[0.25, 0.75, 0.875, 1, 1.5]"
      ]
     },
     "execution_count": 48,
     "metadata": {},
     "output_type": "execute_result"
    }
   ],
   "source": [
    " # append -> adiciona um novo elemento da lista já existente (na última posição)\n",
    "brocas1.append(1.5)  \n",
    "brocas1"
   ]
  },
  {
   "cell_type": "code",
   "execution_count": null,
   "metadata": {
    "colab": {},
    "colab_type": "code",
    "id": "fN0zZELQYz5b"
   },
   "outputs": [],
   "source": []
  },
  {
   "cell_type": "markdown",
   "metadata": {
    "colab_type": "text",
    "id": "g3JrU056avKO"
   },
   "source": [
    "### 1.5 Repetição e condicionais\n",
    "\n"
   ]
  },
  {
   "cell_type": "markdown",
   "metadata": {
    "colab_type": "text",
    "id": "HRxZ0iAUDTCQ"
   },
   "source": [
    "*    **for**\n",
    "\n",
    "**Formato padrão**\n",
    "\n",
    "```\n",
    "for <variável> in <coleção>:\n",
    "    <instruções>\n",
    "```\n",
    "\n",
    "*    **if-else e if-elif-else**\n",
    "\n",
    "**Formato padrão**\n",
    "\n",
    "```\n",
    "if <condição 1>:\n",
    "    <instruções caso a condição 1 seja verdadeira>\n",
    "elif <condição 2>:\n",
    "    <instruções caso a condição 2 seja verdadeira>\n",
    "elif <condição 3>:\n",
    "    <instruções caso a condição 3 seja verdadeira>\n",
    "                        .\n",
    "                        .\n",
    "                        .\n",
    "else:\n",
    "    <instruções caso as condições anteriores não sejam verdadeiras>\n",
    "```\n"
   ]
  },
  {
   "cell_type": "code",
   "execution_count": 49,
   "metadata": {
    "colab": {},
    "colab_type": "code",
    "id": "1qXMe30Oa07q"
   },
   "outputs": [
    {
     "ename": "TypeError",
     "evalue": "unsupported operand type(s) for ** or pow(): 'range' and 'int'",
     "output_type": "error",
     "traceback": [
      "\u001b[1;31m---------------------------------------------------------------------------\u001b[0m",
      "\u001b[1;31mTypeError\u001b[0m                                 Traceback (most recent call last)",
      "\u001b[1;32m<ipython-input-49-4e31e495c6b6>\u001b[0m in \u001b[0;36m<module>\u001b[1;34m\u001b[0m\n\u001b[0;32m      1\u001b[0m \u001b[0mx\u001b[0m \u001b[1;33m=\u001b[0m \u001b[0mrange\u001b[0m\u001b[1;33m(\u001b[0m\u001b[1;36m1\u001b[0m\u001b[1;33m,\u001b[0m\u001b[1;36m11\u001b[0m\u001b[1;33m)\u001b[0m   \u001b[1;31m# funçao range() -> lista começando em 1 e terminando em 10\u001b[0m\u001b[1;33m\u001b[0m\u001b[1;33m\u001b[0m\u001b[0m\n\u001b[1;32m----> 2\u001b[1;33m \u001b[0my\u001b[0m \u001b[1;33m=\u001b[0m \u001b[0mx\u001b[0m\u001b[1;33m**\u001b[0m\u001b[1;36m2\u001b[0m      \u001b[1;31m# erro - como podemos criar uma lista com os valores de x ao quadrado?\u001b[0m\u001b[1;33m\u001b[0m\u001b[1;33m\u001b[0m\u001b[0m\n\u001b[0m",
      "\u001b[1;31mTypeError\u001b[0m: unsupported operand type(s) for ** or pow(): 'range' and 'int'"
     ]
    }
   ],
   "source": [
    "x = range(1,11)   # funçao range() -> lista começando em 1 e terminando em 10\n",
    "y = x**2      # erro - como podemos criar uma lista com os valores de x ao quadrado?"
   ]
  },
  {
   "cell_type": "code",
   "execution_count": 50,
   "metadata": {
    "colab": {},
    "colab_type": "code",
    "id": "4Tscd5lEqGeC"
   },
   "outputs": [
    {
     "data": {
      "text/plain": [
       "range(1, 11)"
      ]
     },
     "execution_count": 50,
     "metadata": {},
     "output_type": "execute_result"
    }
   ],
   "source": [
    "x"
   ]
  },
  {
   "cell_type": "code",
   "execution_count": 51,
   "metadata": {
    "colab": {},
    "colab_type": "code",
    "id": "SC8G8CRLqSTU"
   },
   "outputs": [
    {
     "name": "stdout",
     "output_type": "stream",
     "text": [
      "1\n",
      "2\n",
      "3\n",
      "4\n",
      "5\n",
      "6\n",
      "7\n",
      "8\n",
      "9\n",
      "10\n"
     ]
    }
   ],
   "source": [
    "for valor in x:\n",
    "  print(valor)"
   ]
  },
  {
   "cell_type": "code",
   "execution_count": 52,
   "metadata": {
    "colab": {},
    "colab_type": "code",
    "id": "rxouYjAKqbvN"
   },
   "outputs": [
    {
     "data": {
      "text/plain": [
       "[1, 4, 9, 16, 25, 36, 49, 64, 81, 100]"
      ]
     },
     "execution_count": 52,
     "metadata": {},
     "output_type": "execute_result"
    }
   ],
   "source": [
    "y = []\n",
    "for valor in x:     # para cada valor da lista x\n",
    "  y.append(valor**2)   # adicionar (append) na lista y, o valor elevado ao quadrado\n",
    "\n",
    "y"
   ]
  },
  {
   "cell_type": "code",
   "execution_count": 53,
   "metadata": {
    "colab": {},
    "colab_type": "code",
    "id": "puY-6MO1rtNZ"
   },
   "outputs": [
    {
     "name": "stdout",
     "output_type": "stream",
     "text": [
      "[1, 4, 9, 16, 25, 36, 49, 64, 81, 100]\n"
     ]
    }
   ],
   "source": [
    "y = []\n",
    "for i in range(len(x)):\n",
    "  y.append((x[i])**2)\n",
    "print(y)"
   ]
  },
  {
   "cell_type": "code",
   "execution_count": 54,
   "metadata": {
    "colab": {},
    "colab_type": "code",
    "id": "aaxv8gC-qqYr"
   },
   "outputs": [
    {
     "data": {
      "text/plain": [
       "[1, 4, 9, 16, 25, 36, 49, 64, 81, 100]"
      ]
     },
     "execution_count": 54,
     "metadata": {},
     "output_type": "execute_result"
    }
   ],
   "source": [
    "y = [valor**2 for valor in x]\n",
    "y"
   ]
  },
  {
   "cell_type": "code",
   "execution_count": 55,
   "metadata": {
    "colab": {},
    "colab_type": "code",
    "id": "fpLwQJwUsNSx"
   },
   "outputs": [
    {
     "name": "stdout",
     "output_type": "stream",
     "text": [
      "pares: [2, 4, 6, 8, 10]\n",
      "impares: [1, 3, 5, 7, 9]\n"
     ]
    }
   ],
   "source": [
    "# Separar os valores de x em duas listas de par e ímpares:\n",
    "par = []\n",
    "impar = []\n",
    "for valor in x:\n",
    "  if valor % 2 == 0:\n",
    "    par.append(valor)\n",
    "  else:\n",
    "    impar.append(valor)\n",
    "\n",
    "print(f'pares: {par}')\n",
    "print(f'impares: {impar}')"
   ]
  },
  {
   "cell_type": "code",
   "execution_count": 56,
   "metadata": {
    "colab": {},
    "colab_type": "code",
    "id": "3a3edO2ruMtE"
   },
   "outputs": [
    {
     "data": {
      "text/plain": [
       "[2, 4, 6, 8, 10]"
      ]
     },
     "execution_count": 56,
     "metadata": {},
     "output_type": "execute_result"
    }
   ],
   "source": [
    "par = [valor for valor in x if valor % 2 == 0]\n",
    "par"
   ]
  },
  {
   "cell_type": "code",
   "execution_count": 57,
   "metadata": {
    "colab": {},
    "colab_type": "code",
    "id": "_H6Ph2hHuXCL"
   },
   "outputs": [
    {
     "data": {
      "text/plain": [
       "[1, 3, 5, 7, 9]"
      ]
     },
     "execution_count": 57,
     "metadata": {},
     "output_type": "execute_result"
    }
   ],
   "source": [
    "impar = [valor for valor in x if valor % 2 != 0]\n",
    "impar"
   ]
  },
  {
   "cell_type": "markdown",
   "metadata": {
    "colab_type": "text",
    "id": "nG_MEORuwsQz"
   },
   "source": [
    "**Exemplo 1**\n",
    "\n",
    "**A partir da densidade relativa do óleo em relação à água das amostras de diferentes campos, indique automaticamente o  $^OAPI$  e sua classificação.**\n",
    "\n",
    "**Densidade: 0.88**\n",
    "\n",
    "\n",
    "\n",
    "\n",
    "Resposta:\n",
    "> $\\rho = \\frac{141.5}{^OAPI + 131.5}$\n",
    "\n",
    "Além disso:\n",
    "\n",
    "* $^OAPI > 30$ : petróleo leves\n",
    "\n",
    "*  $22 \\leq ^OAPI \\leq 30$ : petróleos médios\n",
    "\n",
    "*  $10 < ^OAPI <  22 $ : petróleos pesados\n",
    "\n",
    "* $ ^OAPI \\leq  10 $ : petróleos extrapesados\n",
    "\n",
    "\n",
    "\n"
   ]
  },
  {
   "cell_type": "code",
   "execution_count": 58,
   "metadata": {
    "colab": {},
    "colab_type": "code",
    "id": "vZzMvTzH230e"
   },
   "outputs": [],
   "source": [
    "ro = 0.88"
   ]
  },
  {
   "cell_type": "code",
   "execution_count": 59,
   "metadata": {
    "colab": {},
    "colab_type": "code",
    "id": "xPe16Yl1wrmP"
   },
   "outputs": [
    {
     "data": {
      "text/plain": [
       "29.295454545454533"
      ]
     },
     "execution_count": 59,
     "metadata": {},
     "output_type": "execute_result"
    }
   ],
   "source": [
    "API = (141.5/ro) - 131.5\n",
    "API"
   ]
  },
  {
   "cell_type": "code",
   "execution_count": 60,
   "metadata": {
    "colab": {},
    "colab_type": "code",
    "id": "lEs_f9rb42IK"
   },
   "outputs": [
    {
     "name": "stdout",
     "output_type": "stream",
     "text": [
      "petróleo médio\n"
     ]
    }
   ],
   "source": [
    "if API > 31:\n",
    "  print('petróleo leve')\n",
    "elif 22 <= API and API <= 31:  # and -> satisfaz a condição 1 e a condição 2\n",
    "  print('petróleo médio')\n",
    "elif 10 < API and API <22:\n",
    "  print('petróleo pesado')\n",
    "else:\n",
    "  print('petróleo extrapesado')"
   ]
  },
  {
   "cell_type": "markdown",
   "metadata": {
    "colab_type": "text",
    "id": "WCt7USOw8iXO"
   },
   "source": [
    "### 1.6 Funções\n",
    "\n",
    "\n"
   ]
  },
  {
   "cell_type": "markdown",
   "metadata": {
    "colab_type": "text",
    "id": "SXgxGIrcDwNA"
   },
   "source": [
    " * **Formato padrão**\n",
    "\n",
    "```\n",
    "def nome_function(parametros):\n",
    "    <instruções>\n",
    "    return(output)\n",
    "```\n"
   ]
  },
  {
   "cell_type": "markdown",
   "metadata": {
    "colab_type": "text",
    "id": "JE8tdYkp9vkf"
   },
   "source": [
    "Imagine que queremos agora achar o API e o tipo de petróleo para densidade de 0.75. O que fazemos? Rodamos tudo de novo?"
   ]
  },
  {
   "cell_type": "code",
   "execution_count": 61,
   "metadata": {
    "colab": {},
    "colab_type": "code",
    "id": "oqwkoO5I8t4w"
   },
   "outputs": [],
   "source": [
    "ro = 0.75"
   ]
  },
  {
   "cell_type": "code",
   "execution_count": 62,
   "metadata": {
    "colab": {},
    "colab_type": "code",
    "id": "kyI_MeIb-COJ"
   },
   "outputs": [
    {
     "data": {
      "text/plain": [
       "57.16666666666666"
      ]
     },
     "execution_count": 62,
     "metadata": {},
     "output_type": "execute_result"
    }
   ],
   "source": [
    "API = (141.5/ro) - 131.5\n",
    "API"
   ]
  },
  {
   "cell_type": "code",
   "execution_count": 63,
   "metadata": {
    "colab": {},
    "colab_type": "code",
    "id": "JxBxemPY-Ebv"
   },
   "outputs": [
    {
     "name": "stdout",
     "output_type": "stream",
     "text": [
      "petróleo leve\n"
     ]
    }
   ],
   "source": [
    "if API > 31:\n",
    "  print('petróleo leve')\n",
    "elif 22 <= API and API <= 31:  # and -> satisfaz a condição 1 e a condição 2\n",
    "  print('petróleo médio')\n",
    "elif 10 < API and API <22:\n",
    "  print('petróleo pesado')\n",
    "else:\n",
    "  print('petróleo extrapesado')"
   ]
  },
  {
   "cell_type": "markdown",
   "metadata": {
    "colab_type": "text",
    "id": "dvJ0bG2p-Jmc"
   },
   "source": [
    "Ao invés de rodar tudo, podemos criar uma função que, a partir da entrada da densidade relativa do óleo, irá fornecer o grau API e o tipo de óleo\n",
    "\n",
    "Então:\n",
    "\n",
    "* nome_do_programa = calcular_API\n",
    "\n",
    "* entradas = densidade relativa do óleo\n",
    "\n",
    "* programa = calcular API e definir as condições\n",
    "\n",
    "* saídas = o valor API calculado e o tipo de óleo"
   ]
  },
  {
   "cell_type": "code",
   "execution_count": 64,
   "metadata": {
    "colab": {},
    "colab_type": "code",
    "id": "Tmd8f1yc-z01"
   },
   "outputs": [],
   "source": [
    "def calcular_API(ro):\n",
    "  API = (141.5/ro) - 131.5\n",
    "  if API > 31:\n",
    "    print('petróleo leve')\n",
    "  elif 22 <= API and API <= 31:  # and -> satisfaz a condição 1 e a condição 2\n",
    "    print('petróleo médio')\n",
    "  elif 10 < API and API <22:\n",
    "    print('petróleo pesado')\n",
    "  else:\n",
    "    print('petróleo extrapesado')\n",
    "  return(print(f'Grau API : {API}'))"
   ]
  },
  {
   "cell_type": "code",
   "execution_count": 65,
   "metadata": {
    "colab": {},
    "colab_type": "code",
    "id": "3Bn3ByN2_b_N"
   },
   "outputs": [
    {
     "name": "stdout",
     "output_type": "stream",
     "text": [
      "petróleo leve\n",
      "Grau API : 57.16666666666666\n"
     ]
    }
   ],
   "source": [
    "ro = 0.75\n",
    "calcular_API(ro)"
   ]
  },
  {
   "cell_type": "code",
   "execution_count": 66,
   "metadata": {
    "colab": {},
    "colab_type": "code",
    "id": "AbnGFkj9_qxE"
   },
   "outputs": [],
   "source": [
    "ros = [0.89, 1.1, 0.67,0.95]   # podemos aplicar para diferentes ro"
   ]
  },
  {
   "cell_type": "code",
   "execution_count": 67,
   "metadata": {
    "colab": {},
    "colab_type": "code",
    "id": "7aUupaU__0JW"
   },
   "outputs": [
    {
     "name": "stdout",
     "output_type": "stream",
     "text": [
      "ro: 0.89\n",
      "petróleo médio\n",
      "Grau API : 27.48876404494382\n",
      "\n",
      "ro: 1.1\n",
      "petróleo extrapesado\n",
      "Grau API : -2.863636363636374\n",
      "\n",
      "ro: 0.67\n",
      "petróleo leve\n",
      "Grau API : 79.69402985074626\n",
      "\n",
      "ro: 0.95\n",
      "petróleo pesado\n",
      "Grau API : 17.44736842105263\n",
      "\n"
     ]
    }
   ],
   "source": [
    "for ro1 in ros:\n",
    "  print(f'ro: {ro1}')\n",
    "  calcular_API(ro1)\n",
    "  print(\"\")"
   ]
  },
  {
   "cell_type": "markdown",
   "metadata": {
    "colab_type": "text",
    "id": "cv7zBIWffTIT"
   },
   "source": [
    "**Exemplo 2**\n",
    "\n",
    "Imagine um tanque cilíndrico com 5 metros de raio e 10 metros de altura. O tanque possui uma vazão de entrada de $15 m^3/min$. Queremos determinar se o tanque irá transbordar após 2 horas."
   ]
  },
  {
   "cell_type": "markdown",
   "metadata": {
    "colab_type": "text",
    "id": "FdIQffw1iuf_"
   },
   "source": [
    "Resposta:\n",
    "\n",
    "$Vtanque = \\pi R^2 h$\n",
    "\n",
    "$Vliq = Q * t$"
   ]
  },
  {
   "cell_type": "code",
   "execution_count": 68,
   "metadata": {
    "colab": {},
    "colab_type": "code",
    "id": "1lZH56Kagl2T"
   },
   "outputs": [],
   "source": [
    "raio = 5     # m\n",
    "altura = 10  # m\n",
    "q = 15      # m3/min\n",
    "t = 2 * 60  # minutos"
   ]
  },
  {
   "cell_type": "code",
   "execution_count": 69,
   "metadata": {
    "colab": {},
    "colab_type": "code",
    "id": "S7z7N_MShpiW"
   },
   "outputs": [
    {
     "data": {
      "text/plain": [
       "785.3981633974483"
      ]
     },
     "execution_count": 69,
     "metadata": {},
     "output_type": "execute_result"
    }
   ],
   "source": [
    "import math     # pacote de operações matemáticas\n",
    "Vtanque = math.pi*((raio)**2)* altura\n",
    "Vtanque"
   ]
  },
  {
   "cell_type": "code",
   "execution_count": 70,
   "metadata": {
    "colab": {},
    "colab_type": "code",
    "id": "oqB0VLn2iSnr"
   },
   "outputs": [
    {
     "data": {
      "text/plain": [
       "1800"
      ]
     },
     "execution_count": 70,
     "metadata": {},
     "output_type": "execute_result"
    }
   ],
   "source": [
    "Vliq = q * t\n",
    "Vliq"
   ]
  },
  {
   "cell_type": "code",
   "execution_count": 71,
   "metadata": {
    "colab": {},
    "colab_type": "code",
    "id": "rUMQD7dynCu3"
   },
   "outputs": [
    {
     "name": "stdout",
     "output_type": "stream",
     "text": [
      "irá transbordar. Volume 1014.6018366025517 acima da capacidade\n"
     ]
    }
   ],
   "source": [
    "if Vliq > Vtanque:\n",
    "  print(f'irá transbordar. Volume {Vliq - Vtanque} acima da capacidade')\n",
    "else:\n",
    "  print('Não irá transbordar')"
   ]
  },
  {
   "cell_type": "code",
   "execution_count": 72,
   "metadata": {
    "colab": {},
    "colab_type": "code",
    "id": "sasWLLh4A1iJ"
   },
   "outputs": [],
   "source": [
    "def volume_liq_por_hora(raio_tanque,altura_tanque,q_entrada,t_em_horas):\n",
    "  # 1 - Calculo do volume to tanque:\n",
    "  import math     # pacote de operações matemáticas\n",
    "  Vtanque = math.pi*((raio)**2)* altura\n",
    "\n",
    "  # 2 - Volume do líquido na hora dada:\n",
    "  t = t_em_horas * 60  # (transforma o tempo em min)\n",
    "  Vliq = q_entrada * t\n",
    "\n",
    "  # 3 - Transborda ou não transborda?\n",
    "  if Vliq > Vtanque:\n",
    "    print('Irá transbordar.')\n",
    "  else:\n",
    "    print('Não irá transbordar.')\n",
    "  return(print(f'Volume de líquido em {t_em_horas}: {Vliq}'))\n",
    "\n"
   ]
  },
  {
   "cell_type": "code",
   "execution_count": 73,
   "metadata": {
    "colab": {},
    "colab_type": "code",
    "id": "yrzla9rSCSGf"
   },
   "outputs": [
    {
     "name": "stdout",
     "output_type": "stream",
     "text": [
      "Irá transbordar.\n",
      "Volume de líquido em 2: 1800\n"
     ]
    }
   ],
   "source": [
    "volume_liq_por_hora(raio_tanque =5,altura_tanque=10,q_entrada = 15,t_em_horas = 2)"
   ]
  },
  {
   "cell_type": "code",
   "execution_count": 74,
   "metadata": {
    "colab": {},
    "colab_type": "code",
    "id": "8lQ9OGbRCi85"
   },
   "outputs": [],
   "source": [
    "raio = 5     # m\n",
    "altura = 10  # m\n",
    "q = 15      # m3/min\n",
    "t1 = 0.5     # horas"
   ]
  },
  {
   "cell_type": "code",
   "execution_count": 75,
   "metadata": {
    "colab": {},
    "colab_type": "code",
    "id": "Y-wFEQEsCmkc"
   },
   "outputs": [
    {
     "name": "stdout",
     "output_type": "stream",
     "text": [
      "Não irá transbordar.\n",
      "Volume de líquido em 0.5: 450.0\n"
     ]
    }
   ],
   "source": [
    "volume_liq_por_hora(raio_tanque =raio,altura_tanque = altura,q_entrada = q ,t_em_horas = t1)"
   ]
  },
  {
   "cell_type": "markdown",
   "metadata": {
    "colab_type": "text",
    "id": "dCB_e4WSdjdJ"
   },
   "source": [
    "-------\n",
    "# 2 - Numpy"
   ]
  },
  {
   "cell_type": "markdown",
   "metadata": {
    "colab_type": "text",
    "id": "FWBCVwU_EM3u"
   },
   "source": [
    "**Pacote (ou biblioteca) destinado a computação científica.**\n",
    "\n",
    "* Realiza cálculos em arrays multidimensionais.\n",
    "* Disponibiliza diferentes funções e operações para cálculos númericos.\n",
    "* Fornece tarefas matemáticas,como integração, diferenciação, interpolação, operações de álgebra linear e geração de números aleatórios.\n",
    "* São muito poderosos e rápidos.\n",
    "\n",
    "**Documentação:**\n",
    "\n",
    "https://numpy.org/doc/stable/\n",
    "\n",
    "https://numpy.org/doc/stable/numpy-ref.pdf\n"
   ]
  },
  {
   "cell_type": "markdown",
   "metadata": {
    "colab_type": "text",
    "id": "0pmSBEAfY7JV"
   },
   "source": [
    "### 2.1 Pacotes\n",
    "\n",
    "Existem diferentes pacotes Python disponíveis para download na internet. Cada pacote tem como objetivo a solução de determinado tipo de problema. Por exemplo, um grupo quer criar em Python funções que resolvem diferentes equações da área reservatório. O grupo pode criar a biblioteca e disponibilizar na internet, de forma que outras pessoas também tenham acesso.\n",
    "\n",
    "Alguns pacotes são bastante utilizados em um contexto de ciência de dados como por exemplo:\n",
    "\n",
    "- Numpy\n",
    "- Pandas\n",
    "- Matplotlib\n",
    "- Seaborn\n",
    "- Scikit-learn\n",
    "\n",
    "Os pacotes listados costumam vir na instalação default do Python. Caso seja um pacote que não tenha, devemos instala-lo em nosso sistema."
   ]
  },
  {
   "cell_type": "markdown",
   "metadata": {
    "colab_type": "text",
    "id": "PAGp698scrzy"
   },
   "source": [
    "### 2.2 Importanto o pacote"
   ]
  },
  {
   "cell_type": "code",
   "execution_count": 76,
   "metadata": {
    "colab": {},
    "colab_type": "code",
    "id": "4GdED8MJdwG4"
   },
   "outputs": [],
   "source": [
    "import numpy    # importando o pacote numpy"
   ]
  },
  {
   "cell_type": "code",
   "execution_count": 77,
   "metadata": {
    "colab": {},
    "colab_type": "code",
    "id": "yOxCLutZc5af"
   },
   "outputs": [
    {
     "data": {
      "text/plain": [
       "1.0"
      ]
     },
     "execution_count": 77,
     "metadata": {},
     "output_type": "execute_result"
    }
   ],
   "source": [
    "numpy.sin((numpy.pi)/2)    # seno(pi/2)"
   ]
  },
  {
   "cell_type": "code",
   "execution_count": 78,
   "metadata": {
    "colab": {},
    "colab_type": "code",
    "id": "JKP2riADe-kJ"
   },
   "outputs": [],
   "source": [
    "import numpy as np         # importando o pacote numpy, abreviando o nome do pacote"
   ]
  },
  {
   "cell_type": "code",
   "execution_count": 79,
   "metadata": {
    "colab": {},
    "colab_type": "code",
    "id": "lzmyCUcWfEb_"
   },
   "outputs": [
    {
     "data": {
      "text/plain": [
       "1.0"
      ]
     },
     "execution_count": 79,
     "metadata": {},
     "output_type": "execute_result"
    }
   ],
   "source": [
    "np.sin((np.pi)/2)"
   ]
  },
  {
   "cell_type": "code",
   "execution_count": 80,
   "metadata": {
    "colab": {},
    "colab_type": "code",
    "id": "chTZzKtNfPGy"
   },
   "outputs": [],
   "source": [
    "from numpy import sin,pi    # do numpy só iremos importar o sin e pi"
   ]
  },
  {
   "cell_type": "code",
   "execution_count": 81,
   "metadata": {
    "colab": {},
    "colab_type": "code",
    "id": "ShUzGiBLfWzE"
   },
   "outputs": [
    {
     "data": {
      "text/plain": [
       "1.0"
      ]
     },
     "execution_count": 81,
     "metadata": {},
     "output_type": "execute_result"
    }
   ],
   "source": [
    "sin(pi/2)"
   ]
  },
  {
   "cell_type": "code",
   "execution_count": 82,
   "metadata": {
    "colab": {},
    "colab_type": "code",
    "id": "MIuoRcNcf18t"
   },
   "outputs": [],
   "source": [
    "import numpy as np"
   ]
  },
  {
   "cell_type": "code",
   "execution_count": 83,
   "metadata": {
    "colab": {},
    "colab_type": "code",
    "id": "TSw9IDUOhll7"
   },
   "outputs": [
    {
     "data": {
      "text/plain": [
       "'1.16.5'"
      ]
     },
     "execution_count": 83,
     "metadata": {},
     "output_type": "execute_result"
    }
   ],
   "source": [
    "np.version.version   # verificar a versão do numpy"
   ]
  },
  {
   "cell_type": "markdown",
   "metadata": {
    "colab_type": "text",
    "id": "UJkXaXZ5jahg"
   },
   "source": [
    "### 2.3 Criando arrays pelo Numpy"
   ]
  },
  {
   "cell_type": "code",
   "execution_count": null,
   "metadata": {
    "colab": {},
    "colab_type": "code",
    "id": "Zj5yoEPOj3nZ"
   },
   "outputs": [],
   "source": [
    "x = range(1,11)   # lista\n",
    "x"
   ]
  },
  {
   "cell_type": "code",
   "execution_count": null,
   "metadata": {
    "colab": {},
    "colab_type": "code",
    "id": "0HpqhumZmMi1"
   },
   "outputs": [],
   "source": [
    "np.array(x)     # array a partir de uma lista"
   ]
  },
  {
   "cell_type": "code",
   "execution_count": null,
   "metadata": {
    "colab": {},
    "colab_type": "code",
    "id": "ohRwdu-KmbGj"
   },
   "outputs": [],
   "source": [
    "x_array = np.arange(1,11)    # array por built-in methods (própio do numpy)\n",
    "x_array"
   ]
  },
  {
   "cell_type": "code",
   "execution_count": null,
   "metadata": {
    "colab": {},
    "colab_type": "code",
    "id": "AaVJdLtLmwxx"
   },
   "outputs": [],
   "source": [
    "type(x_array)    # tipo do objeto"
   ]
  },
  {
   "cell_type": "code",
   "execution_count": null,
   "metadata": {
    "colab": {},
    "colab_type": "code",
    "id": "zocsOf1KpP5-"
   },
   "outputs": [],
   "source": [
    "x_array.dtype   # função própria do array para saber o tipo de elementos dentro do array"
   ]
  },
  {
   "cell_type": "code",
   "execution_count": null,
   "metadata": {
    "colab": {},
    "colab_type": "code",
    "id": "_pJgJRGupsZr"
   },
   "outputs": [],
   "source": [
    "matriz = [[1,2,3], [4,5,6], [7,8,9]]\n",
    "matriz"
   ]
  },
  {
   "cell_type": "code",
   "execution_count": null,
   "metadata": {
    "colab": {},
    "colab_type": "code",
    "id": "_BIyTnYSp7D4"
   },
   "outputs": [],
   "source": [
    "type(matriz)"
   ]
  },
  {
   "cell_type": "code",
   "execution_count": null,
   "metadata": {
    "colab": {},
    "colab_type": "code",
    "id": "uxYdaD4mp9ag"
   },
   "outputs": [],
   "source": [
    "matriz1 = np.array(matriz)\n",
    "matriz1"
   ]
  },
  {
   "cell_type": "code",
   "execution_count": null,
   "metadata": {
    "colab": {},
    "colab_type": "code",
    "id": "wDdGDm8eq351"
   },
   "outputs": [],
   "source": [
    "x_array"
   ]
  },
  {
   "cell_type": "code",
   "execution_count": null,
   "metadata": {
    "colab": {},
    "colab_type": "code",
    "id": "a03SGTN5rCb8"
   },
   "outputs": [],
   "source": [
    "x_array.shape   # 10 linhas"
   ]
  },
  {
   "cell_type": "code",
   "execution_count": null,
   "metadata": {
    "colab": {},
    "colab_type": "code",
    "id": "_OU2EKoArMHW"
   },
   "outputs": [],
   "source": [
    "matriz1.shape   # 3 linhas e 3 colunas"
   ]
  },
  {
   "cell_type": "markdown",
   "metadata": {
    "colab_type": "text",
    "id": "3t1RE2rErYdY"
   },
   "source": [
    "### 2.4 Listas x Arrays"
   ]
  },
  {
   "cell_type": "code",
   "execution_count": null,
   "metadata": {
    "colab": {},
    "colab_type": "code",
    "id": "u5sZebnsrew4"
   },
   "outputs": [],
   "source": [
    "# Listas\n",
    "x = range(1,11)\n",
    "y = [valor**2 for valor in x]\n",
    "y"
   ]
  },
  {
   "cell_type": "code",
   "execution_count": null,
   "metadata": {
    "colab": {},
    "colab_type": "code",
    "id": "396lYBM-r_1k"
   },
   "outputs": [],
   "source": [
    "# Array\n",
    "x_array = np.arange(1,11)\n",
    "y_array = np.square(x_array)\n",
    "y_array"
   ]
  },
  {
   "cell_type": "code",
   "execution_count": null,
   "metadata": {
    "colab": {},
    "colab_type": "code",
    "id": "njrHLi0Msep-"
   },
   "outputs": [],
   "source": [
    "# Listas\n",
    "z = [valor - 5 for valor in x]   # subtraindo cada um dos valores por 5\n",
    "z"
   ]
  },
  {
   "cell_type": "code",
   "execution_count": null,
   "metadata": {
    "colab": {},
    "colab_type": "code",
    "id": "81P9la5ptEiy"
   },
   "outputs": [],
   "source": [
    "# Array\n",
    "z_array = x_array - 5           # subtraindo cada um dos valores por 5\n",
    "z_array"
   ]
  },
  {
   "cell_type": "code",
   "execution_count": null,
   "metadata": {
    "colab": {},
    "colab_type": "code",
    "id": "H33le558tWkh"
   },
   "outputs": [],
   "source": [
    "# Lista\n",
    "%time lista1 = [valor**2 for valor in range(100000000)]"
   ]
  },
  {
   "cell_type": "code",
   "execution_count": null,
   "metadata": {
    "colab": {},
    "colab_type": "code",
    "id": "kCBMpJ-4tyb0"
   },
   "outputs": [],
   "source": [
    "# Array\n",
    "%time lista2 = np.square(np.arange(100000000))"
   ]
  },
  {
   "cell_type": "code",
   "execution_count": null,
   "metadata": {
    "colab": {},
    "colab_type": "code",
    "id": "dTtwrmKIwdv0"
   },
   "outputs": [],
   "source": []
  },
  {
   "cell_type": "markdown",
   "metadata": {
    "colab_type": "text",
    "id": "wgtzYprIx3OI"
   },
   "source": [
    "### 2.5 Seleções com Arrays Numpy"
   ]
  },
  {
   "cell_type": "code",
   "execution_count": null,
   "metadata": {
    "colab": {},
    "colab_type": "code",
    "id": "SgNZzAAByPYo"
   },
   "outputs": [],
   "source": [
    "arr = np.arange(11)\n",
    "arr"
   ]
  },
  {
   "cell_type": "code",
   "execution_count": null,
   "metadata": {
    "colab": {},
    "colab_type": "code",
    "id": "Ztd7AZZuydRG"
   },
   "outputs": [],
   "source": [
    "arr[0]"
   ]
  },
  {
   "cell_type": "code",
   "execution_count": null,
   "metadata": {
    "colab": {},
    "colab_type": "code",
    "id": "JXUv02MxydgB"
   },
   "outputs": [],
   "source": [
    "arr[6]"
   ]
  },
  {
   "cell_type": "code",
   "execution_count": null,
   "metadata": {
    "colab": {},
    "colab_type": "code",
    "id": "0T8saDcQydcS"
   },
   "outputs": [],
   "source": [
    "arr[-1]"
   ]
  },
  {
   "cell_type": "code",
   "execution_count": null,
   "metadata": {
    "colab": {},
    "colab_type": "code",
    "id": "n5HKrWGkzfy1"
   },
   "outputs": [],
   "source": [
    "arr[0:5]          # [ inicio(inclusive):fim(exclusive)]"
   ]
  },
  {
   "cell_type": "code",
   "execution_count": null,
   "metadata": {
    "colab": {},
    "colab_type": "code",
    "id": "-gTuZYUczyFT"
   },
   "outputs": [],
   "source": [
    "arr[6:]          #inicio até o final"
   ]
  },
  {
   "cell_type": "code",
   "execution_count": null,
   "metadata": {
    "colab": {},
    "colab_type": "code",
    "id": "WKzTA24TydZq"
   },
   "outputs": [],
   "source": [
    "arr[::-1]       # [inicio,final,passo] - ordem inversa"
   ]
  },
  {
   "cell_type": "code",
   "execution_count": null,
   "metadata": {
    "colab": {},
    "colab_type": "code",
    "id": "L2PL1ksx0F2I"
   },
   "outputs": [],
   "source": [
    "arr[0::2]       # [inicio:final:passo]"
   ]
  },
  {
   "cell_type": "code",
   "execution_count": null,
   "metadata": {
    "colab": {},
    "colab_type": "code",
    "id": "62hkI4Ye6FTl"
   },
   "outputs": [],
   "source": [
    "arr > 5"
   ]
  },
  {
   "cell_type": "code",
   "execution_count": null,
   "metadata": {
    "colab": {},
    "colab_type": "code",
    "id": "8QTdruAM6M6w"
   },
   "outputs": [],
   "source": [
    "arr[arr > 5]"
   ]
  },
  {
   "cell_type": "code",
   "execution_count": null,
   "metadata": {
    "colab": {},
    "colab_type": "code",
    "id": "4G7V7M1-6QXl"
   },
   "outputs": [],
   "source": [
    "arr[((arr % 2) == 0)]    # pegar apenas os valores pares, ou seja, resto da divisão por 2 é 0"
   ]
  },
  {
   "cell_type": "code",
   "execution_count": null,
   "metadata": {
    "colab": {},
    "colab_type": "code",
    "id": "YSyvFbDj61p3"
   },
   "outputs": [],
   "source": [
    "arr[((arr % 2) == 0) or (arr<5)]   # dá erro"
   ]
  },
  {
   "cell_type": "code",
   "execution_count": null,
   "metadata": {
    "colab": {},
    "colab_type": "code",
    "id": "BQqUtXcY68Xm"
   },
   "outputs": [],
   "source": [
    "arr[np.any([arr %2 == 0, arr < 5],0)]    # duas condições: resto é 0 OU valor é menor que 5"
   ]
  },
  {
   "cell_type": "code",
   "execution_count": null,
   "metadata": {
    "colab": {},
    "colab_type": "code",
    "id": "cbRpohvi0ZcC"
   },
   "outputs": [],
   "source": [
    "arr_2d = np.array([[1,2,3],[4,5,6],[7,8,9]])\n",
    "arr_2d"
   ]
  },
  {
   "cell_type": "markdown",
   "metadata": {
    "colab_type": "text",
    "id": "3aV3UfYk1g0i"
   },
   "source": [
    "[imagem](https://drive.google.com/file/d/1lAKyVgeH0VechbvDfxQnC2AWXET2RY-c/view?usp=sharing)"
   ]
  },
  {
   "cell_type": "code",
   "execution_count": null,
   "metadata": {
    "colab": {},
    "colab_type": "code",
    "id": "LDql9ghs0sKf"
   },
   "outputs": [],
   "source": [
    "arr_2d[0]   # linha 0"
   ]
  },
  {
   "cell_type": "code",
   "execution_count": null,
   "metadata": {
    "colab": {},
    "colab_type": "code",
    "id": "WOvLj0xr5bY6"
   },
   "outputs": [],
   "source": [
    "arr_2d[0][1]   # linha 0, coluna 1"
   ]
  },
  {
   "cell_type": "code",
   "execution_count": null,
   "metadata": {
    "colab": {},
    "colab_type": "code",
    "id": "tpZmT5kI5g2q"
   },
   "outputs": [],
   "source": [
    "arr_2d[0][0]   # linha 0, coluna 0"
   ]
  },
  {
   "cell_type": "code",
   "execution_count": null,
   "metadata": {
    "colab": {},
    "colab_type": "code",
    "id": "DPLfKfuO5n77"
   },
   "outputs": [],
   "source": [
    "arr_2d[:,2]   # todos os elementos da coluna 2"
   ]
  },
  {
   "cell_type": "code",
   "execution_count": null,
   "metadata": {
    "colab": {},
    "colab_type": "code",
    "id": "GO0N4xtw53An"
   },
   "outputs": [],
   "source": [
    "arr_2d[0:2,2]   # 3 e 6 apenas"
   ]
  },
  {
   "cell_type": "markdown",
   "metadata": {
    "colab_type": "text",
    "id": "j7446hiA8JYH"
   },
   "source": [
    "### 2.6 Funções para array\n",
    "\n",
    "https://numpy.org/doc/stable/reference/ufuncs.html"
   ]
  },
  {
   "cell_type": "code",
   "execution_count": null,
   "metadata": {
    "colab": {},
    "colab_type": "code",
    "id": "h5ai_V3f8V_6"
   },
   "outputs": [],
   "source": [
    "arr = np.arange(11)\n",
    "arr"
   ]
  },
  {
   "cell_type": "code",
   "execution_count": null,
   "metadata": {
    "colab": {},
    "colab_type": "code",
    "id": "KqL-n80C8eSg"
   },
   "outputs": [],
   "source": [
    "np.sqrt(arr)   #raiz"
   ]
  },
  {
   "cell_type": "code",
   "execution_count": null,
   "metadata": {
    "colab": {},
    "colab_type": "code",
    "id": "2N5sBoBQ8kYK"
   },
   "outputs": [],
   "source": [
    "np.exp(arr)    # exponencial"
   ]
  },
  {
   "cell_type": "code",
   "execution_count": null,
   "metadata": {
    "colab": {},
    "colab_type": "code",
    "id": "Ri7Q7F1g8qf7"
   },
   "outputs": [],
   "source": [
    "np.max(arr)    # maximo"
   ]
  },
  {
   "cell_type": "code",
   "execution_count": null,
   "metadata": {
    "colab": {},
    "colab_type": "code",
    "id": "hc8roRKT8tqZ"
   },
   "outputs": [],
   "source": [
    "np.min(arr)    # mínimo"
   ]
  },
  {
   "cell_type": "code",
   "execution_count": null,
   "metadata": {
    "colab": {},
    "colab_type": "code",
    "id": "coH85ioc8wQd"
   },
   "outputs": [],
   "source": []
  },
  {
   "cell_type": "markdown",
   "metadata": {
    "colab_type": "text",
    "id": "gfR9fDiJdwtK"
   },
   "source": [
    "-----\n",
    "# 3 - Pandas"
   ]
  },
  {
   "cell_type": "markdown",
   "metadata": {
    "colab_type": "text",
    "id": "5lDm0XdxAk1V"
   },
   "source": [
    "Pacote para manipulação e análise de dados.\n",
    "\n",
    "* Biblioteca fundamental para ciência de dados.\n",
    "* Oferece estruturas e operações para manipular tabelas (bidimensional) e séries (1-dimensão).\n",
    "* Construída com base no pacote Numpy.\n",
    "\n",
    "\n",
    "<br />\n",
    "\n",
    "**Documentação:**\n",
    "\n",
    "https://pandas.pydata.org/docs/\n",
    "\n",
    "https://pandas.pydata.org/docs/pandas.pdf\n"
   ]
  },
  {
   "cell_type": "markdown",
   "metadata": {
    "colab_type": "text",
    "id": "Ma3xlsmgL7zm"
   },
   "source": [
    "### 3.1 - Estruturas de Dados\n"
   ]
  },
  {
   "cell_type": "markdown",
   "metadata": {
    "colab_type": "text",
    "id": "SAA1GYC2PLys"
   },
   "source": [
    "**Séries & DataFrames**\n",
    "\n",
    "<br />\n",
    "\n",
    "**Séries**\n",
    "\n",
    "Arrays unidimensionais **rotulados** capazes de armazenar qualquer tipo de dado. Rótulos das linhas são chamados de **index**. \n",
    "\n",
    "A forma básica de criação de uma Series é a seguinte:\n",
    "\n",
    "```\n",
    "    s = pd.Series(dados, index = index)\n",
    "```\n",
    "\n",
    "O argumento *dados* pode ser um dicionário, uma lista, um array Numpy ou uma constante.\n",
    "\n",
    "<br />\n",
    "\n",
    "**DataFrames**\n",
    "\n",
    "Estrutura de dados tabular bidimensional com rótulos nas linha e colunas. Como a Series, os DataFrames são capazes de armazenar qualquer tipo de dados.\n",
    "\n",
    "\n",
    "```\n",
    "    df = pd.DataFrame(dados, index = index, columns = columns)\n",
    "```\n",
    "\n",
    "O argumento *dados* pode ser um dicionário, uma lista, um array Numpy, uma Series e outro DataFrame.\n"
   ]
  },
  {
   "cell_type": "code",
   "execution_count": null,
   "metadata": {
    "colab": {},
    "colab_type": "code",
    "id": "jf2Vslu3d2fu"
   },
   "outputs": [],
   "source": [
    "import numpy as np\n",
    "import pandas as pd    # importando o pandas"
   ]
  },
  {
   "cell_type": "code",
   "execution_count": null,
   "metadata": {
    "colab": {},
    "colab_type": "code",
    "id": "4HhL9U9zQEyR"
   },
   "outputs": [],
   "source": [
    "permeabilidade = [6.3, 6.3,17.1,82.4, 119]\n",
    "s = pd.Series(permeabilidade)         # series"
   ]
  },
  {
   "cell_type": "code",
   "execution_count": null,
   "metadata": {
    "colab": {},
    "colab_type": "code",
    "id": "p2Mz8NuBT_sm"
   },
   "outputs": [],
   "source": [
    "s"
   ]
  },
  {
   "cell_type": "code",
   "execution_count": null,
   "metadata": {
    "colab": {},
    "colab_type": "code",
    "id": "elznabYUUCIv"
   },
   "outputs": [],
   "source": [
    "type(s)    # tipo do s"
   ]
  },
  {
   "cell_type": "code",
   "execution_count": null,
   "metadata": {
    "colab": {},
    "colab_type": "code",
    "id": "CwElRkn8UEl_"
   },
   "outputs": [],
   "source": [
    "s.dtype   # tipo dos elementos"
   ]
  },
  {
   "cell_type": "code",
   "execution_count": null,
   "metadata": {
    "colab": {},
    "colab_type": "code",
    "id": "ToJulScOTa0W"
   },
   "outputs": [],
   "source": [
    "s[0]"
   ]
  },
  {
   "cell_type": "code",
   "execution_count": null,
   "metadata": {
    "colab": {},
    "colab_type": "code",
    "id": "Jyspp1YqTc7V"
   },
   "outputs": [],
   "source": [
    "permeabilidade = [6.3, 6.3,17.1,82.4, 119]   # lista de permeabilidades\n",
    "s1 = pd.Series(permeabilidade, index = ['Amostra1','Amostra2','Amostra3','Amostra4', 'Amostra5'])   # dando nomes para os índices\n",
    "s1"
   ]
  },
  {
   "cell_type": "code",
   "execution_count": null,
   "metadata": {
    "colab": {},
    "colab_type": "code",
    "id": "sCJ-WUr1TtXF"
   },
   "outputs": [],
   "source": [
    "s1['Amostra1']"
   ]
  },
  {
   "cell_type": "code",
   "execution_count": null,
   "metadata": {
    "colab": {},
    "colab_type": "code",
    "id": "B7faNqWST32B"
   },
   "outputs": [],
   "source": [
    "s1[0]"
   ]
  },
  {
   "cell_type": "code",
   "execution_count": null,
   "metadata": {
    "colab": {},
    "colab_type": "code",
    "id": "pPX1jo3rVStx"
   },
   "outputs": [],
   "source": [
    "permeabilidade = [6.3, 6.3,17.1,82.4, 119] \n",
    "area = [4990, 7002, 7943,10651,8624]\n",
    "shape = [0.09,0.149,0.122,0.23,0.20]"
   ]
  },
  {
   "cell_type": "code",
   "execution_count": null,
   "metadata": {
    "colab": {},
    "colab_type": "code",
    "id": "wtptmn1bWY-E"
   },
   "outputs": [],
   "source": [
    "df = pd.DataFrame(data = {'area': area,'permeabilidade':permeabilidade,'shape':shape})\n",
    "df"
   ]
  },
  {
   "cell_type": "code",
   "execution_count": null,
   "metadata": {
    "colab": {},
    "colab_type": "code",
    "id": "81DfSrUiXOHx"
   },
   "outputs": [],
   "source": [
    "df_forma2 = pd.DataFrame(data = np.array([area,permeabilidade,shape]))\n",
    "df_forma2"
   ]
  },
  {
   "cell_type": "code",
   "execution_count": null,
   "metadata": {
    "colab": {},
    "colab_type": "code",
    "id": "TkruphCfXeIz"
   },
   "outputs": [],
   "source": [
    "df_forma2 = df_forma2.T   # calcula a transposta \n",
    "df_forma2"
   ]
  },
  {
   "cell_type": "code",
   "execution_count": null,
   "metadata": {
    "colab": {},
    "colab_type": "code",
    "id": "yLHnO--SXw9I"
   },
   "outputs": [],
   "source": [
    "df_forma2.columns = ['area','permeabilidade','shape']\n",
    "df_forma2"
   ]
  },
  {
   "cell_type": "code",
   "execution_count": null,
   "metadata": {
    "colab": {},
    "colab_type": "code",
    "id": "cSmZFBOmYAL8"
   },
   "outputs": [],
   "source": [
    "df_forma2.index = ['Amostra'+ str(i) for i in range(len(df_forma2))]\n",
    "df_forma2"
   ]
  },
  {
   "cell_type": "markdown",
   "metadata": {
    "colab_type": "text",
    "id": "YwU8WfbpYfNL"
   },
   "source": [
    "### 3.2 - Importar arquivos"
   ]
  },
  {
   "cell_type": "markdown",
   "metadata": {
    "colab_type": "text",
    "id": "sOxwiX_6cY1e"
   },
   "source": [
    "* **Forma 1:**\n",
    "\n",
    "Em arquivos (a esquerda, no google colab), apertar em *Fazer upload para o armazenamento da sessão*.\n",
    "> OBS: Essa forma é temporária. Assim, ao abrir novamente o colab ou perder a conexão, o arquivo não estará mais lá e terá que fazer upload novamente.\n",
    "\n",
    "<br />\n",
    "\n",
    "* **Forma 2:**\n",
    "\n",
    "Conectar Drive, assim o google colab terá acesso a sua pasta no drive.\n",
    "\n",
    "<br />"
   ]
  },
  {
   "cell_type": "code",
   "execution_count": null,
   "metadata": {
    "colab": {},
    "colab_type": "code",
    "id": "52nJzwcN1qzt"
   },
   "outputs": [],
   "source": [
    "import pandas as pd"
   ]
  },
  {
   "cell_type": "code",
   "execution_count": null,
   "metadata": {
    "colab": {},
    "colab_type": "code",
    "id": "SSaXTXEsYnHO"
   },
   "outputs": [],
   "source": [
    "# 1. Importando arquivos .csv\n",
    "\n",
    "# Forma 1 (upload do arquivo)\n",
    "df = pd.read_csv('datasets_363876_710670_rock.csv', sep = ';')  # Importando o arquivo .csv pelo Pandas (notar sep : tipo de separador)"
   ]
  },
  {
   "cell_type": "code",
   "execution_count": null,
   "metadata": {
    "colab": {},
    "colab_type": "code",
    "id": "k7zFG5w3g_N5"
   },
   "outputs": [],
   "source": [
    "df.head()   # lê as 5 primeiras linhas"
   ]
  },
  {
   "cell_type": "code",
   "execution_count": null,
   "metadata": {
    "colab": {},
    "colab_type": "code",
    "id": "DrCLuCTnhZap"
   },
   "outputs": [],
   "source": [
    "df = pd.read_csv('datasets_363876_710670_rock.csv', sep = ',')   # o separador das colunas neste caso deve ser ',', por isso modificamos"
   ]
  },
  {
   "cell_type": "code",
   "execution_count": null,
   "metadata": {
    "colab": {},
    "colab_type": "code",
    "id": "AqeqxzwLhc8b"
   },
   "outputs": [],
   "source": [
    "df.head(10)"
   ]
  },
  {
   "cell_type": "code",
   "execution_count": null,
   "metadata": {
    "colab": {},
    "colab_type": "code",
    "id": "gje3WI_biMDf"
   },
   "outputs": [],
   "source": [
    "df = pd.read_csv('datasets_363876_710670_rock.csv', sep = ',',index_col=0)  # determina qual coluna é o index index_col=0. O default é None\n",
    "df.head(10)"
   ]
  },
  {
   "cell_type": "code",
   "execution_count": null,
   "metadata": {
    "colab": {},
    "colab_type": "code",
    "id": "vjGfPD97ikyE"
   },
   "outputs": [],
   "source": [
    "# Forma 2 (importando pelo google drive):\n",
    "df = pd.read_csv('/content/drive/My Drive/2020/Matéria Data Science/aula pratica1/datasets_363876_710670_rock.csv', sep = ',',index_col=0)  # determina qual coluna é o index index_col=0. O default é None\n"
   ]
  },
  {
   "cell_type": "code",
   "execution_count": null,
   "metadata": {
    "colab": {},
    "colab_type": "code",
    "id": "z07K8BcjmrkF"
   },
   "outputs": [],
   "source": [
    "df.head(10)"
   ]
  },
  {
   "cell_type": "code",
   "execution_count": null,
   "metadata": {
    "colab": {},
    "colab_type": "code",
    "id": "f8Qy_ypTjv3u"
   },
   "outputs": [],
   "source": [
    "# 2. Importando arquivos .xlxs\n",
    "df_xlsx = pd.read_excel('/content/drive/My Drive/2020/Matéria Data Science/aula pratica1/tabela-de-pocos-ANP CAMPOS BRASILEIROS.xlsx')\n",
    "df_xlsx.head(10)"
   ]
  },
  {
   "cell_type": "code",
   "execution_count": null,
   "metadata": {
    "colab": {},
    "colab_type": "code",
    "id": "xqHK_lFRkx0O"
   },
   "outputs": [],
   "source": [
    "df_xlsx = pd.read_excel('/content/drive/My Drive/2020/Matéria Data Science/aula pratica1/tabela-de-pocos-ANP CAMPOS BRASILEIROS.xlsx',skiprows=4)\n",
    "df_xlsx.head(10)"
   ]
  },
  {
   "cell_type": "markdown",
   "metadata": {
    "colab_type": "text",
    "id": "hxqUy-jImx5O"
   },
   "source": [
    "### 3.3 - Funcionalidades do Pandas\n"
   ]
  },
  {
   "cell_type": "code",
   "execution_count": null,
   "metadata": {
    "colab": {},
    "colab_type": "code",
    "id": "mRqtgPwenV-1"
   },
   "outputs": [],
   "source": [
    "df.head()     # lê as primeiras linhas"
   ]
  },
  {
   "cell_type": "code",
   "execution_count": null,
   "metadata": {
    "colab": {},
    "colab_type": "code",
    "id": "-YF80Cx1nr6h"
   },
   "outputs": [],
   "source": [
    "type(df)      # o tipo de df (dataframe)"
   ]
  },
  {
   "cell_type": "code",
   "execution_count": null,
   "metadata": {
    "colab": {},
    "colab_type": "code",
    "id": "MQeQLECrnxgi"
   },
   "outputs": [],
   "source": [
    "df.dtypes      # define o tipo de objeto de cada coluna"
   ]
  },
  {
   "cell_type": "code",
   "execution_count": null,
   "metadata": {
    "colab": {},
    "colab_type": "code",
    "id": "UhkHZSIfpI4p"
   },
   "outputs": [],
   "source": [
    "df.shape  # (linhas, colunas)"
   ]
  },
  {
   "cell_type": "code",
   "execution_count": null,
   "metadata": {
    "colab": {},
    "colab_type": "code",
    "id": "V9MvtGoDoUKg"
   },
   "outputs": [],
   "source": [
    "X = df.drop(['perm'],axis=1)   # remover a coluna 'perm' do dataframe df. Axis = 0 -> remove a linha, Axis = 1 -> remover a coluna\n",
    "X.head()"
   ]
  },
  {
   "cell_type": "code",
   "execution_count": null,
   "metadata": {
    "colab": {},
    "colab_type": "code",
    "id": "6LGdhyXbpTkv"
   },
   "outputs": [],
   "source": [
    "X.shape     # (num linhas, num colunas)"
   ]
  },
  {
   "cell_type": "code",
   "execution_count": null,
   "metadata": {
    "colab": {},
    "colab_type": "code",
    "id": "eoNbL6Zio4gq"
   },
   "outputs": [],
   "source": [
    "df.head()"
   ]
  },
  {
   "cell_type": "code",
   "execution_count": null,
   "metadata": {
    "colab": {},
    "colab_type": "code",
    "id": "bKEWy2ePo6yy"
   },
   "outputs": [],
   "source": [
    "df.drop(48, axis=0, inplace=True)         # para a modificação ocorrer no DataFrame"
   ]
  },
  {
   "cell_type": "code",
   "execution_count": null,
   "metadata": {
    "colab": {},
    "colab_type": "code",
    "id": "UTkT0mt8o6J7"
   },
   "outputs": [],
   "source": [
    "df.shape    # removi uma linha"
   ]
  },
  {
   "cell_type": "code",
   "execution_count": null,
   "metadata": {
    "colab": {},
    "colab_type": "code",
    "id": "7O7jMhQup_4l"
   },
   "outputs": [],
   "source": [
    "df['perm'].unique()   # para coluna 'perm', quantos elementos distintos se tem"
   ]
  },
  {
   "cell_type": "code",
   "execution_count": null,
   "metadata": {
    "colab": {},
    "colab_type": "code",
    "id": "neuX0MtFqk_y"
   },
   "outputs": [],
   "source": [
    "df['tipo'] = pd.factorize(df['perm'])[0]"
   ]
  },
  {
   "cell_type": "code",
   "execution_count": null,
   "metadata": {
    "colab": {},
    "colab_type": "code",
    "id": "P_v2gHrwssYn"
   },
   "outputs": [],
   "source": [
    "df.head()"
   ]
  },
  {
   "cell_type": "code",
   "execution_count": null,
   "metadata": {
    "colab": {},
    "colab_type": "code",
    "id": "slNuY8r2s4fb"
   },
   "outputs": [],
   "source": [
    "df['temp'] = df['peri']*df['shape']"
   ]
  },
  {
   "cell_type": "code",
   "execution_count": null,
   "metadata": {
    "colab": {},
    "colab_type": "code",
    "id": "3syFHbZWtNil"
   },
   "outputs": [],
   "source": [
    "df.head()"
   ]
  },
  {
   "cell_type": "code",
   "execution_count": null,
   "metadata": {
    "colab": {},
    "colab_type": "code",
    "id": "hJqiXlNItQkB"
   },
   "outputs": [],
   "source": [
    "df.drop(['temp'], axis = 1, inplace = True)"
   ]
  },
  {
   "cell_type": "code",
   "execution_count": null,
   "metadata": {
    "colab": {},
    "colab_type": "code",
    "id": "-kAYBIJhtfpR"
   },
   "outputs": [],
   "source": [
    "df.head()"
   ]
  },
  {
   "cell_type": "code",
   "execution_count": null,
   "metadata": {
    "colab": {},
    "colab_type": "code",
    "id": "5ExGqR66d3ML"
   },
   "outputs": [],
   "source": [
    "\n"
   ]
  },
  {
   "cell_type": "markdown",
   "metadata": {
    "colab_type": "text",
    "id": "NckW10681Yhv"
   },
   "source": [
    "### 3.4 - Seleções de linhas e colunas\n",
    "\n",
    "Duas formas de selecionar linhas e colunas no Pandas:\n",
    "\n",
    "> * Utilizando o .loc\n",
    "\n",
    ">> <font color=red>**Observação:**</font> Seleciona um grupo de linhas e colunas segundo os **rótulos** ou uma matriz booleana.\n",
    "\n",
    "\n",
    "> * Utilizando o .iloc\n",
    "\n",
    ">> <font color=red>**Observação:**</font> Seleciona com base nos índices, ou seja, se baseia na posição das informações."
   ]
  },
  {
   "cell_type": "code",
   "execution_count": null,
   "metadata": {
    "colab": {},
    "colab_type": "code",
    "id": "dKfB9hprnaBP"
   },
   "outputs": [],
   "source": [
    "df.head(10)"
   ]
  },
  {
   "cell_type": "code",
   "execution_count": null,
   "metadata": {
    "colab": {},
    "colab_type": "code",
    "id": "W_ivtip61jh8"
   },
   "outputs": [],
   "source": [
    "df.loc[1,'area']     # [nome do indice, nome da coluna]"
   ]
  },
  {
   "cell_type": "code",
   "execution_count": null,
   "metadata": {
    "colab": {},
    "colab_type": "code",
    "id": "rwudZu-M2dRE"
   },
   "outputs": [],
   "source": [
    "df.iloc[0,0]         # [posicao_linha,posicao_coluna]"
   ]
  },
  {
   "cell_type": "code",
   "execution_count": null,
   "metadata": {
    "colab": {},
    "colab_type": "code",
    "id": "9XtERItA2uJ1"
   },
   "outputs": [],
   "source": [
    "df['area']           # nome da coluna"
   ]
  },
  {
   "cell_type": "code",
   "execution_count": null,
   "metadata": {
    "colab": {},
    "colab_type": "code",
    "id": "h_2IpwVQ3AkP"
   },
   "outputs": [],
   "source": [
    "df[0]          # dará erro, precisamos passar a posição por .iloc "
   ]
  },
  {
   "cell_type": "code",
   "execution_count": null,
   "metadata": {
    "colab": {},
    "colab_type": "code",
    "id": "R-GJm_lz3Lfr"
   },
   "outputs": [],
   "source": [
    "df.iloc[:,0]   # todas as linhas, da coluna na posição 0"
   ]
  },
  {
   "cell_type": "code",
   "execution_count": null,
   "metadata": {
    "colab": {},
    "colab_type": "code",
    "id": "QMPcxa6Q3uLs"
   },
   "outputs": [],
   "source": [
    "df2 = df[['area','perm']]"
   ]
  },
  {
   "cell_type": "code",
   "execution_count": null,
   "metadata": {
    "colab": {},
    "colab_type": "code",
    "id": "6zGXdfeu3_b7"
   },
   "outputs": [],
   "source": [
    "df2.head()"
   ]
  },
  {
   "cell_type": "code",
   "execution_count": null,
   "metadata": {
    "colab": {},
    "colab_type": "code",
    "id": "XR2plerC4CCD"
   },
   "outputs": [],
   "source": [
    "df2 = df.loc[:,['area','perm']]"
   ]
  },
  {
   "cell_type": "code",
   "execution_count": null,
   "metadata": {
    "colab": {},
    "colab_type": "code",
    "id": "HeDfD7oP4GS7"
   },
   "outputs": [],
   "source": [
    "df2.head()"
   ]
  },
  {
   "cell_type": "code",
   "execution_count": null,
   "metadata": {
    "colab": {},
    "colab_type": "code",
    "id": "vyGFpLZx4Njl"
   },
   "outputs": [],
   "source": [
    "df.head(10)"
   ]
  },
  {
   "cell_type": "code",
   "execution_count": null,
   "metadata": {
    "colab": {},
    "colab_type": "code",
    "id": "rMZIT-1S4SVz"
   },
   "outputs": [],
   "source": [
    "df.loc[1:3,['area','peri']]    # [nome_das_linhas,nome_das_colunas]"
   ]
  },
  {
   "cell_type": "code",
   "execution_count": null,
   "metadata": {
    "colab": {},
    "colab_type": "code",
    "id": "WWYsxJmQ4der"
   },
   "outputs": [],
   "source": [
    "df.iloc[0:3,0:2]    # [linhas de índice 0 a 2, colunas de 0 a 1]"
   ]
  },
  {
   "cell_type": "code",
   "execution_count": null,
   "metadata": {
    "colab": {},
    "colab_type": "code",
    "id": "3m0U8FxY4zzB"
   },
   "outputs": [],
   "source": [
    "# Seleção pelas condições\n",
    "df.head()"
   ]
  },
  {
   "cell_type": "code",
   "execution_count": null,
   "metadata": {
    "colab": {},
    "colab_type": "code",
    "id": "K_hjRSbx483J"
   },
   "outputs": [],
   "source": [
    "df['perm']< 20    # quais as linhas que a coluna 'perm' é maior que 20"
   ]
  },
  {
   "cell_type": "code",
   "execution_count": null,
   "metadata": {
    "colab": {},
    "colab_type": "code",
    "id": "faHa6FyD5OIK"
   },
   "outputs": [],
   "source": [
    "df[df['perm'] < 20 ]    # seleção das linhas em que a permeabilidade é menor que 20"
   ]
  },
  {
   "cell_type": "code",
   "execution_count": null,
   "metadata": {
    "colab": {},
    "colab_type": "code",
    "id": "X3qggXzt5d5r"
   },
   "outputs": [],
   "source": [
    "df[df['tipo'] == 0]"
   ]
  },
  {
   "cell_type": "code",
   "execution_count": null,
   "metadata": {
    "colab": {},
    "colab_type": "code",
    "id": "NPdLIQpF5q78"
   },
   "outputs": [],
   "source": [
    "df.head(15)"
   ]
  },
  {
   "cell_type": "code",
   "execution_count": null,
   "metadata": {
    "colab": {},
    "colab_type": "code",
    "id": "utCdW7NH5uEk"
   },
   "outputs": [],
   "source": [
    "df[(df['shape'] > 0.2) and (df['perm'] > 100)]    # erro"
   ]
  },
  {
   "cell_type": "code",
   "execution_count": null,
   "metadata": {
    "colab": {},
    "colab_type": "code",
    "id": "n4LQS1Kg5ko6"
   },
   "outputs": [],
   "source": [
    "df[(df['shape'] > 0.2) & (df['perm'] > 100)]         # condições multiplas em Series"
   ]
  },
  {
   "cell_type": "code",
   "execution_count": null,
   "metadata": {
    "colab": {},
    "colab_type": "code",
    "id": "ATIF6G8X6NuD"
   },
   "outputs": [],
   "source": [
    "df[(df['shape'] > 0.2) or (df['perm'] > 100)]         # erro"
   ]
  },
  {
   "cell_type": "code",
   "execution_count": null,
   "metadata": {
    "colab": {},
    "colab_type": "code",
    "id": "FrzrS8eR6R2s"
   },
   "outputs": [],
   "source": [
    "df[(df['shape'] > 0.2) | (df['perm'] > 100)]         # condições multiplas em Series"
   ]
  },
  {
   "cell_type": "markdown",
   "metadata": {
    "colab_type": "text",
    "id": "i1SkY2IE7H-i"
   },
   "source": [
    "### 3.5 - Funções/operações do Pandas muito importantes"
   ]
  },
  {
   "cell_type": "code",
   "execution_count": null,
   "metadata": {
    "colab": {},
    "colab_type": "code",
    "id": "dHuUrBRX7TTf"
   },
   "outputs": [],
   "source": [
    "df.head(8)"
   ]
  },
  {
   "cell_type": "code",
   "execution_count": null,
   "metadata": {
    "colab": {},
    "colab_type": "code",
    "id": "_EmJgpDV7jzA"
   },
   "outputs": [],
   "source": [
    "df.shape"
   ]
  },
  {
   "cell_type": "code",
   "execution_count": null,
   "metadata": {
    "colab": {},
    "colab_type": "code",
    "id": "I3IlKZG37aPr"
   },
   "outputs": [],
   "source": [
    "df['perm'].unique()   # retorna os diferentes valores"
   ]
  },
  {
   "cell_type": "code",
   "execution_count": null,
   "metadata": {
    "colab": {},
    "colab_type": "code",
    "id": "DfYMasLo7ql6"
   },
   "outputs": [],
   "source": [
    "df['perm'].nunique()   # a quantidade de valores diferentes em uma deternimada coluna"
   ]
  },
  {
   "cell_type": "code",
   "execution_count": null,
   "metadata": {
    "colab": {},
    "colab_type": "code",
    "id": "WYVbI7hU8aQh"
   },
   "outputs": [],
   "source": [
    "df['perm'].value_counts()   # quantidade de vezes que cada valor aparece na coluna"
   ]
  },
  {
   "cell_type": "code",
   "execution_count": null,
   "metadata": {
    "colab": {},
    "colab_type": "code",
    "id": "61jIIyk58rYS"
   },
   "outputs": [],
   "source": [
    "df['perm'].mean()   # média"
   ]
  },
  {
   "cell_type": "code",
   "execution_count": null,
   "metadata": {
    "colab": {},
    "colab_type": "code",
    "id": "2-IQfX338yMb"
   },
   "outputs": [],
   "source": [
    "df['perm'].max()   # máximo"
   ]
  },
  {
   "cell_type": "code",
   "execution_count": null,
   "metadata": {
    "colab": {},
    "colab_type": "code",
    "id": "itWQM9cq81vp"
   },
   "outputs": [],
   "source": [
    "df['perm'].min()   # mínimo"
   ]
  },
  {
   "cell_type": "code",
   "execution_count": null,
   "metadata": {
    "colab": {},
    "colab_type": "code",
    "id": "Hvh5CgXr86t8"
   },
   "outputs": [],
   "source": [
    "df.describe()   # resumo estatístico do dataframe (faz as análises para cada coluna)"
   ]
  },
  {
   "cell_type": "code",
   "execution_count": null,
   "metadata": {
    "colab": {},
    "colab_type": "code",
    "id": "Zjjdl_II9Ejp"
   },
   "outputs": [],
   "source": [
    "df_resumo = df.describe()"
   ]
  },
  {
   "cell_type": "code",
   "execution_count": null,
   "metadata": {
    "colab": {},
    "colab_type": "code",
    "id": "eJ33G03a-KUp"
   },
   "outputs": [],
   "source": [
    "type(df_resumo)"
   ]
  },
  {
   "cell_type": "code",
   "execution_count": null,
   "metadata": {
    "colab": {},
    "colab_type": "code",
    "id": "eg_9ybom9RvO"
   },
   "outputs": [],
   "source": [
    "df_resumo.to_excel('/content/drive/My Drive/2020/Matéria Data Science/aula pratica1/resumo_estatistico.xlsx')   # exporta o dataframe df_resumo para uma planilha do excel (na pasta que foi definido)"
   ]
  },
  {
   "cell_type": "code",
   "execution_count": null,
   "metadata": {
    "colab": {},
    "colab_type": "code",
    "id": "-OxUExez-NGf"
   },
   "outputs": [],
   "source": [
    "df_resumo.apply(lambda x: round(x,2))    # função apply - está aplicando a função round em todos os termos do dataframe df (round define o número de casas decimais)"
   ]
  },
  {
   "cell_type": "code",
   "execution_count": null,
   "metadata": {
    "colab": {},
    "colab_type": "code",
    "id": "zS5laSBS_v7r"
   },
   "outputs": [],
   "source": []
  },
  {
   "cell_type": "markdown",
   "metadata": {
    "colab_type": "text",
    "id": "CLX9vMPbd3uc"
   },
   "source": [
    "# 4 - Matplotlib"
   ]
  },
  {
   "cell_type": "markdown",
   "metadata": {
    "colab_type": "text",
    "id": "UFi5djfG_PT-"
   },
   "source": [
    "* Uma das mais famosas bibliotecas de visualização de dados do Python\n",
    "\n",
    "* **Documentação:**\n",
    "\n",
    "https://matplotlib.org/\n",
    "\n",
    "https://matplotlib.org/users/index.html\n",
    "\n",
    "<br />\n",
    "Bem útil:\n",
    "\n",
    "https://matplotlib.org/tutorials/introductory/usage.html#sphx-glr-tutorials-introductory-usage-py\n",
    "\n"
   ]
  },
  {
   "cell_type": "code",
   "execution_count": null,
   "metadata": {
    "colab": {},
    "colab_type": "code",
    "id": "KsZ92n57d_Fz"
   },
   "outputs": [],
   "source": [
    "import matplotlib.pyplot as plt\n",
    "import numpy as np"
   ]
  },
  {
   "cell_type": "code",
   "execution_count": null,
   "metadata": {
    "colab": {},
    "colab_type": "code",
    "id": "xBo3WSeL_ljo"
   },
   "outputs": [],
   "source": [
    "x = np.arange(1,7)\n",
    "y = x**2"
   ]
  },
  {
   "cell_type": "code",
   "execution_count": null,
   "metadata": {
    "colab": {},
    "colab_type": "code",
    "id": "0ZxV8db-_tPm"
   },
   "outputs": [],
   "source": [
    "print(x)\n",
    "print(y)"
   ]
  },
  {
   "cell_type": "code",
   "execution_count": null,
   "metadata": {
    "colab": {},
    "colab_type": "code",
    "id": "pctoXvWmAG2-"
   },
   "outputs": [],
   "source": [
    "# Functional\n",
    "plt.plot(x,y)\n",
    "plt.show()"
   ]
  },
  {
   "cell_type": "code",
   "execution_count": null,
   "metadata": {
    "colab": {},
    "colab_type": "code",
    "id": "B-hJ1hMyAHUK"
   },
   "outputs": [],
   "source": [
    "plt.plot(x,y, color = 'r',label='Quadrado')\n",
    "plt.legend()\n",
    "plt.show()\n"
   ]
  },
  {
   "cell_type": "code",
   "execution_count": null,
   "metadata": {
    "colab": {},
    "colab_type": "code",
    "id": "fFxG_cePAF8y"
   },
   "outputs": [],
   "source": [
    "plt.plot(x,y, color = 'r',label='Quadrado')\n",
    "plt.plot(x,x**3,color = 'b', label='Cubo')\n",
    "plt.legend()\n",
    "plt.show()"
   ]
  },
  {
   "cell_type": "code",
   "execution_count": null,
   "metadata": {
    "colab": {},
    "colab_type": "code",
    "id": "0eGjCqW_ANp5"
   },
   "outputs": [],
   "source": [
    "plt.figure(figsize=(10,5))   # tamanho da figura\n",
    "plt.plot(x,y, '-r',label='Quadrado')   # \n",
    "plt.plot(x,x**3, '-g',label='Cubo')\n",
    "plt.legend(loc=0)\n",
    "plt.xlabel('Eixo X')\n",
    "plt.ylabel('Eixo Y')\n",
    "plt.title('Meu Grafico')\n",
    "plt.xlim(0,5)\n",
    "plt.ylim(0,30)\n",
    "plt.grid(b='on')\n",
    "#plt.savefig('Figura Exemplo.png')"
   ]
  },
  {
   "cell_type": "code",
   "execution_count": null,
   "metadata": {
    "colab": {},
    "colab_type": "code",
    "id": "icM_NVAdAJNK"
   },
   "outputs": [],
   "source": [
    "dados = np.random.randint(0,1001,100)        # gera 100 números aleatórios inteiros de 0 a 1001\n",
    "plt.plot(list(range(100)),dados)\n",
    "plt.show()"
   ]
  },
  {
   "cell_type": "code",
   "execution_count": null,
   "metadata": {
    "colab": {},
    "colab_type": "code",
    "id": "C55o7mB10_xw"
   },
   "outputs": [],
   "source": [
    "dados = np.random.randint(0,1001,100)        # gera 100 números aleatórios inteiros de 0 a 1001\n",
    "plt.plot(list(range(100)),dados,'--',lw = 3)\n",
    "plt.show()"
   ]
  },
  {
   "cell_type": "code",
   "execution_count": null,
   "metadata": {
    "colab": {},
    "colab_type": "code",
    "id": "Nve59HlLCKNr"
   },
   "outputs": [],
   "source": [
    "plt.scatter(list(range(100)),dados,color = 'blue')     # gráfico de dispersão\n",
    "plt.xlim(0,100)\n",
    "plt.show()"
   ]
  },
  {
   "cell_type": "code",
   "execution_count": null,
   "metadata": {
    "colab": {},
    "colab_type": "code",
    "id": "s5xJD79rCMNq"
   },
   "outputs": [],
   "source": [
    "plt.scatter(list(range(100)),dados, color='red', marker='*', label='Dados')\n",
    "plt.legend()\n",
    "plt.xlim(0,100)\n",
    "plt.ylim(0,1000)\n",
    "plt.title('Titulo Exemplo')\n",
    "plt.xlabel('Amostra')\n",
    "plt.ylabel('Valores')\n",
    "plt.show()"
   ]
  },
  {
   "cell_type": "code",
   "execution_count": null,
   "metadata": {
    "colab": {},
    "colab_type": "code",
    "id": "7tRR4AH6ALO9"
   },
   "outputs": [],
   "source": [
    "# Histograma\n",
    "plt.hist(dados)\n",
    "plt.show()"
   ]
  },
  {
   "cell_type": "code",
   "execution_count": null,
   "metadata": {
    "colab": {},
    "colab_type": "code",
    "id": "emZ_qKhECTzv"
   },
   "outputs": [],
   "source": [
    "plt.hist(dados, bins=12, color='orange')\n",
    "plt.show()"
   ]
  },
  {
   "cell_type": "code",
   "execution_count": null,
   "metadata": {
    "colab": {},
    "colab_type": "code",
    "id": "8WFJpXbzCYjt"
   },
   "outputs": [],
   "source": [
    "\n",
    "plt.hist(dados, bins=12, color='purple', cumulative=True)\n",
    "plt.show()"
   ]
  },
  {
   "cell_type": "markdown",
   "metadata": {
    "colab_type": "text",
    "id": "Oziqfvucd8Lv"
   },
   "source": [
    "# 5 - Seaborn\n",
    "\n",
    "Pacote de gráficos baseado no matplotlib. Gráficos bonitos. "
   ]
  },
  {
   "cell_type": "markdown",
   "metadata": {
    "colab_type": "text",
    "id": "JKe7_HF-8EyQ"
   },
   "source": [
    "\n",
    "documentação:\n",
    "\n",
    "https://seaborn.pydata.org/\n",
    "\n",
    "https://seaborn.pydata.org/examples/index.html\n",
    "\n",
    "https://seaborn.pydata.org/tutorial.html"
   ]
  },
  {
   "cell_type": "code",
   "execution_count": null,
   "metadata": {
    "colab": {},
    "colab_type": "code",
    "id": "LxOZt2qrd9u7"
   },
   "outputs": [],
   "source": [
    "import seaborn as sns"
   ]
  },
  {
   "cell_type": "code",
   "execution_count": null,
   "metadata": {
    "colab": {},
    "colab_type": "code",
    "id": "gZPT-uoiCmUb"
   },
   "outputs": [],
   "source": [
    "df.head()"
   ]
  },
  {
   "cell_type": "code",
   "execution_count": null,
   "metadata": {
    "colab": {},
    "colab_type": "code",
    "id": "ZnWd08fQCrEw"
   },
   "outputs": [],
   "source": [
    "sns.distplot(df['area'])             # curva é o KDE (Kernel density estimation), uma forma muito comum de estimar a densidade dos dados"
   ]
  },
  {
   "cell_type": "code",
   "execution_count": null,
   "metadata": {
    "colab": {},
    "colab_type": "code",
    "id": "Wue0vn9UCzRL"
   },
   "outputs": [],
   "source": [
    "sns.set_style(\"whitegrid\")\n",
    "sns.distplot(df['area'])"
   ]
  },
  {
   "cell_type": "code",
   "execution_count": null,
   "metadata": {
    "colab": {},
    "colab_type": "code",
    "id": "W7Hjesu0C9AU"
   },
   "outputs": [],
   "source": [
    "sns.distplot(df['area'],kde=False)          # kde = kernel density estimation"
   ]
  },
  {
   "cell_type": "code",
   "execution_count": null,
   "metadata": {
    "colab": {},
    "colab_type": "code",
    "id": "x_5234JfDE7f"
   },
   "outputs": [],
   "source": [
    "sns.distplot(df['area'],kde=False,bins=20,color='purple')"
   ]
  },
  {
   "cell_type": "code",
   "execution_count": null,
   "metadata": {
    "colab": {},
    "colab_type": "code",
    "id": "bWBqtZYS4sQ9"
   },
   "outputs": [],
   "source": [
    "df.head()"
   ]
  },
  {
   "cell_type": "code",
   "execution_count": null,
   "metadata": {
    "colab": {},
    "colab_type": "code",
    "id": "r3QrxdvS4zo0"
   },
   "outputs": [],
   "source": [
    "df.drop(['tipo'],axis=1, inplace = True)"
   ]
  },
  {
   "cell_type": "code",
   "execution_count": null,
   "metadata": {
    "colab": {},
    "colab_type": "code",
    "id": "W_PJhIM9ARjH"
   },
   "outputs": [],
   "source": [
    "sns.set(font_scale=1.5,style=\"whitegrid\")\n",
    "sns.pairplot(df)  # utiliza as colunas numericas"
   ]
  },
  {
   "cell_type": "code",
   "execution_count": null,
   "metadata": {
    "colab": {},
    "colab_type": "code",
    "id": "GqUzAWjVGUEU"
   },
   "outputs": [],
   "source": [
    "df_cor = df.corr()\n",
    "df_cor"
   ]
  },
  {
   "cell_type": "code",
   "execution_count": null,
   "metadata": {
    "colab": {},
    "colab_type": "code",
    "id": "4ylRcZiVGcZF"
   },
   "outputs": [],
   "source": [
    "plt.figure(figsize=(10,8))   # tamanho da figura\n",
    "sns.heatmap(df_cor)"
   ]
  },
  {
   "cell_type": "code",
   "execution_count": null,
   "metadata": {
    "colab": {},
    "colab_type": "code",
    "id": "hVGhGkExGkyg"
   },
   "outputs": [],
   "source": [
    "sns.heatmap(df_cor, annot=True)"
   ]
  },
  {
   "cell_type": "code",
   "execution_count": null,
   "metadata": {
    "colab": {},
    "colab_type": "code",
    "id": "oqHwBvx5GrJZ"
   },
   "outputs": [],
   "source": [
    "sns.heatmap(df_cor, annot=True, cmap='coolwarm')"
   ]
  },
  {
   "cell_type": "code",
   "execution_count": null,
   "metadata": {
    "colab": {},
    "colab_type": "code",
    "id": "hikwIiq6GxQT"
   },
   "outputs": [],
   "source": [
    "sns.heatmap(df_cor, annot=True, cmap='coolwarm', linecolor='white', linewidths=0.5)"
   ]
  },
  {
   "cell_type": "code",
   "execution_count": null,
   "metadata": {
    "colab": {},
    "colab_type": "code",
    "id": "kv7pfPvG5_cO"
   },
   "outputs": [],
   "source": [
    "plt.figure(figsize=(10,8))   # tamanho da figura\n",
    "cmap1 = sns.color_palette(\"RdBu\", 10)\n",
    "sns.heatmap(df_cor,  cmap=cmap1,xticklabels = df_cor.columns, yticklabels = df_cor.columns)"
   ]
  },
  {
   "cell_type": "code",
   "execution_count": null,
   "metadata": {
    "colab": {},
    "colab_type": "code",
    "id": "YV8LrM6cHK8V"
   },
   "outputs": [],
   "source": [
    "df.head()"
   ]
  },
  {
   "cell_type": "code",
   "execution_count": null,
   "metadata": {
    "colab": {},
    "colab_type": "code",
    "id": "vkfp-RrGAY2D"
   },
   "outputs": [],
   "source": [
    "#Regression Plots\n",
    "sns.lmplot(x='area', y='perm', data=df) \n"
   ]
  },
  {
   "cell_type": "code",
   "execution_count": null,
   "metadata": {
    "colab": {},
    "colab_type": "code",
    "id": "jiTXAZX2G_RF"
   },
   "outputs": [],
   "source": [
    "sns.lmplot(x='area', y='perm', data=df, fit_reg=False)"
   ]
  },
  {
   "cell_type": "code",
   "execution_count": null,
   "metadata": {
    "colab": {},
    "colab_type": "code",
    "id": "3cMzNzX_HG6t"
   },
   "outputs": [],
   "source": [
    "sns.lmplot(x='area', y='perm', data=df,aspect=1.2,size=8) # aspect= vertical/horizontal"
   ]
  },
  {
   "cell_type": "code",
   "execution_count": null,
   "metadata": {
    "colab": {},
    "colab_type": "code",
    "id": "72W482r36rHZ"
   },
   "outputs": [],
   "source": [
    "# boxplot\n",
    "sns.boxplot(x=\"variable\", y=\"value\", data=pd.melt(df))    # boxplot de todas as variáveis do dataframe"
   ]
  },
  {
   "cell_type": "code",
   "execution_count": null,
   "metadata": {
    "colab": {},
    "colab_type": "code",
    "id": "4wW-5Zwe7G2Q"
   },
   "outputs": [],
   "source": [
    "sns.set(font_scale=1.3,style=\"whitegrid\")\n",
    "plt.figure(figsize=(3,6))\n",
    "sns.boxplot(y=df['area'],showmeans=True,meanprops={\"marker\":\"s\",\n",
    "                       \"markerfacecolor\":\"red\", \n",
    "                       \"markeredgecolor\":\"red\",\n",
    "                      \"markersize\":\"10\"})"
   ]
  },
  {
   "cell_type": "code",
   "execution_count": null,
   "metadata": {
    "colab": {},
    "colab_type": "code",
    "id": "EEDAErBbIwP_"
   },
   "outputs": [],
   "source": []
  }
 ],
 "metadata": {
  "colab": {
   "collapsed_sections": [
    "1MZVgsVEdZ9p",
    "Tv9iWRNwjDY9",
    "UJkXaXZ5jahg",
    "3t1RE2rErYdY",
    "wgtzYprIx3OI"
   ],
   "name": "AulaPratica1.ipynb",
   "provenance": [],
   "toc_visible": true
  },
  "kernelspec": {
   "display_name": "Python 3",
   "language": "python",
   "name": "python3"
  },
  "language_info": {
   "codemirror_mode": {
    "name": "ipython",
    "version": 3
   },
   "file_extension": ".py",
   "mimetype": "text/x-python",
   "name": "python",
   "nbconvert_exporter": "python",
   "pygments_lexer": "ipython3",
   "version": "3.7.4"
  }
 },
 "nbformat": 4,
 "nbformat_minor": 1
}
