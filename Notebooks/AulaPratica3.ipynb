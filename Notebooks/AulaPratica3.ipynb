{
  "nbformat": 4,
  "nbformat_minor": 0,
  "metadata": {
    "colab": {
      "name": "AulaPratica3_Classificacao_v2.ipynb",
      "provenance": [],
      "collapsed_sections": [
        "1MZVgsVEdZ9p",
        "Tv9iWRNwjDY9",
        "UJkXaXZ5jahg",
        "3t1RE2rErYdY",
        "wgtzYprIx3OI"
      ],
      "toc_visible": true
    },
    "kernelspec": {
      "display_name": "Python 3",
      "language": "python",
      "name": "python3"
    },
    "language_info": {
      "codemirror_mode": {
        "name": "ipython",
        "version": 3
      },
      "file_extension": ".py",
      "mimetype": "text/x-python",
      "name": "python",
      "nbconvert_exporter": "python",
      "pygments_lexer": "ipython3",
      "version": "3.7.4"
    }
  },
  "cells": [
    {
      "cell_type": "markdown",
      "metadata": {
        "id": "52OdmD7ydh4k"
      },
      "source": [
        "# <font color=green> **AULA PRÁTICA 3 - CLASSIFICAÇÃO**\n",
        "-----\n",
        "\n",
        "## Objetivo:\n",
        "\n",
        "* Mostrar o pacote scikit-learn: https://scikit-learn.org/stable/\n",
        "\n",
        "\n",
        "* Mostrar o funcionamento de um estudo de classificação que contém as etapas:\n",
        "\n",
        "1. Entrada de dados pre-processados\n",
        "2. Separação treino e teste\n",
        "3. Ajuste de Modelos e otimização de parâmetros na série de treinamento\n",
        "4. Avaliação de Resultados na Série de Teste\n",
        "\n",
        "\n",
        "<br>\n",
        "\n",
        "---\n",
        "\n",
        "**OBS:** Iremos olhar o dataset Titanic, mostrado na Aula Prática 2. Os dados de entrada desta aula são os dados finais da etapa de pré-processamento.\n",
        "\n",
        "\n",
        "<br>\n",
        "\n",
        "\n",
        "* **Objetivo do dataset:**\n",
        "\n",
        "Queremos prever quais os passageiros sobreviveram ao desastre, a partir de diferentes variáveis (X) disponibilizados.  <font color=red> (Agora já sabemos que se trata de um problema supervisionado de classificação binária)\n",
        "\n",
        "---\n",
        "  \n",
        "\n",
        "\n",
        "\n",
        "\n"
      ]
    },
    {
      "cell_type": "markdown",
      "metadata": {
        "id": "2AnhGYmGIGBO"
      },
      "source": [
        "-------\n",
        "# Parte 0 - Apresentando o Pacote Scikit-learn\n",
        "\n",
        "\n",
        "* Biblioteca do Python destinada a aplicações de Machine Learning.\n",
        "* Inclui diferentes algoritmos de classificação, regressão e agrupamento. Além disso, tem funções de normalização, métricas de avaliação, métodos de seleção de variáveis, etc. Scikit-learn é um pacote com muitas funcionalidades para Ciência de Dados.\n",
        "\n",
        "\n",
        "<br>\n",
        "\n",
        "\n",
        "**Vamos começar olhando a página inicial da biblioteca:**\n",
        "\n",
        "https://scikit-learn.org/stable/\n",
        "\n",
        "<br>\n",
        "\n",
        "**Tutoriais:**\n",
        "\n",
        "https://scikit-learn.org/stable/tutorial/index.html\n",
        "\n",
        "<br>\n",
        "\n",
        "**Explicação dos métodos:**\n",
        "\n",
        "https://scikit-learn.org/stable/user_guide.html#user-guide\n"
      ]
    },
    {
      "cell_type": "markdown",
      "metadata": {
        "id": "avpS595g2_S0"
      },
      "source": [
        "-------\n",
        "# Parte 1 - Leitura do dataset e Importando Pacotes"
      ]
    },
    {
      "cell_type": "code",
      "metadata": {
        "id": "q1kpyUes3PtO"
      },
      "source": [
        "# Importando pacotes\n",
        "import numpy as np\n",
        "import pandas as pd\n",
        "import seaborn as sns\n",
        "import matplotlib.pyplot as plt"
      ],
      "execution_count": 125,
      "outputs": []
    },
    {
      "cell_type": "code",
      "metadata": {
        "id": "4WahjkXW3PtS"
      },
      "source": [
        "# lendo o arquivo\n",
        "df = pd.read_excel('/content/drive/My Drive/2020/Matéria Data Science/aula pratica 3/df_titanic_processado.xlsx',index_col = 0)"
      ],
      "execution_count": 126,
      "outputs": []
    },
    {
      "cell_type": "code",
      "metadata": {
        "id": "trLgCQYJ3b-L",
        "outputId": "56080641-098c-49e9-dbd1-0df31df9ada2",
        "colab": {
          "base_uri": "https://localhost:8080/",
          "height": 195
        }
      },
      "source": [
        "df.head()\n",
        "# OBS: Sex: 1 - masculino, 0 - feminino; Embarked_Q - Queenstown; Embarked_S - Southampton\n",
        "# OBS2: Survived: Não sobreviveu: 0; Sobreviveu: 1"
      ],
      "execution_count": 127,
      "outputs": [
        {
          "output_type": "execute_result",
          "data": {
            "text/html": [
              "<div>\n",
              "<style scoped>\n",
              "    .dataframe tbody tr th:only-of-type {\n",
              "        vertical-align: middle;\n",
              "    }\n",
              "\n",
              "    .dataframe tbody tr th {\n",
              "        vertical-align: top;\n",
              "    }\n",
              "\n",
              "    .dataframe thead th {\n",
              "        text-align: right;\n",
              "    }\n",
              "</style>\n",
              "<table border=\"1\" class=\"dataframe\">\n",
              "  <thead>\n",
              "    <tr style=\"text-align: right;\">\n",
              "      <th></th>\n",
              "      <th>Survived</th>\n",
              "      <th>Pclass</th>\n",
              "      <th>Age</th>\n",
              "      <th>Fare</th>\n",
              "      <th>num_familiares</th>\n",
              "      <th>Sex</th>\n",
              "      <th>Embarked_Q</th>\n",
              "      <th>Embarked_S</th>\n",
              "    </tr>\n",
              "  </thead>\n",
              "  <tbody>\n",
              "    <tr>\n",
              "      <th>0</th>\n",
              "      <td>0</td>\n",
              "      <td>3</td>\n",
              "      <td>22.0</td>\n",
              "      <td>7.2500</td>\n",
              "      <td>1</td>\n",
              "      <td>1</td>\n",
              "      <td>0</td>\n",
              "      <td>1</td>\n",
              "    </tr>\n",
              "    <tr>\n",
              "      <th>1</th>\n",
              "      <td>1</td>\n",
              "      <td>1</td>\n",
              "      <td>38.0</td>\n",
              "      <td>71.2833</td>\n",
              "      <td>1</td>\n",
              "      <td>0</td>\n",
              "      <td>0</td>\n",
              "      <td>0</td>\n",
              "    </tr>\n",
              "    <tr>\n",
              "      <th>2</th>\n",
              "      <td>1</td>\n",
              "      <td>3</td>\n",
              "      <td>26.0</td>\n",
              "      <td>7.9250</td>\n",
              "      <td>0</td>\n",
              "      <td>0</td>\n",
              "      <td>0</td>\n",
              "      <td>1</td>\n",
              "    </tr>\n",
              "    <tr>\n",
              "      <th>3</th>\n",
              "      <td>1</td>\n",
              "      <td>1</td>\n",
              "      <td>35.0</td>\n",
              "      <td>53.1000</td>\n",
              "      <td>1</td>\n",
              "      <td>0</td>\n",
              "      <td>0</td>\n",
              "      <td>1</td>\n",
              "    </tr>\n",
              "    <tr>\n",
              "      <th>4</th>\n",
              "      <td>0</td>\n",
              "      <td>3</td>\n",
              "      <td>35.0</td>\n",
              "      <td>8.0500</td>\n",
              "      <td>0</td>\n",
              "      <td>1</td>\n",
              "      <td>0</td>\n",
              "      <td>1</td>\n",
              "    </tr>\n",
              "  </tbody>\n",
              "</table>\n",
              "</div>"
            ],
            "text/plain": [
              "   Survived  Pclass   Age     Fare  num_familiares  Sex  Embarked_Q  Embarked_S\n",
              "0         0       3  22.0   7.2500               1    1           0           1\n",
              "1         1       1  38.0  71.2833               1    0           0           0\n",
              "2         1       3  26.0   7.9250               0    0           0           1\n",
              "3         1       1  35.0  53.1000               1    0           0           1\n",
              "4         0       3  35.0   8.0500               0    1           0           1"
            ]
          },
          "metadata": {
            "tags": []
          },
          "execution_count": 127
        }
      ]
    },
    {
      "cell_type": "code",
      "metadata": {
        "id": "Uw4PhZNhqJsz"
      },
      "source": [
        "# OBS: Survived (o y desejado) já está certo, não precisamos fazer nada. Mas, vamos utilizar este comando apenas para mostrar o que faríamos se tivessemos variáveis categóricas e precisassemos transformar para número\n",
        "df['Survived'] = df['Survived'].apply(lambda x: 'Não Sobreviveu' if x == 0 else 'Sobreviveu')"
      ],
      "execution_count": 128,
      "outputs": []
    },
    {
      "cell_type": "code",
      "metadata": {
        "id": "BNhzv6FQs0fA",
        "outputId": "bed87b40-da77-4158-a24c-9b6cec3ed932",
        "colab": {
          "base_uri": "https://localhost:8080/",
          "height": 195
        }
      },
      "source": [
        "df.head()"
      ],
      "execution_count": 129,
      "outputs": [
        {
          "output_type": "execute_result",
          "data": {
            "text/html": [
              "<div>\n",
              "<style scoped>\n",
              "    .dataframe tbody tr th:only-of-type {\n",
              "        vertical-align: middle;\n",
              "    }\n",
              "\n",
              "    .dataframe tbody tr th {\n",
              "        vertical-align: top;\n",
              "    }\n",
              "\n",
              "    .dataframe thead th {\n",
              "        text-align: right;\n",
              "    }\n",
              "</style>\n",
              "<table border=\"1\" class=\"dataframe\">\n",
              "  <thead>\n",
              "    <tr style=\"text-align: right;\">\n",
              "      <th></th>\n",
              "      <th>Survived</th>\n",
              "      <th>Pclass</th>\n",
              "      <th>Age</th>\n",
              "      <th>Fare</th>\n",
              "      <th>num_familiares</th>\n",
              "      <th>Sex</th>\n",
              "      <th>Embarked_Q</th>\n",
              "      <th>Embarked_S</th>\n",
              "    </tr>\n",
              "  </thead>\n",
              "  <tbody>\n",
              "    <tr>\n",
              "      <th>0</th>\n",
              "      <td>Não Sobreviveu</td>\n",
              "      <td>3</td>\n",
              "      <td>22.0</td>\n",
              "      <td>7.2500</td>\n",
              "      <td>1</td>\n",
              "      <td>1</td>\n",
              "      <td>0</td>\n",
              "      <td>1</td>\n",
              "    </tr>\n",
              "    <tr>\n",
              "      <th>1</th>\n",
              "      <td>Sobreviveu</td>\n",
              "      <td>1</td>\n",
              "      <td>38.0</td>\n",
              "      <td>71.2833</td>\n",
              "      <td>1</td>\n",
              "      <td>0</td>\n",
              "      <td>0</td>\n",
              "      <td>0</td>\n",
              "    </tr>\n",
              "    <tr>\n",
              "      <th>2</th>\n",
              "      <td>Sobreviveu</td>\n",
              "      <td>3</td>\n",
              "      <td>26.0</td>\n",
              "      <td>7.9250</td>\n",
              "      <td>0</td>\n",
              "      <td>0</td>\n",
              "      <td>0</td>\n",
              "      <td>1</td>\n",
              "    </tr>\n",
              "    <tr>\n",
              "      <th>3</th>\n",
              "      <td>Sobreviveu</td>\n",
              "      <td>1</td>\n",
              "      <td>35.0</td>\n",
              "      <td>53.1000</td>\n",
              "      <td>1</td>\n",
              "      <td>0</td>\n",
              "      <td>0</td>\n",
              "      <td>1</td>\n",
              "    </tr>\n",
              "    <tr>\n",
              "      <th>4</th>\n",
              "      <td>Não Sobreviveu</td>\n",
              "      <td>3</td>\n",
              "      <td>35.0</td>\n",
              "      <td>8.0500</td>\n",
              "      <td>0</td>\n",
              "      <td>1</td>\n",
              "      <td>0</td>\n",
              "      <td>1</td>\n",
              "    </tr>\n",
              "  </tbody>\n",
              "</table>\n",
              "</div>"
            ],
            "text/plain": [
              "         Survived  Pclass   Age  ...  Sex  Embarked_Q  Embarked_S\n",
              "0  Não Sobreviveu       3  22.0  ...    1           0           1\n",
              "1      Sobreviveu       1  38.0  ...    0           0           0\n",
              "2      Sobreviveu       3  26.0  ...    0           0           1\n",
              "3      Sobreviveu       1  35.0  ...    0           0           1\n",
              "4  Não Sobreviveu       3  35.0  ...    1           0           1\n",
              "\n",
              "[5 rows x 8 columns]"
            ]
          },
          "metadata": {
            "tags": []
          },
          "execution_count": 129
        }
      ]
    },
    {
      "cell_type": "markdown",
      "metadata": {
        "id": "Ox5Kvt077E0S"
      },
      "source": [
        "-------\n",
        "# Parte 2 - Separação Treino e Teste"
      ]
    },
    {
      "cell_type": "markdown",
      "metadata": {
        "id": "8eDh5_x2YJ9a"
      },
      "source": [
        "* Em um estudo de ML, geralmente deixamos parte dos dados para serem avalidados no final do processo. Treinamos nosso modelo com a **Série de Treinamento** e Validamos com a **Série de Teste**.\n",
        "\n",
        "Boa Referência:\n",
        "\n",
        "https://scikit-learn.org/stable/modules/cross_validation.html\n",
        "\n",
        "\n",
        "\n",
        " **ESQUEMA**\n",
        "\n",
        "<figure>\n",
        "<center>\n",
        "<img src='https://drive.google.com/uc?export=view&id=1qlv8Kce0_TDI6g43gNOuBbWP7upCOZrz' />\n",
        "<figcaption>ESQUEMA DE TREINO E TESTE</figcaption></center>\n",
        "</figure>\n",
        "\n"
      ]
    },
    {
      "cell_type": "markdown",
      "metadata": {
        "id": "pMwRlDyA7R3Q"
      },
      "source": [
        "## 2.1 - Divisão da série X (variáveis independentes) e y (variável dependente):"
      ]
    },
    {
      "cell_type": "code",
      "metadata": {
        "id": "CTn2I8cUujSy",
        "outputId": "9a6eb560-126e-48e6-87fa-421d0a3eaeb3",
        "colab": {
          "base_uri": "https://localhost:8080/",
          "height": 195
        }
      },
      "source": [
        "df.head()"
      ],
      "execution_count": 130,
      "outputs": [
        {
          "output_type": "execute_result",
          "data": {
            "text/html": [
              "<div>\n",
              "<style scoped>\n",
              "    .dataframe tbody tr th:only-of-type {\n",
              "        vertical-align: middle;\n",
              "    }\n",
              "\n",
              "    .dataframe tbody tr th {\n",
              "        vertical-align: top;\n",
              "    }\n",
              "\n",
              "    .dataframe thead th {\n",
              "        text-align: right;\n",
              "    }\n",
              "</style>\n",
              "<table border=\"1\" class=\"dataframe\">\n",
              "  <thead>\n",
              "    <tr style=\"text-align: right;\">\n",
              "      <th></th>\n",
              "      <th>Survived</th>\n",
              "      <th>Pclass</th>\n",
              "      <th>Age</th>\n",
              "      <th>Fare</th>\n",
              "      <th>num_familiares</th>\n",
              "      <th>Sex</th>\n",
              "      <th>Embarked_Q</th>\n",
              "      <th>Embarked_S</th>\n",
              "    </tr>\n",
              "  </thead>\n",
              "  <tbody>\n",
              "    <tr>\n",
              "      <th>0</th>\n",
              "      <td>Não Sobreviveu</td>\n",
              "      <td>3</td>\n",
              "      <td>22.0</td>\n",
              "      <td>7.2500</td>\n",
              "      <td>1</td>\n",
              "      <td>1</td>\n",
              "      <td>0</td>\n",
              "      <td>1</td>\n",
              "    </tr>\n",
              "    <tr>\n",
              "      <th>1</th>\n",
              "      <td>Sobreviveu</td>\n",
              "      <td>1</td>\n",
              "      <td>38.0</td>\n",
              "      <td>71.2833</td>\n",
              "      <td>1</td>\n",
              "      <td>0</td>\n",
              "      <td>0</td>\n",
              "      <td>0</td>\n",
              "    </tr>\n",
              "    <tr>\n",
              "      <th>2</th>\n",
              "      <td>Sobreviveu</td>\n",
              "      <td>3</td>\n",
              "      <td>26.0</td>\n",
              "      <td>7.9250</td>\n",
              "      <td>0</td>\n",
              "      <td>0</td>\n",
              "      <td>0</td>\n",
              "      <td>1</td>\n",
              "    </tr>\n",
              "    <tr>\n",
              "      <th>3</th>\n",
              "      <td>Sobreviveu</td>\n",
              "      <td>1</td>\n",
              "      <td>35.0</td>\n",
              "      <td>53.1000</td>\n",
              "      <td>1</td>\n",
              "      <td>0</td>\n",
              "      <td>0</td>\n",
              "      <td>1</td>\n",
              "    </tr>\n",
              "    <tr>\n",
              "      <th>4</th>\n",
              "      <td>Não Sobreviveu</td>\n",
              "      <td>3</td>\n",
              "      <td>35.0</td>\n",
              "      <td>8.0500</td>\n",
              "      <td>0</td>\n",
              "      <td>1</td>\n",
              "      <td>0</td>\n",
              "      <td>1</td>\n",
              "    </tr>\n",
              "  </tbody>\n",
              "</table>\n",
              "</div>"
            ],
            "text/plain": [
              "         Survived  Pclass   Age  ...  Sex  Embarked_Q  Embarked_S\n",
              "0  Não Sobreviveu       3  22.0  ...    1           0           1\n",
              "1      Sobreviveu       1  38.0  ...    0           0           0\n",
              "2      Sobreviveu       3  26.0  ...    0           0           1\n",
              "3      Sobreviveu       1  35.0  ...    0           0           1\n",
              "4  Não Sobreviveu       3  35.0  ...    1           0           1\n",
              "\n",
              "[5 rows x 8 columns]"
            ]
          },
          "metadata": {
            "tags": []
          },
          "execution_count": 130
        }
      ]
    },
    {
      "cell_type": "code",
      "metadata": {
        "id": "TXpf_1G47MzU"
      },
      "source": [
        "X = df.drop(['Survived'],1)   # retirar a coluna y (Survived)\n",
        "y = df[[\"Survived\"]]          # coluna y "
      ],
      "execution_count": 131,
      "outputs": []
    },
    {
      "cell_type": "markdown",
      "metadata": {
        "id": "oAjvc1ht7h8g"
      },
      "source": [
        "## 2.2 - Transformar a variável dependente (y) em binária:\n",
        "\n",
        "Caso a variável y esteja como nome, precisamos passar para número.\n",
        "\n"
      ]
    },
    {
      "cell_type": "code",
      "metadata": {
        "id": "l-UeEXY1vHxp",
        "outputId": "f5452fb8-96f5-4ad6-820d-e41cb2ae8619",
        "colab": {
          "base_uri": "https://localhost:8080/",
          "height": 118
        }
      },
      "source": [
        "# Forma 1 - fazendo a mão\n",
        "y_1 = y['Survived'].apply(lambda x: 0 if x == 'Não Sobreviveu' else 1)\n",
        "y_1.head()"
      ],
      "execution_count": 134,
      "outputs": [
        {
          "output_type": "execute_result",
          "data": {
            "text/plain": [
              "0    0\n",
              "1    1\n",
              "2    1\n",
              "3    1\n",
              "4    0\n",
              "Name: Survived, dtype: int64"
            ]
          },
          "metadata": {
            "tags": []
          },
          "execution_count": 134
        }
      ]
    },
    {
      "cell_type": "code",
      "metadata": {
        "id": "mtklYns07bUl",
        "outputId": "b73a9868-9f2e-4a8b-a93a-e17ff45eca2f",
        "colab": {
          "base_uri": "https://localhost:8080/",
          "height": 70
        }
      },
      "source": [
        "# Forma 2 - usando scitkit\n",
        "from sklearn.preprocessing import LabelEncoder             # https://scikit-learn.org/stable/modules/generated/sklearn.preprocessing.LabelEncoder.html\n",
        "labelencoder_y = LabelEncoder()                            # Chamando o comando para transformar variável dependente categórica em numérica\n",
        "y = labelencoder_y.fit_transform(y)                        # 0: Não sobreviveu; 1: Sobreviveu  (ordem alfabética) - saída é um array\n",
        "y = pd.DataFrame(y,columns = ['Survived'])                 # Para retornamos a saída para um dataframe"
      ],
      "execution_count": 135,
      "outputs": [
        {
          "output_type": "stream",
          "text": [
            "/usr/local/lib/python3.6/dist-packages/sklearn/preprocessing/_label.py:251: DataConversionWarning: A column-vector y was passed when a 1d array was expected. Please change the shape of y to (n_samples, ), for example using ravel().\n",
            "  y = column_or_1d(y, warn=True)\n"
          ],
          "name": "stderr"
        }
      ]
    },
    {
      "cell_type": "code",
      "metadata": {
        "id": "198LYzCxx2Km",
        "outputId": "9a0f0300-d7fb-442d-c70d-97d07480a895",
        "colab": {
          "base_uri": "https://localhost:8080/",
          "height": 195
        }
      },
      "source": [
        "y.head()"
      ],
      "execution_count": 136,
      "outputs": [
        {
          "output_type": "execute_result",
          "data": {
            "text/html": [
              "<div>\n",
              "<style scoped>\n",
              "    .dataframe tbody tr th:only-of-type {\n",
              "        vertical-align: middle;\n",
              "    }\n",
              "\n",
              "    .dataframe tbody tr th {\n",
              "        vertical-align: top;\n",
              "    }\n",
              "\n",
              "    .dataframe thead th {\n",
              "        text-align: right;\n",
              "    }\n",
              "</style>\n",
              "<table border=\"1\" class=\"dataframe\">\n",
              "  <thead>\n",
              "    <tr style=\"text-align: right;\">\n",
              "      <th></th>\n",
              "      <th>Survived</th>\n",
              "    </tr>\n",
              "  </thead>\n",
              "  <tbody>\n",
              "    <tr>\n",
              "      <th>0</th>\n",
              "      <td>0</td>\n",
              "    </tr>\n",
              "    <tr>\n",
              "      <th>1</th>\n",
              "      <td>1</td>\n",
              "    </tr>\n",
              "    <tr>\n",
              "      <th>2</th>\n",
              "      <td>1</td>\n",
              "    </tr>\n",
              "    <tr>\n",
              "      <th>3</th>\n",
              "      <td>1</td>\n",
              "    </tr>\n",
              "    <tr>\n",
              "      <th>4</th>\n",
              "      <td>0</td>\n",
              "    </tr>\n",
              "  </tbody>\n",
              "</table>\n",
              "</div>"
            ],
            "text/plain": [
              "   Survived\n",
              "0         0\n",
              "1         1\n",
              "2         1\n",
              "3         1\n",
              "4         0"
            ]
          },
          "metadata": {
            "tags": []
          },
          "execution_count": 136
        }
      ]
    },
    {
      "cell_type": "markdown",
      "metadata": {
        "id": "W_UQQEtz7116"
      },
      "source": [
        "## 2.3 - Divisão do dataset em treino e teste "
      ]
    },
    {
      "cell_type": "markdown",
      "metadata": {
        "id": "rgFG4CFC6ZNL"
      },
      "source": [
        "\n",
        "* test_size -> porcentagem (float) ou quantidade de valores (int) que será separada para a série de teste (X_test e y_test);\n",
        "* random_state ->  semente que se fixa os registros de treino e teste. O train_test_split separa aleatoriamente amostras para treino e teste. Para controle do experimento, é aconselhável se trabalhar sempre com as mesmas amostras de treino/teste;\n",
        "* stratify -> separa respeitando a proporção de valores de cada classe da variavel dada;\n",
        "* Shuffle -> embaralha os dados."
      ]
    },
    {
      "cell_type": "code",
      "metadata": {
        "id": "JhuLwW1k7p50"
      },
      "source": [
        "# Importando módulo para fazer esta divisão automaticamente (https://scikit-learn.org/stable/modules/generated/sklearn.model_selection.train_test_split.html)\n",
        "from sklearn.model_selection import train_test_split"
      ],
      "execution_count": 137,
      "outputs": []
    },
    {
      "cell_type": "code",
      "metadata": {
        "id": "rQ4cj6wm7_d4"
      },
      "source": [
        "# Separando X_train, X_test, y_train e y_test \n",
        "X_train, X_test, y_train, y_test = train_test_split(X, y, test_size=0.20, random_state=0, stratify=y, shuffle = True)"
      ],
      "execution_count": null,
      "outputs": []
    },
    {
      "cell_type": "code",
      "metadata": {
        "id": "BDR5oHsx4SRo",
        "outputId": "72f377ed-ac99-4222-9deb-62e2f0364fb9",
        "colab": {
          "base_uri": "https://localhost:8080/",
          "height": 67
        }
      },
      "source": [
        "# Avaliando as divisões\n",
        "print(f'Série de treino: {len(X_train)}')              # número de amostras no treino\n",
        "print(f'Série de treino: {len(X_test)}')               # número de amostras no teste\n",
        "print(f'Fração separada para teste: {round(len(X_test)/len(X),1)}')    # fração no conjunto de teste"
      ],
      "execution_count": 143,
      "outputs": [
        {
          "output_type": "stream",
          "text": [
            "Série de treino: 710\n",
            "Série de treino: 178\n",
            "Fração separada para teste: 0.2\n"
          ],
          "name": "stdout"
        }
      ]
    },
    {
      "cell_type": "code",
      "metadata": {
        "id": "FMcvuSSC6lvh",
        "outputId": "34bbecf0-80b6-44e0-c610-c02d04619b41",
        "colab": {
          "base_uri": "https://localhost:8080/",
          "height": 195
        }
      },
      "source": [
        "X_train.head()"
      ],
      "execution_count": 147,
      "outputs": [
        {
          "output_type": "execute_result",
          "data": {
            "text/html": [
              "<div>\n",
              "<style scoped>\n",
              "    .dataframe tbody tr th:only-of-type {\n",
              "        vertical-align: middle;\n",
              "    }\n",
              "\n",
              "    .dataframe tbody tr th {\n",
              "        vertical-align: top;\n",
              "    }\n",
              "\n",
              "    .dataframe thead th {\n",
              "        text-align: right;\n",
              "    }\n",
              "</style>\n",
              "<table border=\"1\" class=\"dataframe\">\n",
              "  <thead>\n",
              "    <tr style=\"text-align: right;\">\n",
              "      <th></th>\n",
              "      <th>Pclass</th>\n",
              "      <th>Age</th>\n",
              "      <th>Fare</th>\n",
              "      <th>num_familiares</th>\n",
              "      <th>Sex</th>\n",
              "      <th>Embarked_Q</th>\n",
              "      <th>Embarked_S</th>\n",
              "    </tr>\n",
              "  </thead>\n",
              "  <tbody>\n",
              "    <tr>\n",
              "      <th>510</th>\n",
              "      <td>3</td>\n",
              "      <td>29.0</td>\n",
              "      <td>7.7500</td>\n",
              "      <td>0</td>\n",
              "      <td>1</td>\n",
              "      <td>1</td>\n",
              "      <td>0</td>\n",
              "    </tr>\n",
              "    <tr>\n",
              "      <th>832</th>\n",
              "      <td>3</td>\n",
              "      <td>25.0</td>\n",
              "      <td>7.2292</td>\n",
              "      <td>0</td>\n",
              "      <td>1</td>\n",
              "      <td>0</td>\n",
              "      <td>0</td>\n",
              "    </tr>\n",
              "    <tr>\n",
              "      <th>815</th>\n",
              "      <td>1</td>\n",
              "      <td>38.0</td>\n",
              "      <td>0.0000</td>\n",
              "      <td>0</td>\n",
              "      <td>1</td>\n",
              "      <td>0</td>\n",
              "      <td>1</td>\n",
              "    </tr>\n",
              "    <tr>\n",
              "      <th>717</th>\n",
              "      <td>2</td>\n",
              "      <td>27.0</td>\n",
              "      <td>10.5000</td>\n",
              "      <td>0</td>\n",
              "      <td>0</td>\n",
              "      <td>0</td>\n",
              "      <td>1</td>\n",
              "    </tr>\n",
              "    <tr>\n",
              "      <th>84</th>\n",
              "      <td>2</td>\n",
              "      <td>17.0</td>\n",
              "      <td>10.5000</td>\n",
              "      <td>0</td>\n",
              "      <td>0</td>\n",
              "      <td>0</td>\n",
              "      <td>1</td>\n",
              "    </tr>\n",
              "  </tbody>\n",
              "</table>\n",
              "</div>"
            ],
            "text/plain": [
              "     Pclass   Age     Fare  num_familiares  Sex  Embarked_Q  Embarked_S\n",
              "510       3  29.0   7.7500               0    1           1           0\n",
              "832       3  25.0   7.2292               0    1           0           0\n",
              "815       1  38.0   0.0000               0    1           0           1\n",
              "717       2  27.0  10.5000               0    0           0           1\n",
              "84        2  17.0  10.5000               0    0           0           1"
            ]
          },
          "metadata": {
            "tags": []
          },
          "execution_count": 147
        }
      ]
    },
    {
      "cell_type": "code",
      "metadata": {
        "id": "FPcMwx2P6of5"
      },
      "source": [
        "X.head()"
      ],
      "execution_count": null,
      "outputs": []
    },
    {
      "cell_type": "markdown",
      "metadata": {
        "id": "f91IHl398MU4"
      },
      "source": [
        "# Parte 3- Ajuste de Modelos e parâmetros na Série de Treinamento"
      ]
    },
    {
      "cell_type": "markdown",
      "metadata": {
        "id": "jkMtbvui8UOi"
      },
      "source": [
        "## 3.1 - Divisão das amostras para validação cruzada\n",
        "\n",
        "* O que fazer?\n",
        "\n",
        "  - Na série de treinamento, dividir os grupos que serão posteriormente avaliados. O resultado do k fold será as posições dos registros do grupo k. Por exemplo, imaginando que nossa série de treinamento seja um dataframe com 8 registros (posição das linhas: [0,1,2,3,4,5,6,7]) e iremos dividir em 3 folds, ou seja, k = 3. Teremos uma divisão aleatória, podendo por exemplo:\n",
        "\n",
        "    - k = 1: [0,3,6], que significa que iremos treinar nas linhas [1,2,4,5,7] e testar em [0,3,6]\n",
        "\n",
        "    - k = 2: [7,1,4], que significa que iremos treinar nas linhas [0,2,3,5,6] e testar em [7,1,4]\n",
        "\n",
        "    - k = 3: [5,2], que significa que iremos treinar nas linhas [0,1,3,4,6,7] e testar em [5,2]\n",
        "\n",
        "  * Para que isto?\n",
        "    - Assim, para cada k, iremos obter uma métrica de avaliação, e a partir dos diferentes testes, verificar se as métricas obtidas estão parecidas entre os casos e se está acontecendo overfitting. Podemos comparar diferentes modelos, diferentes casos (por exemplo, selecionar variáveis, ajustar diferentes parâmetros).  \n",
        "\n",
        "\n",
        "<br>\n",
        "\n",
        "Referências:\n",
        "\n",
        "https://scikit-learn.org/stable/modules/classes.html#module-sklearn.model_selection\n",
        "\n",
        "\n",
        "https://scikit-learn.org/stable/modules/cross_validation.html#cross-validation\n",
        "\n",
        "<br>\n",
        "\n",
        "**ESQUEMA VALIDAÇÃO CRUZADA**\n",
        "\n",
        "<figure>\n",
        "<center>\n",
        "<img src='https://drive.google.com/uc?export=view&id=1TLNnUhtexZ3HEmgpX0KGdLz4PebSEIXd' />\n",
        "<figcaption>ESQUEMA VALIDAÇÃO CRUZADA </figcaption></center>\n",
        "</figure>\n",
        "\n"
      ]
    },
    {
      "cell_type": "markdown",
      "metadata": {
        "id": "AhojbyInA_HW"
      },
      "source": [
        "GERANDO AS AMOSTRAS DA VALIDAÇÃO CRUZADA:"
      ]
    },
    {
      "cell_type": "code",
      "metadata": {
        "id": "L1t-aA228bHu"
      },
      "source": [
        "# Pacote para Validação Cruzada com Kfold estratificado (para garantir a proporção  das classes)\n",
        "from sklearn.model_selection import StratifiedKFold"
      ],
      "execution_count": 148,
      "outputs": []
    },
    {
      "cell_type": "code",
      "metadata": {
        "id": "RUzCDOp3--dP"
      },
      "source": [
        "# Objeto com as amostras separadas para cada k\n",
        "kfold = StratifiedKFold(n_splits=10,shuffle = True, random_state = 0)         "
      ],
      "execution_count": null,
      "outputs": []
    },
    {
      "cell_type": "markdown",
      "metadata": {
        "id": "qUWkPGEvDAHW"
      },
      "source": [
        "* StratifiedKFold ->  separa as amostras de cada Fold K de forma estratificada (respeitando a proporção de cada classe)\n",
        "* n_splits -> o número de divisões feitas na série"
      ]
    },
    {
      "cell_type": "code",
      "metadata": {
        "id": "oqoCOGNlD8UA",
        "outputId": "42659b12-74b3-4bfb-b890-21677a69c575",
        "colab": {
          "base_uri": "https://localhost:8080/",
          "height": 689
        }
      },
      "source": [
        "for train_index, test_index in kfold.split(X_train, y_train):   # As divisões dos k folds serão feitas na série de Treinamento: X_train, y_train\n",
        "    print(test_index)        # imprimindo os índices dos k testes, somente para verificar como a amostras estão distribuídas                                    "
      ],
      "execution_count": 150,
      "outputs": [
        {
          "output_type": "stream",
          "text": [
            "[  2  12  22  24  27  28  29  38  44  54  56  63 117 120 121 126 128 136\n",
            " 146 155 156 158 159 171 178 182 196 199 204 228 238 246 256 264 268 270\n",
            " 289 303 308 315 331 347 355 363 371 391 420 425 441 454 467 470 482 496\n",
            " 499 516 527 530 569 575 585 607 627 631 641 653 664 683 684 694 702]\n",
            "[ 11  30  40  41  51  96 103 104 111 115 123 124 138 168 187 191 194 202\n",
            " 221 227 237 247 250 255 281 283 296 301 319 326 336 340 353 367 372 373\n",
            " 394 395 400 401 437 455 459 461 495 505 508 509 521 534 536 539 543 547\n",
            " 550 553 557 567 578 580 593 603 605 610 635 651 655 671 676 681 699]\n",
            "[  0   5   7  18  33  48  52  60  66  67  80  82  83 106 164 179 185 186\n",
            " 211 214 229 248 260 277 278 286 287 288 291 302 322 323 344 346 351 352\n",
            " 357 361 365 369 384 387 396 403 414 433 453 456 457 473 474 483 498 507\n",
            " 512 541 604 614 626 628 630 632 639 647 650 652 657 666 667 674 696]\n",
            "[ 26  58  59  61  62  72  81  94  97 101 129 169 174 176 181 208 213 216\n",
            " 218 230 242 258 261 271 293 305 337 338 343 359 362 374 379 389 427 428\n",
            " 432 436 444 449 451 460 463 465 475 484 487 493 502 504 525 526 537 542\n",
            " 555 570 576 579 611 613 615 617 622 629 645 661 663 673 679 689 707]\n",
            "[  6   9  15  25  34  46  57  65  78  84  99 113 125 130 134 137 144 161\n",
            " 162 163 184 192 198 200 209 217 233 235 236 239 241 262 263 269 295 298\n",
            " 311 327 339 348 368 381 382 397 406 416 423 430 440 464 476 480 486 503\n",
            " 517 522 528 538 548 558 571 584 601 624 625 638 640 644 659 698 703]\n",
            "[  3  13  17  37  53  74  75  91  98 102 105 122 127 152 157 167 173 175\n",
            " 183 189 193 195 212 234 254 265 266 273 280 284 306 310 317 325 330 335\n",
            " 350 360 364 370 378 386 392 399 405 408 409 418 419 421 435 438 439 458\n",
            " 469 472 488 506 513 564 573 574 583 596 598 600 616 646 669 686 692]\n",
            "[  8  14  19  35  43  49  50  68  70  71  77 100 107 114 118 131 133 143\n",
            " 147 148 170 172 180 267 276 297 309 312 334 349 380 383 388 398 412 413\n",
            " 424 429 446 485 501 511 515 519 531 532 540 545 556 559 566 568 586 590\n",
            " 591 592 594 595 599 609 620 649 654 658 662 688 691 695 697 704 705]\n",
            "[  1  21  31  32  45  47  73  79  85  87  89 112 116 132 139 142 150 151\n",
            " 188 215 226 240 243 245 257 272 274 285 290 307 321 328 332 356 376 385\n",
            " 404 411 426 434 442 450 462 489 492 524 546 549 552 563 565 577 588 602\n",
            " 606 612 623 633 637 642 643 656 665 668 672 682 685 687 693 701 708]\n",
            "[  4  36  39  76  86  88  90 108 109 119 135 141 154 177 190 201 203 205\n",
            " 207 219 220 222 223 225 231 251 252 253 275 282 300 313 333 341 366 375\n",
            " 377 390 393 402 407 415 431 447 452 466 477 481 490 491 494 500 510 518\n",
            " 520 523 535 544 554 562 572 581 597 634 636 675 678 680 700 706 709]\n",
            "[ 10  16  20  23  42  55  64  69  92  93  95 110 140 145 149 153 160 165\n",
            " 166 197 206 210 224 232 244 249 259 279 292 294 299 304 314 316 318 320\n",
            " 324 329 342 345 354 358 410 417 422 443 445 448 468 471 478 479 497 514\n",
            " 529 533 551 560 561 582 587 589 608 618 619 621 648 660 670 677 690]\n"
          ],
          "name": "stdout"
        }
      ]
    },
    {
      "cell_type": "markdown",
      "metadata": {
        "id": "brAVuWJQvJE7"
      },
      "source": [
        "# Parte 4 - Modelos de Classificação"
      ]
    },
    {
      "cell_type": "markdown",
      "metadata": {
        "id": "-L5qyrHb9YRH"
      },
      "source": [
        "## 4.1 - Naive Bayes\n",
        "\n",
        "Referência:\n",
        "\n",
        "https://scikit-learn.org/stable/modules/naive_bayes.html\n",
        "\n",
        "<br>\n",
        "\n",
        "Comandos:\n",
        "\n",
        "https://scikit-learn.org/stable/modules/generated/sklearn.naive_bayes.GaussianNB.html\n"
      ]
    },
    {
      "cell_type": "markdown",
      "metadata": {
        "id": "Qgp3GW5JqUdu"
      },
      "source": [
        "### Naive Bayes - Caso 1"
      ]
    },
    {
      "cell_type": "markdown",
      "metadata": {
        "id": "6_b93GN7TWqD"
      },
      "source": [
        "  * Exemplo simples do NB, mostrando como treinar no conjunto de treinamento e prever no conjunto de teste.\n",
        "  * Sem validação cruzada. "
      ]
    },
    {
      "cell_type": "code",
      "metadata": {
        "id": "D4V6y0T99Wsw"
      },
      "source": [
        "#  Importando o comando Naive Bayes\n",
        "from sklearn.naive_bayes import GaussianNB"
      ],
      "execution_count": 178,
      "outputs": []
    },
    {
      "cell_type": "code",
      "metadata": {
        "id": "lu_vaDluR7uI"
      },
      "source": [
        " # instanciador do classificador classifier (chamando o classificador naive bayes)\n",
        "classifier = GaussianNB(priors=None, var_smoothing=1e-09)    "
      ],
      "execution_count": 179,
      "outputs": []
    },
    {
      "cell_type": "code",
      "metadata": {
        "id": "K_XSvok7qbgA",
        "outputId": "65dd5497-84ce-4f6f-b57c-5e10adea0257",
        "colab": {
          "base_uri": "https://localhost:8080/",
          "height": 87
        }
      },
      "source": [
        "# ajustando os dados na série de treino\n",
        "classifier.fit(X_train,y_train)"
      ],
      "execution_count": 180,
      "outputs": [
        {
          "output_type": "stream",
          "text": [
            "/usr/local/lib/python3.6/dist-packages/sklearn/naive_bayes.py:206: DataConversionWarning: A column-vector y was passed when a 1d array was expected. Please change the shape of y to (n_samples, ), for example using ravel().\n",
            "  y = column_or_1d(y, warn=True)\n"
          ],
          "name": "stderr"
        },
        {
          "output_type": "execute_result",
          "data": {
            "text/plain": [
              "GaussianNB(priors=None, var_smoothing=1e-09)"
            ]
          },
          "metadata": {
            "tags": []
          },
          "execution_count": 180
        }
      ]
    },
    {
      "cell_type": "code",
      "metadata": {
        "id": "Ic_gMQQMtHNt"
      },
      "source": [
        "# Prever na série de teste\n",
        "y_pred = classifier.predict(X_test)"
      ],
      "execution_count": 181,
      "outputs": []
    },
    {
      "cell_type": "code",
      "metadata": {
        "id": "xPbNgs-jtVXX",
        "outputId": "b35ec3a7-3f21-47d9-aed6-2f38048ab2cf",
        "colab": {
          "base_uri": "https://localhost:8080/",
          "height": 168
        }
      },
      "source": [
        "# valores previstos\n",
        "y_pred"
      ],
      "execution_count": 160,
      "outputs": [
        {
          "output_type": "execute_result",
          "data": {
            "text/plain": [
              "array([0, 0, 0, 0, 1, 0, 0, 0, 1, 0, 0, 0, 1, 0, 0, 1, 1, 1, 1, 1, 0, 1,\n",
              "       1, 1, 0, 1, 0, 1, 1, 0, 0, 0, 0, 0, 1, 0, 1, 1, 1, 1, 0, 1, 0, 0,\n",
              "       0, 0, 1, 0, 0, 0, 0, 0, 0, 1, 0, 0, 0, 0, 0, 1, 0, 0, 1, 1, 0, 0,\n",
              "       1, 1, 1, 0, 1, 1, 1, 0, 0, 0, 0, 1, 1, 1, 0, 1, 1, 0, 0, 1, 0, 0,\n",
              "       1, 1, 1, 0, 1, 0, 1, 0, 1, 0, 0, 0, 1, 0, 1, 0, 1, 1, 1, 0, 0, 1,\n",
              "       0, 0, 1, 0, 0, 1, 0, 0, 0, 0, 1, 0, 0, 0, 0, 0, 0, 0, 0, 0, 0, 1,\n",
              "       0, 0, 1, 0, 1, 0, 0, 0, 0, 0, 0, 1, 1, 1, 0, 0, 0, 0, 0, 1, 1, 1,\n",
              "       1, 1, 0, 0, 0, 0, 0, 1, 1, 0, 1, 0, 1, 1, 0, 0, 0, 0, 0, 1, 0, 0,\n",
              "       0, 0])"
            ]
          },
          "metadata": {
            "tags": []
          },
          "execution_count": 160
        }
      ]
    },
    {
      "cell_type": "code",
      "metadata": {
        "id": "daR_QLg8tXP9",
        "outputId": "bbd37a96-7257-45de-f4b1-c02b4d50a077",
        "colab": {
          "base_uri": "https://localhost:8080/",
          "height": 402
        }
      },
      "source": [
        "# valores reais\n",
        "y_test"
      ],
      "execution_count": 161,
      "outputs": [
        {
          "output_type": "execute_result",
          "data": {
            "text/html": [
              "<div>\n",
              "<style scoped>\n",
              "    .dataframe tbody tr th:only-of-type {\n",
              "        vertical-align: middle;\n",
              "    }\n",
              "\n",
              "    .dataframe tbody tr th {\n",
              "        vertical-align: top;\n",
              "    }\n",
              "\n",
              "    .dataframe thead th {\n",
              "        text-align: right;\n",
              "    }\n",
              "</style>\n",
              "<table border=\"1\" class=\"dataframe\">\n",
              "  <thead>\n",
              "    <tr style=\"text-align: right;\">\n",
              "      <th></th>\n",
              "      <th>Survived</th>\n",
              "    </tr>\n",
              "  </thead>\n",
              "  <tbody>\n",
              "    <tr>\n",
              "      <th>153</th>\n",
              "      <td>0</td>\n",
              "    </tr>\n",
              "    <tr>\n",
              "      <th>749</th>\n",
              "      <td>0</td>\n",
              "    </tr>\n",
              "    <tr>\n",
              "      <th>609</th>\n",
              "      <td>0</td>\n",
              "    </tr>\n",
              "    <tr>\n",
              "      <th>200</th>\n",
              "      <td>0</td>\n",
              "    </tr>\n",
              "    <tr>\n",
              "      <th>310</th>\n",
              "      <td>1</td>\n",
              "    </tr>\n",
              "    <tr>\n",
              "      <th>...</th>\n",
              "      <td>...</td>\n",
              "    </tr>\n",
              "    <tr>\n",
              "      <th>96</th>\n",
              "      <td>0</td>\n",
              "    </tr>\n",
              "    <tr>\n",
              "      <th>429</th>\n",
              "      <td>1</td>\n",
              "    </tr>\n",
              "    <tr>\n",
              "      <th>75</th>\n",
              "      <td>0</td>\n",
              "    </tr>\n",
              "    <tr>\n",
              "      <th>574</th>\n",
              "      <td>0</td>\n",
              "    </tr>\n",
              "    <tr>\n",
              "      <th>143</th>\n",
              "      <td>0</td>\n",
              "    </tr>\n",
              "  </tbody>\n",
              "</table>\n",
              "<p>178 rows × 1 columns</p>\n",
              "</div>"
            ],
            "text/plain": [
              "     Survived\n",
              "153         0\n",
              "749         0\n",
              "609         0\n",
              "200         0\n",
              "310         1\n",
              "..        ...\n",
              "96          0\n",
              "429         1\n",
              "75          0\n",
              "574         0\n",
              "143         0\n",
              "\n",
              "[178 rows x 1 columns]"
            ]
          },
          "metadata": {
            "tags": []
          },
          "execution_count": 161
        }
      ]
    },
    {
      "cell_type": "markdown",
      "metadata": {
        "id": "U8616871yQuc"
      },
      "source": [
        "#### 4.1.1 - Métricas de Avaliações"
      ]
    },
    {
      "cell_type": "markdown",
      "metadata": {
        "id": "NOBLt7eN4CA4"
      },
      "source": [
        "Referência:\n",
        "\n",
        "https://scikit-learn.org/stable/modules/model_evaluation.html"
      ]
    },
    {
      "cell_type": "code",
      "metadata": {
        "id": "B1agR0Ur2unh",
        "outputId": "5c710cd0-59bb-4661-c721-08d54a957ef3",
        "colab": {
          "base_uri": "https://localhost:8080/",
          "height": 34
        }
      },
      "source": [
        "# Acurácia\n",
        "from sklearn.metrics import accuracy_score                      # importando de sklearn.metrics o comando acurácia\n",
        "acuracia_nb1 = accuracy_score(y_test, y_pred,normalize=True)    # acurácia(y_real,y_previsto)\n",
        "print(f'acurácia: {round(acuracia_nb1,3)}')"
      ],
      "execution_count": 182,
      "outputs": [
        {
          "output_type": "stream",
          "text": [
            "acurácia: 0.815\n"
          ],
          "name": "stdout"
        }
      ]
    },
    {
      "cell_type": "code",
      "metadata": {
        "id": "Ry8cy6q2tfFc",
        "outputId": "a6fe6d5b-8430-4f28-c576-d2138e9fa585",
        "colab": {
          "base_uri": "https://localhost:8080/",
          "height": 168
        }
      },
      "source": [
        "# Relatório de Avaliação: Precisão, Recall, F1-score\n",
        "from sklearn.metrics import classification_report             # relatórios com diferentes métricas de classificação\n",
        "cr_nb1 = classification_report(y_test,y_pred,target_names=['Não Sobrevieu','Sobreviveu'])      # (y_real,y_previsto)\n",
        "print(cr_nb1)"
      ],
      "execution_count": 183,
      "outputs": [
        {
          "output_type": "stream",
          "text": [
            "               precision    recall  f1-score   support\n",
            "\n",
            "Não Sobrevieu       0.85      0.85      0.85       110\n",
            "   Sobreviveu       0.75      0.76      0.76        68\n",
            "\n",
            "     accuracy                           0.81       178\n",
            "    macro avg       0.80      0.81      0.80       178\n",
            " weighted avg       0.82      0.81      0.81       178\n",
            "\n"
          ],
          "name": "stdout"
        }
      ]
    },
    {
      "cell_type": "code",
      "metadata": {
        "id": "D4wFc-DfuBz4",
        "outputId": "46412fe1-2fc2-472e-96be-0326794e15e1",
        "colab": {
          "base_uri": "https://localhost:8080/",
          "height": 50
        }
      },
      "source": [
        "# Matriz de Confusão\n",
        "from sklearn.metrics import confusion_matrix\n",
        "cm_nb1 = confusion_matrix(y_test,y_pred)      # matriz de confusão (y_real, y_previsto)\n",
        "cm_nb1"
      ],
      "execution_count": 184,
      "outputs": [
        {
          "output_type": "execute_result",
          "data": {
            "text/plain": [
              "array([[93, 17],\n",
              "       [16, 52]])"
            ]
          },
          "metadata": {
            "tags": []
          },
          "execution_count": 184
        }
      ]
    },
    {
      "cell_type": "code",
      "metadata": {
        "id": "MSO_2hTJ1U87",
        "outputId": "b6feccef-0cd1-44e9-f9fa-60f9cd142392",
        "colab": {
          "base_uri": "https://localhost:8080/",
          "height": 106
        }
      },
      "source": [
        "# para ficar mais fácil de ver a matriz de confusão, melhor transformar para dataframe\n",
        "matriz_confusao_nb1 = pd.DataFrame(cm_nb1, columns = ['Previsão Não Sobreviveu', 'Previsão Sobreviveu'], index = ['Real Não Sobreviveu', 'Real Sobreviveu'] )\n",
        "matriz_confusao_nb1       "
      ],
      "execution_count": 185,
      "outputs": [
        {
          "output_type": "execute_result",
          "data": {
            "text/html": [
              "<div>\n",
              "<style scoped>\n",
              "    .dataframe tbody tr th:only-of-type {\n",
              "        vertical-align: middle;\n",
              "    }\n",
              "\n",
              "    .dataframe tbody tr th {\n",
              "        vertical-align: top;\n",
              "    }\n",
              "\n",
              "    .dataframe thead th {\n",
              "        text-align: right;\n",
              "    }\n",
              "</style>\n",
              "<table border=\"1\" class=\"dataframe\">\n",
              "  <thead>\n",
              "    <tr style=\"text-align: right;\">\n",
              "      <th></th>\n",
              "      <th>Previsão Não Sobreviveu</th>\n",
              "      <th>Previsão Sobreviveu</th>\n",
              "    </tr>\n",
              "  </thead>\n",
              "  <tbody>\n",
              "    <tr>\n",
              "      <th>Real Não Sobreviveu</th>\n",
              "      <td>93</td>\n",
              "      <td>17</td>\n",
              "    </tr>\n",
              "    <tr>\n",
              "      <th>Real Sobreviveu</th>\n",
              "      <td>16</td>\n",
              "      <td>52</td>\n",
              "    </tr>\n",
              "  </tbody>\n",
              "</table>\n",
              "</div>"
            ],
            "text/plain": [
              "                     Previsão Não Sobreviveu  Previsão Sobreviveu\n",
              "Real Não Sobreviveu                       93                   17\n",
              "Real Sobreviveu                           16                   52"
            ]
          },
          "metadata": {
            "tags": []
          },
          "execution_count": 185
        }
      ]
    },
    {
      "cell_type": "code",
      "metadata": {
        "id": "x4_df09d18h4",
        "outputId": "c4356b20-af5e-4832-fdef-90a58bdbbfa6",
        "colab": {
          "base_uri": "https://localhost:8080/",
          "height": 315
        }
      },
      "source": [
        "# Heatmap da matriz de confusão\n",
        "from sklearn.metrics import plot_confusion_matrix\n",
        "plot_confusion_matrix(classifier, X_test, y_test,display_labels=['Não Sobreviveu','Sobreviveu'],\n",
        "                                 cmap=plt.cm.Blues)"
      ],
      "execution_count": 186,
      "outputs": [
        {
          "output_type": "execute_result",
          "data": {
            "text/plain": [
              "<sklearn.metrics._plot.confusion_matrix.ConfusionMatrixDisplay at 0x7f12702b81d0>"
            ]
          },
          "metadata": {
            "tags": []
          },
          "execution_count": 186
        },
        {
          "output_type": "display_data",
          "data": {
            "image/png": "[encoded data removed]",
            "text/plain": [
              "<Figure size 432x288 with 2 Axes>"
            ]
          },
          "metadata": {
            "tags": []
          }
        }
      ]
    },
    {
      "cell_type": "markdown",
      "metadata": {
        "id": "9HVJecJi0B1l"
      },
      "source": [
        "### Naive Bayes - Caso 2\n",
        "\n"
      ]
    },
    {
      "cell_type": "markdown",
      "metadata": {
        "id": "V0nVl5uAYqKC"
      },
      "source": [
        "* Avaliando o comportamento ao se remover algumas variáveis do conjunto original"
      ]
    },
    {
      "cell_type": "code",
      "metadata": {
        "id": "__Hcz-3z0NE1",
        "outputId": "e02353df-ccba-43bb-ae1e-a63785a82cc0",
        "colab": {
          "base_uri": "https://localhost:8080/",
          "height": 67
        }
      },
      "source": [
        "# Colunas de X\n",
        "X_train.columns"
      ],
      "execution_count": 170,
      "outputs": [
        {
          "output_type": "execute_result",
          "data": {
            "text/plain": [
              "Index(['Pclass', 'Age', 'Fare', 'num_familiares', 'Sex', 'Embarked_Q',\n",
              "       'Embarked_S'],\n",
              "      dtype='object')"
            ]
          },
          "metadata": {
            "tags": []
          },
          "execution_count": 170
        }
      ]
    },
    {
      "cell_type": "code",
      "metadata": {
        "id": "NraBul2H9iwf",
        "outputId": "5f63ecc9-f391-4635-f5f1-c0d973ccf458",
        "colab": {
          "base_uri": "https://localhost:8080/",
          "height": 195
        }
      },
      "source": [
        "X_train.head()"
      ],
      "execution_count": 171,
      "outputs": [
        {
          "output_type": "execute_result",
          "data": {
            "text/html": [
              "<div>\n",
              "<style scoped>\n",
              "    .dataframe tbody tr th:only-of-type {\n",
              "        vertical-align: middle;\n",
              "    }\n",
              "\n",
              "    .dataframe tbody tr th {\n",
              "        vertical-align: top;\n",
              "    }\n",
              "\n",
              "    .dataframe thead th {\n",
              "        text-align: right;\n",
              "    }\n",
              "</style>\n",
              "<table border=\"1\" class=\"dataframe\">\n",
              "  <thead>\n",
              "    <tr style=\"text-align: right;\">\n",
              "      <th></th>\n",
              "      <th>Pclass</th>\n",
              "      <th>Age</th>\n",
              "      <th>Fare</th>\n",
              "      <th>num_familiares</th>\n",
              "      <th>Sex</th>\n",
              "      <th>Embarked_Q</th>\n",
              "      <th>Embarked_S</th>\n",
              "    </tr>\n",
              "  </thead>\n",
              "  <tbody>\n",
              "    <tr>\n",
              "      <th>510</th>\n",
              "      <td>3</td>\n",
              "      <td>29.0</td>\n",
              "      <td>7.7500</td>\n",
              "      <td>0</td>\n",
              "      <td>1</td>\n",
              "      <td>1</td>\n",
              "      <td>0</td>\n",
              "    </tr>\n",
              "    <tr>\n",
              "      <th>832</th>\n",
              "      <td>3</td>\n",
              "      <td>25.0</td>\n",
              "      <td>7.2292</td>\n",
              "      <td>0</td>\n",
              "      <td>1</td>\n",
              "      <td>0</td>\n",
              "      <td>0</td>\n",
              "    </tr>\n",
              "    <tr>\n",
              "      <th>815</th>\n",
              "      <td>1</td>\n",
              "      <td>38.0</td>\n",
              "      <td>0.0000</td>\n",
              "      <td>0</td>\n",
              "      <td>1</td>\n",
              "      <td>0</td>\n",
              "      <td>1</td>\n",
              "    </tr>\n",
              "    <tr>\n",
              "      <th>717</th>\n",
              "      <td>2</td>\n",
              "      <td>27.0</td>\n",
              "      <td>10.5000</td>\n",
              "      <td>0</td>\n",
              "      <td>0</td>\n",
              "      <td>0</td>\n",
              "      <td>1</td>\n",
              "    </tr>\n",
              "    <tr>\n",
              "      <th>84</th>\n",
              "      <td>2</td>\n",
              "      <td>17.0</td>\n",
              "      <td>10.5000</td>\n",
              "      <td>0</td>\n",
              "      <td>0</td>\n",
              "      <td>0</td>\n",
              "      <td>1</td>\n",
              "    </tr>\n",
              "  </tbody>\n",
              "</table>\n",
              "</div>"
            ],
            "text/plain": [
              "     Pclass   Age     Fare  num_familiares  Sex  Embarked_Q  Embarked_S\n",
              "510       3  29.0   7.7500               0    1           1           0\n",
              "832       3  25.0   7.2292               0    1           0           0\n",
              "815       1  38.0   0.0000               0    1           0           1\n",
              "717       2  27.0  10.5000               0    0           0           1\n",
              "84        2  17.0  10.5000               0    0           0           1"
            ]
          },
          "metadata": {
            "tags": []
          },
          "execution_count": 171
        }
      ]
    },
    {
      "cell_type": "markdown",
      "metadata": {
        "id": "z6a5GRVkZD9v"
      },
      "source": [
        "* Vamos remover as variáveis [Embarked_Q,\tEmbarked_S,num_familiares] para avaliar se faz diferença no resultado:"
      ]
    },
    {
      "cell_type": "code",
      "metadata": {
        "id": "2JSyDBJe9gXO"
      },
      "source": [
        "# Criando X_train2 e X_test2 a partir da remoção  das variáveis [Embarked_Q,\tEmbarked_S,num_familiares] na série de Treino e Série de Teste\n",
        "\n",
        "X_train2 = X_train.drop(['Embarked_Q',\t'Embarked_S','num_familiares'],axis = 1)\n",
        "X_test2 = X_test.drop(['Embarked_Q',\t'Embarked_S','num_familiares'],axis = 1)"
      ],
      "execution_count": 172,
      "outputs": []
    },
    {
      "cell_type": "code",
      "metadata": {
        "id": "VijAi6xS9-yc",
        "outputId": "afa38b7e-38df-467f-b84a-d46e28524d78",
        "colab": {
          "base_uri": "https://localhost:8080/",
          "height": 289
        }
      },
      "source": [
        "# Novamente,sem validação cruzada, considerando apenas treinar no conjunto de treino e testar no conjunto de teste\n",
        "from sklearn.naive_bayes import GaussianNB                                                                  # carregando pacote \n",
        "from sklearn.metrics import accuracy_score,classification_report, confusion_matrix                          # carregando métricas de avaliação\n",
        "\n",
        "classifier = GaussianNB(priors=None, var_smoothing=1e-09)                                                   # chamando o classificador\n",
        "classifier.fit(X_train2,y_train)                                                                            # ajustando os dados na série de treino\n",
        "\n",
        "# prevendo na série de teste\n",
        "y_pred = classifier.predict(X_test2)                                                                        # Prevendo para X_test2\n",
        "\n",
        "# Métricas\n",
        "acuracia_nb2 = accuracy_score(y_test, y_pred,normalize=True)                                                # Acurácia \n",
        "print(acuracia_nb2)\n",
        "\n",
        "# Relatório de Avaliação: Precisão, Recall, F1-score\n",
        "cr_nb2 = classification_report(y_test,y_pred,target_names=['Não Sobreviveu','Sobreviveu'])                  # Relatório de Resultados\n",
        "print(cr_nb2)\n",
        "\n",
        "# Matriz de confusão:\n",
        "# Matriz de Confusão\n",
        "cm_nb2 = confusion_matrix(y_test,y_pred)      # matriz de confusão (y_real, y_previsto)\n",
        "matriz_confusao_nb2 = pd.DataFrame(cm_nb2, columns = ['Previsão Não Sobreviveu', 'Previsão Sobreviveu'], index = ['Real Não Sobreviveu', 'Real Sobreviveu'] )\n",
        "print(matriz_confusao_nb2)    \n"
      ],
      "execution_count": 187,
      "outputs": [
        {
          "output_type": "stream",
          "text": [
            "0.8146067415730337\n",
            "                precision    recall  f1-score   support\n",
            "\n",
            "Não Sobreviveu       0.86      0.84      0.85       110\n",
            "    Sobreviveu       0.75      0.78      0.76        68\n",
            "\n",
            "      accuracy                           0.81       178\n",
            "     macro avg       0.80      0.81      0.81       178\n",
            "  weighted avg       0.82      0.81      0.82       178\n",
            "\n",
            "                     Previsão Não Sobreviveu  Previsão Sobreviveu\n",
            "Real Não Sobreviveu                       92                   18\n",
            "Real Sobreviveu                           15                   53\n"
          ],
          "name": "stdout"
        },
        {
          "output_type": "stream",
          "text": [
            "/usr/local/lib/python3.6/dist-packages/sklearn/naive_bayes.py:206: DataConversionWarning: A column-vector y was passed when a 1d array was expected. Please change the shape of y to (n_samples, ), for example using ravel().\n",
            "  y = column_or_1d(y, warn=True)\n"
          ],
          "name": "stderr"
        }
      ]
    },
    {
      "cell_type": "markdown",
      "metadata": {
        "id": "CE9CWZeEWgVC"
      },
      "source": [
        "### Naive Bayes - Comparando caso 1 com caso 2\n"
      ]
    },
    {
      "cell_type": "markdown",
      "metadata": {
        "id": "2QxDnZrebO9y"
      },
      "source": [
        "  - Usando validação cruzada;\n",
        "  - Avaliar a média e desvio-padrão das amostras obtidas para os 2 casos"
      ]
    },
    {
      "cell_type": "code",
      "metadata": {
        "id": "LtR1GQhjWy0q",
        "outputId": "475076fb-893d-4176-92d5-a083b5782797",
        "colab": {
          "base_uri": "https://localhost:8080/",
          "height": 34
        }
      },
      "source": [
        "kfold           # lembrando que já criamos um objeto que separa as amostras aleatoriamente"
      ],
      "execution_count": 188,
      "outputs": [
        {
          "output_type": "execute_result",
          "data": {
            "text/plain": [
              "StratifiedKFold(n_splits=10, random_state=0, shuffle=True)"
            ]
          },
          "metadata": {
            "tags": []
          },
          "execution_count": 188
        }
      ]
    },
    {
      "cell_type": "code",
      "metadata": {
        "id": "ZnwhuzwZWy07",
        "outputId": "ff8b16f6-73db-4a66-a95e-38007472c88f",
        "colab": {
          "base_uri": "https://localhost:8080/",
          "height": 709
        }
      },
      "source": [
        "from sklearn.model_selection import cross_val_score                      # chamando pacote para validação cruzada\n",
        "classifier = GaussianNB(priors=None, var_smoothing=1e-09)                # instanciando o classificador  \n",
        "acuracia_nb_caso1 = cross_val_score(classifier, X = X_train, y = y_train, scoring = \"accuracy\", cv = kfold)         # validação cruzada caso 1 (é semelhante a um for)\n",
        "acuracia_nb_caso2 = cross_val_score(classifier, X = X_train2, y = y_train, scoring = \"accuracy\", cv = kfold)        # validação cruzada caso 2 (é semelhante a um for)"
      ],
      "execution_count": 189,
      "outputs": [
        {
          "output_type": "stream",
          "text": [
            "/usr/local/lib/python3.6/dist-packages/sklearn/naive_bayes.py:206: DataConversionWarning: A column-vector y was passed when a 1d array was expected. Please change the shape of y to (n_samples, ), for example using ravel().\n",
            "  y = column_or_1d(y, warn=True)\n",
            "/usr/local/lib/python3.6/dist-packages/sklearn/naive_bayes.py:206: DataConversionWarning: A column-vector y was passed when a 1d array was expected. Please change the shape of y to (n_samples, ), for example using ravel().\n",
            "  y = column_or_1d(y, warn=True)\n",
            "/usr/local/lib/python3.6/dist-packages/sklearn/naive_bayes.py:206: DataConversionWarning: A column-vector y was passed when a 1d array was expected. Please change the shape of y to (n_samples, ), for example using ravel().\n",
            "  y = column_or_1d(y, warn=True)\n",
            "/usr/local/lib/python3.6/dist-packages/sklearn/naive_bayes.py:206: DataConversionWarning: A column-vector y was passed when a 1d array was expected. Please change the shape of y to (n_samples, ), for example using ravel().\n",
            "  y = column_or_1d(y, warn=True)\n",
            "/usr/local/lib/python3.6/dist-packages/sklearn/naive_bayes.py:206: DataConversionWarning: A column-vector y was passed when a 1d array was expected. Please change the shape of y to (n_samples, ), for example using ravel().\n",
            "  y = column_or_1d(y, warn=True)\n",
            "/usr/local/lib/python3.6/dist-packages/sklearn/naive_bayes.py:206: DataConversionWarning: A column-vector y was passed when a 1d array was expected. Please change the shape of y to (n_samples, ), for example using ravel().\n",
            "  y = column_or_1d(y, warn=True)\n",
            "/usr/local/lib/python3.6/dist-packages/sklearn/naive_bayes.py:206: DataConversionWarning: A column-vector y was passed when a 1d array was expected. Please change the shape of y to (n_samples, ), for example using ravel().\n",
            "  y = column_or_1d(y, warn=True)\n",
            "/usr/local/lib/python3.6/dist-packages/sklearn/naive_bayes.py:206: DataConversionWarning: A column-vector y was passed when a 1d array was expected. Please change the shape of y to (n_samples, ), for example using ravel().\n",
            "  y = column_or_1d(y, warn=True)\n",
            "/usr/local/lib/python3.6/dist-packages/sklearn/naive_bayes.py:206: DataConversionWarning: A column-vector y was passed when a 1d array was expected. Please change the shape of y to (n_samples, ), for example using ravel().\n",
            "  y = column_or_1d(y, warn=True)\n",
            "/usr/local/lib/python3.6/dist-packages/sklearn/naive_bayes.py:206: DataConversionWarning: A column-vector y was passed when a 1d array was expected. Please change the shape of y to (n_samples, ), for example using ravel().\n",
            "  y = column_or_1d(y, warn=True)\n",
            "/usr/local/lib/python3.6/dist-packages/sklearn/naive_bayes.py:206: DataConversionWarning: A column-vector y was passed when a 1d array was expected. Please change the shape of y to (n_samples, ), for example using ravel().\n",
            "  y = column_or_1d(y, warn=True)\n",
            "/usr/local/lib/python3.6/dist-packages/sklearn/naive_bayes.py:206: DataConversionWarning: A column-vector y was passed when a 1d array was expected. Please change the shape of y to (n_samples, ), for example using ravel().\n",
            "  y = column_or_1d(y, warn=True)\n",
            "/usr/local/lib/python3.6/dist-packages/sklearn/naive_bayes.py:206: DataConversionWarning: A column-vector y was passed when a 1d array was expected. Please change the shape of y to (n_samples, ), for example using ravel().\n",
            "  y = column_or_1d(y, warn=True)\n",
            "/usr/local/lib/python3.6/dist-packages/sklearn/naive_bayes.py:206: DataConversionWarning: A column-vector y was passed when a 1d array was expected. Please change the shape of y to (n_samples, ), for example using ravel().\n",
            "  y = column_or_1d(y, warn=True)\n",
            "/usr/local/lib/python3.6/dist-packages/sklearn/naive_bayes.py:206: DataConversionWarning: A column-vector y was passed when a 1d array was expected. Please change the shape of y to (n_samples, ), for example using ravel().\n",
            "  y = column_or_1d(y, warn=True)\n",
            "/usr/local/lib/python3.6/dist-packages/sklearn/naive_bayes.py:206: DataConversionWarning: A column-vector y was passed when a 1d array was expected. Please change the shape of y to (n_samples, ), for example using ravel().\n",
            "  y = column_or_1d(y, warn=True)\n",
            "/usr/local/lib/python3.6/dist-packages/sklearn/naive_bayes.py:206: DataConversionWarning: A column-vector y was passed when a 1d array was expected. Please change the shape of y to (n_samples, ), for example using ravel().\n",
            "  y = column_or_1d(y, warn=True)\n",
            "/usr/local/lib/python3.6/dist-packages/sklearn/naive_bayes.py:206: DataConversionWarning: A column-vector y was passed when a 1d array was expected. Please change the shape of y to (n_samples, ), for example using ravel().\n",
            "  y = column_or_1d(y, warn=True)\n",
            "/usr/local/lib/python3.6/dist-packages/sklearn/naive_bayes.py:206: DataConversionWarning: A column-vector y was passed when a 1d array was expected. Please change the shape of y to (n_samples, ), for example using ravel().\n",
            "  y = column_or_1d(y, warn=True)\n",
            "/usr/local/lib/python3.6/dist-packages/sklearn/naive_bayes.py:206: DataConversionWarning: A column-vector y was passed when a 1d array was expected. Please change the shape of y to (n_samples, ), for example using ravel().\n",
            "  y = column_or_1d(y, warn=True)\n"
          ],
          "name": "stderr"
        }
      ]
    },
    {
      "cell_type": "code",
      "metadata": {
        "id": "RUs2cTcvZxng",
        "outputId": "bbfa0a30-af78-44b0-fb94-38cb8b933b49",
        "colab": {
          "base_uri": "https://localhost:8080/",
          "height": 50
        }
      },
      "source": [
        "# Resultado da acurácia encontrado para para um dos K, sendo k=10 no total para o caso 1\n",
        "acuracia_nb_caso1"
      ],
      "execution_count": 190,
      "outputs": [
        {
          "output_type": "execute_result",
          "data": {
            "text/plain": [
              "array([0.73239437, 0.83098592, 0.8028169 , 0.78873239, 0.76056338,\n",
              "       0.76056338, 0.78873239, 0.78873239, 0.8028169 , 0.76056338])"
            ]
          },
          "metadata": {
            "tags": []
          },
          "execution_count": 190
        }
      ]
    },
    {
      "cell_type": "code",
      "metadata": {
        "id": "wlzOJZCYZ1iN",
        "outputId": "2278a210-8601-4a7c-b644-e1651b2fd533",
        "colab": {
          "base_uri": "https://localhost:8080/",
          "height": 50
        }
      },
      "source": [
        "# Resultado da acurácia encontrado para para um dos K, sendo k=10 no total para o caso 2\n",
        "acuracia_nb_caso2"
      ],
      "execution_count": 191,
      "outputs": [
        {
          "output_type": "execute_result",
          "data": {
            "text/plain": [
              "array([0.73239437, 0.81690141, 0.76056338, 0.73239437, 0.73239437,\n",
              "       0.77464789, 0.76056338, 0.77464789, 0.78873239, 0.78873239])"
            ]
          },
          "metadata": {
            "tags": []
          },
          "execution_count": 191
        }
      ]
    },
    {
      "cell_type": "code",
      "metadata": {
        "id": "HRdoFYgbZ6BN",
        "outputId": "4ec39501-8e08-4917-cc7a-5799aba281c7",
        "colab": {
          "base_uri": "https://localhost:8080/",
          "height": 84
        }
      },
      "source": [
        "# Caso 1 - resumo da validação cruzada\n",
        "\n",
        "print(f'Média da cv: {round(np.mean(acuracia_nb_caso1),3)}')        # média da validação cruzada\n",
        "print(f'Desvio-padrão cv: {round(np.std(acuracia_nb_caso1),3)}')    # desvio-padrão da validação cruzada \n",
        "print(acuracia_nb_caso1)      # todas as acurácias"
      ],
      "execution_count": 192,
      "outputs": [
        {
          "output_type": "stream",
          "text": [
            "Média da cv: 0.782\n",
            "Desvio-padrão cv: 0.027\n",
            "[0.73239437 0.83098592 0.8028169  0.78873239 0.76056338 0.76056338\n",
            " 0.78873239 0.78873239 0.8028169  0.76056338]\n"
          ],
          "name": "stdout"
        }
      ]
    },
    {
      "cell_type": "code",
      "metadata": {
        "id": "9emUK1nUWy09",
        "outputId": "21f2ffab-c0d9-405c-ae03-b4d084e930f5",
        "colab": {
          "base_uri": "https://localhost:8080/",
          "height": 84
        }
      },
      "source": [
        "# Caso 2 - resumo da validação cruzada\n",
        "\n",
        "print(f'Média da cv: {round(np.mean(acuracia_nb_caso2),3)}')            # média da validação cruzada\n",
        "print(f'Desvio-padrão cv: {round(np.std(acuracia_nb_caso2),3)}')        # desvio-padrão da validação cruzada        \n",
        "print(acuracia_nb_caso2)      # todas as acurácias"
      ],
      "execution_count": 193,
      "outputs": [
        {
          "output_type": "stream",
          "text": [
            "Média da cv: 0.766\n",
            "Desvio-padrão cv: 0.027\n",
            "[0.73239437 0.81690141 0.76056338 0.73239437 0.73239437 0.77464789\n",
            " 0.76056338 0.77464789 0.78873239 0.78873239]\n"
          ],
          "name": "stdout"
        }
      ]
    },
    {
      "cell_type": "code",
      "metadata": {
        "id": "ATl44QPGbJSj",
        "outputId": "e5defc1c-6c25-47d3-dc57-551bf50cf57e",
        "colab": {
          "base_uri": "https://localhost:8080/",
          "height": 372
        }
      },
      "source": [
        "# Resultados da validação cruzada no caso 1 e caso 2 \n",
        "sns.set(font_scale=1.5, style = \"whitegrid\")\n",
        "cv_nb_casos = pd.DataFrame({\"Médias Validação Cruzada\":[round(np.mean(acuracia_nb_caso1),3),round(np.mean(acuracia_nb_caso2),3)],\"Desvio-padrão Validação Cruzada\": [round(np.std(acuracia_nb_caso1),3),round(np.std(acuracia_nb_caso2),3)],\n",
        "                            \"Casos\":[\"CASO 1\",\"CASO 2\"]})\n",
        "\n",
        "g = sns.barplot(\"Médias Validação Cruzada\",\"Casos\",data = cv_nb_casos, palette=\"Set3\",orient = \"h\",**{'xerr':[round(np.std(acuracia_nb_caso1),3),round(np.std(acuracia_nb_caso2),3)]})\n",
        "g.set_xlabel(\"Média da Acurácia\")\n",
        "g = g.set_title(\"Validação Cruzada\")"
      ],
      "execution_count": 194,
      "outputs": [
        {
          "output_type": "stream",
          "text": [
            "/usr/local/lib/python3.6/dist-packages/seaborn/_decorators.py:43: FutureWarning: Pass the following variables as keyword args: x, y. From version 0.12, the only valid positional argument will be `data`, and passing other arguments without an explicit keyword will result in an error or misinterpretation.\n",
            "  FutureWarning\n"
          ],
          "name": "stderr"
        },
        {
          "output_type": "display_data",
          "data": {
            "image/png": "[encoded data removed]",
            "text/plain": [
              "<Figure size 432x288 with 1 Axes>"
            ]
          },
          "metadata": {
            "tags": []
          }
        }
      ]
    },
    {
      "cell_type": "markdown",
      "metadata": {
        "id": "beKrjvFfa4DU"
      },
      "source": [
        "Qual caso você escolheria (caso 1 ou caso 2)?\n"
      ]
    },
    {
      "cell_type": "markdown",
      "metadata": {
        "id": "bXnhnHNWgRh0"
      },
      "source": [
        "## 4.2 - Regressão Logística\n",
        "\n",
        "Referência:\n",
        "\n",
        "https://scikit-learn.org/stable/modules/linear_model.html#logistic-regression\n",
        "\n",
        "<br>\n",
        "\n",
        "Comandos:\n",
        "\n",
        "https://scikit-learn.org/stable/modules/generated/sklearn.linear_model.LogisticRegression.html"
      ]
    },
    {
      "cell_type": "markdown",
      "metadata": {
        "id": "wEPOk7uk390y"
      },
      "source": [
        "### Regressão Logística -  Caso 1"
      ]
    },
    {
      "cell_type": "markdown",
      "metadata": {
        "id": "LiUGeJrDe_Ag"
      },
      "source": [
        "  - Ajuste Treino e Teste\n",
        "  - Estudo de Regressão Logística com parâmetros default"
      ]
    },
    {
      "cell_type": "code",
      "metadata": {
        "id": "c8ieSsNof5_8",
        "outputId": "f4290f18-c36c-4bb3-cbe9-2fc443d0f716",
        "colab": {
          "base_uri": "https://localhost:8080/",
          "height": 289
        }
      },
      "source": [
        "# Iniciação, ajuste e previsão\n",
        "from sklearn.linear_model import LogisticRegression                                                # importando Regressão Logística\n",
        "classifier = LogisticRegression(C=1.0,  max_iter=200, class_weight=None)                           # chamando classificador regressão logística\n",
        "\n",
        "# Ajuste\n",
        "classifier.fit(X_train,y_train)                                                                    # ajustando os dados na série de treino\n",
        "\n",
        "# Previsão\n",
        "y_pred = classifier.predict(X_test)                                                                # prevendo na série de teste\n",
        "\n",
        "# Métricas\n",
        "acuracia_rl1 = accuracy_score(y_test, y_pred,normalize=True)                                       # Acurácia \n",
        "print(round(acuracia_rl1,3))\n",
        "\n",
        "# Relatório de Avaliação: Precisão, Recall, F1-score\n",
        "cr_rl1 = classification_report(y_test,y_pred,target_names=['Não Sobreviveu','Sobreviveu'])\n",
        "print(cr_rl1)\n",
        "\n",
        "# Matriz de Confusão:\n",
        "cm_rl1 = confusion_matrix(y_test,y_pred)                        # matriz de confusão (y_real, y_previsto)\n",
        "matriz_confusao_rl1 = pd.DataFrame(cm_rl1, columns = ['Previsão Não Sobreviveu', 'Previsão Sobreviveu'], index = ['Real Não Sobreviveu', 'Real Sobreviveu'] )\n",
        "print(matriz_confusao_rl1)  "
      ],
      "execution_count": 199,
      "outputs": [
        {
          "output_type": "stream",
          "text": [
            "0.815\n",
            "                precision    recall  f1-score   support\n",
            "\n",
            "Não Sobreviveu       0.84      0.86      0.85       110\n",
            "    Sobreviveu       0.77      0.74      0.75        68\n",
            "\n",
            "      accuracy                           0.81       178\n",
            "     macro avg       0.80      0.80      0.80       178\n",
            "  weighted avg       0.81      0.81      0.81       178\n",
            "\n",
            "                     Previsão Não Sobreviveu  Previsão Sobreviveu\n",
            "Real Não Sobreviveu                       95                   15\n",
            "Real Sobreviveu                           18                   50\n"
          ],
          "name": "stdout"
        },
        {
          "output_type": "stream",
          "text": [
            "/usr/local/lib/python3.6/dist-packages/sklearn/utils/validation.py:760: DataConversionWarning: A column-vector y was passed when a 1d array was expected. Please change the shape of y to (n_samples, ), for example using ravel().\n",
            "  y = column_or_1d(y, warn=True)\n"
          ],
          "name": "stderr"
        }
      ]
    },
    {
      "cell_type": "markdown",
      "metadata": {
        "id": "DSQTHVFi5i0d"
      },
      "source": [
        "### Regressão Logística -  Otimização dos Parâmetros\n",
        "\n",
        "Otimizando o parâmetro C por validação cruzada"
      ]
    },
    {
      "cell_type": "code",
      "metadata": {
        "id": "iSmBrv9e6Waq"
      },
      "source": [
        "# Ajustando o parâmetro C\n",
        "# LogisticRegression(C=1.0,  max_iter=200, class_weight=None)"
      ],
      "execution_count": null,
      "outputs": []
    },
    {
      "cell_type": "code",
      "metadata": {
        "id": "TiSdvrLLnn7U",
        "outputId": "1b2a7743-3621-4caf-ad3e-b036a7af51fd",
        "colab": {
          "base_uri": "https://localhost:8080/",
          "height": 1000
        }
      },
      "source": [
        "from sklearn.model_selection import cross_val_score                      # chamando pacote para validação cruzada\n",
        "\n",
        "# Possíveis valores de C que iremos testar:\n",
        "C_param_range = [0.001,0.01,0.1,1,10,100]          \n",
        "\n",
        "# Tabela para receber as medidas da validação cruzada para cada C de C_param_range:\n",
        "rl_acc_table = pd.DataFrame(columns = ['C: '+str(i) for i in C_param_range])\n",
        "\n",
        "\n",
        "for i in C_param_range:   # Para cada valor em C_param_range\n",
        "\n",
        "  # Iniciação, ajuste e previsão\n",
        "  from sklearn.linear_model import LogisticRegression                                                # importando Regressão Logística\n",
        "  classifier = LogisticRegression(C=i,  max_iter=200, class_weight=None)                             # chamando classificador regressão logística\n",
        "\n",
        "  # Validação cruzada para cada C = i\n",
        "  vc = cross_val_score(classifier, X = X_train, y = y_train, scoring = \"accuracy\", cv = kfold)\n",
        "  rl_acc_table['C: '+str(i)] = vc         # adicionando na tabela\n"
      ],
      "execution_count": 200,
      "outputs": [
        {
          "output_type": "stream",
          "text": [
            "/usr/local/lib/python3.6/dist-packages/sklearn/utils/validation.py:760: DataConversionWarning: A column-vector y was passed when a 1d array was expected. Please change the shape of y to (n_samples, ), for example using ravel().\n",
            "  y = column_or_1d(y, warn=True)\n",
            "/usr/local/lib/python3.6/dist-packages/sklearn/utils/validation.py:760: DataConversionWarning: A column-vector y was passed when a 1d array was expected. Please change the shape of y to (n_samples, ), for example using ravel().\n",
            "  y = column_or_1d(y, warn=True)\n",
            "/usr/local/lib/python3.6/dist-packages/sklearn/utils/validation.py:760: DataConversionWarning: A column-vector y was passed when a 1d array was expected. Please change the shape of y to (n_samples, ), for example using ravel().\n",
            "  y = column_or_1d(y, warn=True)\n",
            "/usr/local/lib/python3.6/dist-packages/sklearn/utils/validation.py:760: DataConversionWarning: A column-vector y was passed when a 1d array was expected. Please change the shape of y to (n_samples, ), for example using ravel().\n",
            "  y = column_or_1d(y, warn=True)\n",
            "/usr/local/lib/python3.6/dist-packages/sklearn/utils/validation.py:760: DataConversionWarning: A column-vector y was passed when a 1d array was expected. Please change the shape of y to (n_samples, ), for example using ravel().\n",
            "  y = column_or_1d(y, warn=True)\n",
            "/usr/local/lib/python3.6/dist-packages/sklearn/utils/validation.py:760: DataConversionWarning: A column-vector y was passed when a 1d array was expected. Please change the shape of y to (n_samples, ), for example using ravel().\n",
            "  y = column_or_1d(y, warn=True)\n",
            "/usr/local/lib/python3.6/dist-packages/sklearn/utils/validation.py:760: DataConversionWarning: A column-vector y was passed when a 1d array was expected. Please change the shape of y to (n_samples, ), for example using ravel().\n",
            "  y = column_or_1d(y, warn=True)\n",
            "/usr/local/lib/python3.6/dist-packages/sklearn/utils/validation.py:760: DataConversionWarning: A column-vector y was passed when a 1d array was expected. Please change the shape of y to (n_samples, ), for example using ravel().\n",
            "  y = column_or_1d(y, warn=True)\n",
            "/usr/local/lib/python3.6/dist-packages/sklearn/utils/validation.py:760: DataConversionWarning: A column-vector y was passed when a 1d array was expected. Please change the shape of y to (n_samples, ), for example using ravel().\n",
            "  y = column_or_1d(y, warn=True)\n",
            "/usr/local/lib/python3.6/dist-packages/sklearn/utils/validation.py:760: DataConversionWarning: A column-vector y was passed when a 1d array was expected. Please change the shape of y to (n_samples, ), for example using ravel().\n",
            "  y = column_or_1d(y, warn=True)\n",
            "/usr/local/lib/python3.6/dist-packages/sklearn/utils/validation.py:760: DataConversionWarning: A column-vector y was passed when a 1d array was expected. Please change the shape of y to (n_samples, ), for example using ravel().\n",
            "  y = column_or_1d(y, warn=True)\n",
            "/usr/local/lib/python3.6/dist-packages/sklearn/utils/validation.py:760: DataConversionWarning: A column-vector y was passed when a 1d array was expected. Please change the shape of y to (n_samples, ), for example using ravel().\n",
            "  y = column_or_1d(y, warn=True)\n",
            "/usr/local/lib/python3.6/dist-packages/sklearn/utils/validation.py:760: DataConversionWarning: A column-vector y was passed when a 1d array was expected. Please change the shape of y to (n_samples, ), for example using ravel().\n",
            "  y = column_or_1d(y, warn=True)\n",
            "/usr/local/lib/python3.6/dist-packages/sklearn/utils/validation.py:760: DataConversionWarning: A column-vector y was passed when a 1d array was expected. Please change the shape of y to (n_samples, ), for example using ravel().\n",
            "  y = column_or_1d(y, warn=True)\n",
            "/usr/local/lib/python3.6/dist-packages/sklearn/utils/validation.py:760: DataConversionWarning: A column-vector y was passed when a 1d array was expected. Please change the shape of y to (n_samples, ), for example using ravel().\n",
            "  y = column_or_1d(y, warn=True)\n",
            "/usr/local/lib/python3.6/dist-packages/sklearn/utils/validation.py:760: DataConversionWarning: A column-vector y was passed when a 1d array was expected. Please change the shape of y to (n_samples, ), for example using ravel().\n",
            "  y = column_or_1d(y, warn=True)\n",
            "/usr/local/lib/python3.6/dist-packages/sklearn/utils/validation.py:760: DataConversionWarning: A column-vector y was passed when a 1d array was expected. Please change the shape of y to (n_samples, ), for example using ravel().\n",
            "  y = column_or_1d(y, warn=True)\n",
            "/usr/local/lib/python3.6/dist-packages/sklearn/utils/validation.py:760: DataConversionWarning: A column-vector y was passed when a 1d array was expected. Please change the shape of y to (n_samples, ), for example using ravel().\n",
            "  y = column_or_1d(y, warn=True)\n",
            "/usr/local/lib/python3.6/dist-packages/sklearn/utils/validation.py:760: DataConversionWarning: A column-vector y was passed when a 1d array was expected. Please change the shape of y to (n_samples, ), for example using ravel().\n",
            "  y = column_or_1d(y, warn=True)\n",
            "/usr/local/lib/python3.6/dist-packages/sklearn/utils/validation.py:760: DataConversionWarning: A column-vector y was passed when a 1d array was expected. Please change the shape of y to (n_samples, ), for example using ravel().\n",
            "  y = column_or_1d(y, warn=True)\n",
            "/usr/local/lib/python3.6/dist-packages/sklearn/utils/validation.py:760: DataConversionWarning: A column-vector y was passed when a 1d array was expected. Please change the shape of y to (n_samples, ), for example using ravel().\n",
            "  y = column_or_1d(y, warn=True)\n",
            "/usr/local/lib/python3.6/dist-packages/sklearn/utils/validation.py:760: DataConversionWarning: A column-vector y was passed when a 1d array was expected. Please change the shape of y to (n_samples, ), for example using ravel().\n",
            "  y = column_or_1d(y, warn=True)\n",
            "/usr/local/lib/python3.6/dist-packages/sklearn/utils/validation.py:760: DataConversionWarning: A column-vector y was passed when a 1d array was expected. Please change the shape of y to (n_samples, ), for example using ravel().\n",
            "  y = column_or_1d(y, warn=True)\n",
            "/usr/local/lib/python3.6/dist-packages/sklearn/utils/validation.py:760: DataConversionWarning: A column-vector y was passed when a 1d array was expected. Please change the shape of y to (n_samples, ), for example using ravel().\n",
            "  y = column_or_1d(y, warn=True)\n",
            "/usr/local/lib/python3.6/dist-packages/sklearn/utils/validation.py:760: DataConversionWarning: A column-vector y was passed when a 1d array was expected. Please change the shape of y to (n_samples, ), for example using ravel().\n",
            "  y = column_or_1d(y, warn=True)\n",
            "/usr/local/lib/python3.6/dist-packages/sklearn/utils/validation.py:760: DataConversionWarning: A column-vector y was passed when a 1d array was expected. Please change the shape of y to (n_samples, ), for example using ravel().\n",
            "  y = column_or_1d(y, warn=True)\n",
            "/usr/local/lib/python3.6/dist-packages/sklearn/utils/validation.py:760: DataConversionWarning: A column-vector y was passed when a 1d array was expected. Please change the shape of y to (n_samples, ), for example using ravel().\n",
            "  y = column_or_1d(y, warn=True)\n",
            "/usr/local/lib/python3.6/dist-packages/sklearn/utils/validation.py:760: DataConversionWarning: A column-vector y was passed when a 1d array was expected. Please change the shape of y to (n_samples, ), for example using ravel().\n",
            "  y = column_or_1d(y, warn=True)\n",
            "/usr/local/lib/python3.6/dist-packages/sklearn/utils/validation.py:760: DataConversionWarning: A column-vector y was passed when a 1d array was expected. Please change the shape of y to (n_samples, ), for example using ravel().\n",
            "  y = column_or_1d(y, warn=True)\n",
            "/usr/local/lib/python3.6/dist-packages/sklearn/utils/validation.py:760: DataConversionWarning: A column-vector y was passed when a 1d array was expected. Please change the shape of y to (n_samples, ), for example using ravel().\n",
            "  y = column_or_1d(y, warn=True)\n",
            "/usr/local/lib/python3.6/dist-packages/sklearn/utils/validation.py:760: DataConversionWarning: A column-vector y was passed when a 1d array was expected. Please change the shape of y to (n_samples, ), for example using ravel().\n",
            "  y = column_or_1d(y, warn=True)\n",
            "/usr/local/lib/python3.6/dist-packages/sklearn/utils/validation.py:760: DataConversionWarning: A column-vector y was passed when a 1d array was expected. Please change the shape of y to (n_samples, ), for example using ravel().\n",
            "  y = column_or_1d(y, warn=True)\n",
            "/usr/local/lib/python3.6/dist-packages/sklearn/utils/validation.py:760: DataConversionWarning: A column-vector y was passed when a 1d array was expected. Please change the shape of y to (n_samples, ), for example using ravel().\n",
            "  y = column_or_1d(y, warn=True)\n",
            "/usr/local/lib/python3.6/dist-packages/sklearn/utils/validation.py:760: DataConversionWarning: A column-vector y was passed when a 1d array was expected. Please change the shape of y to (n_samples, ), for example using ravel().\n",
            "  y = column_or_1d(y, warn=True)\n",
            "/usr/local/lib/python3.6/dist-packages/sklearn/utils/validation.py:760: DataConversionWarning: A column-vector y was passed when a 1d array was expected. Please change the shape of y to (n_samples, ), for example using ravel().\n",
            "  y = column_or_1d(y, warn=True)\n",
            "/usr/local/lib/python3.6/dist-packages/sklearn/utils/validation.py:760: DataConversionWarning: A column-vector y was passed when a 1d array was expected. Please change the shape of y to (n_samples, ), for example using ravel().\n",
            "  y = column_or_1d(y, warn=True)\n",
            "/usr/local/lib/python3.6/dist-packages/sklearn/utils/validation.py:760: DataConversionWarning: A column-vector y was passed when a 1d array was expected. Please change the shape of y to (n_samples, ), for example using ravel().\n",
            "  y = column_or_1d(y, warn=True)\n",
            "/usr/local/lib/python3.6/dist-packages/sklearn/utils/validation.py:760: DataConversionWarning: A column-vector y was passed when a 1d array was expected. Please change the shape of y to (n_samples, ), for example using ravel().\n",
            "  y = column_or_1d(y, warn=True)\n",
            "/usr/local/lib/python3.6/dist-packages/sklearn/utils/validation.py:760: DataConversionWarning: A column-vector y was passed when a 1d array was expected. Please change the shape of y to (n_samples, ), for example using ravel().\n",
            "  y = column_or_1d(y, warn=True)\n",
            "/usr/local/lib/python3.6/dist-packages/sklearn/utils/validation.py:760: DataConversionWarning: A column-vector y was passed when a 1d array was expected. Please change the shape of y to (n_samples, ), for example using ravel().\n",
            "  y = column_or_1d(y, warn=True)\n",
            "/usr/local/lib/python3.6/dist-packages/sklearn/utils/validation.py:760: DataConversionWarning: A column-vector y was passed when a 1d array was expected. Please change the shape of y to (n_samples, ), for example using ravel().\n",
            "  y = column_or_1d(y, warn=True)\n",
            "/usr/local/lib/python3.6/dist-packages/sklearn/utils/validation.py:760: DataConversionWarning: A column-vector y was passed when a 1d array was expected. Please change the shape of y to (n_samples, ), for example using ravel().\n",
            "  y = column_or_1d(y, warn=True)\n",
            "/usr/local/lib/python3.6/dist-packages/sklearn/utils/validation.py:760: DataConversionWarning: A column-vector y was passed when a 1d array was expected. Please change the shape of y to (n_samples, ), for example using ravel().\n",
            "  y = column_or_1d(y, warn=True)\n",
            "/usr/local/lib/python3.6/dist-packages/sklearn/utils/validation.py:760: DataConversionWarning: A column-vector y was passed when a 1d array was expected. Please change the shape of y to (n_samples, ), for example using ravel().\n",
            "  y = column_or_1d(y, warn=True)\n",
            "/usr/local/lib/python3.6/dist-packages/sklearn/utils/validation.py:760: DataConversionWarning: A column-vector y was passed when a 1d array was expected. Please change the shape of y to (n_samples, ), for example using ravel().\n",
            "  y = column_or_1d(y, warn=True)\n",
            "/usr/local/lib/python3.6/dist-packages/sklearn/utils/validation.py:760: DataConversionWarning: A column-vector y was passed when a 1d array was expected. Please change the shape of y to (n_samples, ), for example using ravel().\n",
            "  y = column_or_1d(y, warn=True)\n",
            "/usr/local/lib/python3.6/dist-packages/sklearn/utils/validation.py:760: DataConversionWarning: A column-vector y was passed when a 1d array was expected. Please change the shape of y to (n_samples, ), for example using ravel().\n",
            "  y = column_or_1d(y, warn=True)\n",
            "/usr/local/lib/python3.6/dist-packages/sklearn/utils/validation.py:760: DataConversionWarning: A column-vector y was passed when a 1d array was expected. Please change the shape of y to (n_samples, ), for example using ravel().\n",
            "  y = column_or_1d(y, warn=True)\n",
            "/usr/local/lib/python3.6/dist-packages/sklearn/utils/validation.py:760: DataConversionWarning: A column-vector y was passed when a 1d array was expected. Please change the shape of y to (n_samples, ), for example using ravel().\n",
            "  y = column_or_1d(y, warn=True)\n",
            "/usr/local/lib/python3.6/dist-packages/sklearn/utils/validation.py:760: DataConversionWarning: A column-vector y was passed when a 1d array was expected. Please change the shape of y to (n_samples, ), for example using ravel().\n",
            "  y = column_or_1d(y, warn=True)\n",
            "/usr/local/lib/python3.6/dist-packages/sklearn/utils/validation.py:760: DataConversionWarning: A column-vector y was passed when a 1d array was expected. Please change the shape of y to (n_samples, ), for example using ravel().\n",
            "  y = column_or_1d(y, warn=True)\n",
            "/usr/local/lib/python3.6/dist-packages/sklearn/utils/validation.py:760: DataConversionWarning: A column-vector y was passed when a 1d array was expected. Please change the shape of y to (n_samples, ), for example using ravel().\n",
            "  y = column_or_1d(y, warn=True)\n",
            "/usr/local/lib/python3.6/dist-packages/sklearn/utils/validation.py:760: DataConversionWarning: A column-vector y was passed when a 1d array was expected. Please change the shape of y to (n_samples, ), for example using ravel().\n",
            "  y = column_or_1d(y, warn=True)\n",
            "/usr/local/lib/python3.6/dist-packages/sklearn/utils/validation.py:760: DataConversionWarning: A column-vector y was passed when a 1d array was expected. Please change the shape of y to (n_samples, ), for example using ravel().\n",
            "  y = column_or_1d(y, warn=True)\n",
            "/usr/local/lib/python3.6/dist-packages/sklearn/utils/validation.py:760: DataConversionWarning: A column-vector y was passed when a 1d array was expected. Please change the shape of y to (n_samples, ), for example using ravel().\n",
            "  y = column_or_1d(y, warn=True)\n",
            "/usr/local/lib/python3.6/dist-packages/sklearn/utils/validation.py:760: DataConversionWarning: A column-vector y was passed when a 1d array was expected. Please change the shape of y to (n_samples, ), for example using ravel().\n",
            "  y = column_or_1d(y, warn=True)\n",
            "/usr/local/lib/python3.6/dist-packages/sklearn/utils/validation.py:760: DataConversionWarning: A column-vector y was passed when a 1d array was expected. Please change the shape of y to (n_samples, ), for example using ravel().\n",
            "  y = column_or_1d(y, warn=True)\n",
            "/usr/local/lib/python3.6/dist-packages/sklearn/utils/validation.py:760: DataConversionWarning: A column-vector y was passed when a 1d array was expected. Please change the shape of y to (n_samples, ), for example using ravel().\n",
            "  y = column_or_1d(y, warn=True)\n",
            "/usr/local/lib/python3.6/dist-packages/sklearn/utils/validation.py:760: DataConversionWarning: A column-vector y was passed when a 1d array was expected. Please change the shape of y to (n_samples, ), for example using ravel().\n",
            "  y = column_or_1d(y, warn=True)\n",
            "/usr/local/lib/python3.6/dist-packages/sklearn/utils/validation.py:760: DataConversionWarning: A column-vector y was passed when a 1d array was expected. Please change the shape of y to (n_samples, ), for example using ravel().\n",
            "  y = column_or_1d(y, warn=True)\n"
          ],
          "name": "stderr"
        }
      ]
    },
    {
      "cell_type": "code",
      "metadata": {
        "id": "a5xgTmRtrDVD",
        "outputId": "9d572ec4-827a-49de-a175-56f72074acc7",
        "colab": {
          "base_uri": "https://localhost:8080/",
          "height": 343
        }
      },
      "source": [
        "# Tabela com todos os valores obtidos na validação cruzada para cada C\n",
        "rl_acc_table"
      ],
      "execution_count": 201,
      "outputs": [
        {
          "output_type": "execute_result",
          "data": {
            "text/html": [
              "<div>\n",
              "<style scoped>\n",
              "    .dataframe tbody tr th:only-of-type {\n",
              "        vertical-align: middle;\n",
              "    }\n",
              "\n",
              "    .dataframe tbody tr th {\n",
              "        vertical-align: top;\n",
              "    }\n",
              "\n",
              "    .dataframe thead th {\n",
              "        text-align: right;\n",
              "    }\n",
              "</style>\n",
              "<table border=\"1\" class=\"dataframe\">\n",
              "  <thead>\n",
              "    <tr style=\"text-align: right;\">\n",
              "      <th></th>\n",
              "      <th>C: 0.001</th>\n",
              "      <th>C: 0.01</th>\n",
              "      <th>C: 0.1</th>\n",
              "      <th>C: 1</th>\n",
              "      <th>C: 10</th>\n",
              "      <th>C: 100</th>\n",
              "    </tr>\n",
              "  </thead>\n",
              "  <tbody>\n",
              "    <tr>\n",
              "      <th>0</th>\n",
              "      <td>0.647887</td>\n",
              "      <td>0.676056</td>\n",
              "      <td>0.718310</td>\n",
              "      <td>0.732394</td>\n",
              "      <td>0.732394</td>\n",
              "      <td>0.732394</td>\n",
              "    </tr>\n",
              "    <tr>\n",
              "      <th>1</th>\n",
              "      <td>0.718310</td>\n",
              "      <td>0.760563</td>\n",
              "      <td>0.859155</td>\n",
              "      <td>0.859155</td>\n",
              "      <td>0.859155</td>\n",
              "      <td>0.859155</td>\n",
              "    </tr>\n",
              "    <tr>\n",
              "      <th>2</th>\n",
              "      <td>0.704225</td>\n",
              "      <td>0.746479</td>\n",
              "      <td>0.816901</td>\n",
              "      <td>0.802817</td>\n",
              "      <td>0.802817</td>\n",
              "      <td>0.802817</td>\n",
              "    </tr>\n",
              "    <tr>\n",
              "      <th>3</th>\n",
              "      <td>0.690141</td>\n",
              "      <td>0.718310</td>\n",
              "      <td>0.802817</td>\n",
              "      <td>0.788732</td>\n",
              "      <td>0.788732</td>\n",
              "      <td>0.788732</td>\n",
              "    </tr>\n",
              "    <tr>\n",
              "      <th>4</th>\n",
              "      <td>0.605634</td>\n",
              "      <td>0.690141</td>\n",
              "      <td>0.774648</td>\n",
              "      <td>0.788732</td>\n",
              "      <td>0.788732</td>\n",
              "      <td>0.788732</td>\n",
              "    </tr>\n",
              "    <tr>\n",
              "      <th>5</th>\n",
              "      <td>0.676056</td>\n",
              "      <td>0.760563</td>\n",
              "      <td>0.774648</td>\n",
              "      <td>0.788732</td>\n",
              "      <td>0.788732</td>\n",
              "      <td>0.788732</td>\n",
              "    </tr>\n",
              "    <tr>\n",
              "      <th>6</th>\n",
              "      <td>0.690141</td>\n",
              "      <td>0.732394</td>\n",
              "      <td>0.816901</td>\n",
              "      <td>0.830986</td>\n",
              "      <td>0.830986</td>\n",
              "      <td>0.830986</td>\n",
              "    </tr>\n",
              "    <tr>\n",
              "      <th>7</th>\n",
              "      <td>0.605634</td>\n",
              "      <td>0.661972</td>\n",
              "      <td>0.774648</td>\n",
              "      <td>0.830986</td>\n",
              "      <td>0.830986</td>\n",
              "      <td>0.830986</td>\n",
              "    </tr>\n",
              "    <tr>\n",
              "      <th>8</th>\n",
              "      <td>0.746479</td>\n",
              "      <td>0.802817</td>\n",
              "      <td>0.830986</td>\n",
              "      <td>0.802817</td>\n",
              "      <td>0.802817</td>\n",
              "      <td>0.802817</td>\n",
              "    </tr>\n",
              "    <tr>\n",
              "      <th>9</th>\n",
              "      <td>0.647887</td>\n",
              "      <td>0.718310</td>\n",
              "      <td>0.859155</td>\n",
              "      <td>0.802817</td>\n",
              "      <td>0.802817</td>\n",
              "      <td>0.802817</td>\n",
              "    </tr>\n",
              "  </tbody>\n",
              "</table>\n",
              "</div>"
            ],
            "text/plain": [
              "   C: 0.001   C: 0.01    C: 0.1      C: 1     C: 10    C: 100\n",
              "0  0.647887  0.676056  0.718310  0.732394  0.732394  0.732394\n",
              "1  0.718310  0.760563  0.859155  0.859155  0.859155  0.859155\n",
              "2  0.704225  0.746479  0.816901  0.802817  0.802817  0.802817\n",
              "3  0.690141  0.718310  0.802817  0.788732  0.788732  0.788732\n",
              "4  0.605634  0.690141  0.774648  0.788732  0.788732  0.788732\n",
              "5  0.676056  0.760563  0.774648  0.788732  0.788732  0.788732\n",
              "6  0.690141  0.732394  0.816901  0.830986  0.830986  0.830986\n",
              "7  0.605634  0.661972  0.774648  0.830986  0.830986  0.830986\n",
              "8  0.746479  0.802817  0.830986  0.802817  0.802817  0.802817\n",
              "9  0.647887  0.718310  0.859155  0.802817  0.802817  0.802817"
            ]
          },
          "metadata": {
            "tags": []
          },
          "execution_count": 201
        }
      ]
    },
    {
      "cell_type": "code",
      "metadata": {
        "id": "OQ0rcGUArOfh",
        "outputId": "d9bc78d5-706c-454e-dc62-69635e0e2b65",
        "colab": {
          "base_uri": "https://localhost:8080/",
          "height": 134
        }
      },
      "source": [
        "# Média da acurácia para cada C\n",
        "rl_acc_table.mean()"
      ],
      "execution_count": 202,
      "outputs": [
        {
          "output_type": "execute_result",
          "data": {
            "text/plain": [
              "C: 0.001    0.673239\n",
              "C: 0.01     0.726761\n",
              "C: 0.1      0.802817\n",
              "C: 1        0.802817\n",
              "C: 10       0.802817\n",
              "C: 100      0.802817\n",
              "dtype: float64"
            ]
          },
          "metadata": {
            "tags": []
          },
          "execution_count": 202
        }
      ]
    },
    {
      "cell_type": "code",
      "metadata": {
        "id": "uuETyFhaubMB",
        "outputId": "0c9c2e6b-6fdf-4539-93da-0b8b41c662d0",
        "colab": {
          "base_uri": "https://localhost:8080/",
          "height": 134
        }
      },
      "source": [
        "# Desvio-padrão da acurácia para cada C\n",
        "rl_acc_table.std()"
      ],
      "execution_count": 203,
      "outputs": [
        {
          "output_type": "execute_result",
          "data": {
            "text/plain": [
              "C: 0.001    0.046382\n",
              "C: 0.01     0.043131\n",
              "C: 0.1      0.043538\n",
              "C: 1        0.033855\n",
              "C: 10       0.033855\n",
              "C: 100      0.033855\n",
              "dtype: float64"
            ]
          },
          "metadata": {
            "tags": []
          },
          "execution_count": 203
        }
      ]
    },
    {
      "cell_type": "code",
      "metadata": {
        "id": "NSzRlZWIsKGq",
        "outputId": "ce3c7791-0610-45ca-8aba-d3786b94de57",
        "colab": {
          "base_uri": "https://localhost:8080/",
          "height": 532
        }
      },
      "source": [
        "plt.figure(figsize=(10,8))   # tamanho da figura\n",
        "sns.barplot(x=\"variable\", y=\"value\", data=pd.melt(rl_acc_table))    # boxplot de todas as variáveis do dataframe"
      ],
      "execution_count": 204,
      "outputs": [
        {
          "output_type": "execute_result",
          "data": {
            "text/plain": [
              "<matplotlib.axes._subplots.AxesSubplot at 0x7f12683d5f98>"
            ]
          },
          "metadata": {
            "tags": []
          },
          "execution_count": 204
        },
        {
          "output_type": "display_data",
          "data": {
            "image/png": "[encoded data removed]",
            "text/plain": [
              "<Figure size 720x576 with 1 Axes>"
            ]
          },
          "metadata": {
            "tags": []
          }
        }
      ]
    },
    {
      "cell_type": "markdown",
      "metadata": {
        "id": "zTJPqGdxwD4P"
      },
      "source": [
        " <font color=red> O parâmetro default (C = 1) parece ser bom para o estudo, sendo assim não necessário alterar o valor de C."
      ]
    },
    {
      "cell_type": "markdown",
      "metadata": {
        "id": "mcRzYvII5E5N"
      },
      "source": [
        "## 4.3 - KNN - K Nearest Neighbors Classification\n",
        "\n",
        "Referência:\n",
        "\n",
        "https://scikit-learn.org/stable/modules/neighbors.html#classification\n",
        "\n",
        "<br>\n",
        "\n",
        "Comandos:\n",
        "\n",
        "https://scikit-learn.org/stable/modules/generated/sklearn.neighbors.KNeighborsClassifier.html"
      ]
    },
    {
      "cell_type": "markdown",
      "metadata": {
        "id": "UseVUB88B7T0"
      },
      "source": [
        "### KNN - Caso 1"
      ]
    },
    {
      "cell_type": "markdown",
      "metadata": {
        "id": "al7ED9GrhSgF"
      },
      "source": [
        "  - KNN -  Ajuste Treino e Teste"
      ]
    },
    {
      "cell_type": "code",
      "metadata": {
        "id": "uRn-6Ime8_gt",
        "outputId": "b5ce9283-016c-4d2f-dcbf-9c53e863be6a",
        "colab": {
          "base_uri": "https://localhost:8080/",
          "height": 289
        }
      },
      "source": [
        "# Iniciação, ajuste e previsão\n",
        "from sklearn.neighbors import KNeighborsClassifier                                                  # importando KNN\n",
        "classifier = KNeighborsClassifier(n_neighbors=5, p=2, metric='minkowski')                           # chamando classificador KNN\n",
        "\n",
        "# Ajuste\n",
        "classifier.fit(X_train,y_train)                                                                    # ajustando os dados na série de treino\n",
        "\n",
        "# Previsão\n",
        "y_pred = classifier.predict(X_test)                                                                # prevendo na série de teste\n",
        "\n",
        "\n",
        "# Métricas\n",
        "acuracia_knn1 = accuracy_score(y_test, y_pred,normalize=True)                                      # Acurácia \n",
        "print(round(acuracia_knn1,3))\n",
        "\n",
        "\n",
        "# Relatório de Avaliação: Precisão, Recall, F1-score\n",
        "cr_knn1 = classification_report(y_test,y_pred,target_names=['Não Sobreviveu','Sobreviveu'])\n",
        "print(cr_knn1)\n",
        "\n",
        "\n",
        "# Matriz de Confusão:\n",
        "cm_knn1 = confusion_matrix(y_test,y_pred)                        # matriz de confusão (y_real, y_previsto)\n",
        "matriz_confusao_knn1 = pd.DataFrame(cm_knn1, columns = ['Previsão Não Sobreviveu', 'Previsão Sobreviveu'], index = ['Real Não Sobreviveu', 'Real Sobreviveu'] )\n",
        "print(matriz_confusao_knn1)  "
      ],
      "execution_count": 207,
      "outputs": [
        {
          "output_type": "stream",
          "text": [
            "0.753\n",
            "                precision    recall  f1-score   support\n",
            "\n",
            "Não Sobreviveu       0.78      0.83      0.81       110\n",
            "    Sobreviveu       0.69      0.63      0.66        68\n",
            "\n",
            "      accuracy                           0.75       178\n",
            "     macro avg       0.74      0.73      0.73       178\n",
            "  weighted avg       0.75      0.75      0.75       178\n",
            "\n",
            "                     Previsão Não Sobreviveu  Previsão Sobreviveu\n",
            "Real Não Sobreviveu                       91                   19\n",
            "Real Sobreviveu                           25                   43\n"
          ],
          "name": "stdout"
        },
        {
          "output_type": "stream",
          "text": [
            "/usr/local/lib/python3.6/dist-packages/ipykernel_launcher.py:6: DataConversionWarning: A column-vector y was passed when a 1d array was expected. Please change the shape of y to (n_samples, ), for example using ravel().\n",
            "  \n"
          ],
          "name": "stderr"
        }
      ]
    },
    {
      "cell_type": "markdown",
      "metadata": {
        "id": "xmt34gjyiBIk"
      },
      "source": [
        "<font color=red>\n",
        "- Observar que o KNN apresentou um resultado inferior aos demais.\n",
        "\n",
        "<br>\n",
        "\n",
        "<font color=red>\n",
        "- Este comportamento pode ter acontecido pela diferença de escalas das variáveis. Atentar que KNN utiliza métricas de distâncias.\n",
        "\n",
        "<br>\n",
        "\n",
        "<font color=red>\n",
        "- Se os dados não estiverem normalizados, as distâncias com escalas maiores serão mais favorecidas "
      ]
    },
    {
      "cell_type": "markdown",
      "metadata": {
        "id": "Sgxbr4lIFYER"
      },
      "source": [
        "### KNN - Caso 2"
      ]
    },
    {
      "cell_type": "markdown",
      "metadata": {
        "id": "ph7VMisNjI2n"
      },
      "source": [
        "-  Normalizando os dados antes de aplicar o método Min-Max"
      ]
    },
    {
      "cell_type": "code",
      "metadata": {
        "id": "cyskVbmlFkUb"
      },
      "source": [
        "from sklearn.preprocessing import MinMaxScaler          # transformar os dados com normalização MinMaxScaler (normaliza os dados para o intervalo 0-1)"
      ],
      "execution_count": 209,
      "outputs": []
    },
    {
      "cell_type": "code",
      "metadata": {
        "id": "lo_lNTl0FyTi",
        "outputId": "98e1b5d9-89c2-4c5f-f91b-0833b131ea99",
        "colab": {
          "base_uri": "https://localhost:8080/",
          "height": 195
        }
      },
      "source": [
        "X_train.head()  # possível notar que as variáveis estão em diferentes escalas, o que pode prejudicar o ajuste"
      ],
      "execution_count": 210,
      "outputs": [
        {
          "output_type": "execute_result",
          "data": {
            "text/html": [
              "<div>\n",
              "<style scoped>\n",
              "    .dataframe tbody tr th:only-of-type {\n",
              "        vertical-align: middle;\n",
              "    }\n",
              "\n",
              "    .dataframe tbody tr th {\n",
              "        vertical-align: top;\n",
              "    }\n",
              "\n",
              "    .dataframe thead th {\n",
              "        text-align: right;\n",
              "    }\n",
              "</style>\n",
              "<table border=\"1\" class=\"dataframe\">\n",
              "  <thead>\n",
              "    <tr style=\"text-align: right;\">\n",
              "      <th></th>\n",
              "      <th>Pclass</th>\n",
              "      <th>Age</th>\n",
              "      <th>Fare</th>\n",
              "      <th>num_familiares</th>\n",
              "      <th>Sex</th>\n",
              "      <th>Embarked_Q</th>\n",
              "      <th>Embarked_S</th>\n",
              "    </tr>\n",
              "  </thead>\n",
              "  <tbody>\n",
              "    <tr>\n",
              "      <th>510</th>\n",
              "      <td>3</td>\n",
              "      <td>29.0</td>\n",
              "      <td>7.7500</td>\n",
              "      <td>0</td>\n",
              "      <td>1</td>\n",
              "      <td>1</td>\n",
              "      <td>0</td>\n",
              "    </tr>\n",
              "    <tr>\n",
              "      <th>832</th>\n",
              "      <td>3</td>\n",
              "      <td>25.0</td>\n",
              "      <td>7.2292</td>\n",
              "      <td>0</td>\n",
              "      <td>1</td>\n",
              "      <td>0</td>\n",
              "      <td>0</td>\n",
              "    </tr>\n",
              "    <tr>\n",
              "      <th>815</th>\n",
              "      <td>1</td>\n",
              "      <td>38.0</td>\n",
              "      <td>0.0000</td>\n",
              "      <td>0</td>\n",
              "      <td>1</td>\n",
              "      <td>0</td>\n",
              "      <td>1</td>\n",
              "    </tr>\n",
              "    <tr>\n",
              "      <th>717</th>\n",
              "      <td>2</td>\n",
              "      <td>27.0</td>\n",
              "      <td>10.5000</td>\n",
              "      <td>0</td>\n",
              "      <td>0</td>\n",
              "      <td>0</td>\n",
              "      <td>1</td>\n",
              "    </tr>\n",
              "    <tr>\n",
              "      <th>84</th>\n",
              "      <td>2</td>\n",
              "      <td>17.0</td>\n",
              "      <td>10.5000</td>\n",
              "      <td>0</td>\n",
              "      <td>0</td>\n",
              "      <td>0</td>\n",
              "      <td>1</td>\n",
              "    </tr>\n",
              "  </tbody>\n",
              "</table>\n",
              "</div>"
            ],
            "text/plain": [
              "     Pclass   Age     Fare  num_familiares  Sex  Embarked_Q  Embarked_S\n",
              "510       3  29.0   7.7500               0    1           1           0\n",
              "832       3  25.0   7.2292               0    1           0           0\n",
              "815       1  38.0   0.0000               0    1           0           1\n",
              "717       2  27.0  10.5000               0    0           0           1\n",
              "84        2  17.0  10.5000               0    0           0           1"
            ]
          },
          "metadata": {
            "tags": []
          },
          "execution_count": 210
        }
      ]
    },
    {
      "cell_type": "code",
      "metadata": {
        "id": "xuXCDkagGNrH"
      },
      "source": [
        "# transformar os dados com normalização MinMaxScaler (normaliza os dados para o intervalo 0-1)\n",
        "sc_x = MinMaxScaler()                       # chamando a função de normalização\n",
        "X_train1 = sc_x.fit_transform(X_train)      # Normaliza X_train\n",
        "X_test1 = sc_x.transform(X_test)            # normaliza os dados com os parâmetros de X_train\n",
        "# convert the array back to a dataframe\n",
        "X_train1 = pd.DataFrame(X_train1,columns = X_train.columns)          "
      ],
      "execution_count": 211,
      "outputs": []
    },
    {
      "cell_type": "code",
      "metadata": {
        "id": "DpmQzAwVHj9w",
        "outputId": "0c65cf25-1b3f-452a-c3da-e059303432b1",
        "colab": {
          "base_uri": "https://localhost:8080/",
          "height": 195
        }
      },
      "source": [
        "X_train1.head()     # notar a mudança de escala das variáveis"
      ],
      "execution_count": 212,
      "outputs": [
        {
          "output_type": "execute_result",
          "data": {
            "text/html": [
              "<div>\n",
              "<style scoped>\n",
              "    .dataframe tbody tr th:only-of-type {\n",
              "        vertical-align: middle;\n",
              "    }\n",
              "\n",
              "    .dataframe tbody tr th {\n",
              "        vertical-align: top;\n",
              "    }\n",
              "\n",
              "    .dataframe thead th {\n",
              "        text-align: right;\n",
              "    }\n",
              "</style>\n",
              "<table border=\"1\" class=\"dataframe\">\n",
              "  <thead>\n",
              "    <tr style=\"text-align: right;\">\n",
              "      <th></th>\n",
              "      <th>Pclass</th>\n",
              "      <th>Age</th>\n",
              "      <th>Fare</th>\n",
              "      <th>num_familiares</th>\n",
              "      <th>Sex</th>\n",
              "      <th>Embarked_Q</th>\n",
              "      <th>Embarked_S</th>\n",
              "    </tr>\n",
              "  </thead>\n",
              "  <tbody>\n",
              "    <tr>\n",
              "      <th>0</th>\n",
              "      <td>1.0</td>\n",
              "      <td>0.388421</td>\n",
              "      <td>0.029468</td>\n",
              "      <td>0.0</td>\n",
              "      <td>1.0</td>\n",
              "      <td>1.0</td>\n",
              "      <td>0.0</td>\n",
              "    </tr>\n",
              "    <tr>\n",
              "      <th>1</th>\n",
              "      <td>1.0</td>\n",
              "      <td>0.334058</td>\n",
              "      <td>0.027487</td>\n",
              "      <td>0.0</td>\n",
              "      <td>1.0</td>\n",
              "      <td>0.0</td>\n",
              "      <td>0.0</td>\n",
              "    </tr>\n",
              "    <tr>\n",
              "      <th>2</th>\n",
              "      <td>0.0</td>\n",
              "      <td>0.510737</td>\n",
              "      <td>0.000000</td>\n",
              "      <td>0.0</td>\n",
              "      <td>1.0</td>\n",
              "      <td>0.0</td>\n",
              "      <td>1.0</td>\n",
              "    </tr>\n",
              "    <tr>\n",
              "      <th>3</th>\n",
              "      <td>0.5</td>\n",
              "      <td>0.361239</td>\n",
              "      <td>0.039924</td>\n",
              "      <td>0.0</td>\n",
              "      <td>0.0</td>\n",
              "      <td>0.0</td>\n",
              "      <td>1.0</td>\n",
              "    </tr>\n",
              "    <tr>\n",
              "      <th>4</th>\n",
              "      <td>0.5</td>\n",
              "      <td>0.225333</td>\n",
              "      <td>0.039924</td>\n",
              "      <td>0.0</td>\n",
              "      <td>0.0</td>\n",
              "      <td>0.0</td>\n",
              "      <td>1.0</td>\n",
              "    </tr>\n",
              "  </tbody>\n",
              "</table>\n",
              "</div>"
            ],
            "text/plain": [
              "   Pclass       Age      Fare  num_familiares  Sex  Embarked_Q  Embarked_S\n",
              "0     1.0  0.388421  0.029468             0.0  1.0         1.0         0.0\n",
              "1     1.0  0.334058  0.027487             0.0  1.0         0.0         0.0\n",
              "2     0.0  0.510737  0.000000             0.0  1.0         0.0         1.0\n",
              "3     0.5  0.361239  0.039924             0.0  0.0         0.0         1.0\n",
              "4     0.5  0.225333  0.039924             0.0  0.0         0.0         1.0"
            ]
          },
          "metadata": {
            "tags": []
          },
          "execution_count": 212
        }
      ]
    },
    {
      "cell_type": "code",
      "metadata": {
        "id": "WeJhMtLLHnAA",
        "outputId": "28f47f8a-debd-4dcd-90b0-cc3c4578cffe",
        "colab": {
          "base_uri": "https://localhost:8080/",
          "height": 284
        }
      },
      "source": [
        "X_train1.describe()            # possível também notar esta mudança das escalas no resumo estatístico"
      ],
      "execution_count": 213,
      "outputs": [
        {
          "output_type": "execute_result",
          "data": {
            "text/html": [
              "<div>\n",
              "<style scoped>\n",
              "    .dataframe tbody tr th:only-of-type {\n",
              "        vertical-align: middle;\n",
              "    }\n",
              "\n",
              "    .dataframe tbody tr th {\n",
              "        vertical-align: top;\n",
              "    }\n",
              "\n",
              "    .dataframe thead th {\n",
              "        text-align: right;\n",
              "    }\n",
              "</style>\n",
              "<table border=\"1\" class=\"dataframe\">\n",
              "  <thead>\n",
              "    <tr style=\"text-align: right;\">\n",
              "      <th></th>\n",
              "      <th>Pclass</th>\n",
              "      <th>Age</th>\n",
              "      <th>Fare</th>\n",
              "      <th>num_familiares</th>\n",
              "      <th>Sex</th>\n",
              "      <th>Embarked_Q</th>\n",
              "      <th>Embarked_S</th>\n",
              "    </tr>\n",
              "  </thead>\n",
              "  <tbody>\n",
              "    <tr>\n",
              "      <th>count</th>\n",
              "      <td>710.000000</td>\n",
              "      <td>710.000000</td>\n",
              "      <td>710.000000</td>\n",
              "      <td>710.000000</td>\n",
              "      <td>710.000000</td>\n",
              "      <td>710.000000</td>\n",
              "      <td>710.000000</td>\n",
              "    </tr>\n",
              "    <tr>\n",
              "      <th>mean</th>\n",
              "      <td>0.661268</td>\n",
              "      <td>0.385964</td>\n",
              "      <td>0.116049</td>\n",
              "      <td>0.088873</td>\n",
              "      <td>0.652113</td>\n",
              "      <td>0.084507</td>\n",
              "      <td>0.729577</td>\n",
              "    </tr>\n",
              "    <tr>\n",
              "      <th>std</th>\n",
              "      <td>0.416149</td>\n",
              "      <td>0.177565</td>\n",
              "      <td>0.158699</td>\n",
              "      <td>0.156487</td>\n",
              "      <td>0.476636</td>\n",
              "      <td>0.278343</td>\n",
              "      <td>0.444491</td>\n",
              "    </tr>\n",
              "    <tr>\n",
              "      <th>min</th>\n",
              "      <td>0.000000</td>\n",
              "      <td>0.000000</td>\n",
              "      <td>0.000000</td>\n",
              "      <td>0.000000</td>\n",
              "      <td>0.000000</td>\n",
              "      <td>0.000000</td>\n",
              "      <td>0.000000</td>\n",
              "    </tr>\n",
              "    <tr>\n",
              "      <th>25%</th>\n",
              "      <td>0.500000</td>\n",
              "      <td>0.293286</td>\n",
              "      <td>0.030133</td>\n",
              "      <td>0.000000</td>\n",
              "      <td>0.000000</td>\n",
              "      <td>0.000000</td>\n",
              "      <td>0.000000</td>\n",
              "    </tr>\n",
              "    <tr>\n",
              "      <th>50%</th>\n",
              "      <td>1.000000</td>\n",
              "      <td>0.334058</td>\n",
              "      <td>0.054959</td>\n",
              "      <td>0.000000</td>\n",
              "      <td>1.000000</td>\n",
              "      <td>0.000000</td>\n",
              "      <td>1.000000</td>\n",
              "    </tr>\n",
              "    <tr>\n",
              "      <th>75%</th>\n",
              "      <td>1.000000</td>\n",
              "      <td>0.483555</td>\n",
              "      <td>0.114270</td>\n",
              "      <td>0.100000</td>\n",
              "      <td>1.000000</td>\n",
              "      <td>0.000000</td>\n",
              "      <td>1.000000</td>\n",
              "    </tr>\n",
              "    <tr>\n",
              "      <th>max</th>\n",
              "      <td>1.000000</td>\n",
              "      <td>1.000000</td>\n",
              "      <td>1.000000</td>\n",
              "      <td>1.000000</td>\n",
              "      <td>1.000000</td>\n",
              "      <td>1.000000</td>\n",
              "      <td>1.000000</td>\n",
              "    </tr>\n",
              "  </tbody>\n",
              "</table>\n",
              "</div>"
            ],
            "text/plain": [
              "           Pclass         Age        Fare  ...         Sex  Embarked_Q  Embarked_S\n",
              "count  710.000000  710.000000  710.000000  ...  710.000000  710.000000  710.000000\n",
              "mean     0.661268    0.385964    0.116049  ...    0.652113    0.084507    0.729577\n",
              "std      0.416149    0.177565    0.158699  ...    0.476636    0.278343    0.444491\n",
              "min      0.000000    0.000000    0.000000  ...    0.000000    0.000000    0.000000\n",
              "25%      0.500000    0.293286    0.030133  ...    0.000000    0.000000    0.000000\n",
              "50%      1.000000    0.334058    0.054959  ...    1.000000    0.000000    1.000000\n",
              "75%      1.000000    0.483555    0.114270  ...    1.000000    0.000000    1.000000\n",
              "max      1.000000    1.000000    1.000000  ...    1.000000    1.000000    1.000000\n",
              "\n",
              "[8 rows x 7 columns]"
            ]
          },
          "metadata": {
            "tags": []
          },
          "execution_count": 213
        }
      ]
    },
    {
      "cell_type": "code",
      "metadata": {
        "id": "nnyc1FYQIFWX",
        "outputId": "9d319312-521a-4008-de93-3393ecdc0add",
        "colab": {
          "base_uri": "https://localhost:8080/",
          "height": 289
        }
      },
      "source": [
        "# Comandos semelhantes, mas agora com os dados normalizados\n",
        "# Iniciação, ajuste e previsão\n",
        "from sklearn.neighbors import KNeighborsClassifier                                  # importando KNN\n",
        "classifier = KNeighborsClassifier(n_neighbors=5, p=2, metric='minkowski')           # chamando classificador regressão logística\n",
        "\n",
        "# Ajuste\n",
        "classifier.fit(X_train1,y_train)                            # ajustando os dados na série de treino (X_train1 -dados normalizados)\n",
        "\n",
        "# Previsão\n",
        "y_pred = classifier.predict(X_test1)                        # prevendo na série de teste (X_train1 - dados normalizados)\n",
        "\n",
        "# Métricas\n",
        "acuracia_knn2 = accuracy_score(y_test, y_pred,normalize=True)                                                      # Acurácia \n",
        "print(round(acuracia_knn2,3))\n",
        "\n",
        "# Relatório de Avaliação: Precisão, Recall, F1-score\n",
        "cr_knn2 = classification_report(y_test,y_pred,target_names=['Não Sobreviveu','Sobreviveu'])\n",
        "print(cr_knn2)\n",
        "\n",
        "\n",
        "# Matriz de Confusão:\n",
        "cm_knn2 = confusion_matrix(y_test,y_pred)                        # matriz de confusão (y_real, y_previsto)\n",
        "matriz_confusao_knn2 = pd.DataFrame(cm_knn2, columns = ['Previsão Não Sobreviveu', 'Previsão Sobreviveu'], index = ['Real Não Sobreviveu', 'Real Sobreviveu'] )\n",
        "print(matriz_confusao_knn2)  "
      ],
      "execution_count": 214,
      "outputs": [
        {
          "output_type": "stream",
          "text": [
            "0.831\n",
            "                precision    recall  f1-score   support\n",
            "\n",
            "Não Sobreviveu       0.84      0.89      0.87       110\n",
            "    Sobreviveu       0.81      0.74      0.77        68\n",
            "\n",
            "      accuracy                           0.83       178\n",
            "     macro avg       0.83      0.81      0.82       178\n",
            "  weighted avg       0.83      0.83      0.83       178\n",
            "\n",
            "                     Previsão Não Sobreviveu  Previsão Sobreviveu\n",
            "Real Não Sobreviveu                       98                   12\n",
            "Real Sobreviveu                           18                   50\n"
          ],
          "name": "stdout"
        },
        {
          "output_type": "stream",
          "text": [
            "/usr/local/lib/python3.6/dist-packages/ipykernel_launcher.py:7: DataConversionWarning: A column-vector y was passed when a 1d array was expected. Please change the shape of y to (n_samples, ), for example using ravel().\n",
            "  import sys\n"
          ],
          "name": "stderr"
        }
      ]
    },
    {
      "cell_type": "code",
      "metadata": {
        "id": "3EIdHUmxIYQZ"
      },
      "source": [
        "acuracia_knn1"
      ],
      "execution_count": null,
      "outputs": []
    },
    {
      "cell_type": "markdown",
      "metadata": {
        "id": "2H3rdRmCI90y"
      },
      "source": [
        "### KNN - Caso 3"
      ]
    },
    {
      "cell_type": "markdown",
      "metadata": {
        "id": "WZQ8CM07llua"
      },
      "source": [
        " -  Normalizando os dados antes de aplicar o método StandardScaler"
      ]
    },
    {
      "cell_type": "code",
      "metadata": {
        "id": "KvSFVquEJNIr"
      },
      "source": [
        "from sklearn.preprocessing import StandardScaler      # transformar os dados com normalização StandardScaler (normaliza os dados pela média e variância)"
      ],
      "execution_count": null,
      "outputs": []
    },
    {
      "cell_type": "code",
      "metadata": {
        "id": "bcjGx_olJltG"
      },
      "source": [
        "# transformar os dados com normalização StandardScale\n",
        "sc_x = StandardScaler()\n",
        "X_train2 = sc_x.fit_transform(X_train)\n",
        "X_test2 = sc_x.transform(X_test)         # normaliza os dados com os parâmetros de X_train\n",
        "# convert the array back to a dataframe\n",
        "X_train2 = pd.DataFrame(X_train2, columns = X_train.columns)"
      ],
      "execution_count": 216,
      "outputs": []
    },
    {
      "cell_type": "code",
      "metadata": {
        "id": "cZrtwRSCJ86L",
        "outputId": "786dce04-30a3-46c5-a121-0418aaf7c50a",
        "colab": {
          "base_uri": "https://localhost:8080/",
          "height": 195
        }
      },
      "source": [
        "X_train2.head()"
      ],
      "execution_count": 217,
      "outputs": [
        {
          "output_type": "execute_result",
          "data": {
            "text/html": [
              "<div>\n",
              "<style scoped>\n",
              "    .dataframe tbody tr th:only-of-type {\n",
              "        vertical-align: middle;\n",
              "    }\n",
              "\n",
              "    .dataframe tbody tr th {\n",
              "        vertical-align: top;\n",
              "    }\n",
              "\n",
              "    .dataframe thead th {\n",
              "        text-align: right;\n",
              "    }\n",
              "</style>\n",
              "<table border=\"1\" class=\"dataframe\">\n",
              "  <thead>\n",
              "    <tr style=\"text-align: right;\">\n",
              "      <th></th>\n",
              "      <th>Pclass</th>\n",
              "      <th>Age</th>\n",
              "      <th>Fare</th>\n",
              "      <th>num_familiares</th>\n",
              "      <th>Sex</th>\n",
              "      <th>Embarked_Q</th>\n",
              "      <th>Embarked_S</th>\n",
              "    </tr>\n",
              "  </thead>\n",
              "  <tbody>\n",
              "    <tr>\n",
              "      <th>0</th>\n",
              "      <td>0.814542</td>\n",
              "      <td>0.013844</td>\n",
              "      <td>-0.545952</td>\n",
              "      <td>-0.568328</td>\n",
              "      <td>0.730395</td>\n",
              "      <td>3.291403</td>\n",
              "      <td>-1.642534</td>\n",
              "    </tr>\n",
              "    <tr>\n",
              "      <th>1</th>\n",
              "      <td>0.814542</td>\n",
              "      <td>-0.292528</td>\n",
              "      <td>-0.558439</td>\n",
              "      <td>-0.568328</td>\n",
              "      <td>0.730395</td>\n",
              "      <td>-0.303822</td>\n",
              "      <td>-1.642534</td>\n",
              "    </tr>\n",
              "    <tr>\n",
              "      <th>2</th>\n",
              "      <td>-1.590135</td>\n",
              "      <td>0.703182</td>\n",
              "      <td>-0.731766</td>\n",
              "      <td>-0.568328</td>\n",
              "      <td>0.730395</td>\n",
              "      <td>-0.303822</td>\n",
              "      <td>0.608816</td>\n",
              "    </tr>\n",
              "    <tr>\n",
              "      <th>3</th>\n",
              "      <td>-0.387797</td>\n",
              "      <td>-0.139342</td>\n",
              "      <td>-0.480018</td>\n",
              "      <td>-0.568328</td>\n",
              "      <td>-1.369122</td>\n",
              "      <td>-0.303822</td>\n",
              "      <td>0.608816</td>\n",
              "    </tr>\n",
              "    <tr>\n",
              "      <th>4</th>\n",
              "      <td>-0.387797</td>\n",
              "      <td>-0.905273</td>\n",
              "      <td>-0.480018</td>\n",
              "      <td>-0.568328</td>\n",
              "      <td>-1.369122</td>\n",
              "      <td>-0.303822</td>\n",
              "      <td>0.608816</td>\n",
              "    </tr>\n",
              "  </tbody>\n",
              "</table>\n",
              "</div>"
            ],
            "text/plain": [
              "     Pclass       Age      Fare  ...       Sex  Embarked_Q  Embarked_S\n",
              "0  0.814542  0.013844 -0.545952  ...  0.730395    3.291403   -1.642534\n",
              "1  0.814542 -0.292528 -0.558439  ...  0.730395   -0.303822   -1.642534\n",
              "2 -1.590135  0.703182 -0.731766  ...  0.730395   -0.303822    0.608816\n",
              "3 -0.387797 -0.139342 -0.480018  ... -1.369122   -0.303822    0.608816\n",
              "4 -0.387797 -0.905273 -0.480018  ... -1.369122   -0.303822    0.608816\n",
              "\n",
              "[5 rows x 7 columns]"
            ]
          },
          "metadata": {
            "tags": []
          },
          "execution_count": 217
        }
      ]
    },
    {
      "cell_type": "code",
      "metadata": {
        "id": "G4llOjEWKAtZ",
        "outputId": "474328b6-83e1-4a84-d692-adbc13bc3293",
        "colab": {
          "base_uri": "https://localhost:8080/",
          "height": 284
        }
      },
      "source": [
        "X_train2.describe()"
      ],
      "execution_count": 218,
      "outputs": [
        {
          "output_type": "execute_result",
          "data": {
            "text/html": [
              "<div>\n",
              "<style scoped>\n",
              "    .dataframe tbody tr th:only-of-type {\n",
              "        vertical-align: middle;\n",
              "    }\n",
              "\n",
              "    .dataframe tbody tr th {\n",
              "        vertical-align: top;\n",
              "    }\n",
              "\n",
              "    .dataframe thead th {\n",
              "        text-align: right;\n",
              "    }\n",
              "</style>\n",
              "<table border=\"1\" class=\"dataframe\">\n",
              "  <thead>\n",
              "    <tr style=\"text-align: right;\">\n",
              "      <th></th>\n",
              "      <th>Pclass</th>\n",
              "      <th>Age</th>\n",
              "      <th>Fare</th>\n",
              "      <th>num_familiares</th>\n",
              "      <th>Sex</th>\n",
              "      <th>Embarked_Q</th>\n",
              "      <th>Embarked_S</th>\n",
              "    </tr>\n",
              "  </thead>\n",
              "  <tbody>\n",
              "    <tr>\n",
              "      <th>count</th>\n",
              "      <td>7.100000e+02</td>\n",
              "      <td>7.100000e+02</td>\n",
              "      <td>7.100000e+02</td>\n",
              "      <td>7.100000e+02</td>\n",
              "      <td>7.100000e+02</td>\n",
              "      <td>7.100000e+02</td>\n",
              "      <td>7.100000e+02</td>\n",
              "    </tr>\n",
              "    <tr>\n",
              "      <th>mean</th>\n",
              "      <td>6.139064e-16</td>\n",
              "      <td>1.540239e-16</td>\n",
              "      <td>6.708249e-17</td>\n",
              "      <td>-1.125860e-16</td>\n",
              "      <td>-3.283758e-17</td>\n",
              "      <td>-2.639516e-16</td>\n",
              "      <td>-2.262666e-16</td>\n",
              "    </tr>\n",
              "    <tr>\n",
              "      <th>std</th>\n",
              "      <td>1.000705e+00</td>\n",
              "      <td>1.000705e+00</td>\n",
              "      <td>1.000705e+00</td>\n",
              "      <td>1.000705e+00</td>\n",
              "      <td>1.000705e+00</td>\n",
              "      <td>1.000705e+00</td>\n",
              "      <td>1.000705e+00</td>\n",
              "    </tr>\n",
              "    <tr>\n",
              "      <th>min</th>\n",
              "      <td>-1.590135e+00</td>\n",
              "      <td>-2.175186e+00</td>\n",
              "      <td>-7.317658e-01</td>\n",
              "      <td>-5.683280e-01</td>\n",
              "      <td>-1.369122e+00</td>\n",
              "      <td>-3.038218e-01</td>\n",
              "      <td>-1.642534e+00</td>\n",
              "    </tr>\n",
              "    <tr>\n",
              "      <th>25%</th>\n",
              "      <td>-3.877965e-01</td>\n",
              "      <td>-5.223076e-01</td>\n",
              "      <td>-5.417562e-01</td>\n",
              "      <td>-5.683280e-01</td>\n",
              "      <td>-1.369122e+00</td>\n",
              "      <td>-3.038218e-01</td>\n",
              "      <td>-1.642534e+00</td>\n",
              "    </tr>\n",
              "    <tr>\n",
              "      <th>50%</th>\n",
              "      <td>8.145420e-01</td>\n",
              "      <td>-2.925284e-01</td>\n",
              "      <td>-3.852122e-01</td>\n",
              "      <td>-5.683280e-01</td>\n",
              "      <td>7.303953e-01</td>\n",
              "      <td>-3.038218e-01</td>\n",
              "      <td>6.088155e-01</td>\n",
              "    </tr>\n",
              "    <tr>\n",
              "      <th>75%</th>\n",
              "      <td>8.145420e-01</td>\n",
              "      <td>5.499955e-01</td>\n",
              "      <td>-1.121336e-02</td>\n",
              "      <td>7.115359e-02</td>\n",
              "      <td>7.303953e-01</td>\n",
              "      <td>-3.038218e-01</td>\n",
              "      <td>6.088155e-01</td>\n",
              "    </tr>\n",
              "    <tr>\n",
              "      <th>max</th>\n",
              "      <td>8.145420e-01</td>\n",
              "      <td>3.460533e+00</td>\n",
              "      <td>5.573916e+00</td>\n",
              "      <td>5.826488e+00</td>\n",
              "      <td>7.303953e-01</td>\n",
              "      <td>3.291403e+00</td>\n",
              "      <td>6.088155e-01</td>\n",
              "    </tr>\n",
              "  </tbody>\n",
              "</table>\n",
              "</div>"
            ],
            "text/plain": [
              "             Pclass           Age  ...    Embarked_Q    Embarked_S\n",
              "count  7.100000e+02  7.100000e+02  ...  7.100000e+02  7.100000e+02\n",
              "mean   6.139064e-16  1.540239e-16  ... -2.639516e-16 -2.262666e-16\n",
              "std    1.000705e+00  1.000705e+00  ...  1.000705e+00  1.000705e+00\n",
              "min   -1.590135e+00 -2.175186e+00  ... -3.038218e-01 -1.642534e+00\n",
              "25%   -3.877965e-01 -5.223076e-01  ... -3.038218e-01 -1.642534e+00\n",
              "50%    8.145420e-01 -2.925284e-01  ... -3.038218e-01  6.088155e-01\n",
              "75%    8.145420e-01  5.499955e-01  ... -3.038218e-01  6.088155e-01\n",
              "max    8.145420e-01  3.460533e+00  ...  3.291403e+00  6.088155e-01\n",
              "\n",
              "[8 rows x 7 columns]"
            ]
          },
          "metadata": {
            "tags": []
          },
          "execution_count": 218
        }
      ]
    },
    {
      "cell_type": "code",
      "metadata": {
        "id": "F1Q9R9_HKOfn",
        "outputId": "c07094fd-f4a3-4474-c137-093da827afca",
        "colab": {
          "base_uri": "https://localhost:8080/",
          "height": 289
        }
      },
      "source": [
        "# Iniciação, ajuste e previsão\n",
        "from sklearn.neighbors import KNeighborsClassifier                                                  # importando KNN\n",
        "classifier = KNeighborsClassifier(n_neighbors=5, p=2, metric='minkowski')                           # chamando classificador regressão logística\n",
        "\n",
        "# Ajuste\n",
        "classifier.fit(X_train2,y_train)                                                                    # ajustando os dados na série de treino\n",
        "\n",
        "# Previsão\n",
        "y_pred = classifier.predict(X_test2)                                                                # prevendo na série de teste\n",
        "\n",
        "# Métricas\n",
        "acuracia_knn3 = accuracy_score(y_test, y_pred,normalize=True)                                                      # Acurácia \n",
        "print(round(acuracia_knn3,3))\n",
        "\n",
        "# Relatório de Avaliação: Precisão, Recall, F1-score\n",
        "cr_knn3 = classification_report(y_test,y_pred,target_names=['Não Sobreviveu','Sobreviveu'])\n",
        "print(cr_knn3)\n",
        "\n",
        "\n",
        "# Matriz de Confusão:\n",
        "cm_knn3 = confusion_matrix(y_test,y_pred)                        # matriz de confusão (y_real, y_previsto)\n",
        "matriz_confusao_knn3 = pd.DataFrame(cm_knn3, columns = ['Previsão Não Sobreviveu', 'Previsão Sobreviveu'], index = ['Real Não Sobreviveu', 'Real Sobreviveu'] )\n",
        "print(matriz_confusao_knn3)  "
      ],
      "execution_count": 219,
      "outputs": [
        {
          "output_type": "stream",
          "text": [
            "0.831\n",
            "                precision    recall  f1-score   support\n",
            "\n",
            "Não Sobreviveu       0.85      0.88      0.87       110\n",
            "    Sobreviveu       0.80      0.75      0.77        68\n",
            "\n",
            "      accuracy                           0.83       178\n",
            "     macro avg       0.82      0.82      0.82       178\n",
            "  weighted avg       0.83      0.83      0.83       178\n",
            "\n",
            "                     Previsão Não Sobreviveu  Previsão Sobreviveu\n",
            "Real Não Sobreviveu                       97                   13\n",
            "Real Sobreviveu                           17                   51\n"
          ],
          "name": "stdout"
        },
        {
          "output_type": "stream",
          "text": [
            "/usr/local/lib/python3.6/dist-packages/ipykernel_launcher.py:6: DataConversionWarning: A column-vector y was passed when a 1d array was expected. Please change the shape of y to (n_samples, ), for example using ravel().\n",
            "  \n"
          ],
          "name": "stderr"
        }
      ]
    },
    {
      "cell_type": "code",
      "metadata": {
        "id": "i5RiBaFMKiow",
        "outputId": "b96afcae-0817-45cc-8580-6ebf826907b1",
        "colab": {
          "base_uri": "https://localhost:8080/",
          "height": 67
        }
      },
      "source": [
        "# Resumo dos resultados\n",
        "print(f'Acurácia na série de teste para KNN sem normalização: {round(acuracia_knn1,3)}')                        # Sem normalização\n",
        "print(f'Acurácia na série de teste para KNN com normalização min-max: {round(acuracia_knn2,3)}')                # Com normalização Min-Max\n",
        "print(f'Acurácia na série de teste para KNN com normalização StandardScaler: {round(acuracia_knn3,3)}')         # Com normalização standardScaler"
      ],
      "execution_count": 220,
      "outputs": [
        {
          "output_type": "stream",
          "text": [
            "Acurácia na série de teste para KNN sem normalização: 0.753\n",
            "Acurácia na série de teste para KNN com normalização min-max: 0.831\n",
            "Acurácia na série de teste para KNN com normalização StandardScaler: 0.831\n"
          ],
          "name": "stdout"
        }
      ]
    },
    {
      "cell_type": "markdown",
      "metadata": {
        "id": "Qza8xY7OLQCS"
      },
      "source": [
        "### KNN - Caso 4  "
      ]
    },
    {
      "cell_type": "markdown",
      "metadata": {
        "id": "fqzNr5McnFFy"
      },
      "source": [
        " - Normalizando os dados com método Min-Max + otimização dos parâmetros"
      ]
    },
    {
      "cell_type": "code",
      "metadata": {
        "id": "3wNuXdEALYuc",
        "outputId": "1ffe5867-1f90-4aa1-bbfc-bac13c7c47d7",
        "colab": {
          "base_uri": "https://localhost:8080/",
          "height": 1000
        }
      },
      "source": [
        "from sklearn.model_selection import cross_val_score                      # chamando pacote para validação cruzada\n",
        "from sklearn.preprocessing import MinMaxScaler                           # comando para normalização Min-Max\n",
        "from sklearn.neighbors import KNeighborsClassifier                       # Comando para KNN\n",
        "\n",
        "# Possíveis valores de K que iremos testar:\n",
        "K_param_range = np.arange(1,21)                          # iremos verificar o melhor número de vizinhos (que vai retornar melhor métrica)         \n",
        "\n",
        "# 1 - Normalização MinMaxScaler\n",
        "sc_x = MinMaxScaler()\n",
        "X_train1 = sc_x.fit_transform(X_train)\n",
        "X_test1 = sc_x.transform(X_test)         # normaliza os dados com os parâmetros de X_train\n",
        "X_train1 = pd.DataFrame(X_train1)        # converter o array de novo para dataframe\n",
        "\n",
        "\n",
        "# Para cada k, registrar a média da acurácia e o desvio-padrão da acurácia:\n",
        "knn_acc_table = pd.DataFrame(columns = ['K: '+str(i) for i in K_param_range],index = ['media','desvio-padrao'])\n",
        "\n",
        "\n",
        "for i in K_param_range:   # Para cada valor em K_param_range\n",
        "\n",
        "  # Classificador\n",
        "  classifier = KNeighborsClassifier(n_neighbors=i, p=2, metric='minkowski')                  # chamando classificador KNN, a cada iteração novo n_neighbors = i\n",
        "\n",
        "  # Validação cruzada para cada K = i\n",
        "  vc = cross_val_score(classifier, X = X_train1, y = y_train, scoring = \"accuracy\", cv = kfold)\n",
        "\n",
        "\n",
        "  # Média e Desvio padrão:\n",
        "  media_vc = np.mean(vc)\n",
        "  sd_vc = np.std(vc)\n",
        "\n",
        "  # Adicionando informação no dataframe\n",
        "  knn_acc_table.loc['desvio-padrao','K: '+str(i)] = sd_vc         # adicionando na tabela desvio-padrão\n",
        "  knn_acc_table.loc['media','K: '+str(i)] = media_vc              # adicionando na tabela média"
      ],
      "execution_count": 222,
      "outputs": [
        {
          "output_type": "stream",
          "text": [
            "/usr/local/lib/python3.6/dist-packages/sklearn/model_selection/_validation.py:515: DataConversionWarning: A column-vector y was passed when a 1d array was expected. Please change the shape of y to (n_samples, ), for example using ravel().\n",
            "  estimator.fit(X_train, y_train, **fit_params)\n",
            "/usr/local/lib/python3.6/dist-packages/sklearn/model_selection/_validation.py:515: DataConversionWarning: A column-vector y was passed when a 1d array was expected. Please change the shape of y to (n_samples, ), for example using ravel().\n",
            "  estimator.fit(X_train, y_train, **fit_params)\n",
            "/usr/local/lib/python3.6/dist-packages/sklearn/model_selection/_validation.py:515: DataConversionWarning: A column-vector y was passed when a 1d array was expected. Please change the shape of y to (n_samples, ), for example using ravel().\n",
            "  estimator.fit(X_train, y_train, **fit_params)\n",
            "/usr/local/lib/python3.6/dist-packages/sklearn/model_selection/_validation.py:515: DataConversionWarning: A column-vector y was passed when a 1d array was expected. Please change the shape of y to (n_samples, ), for example using ravel().\n",
            "  estimator.fit(X_train, y_train, **fit_params)\n",
            "/usr/local/lib/python3.6/dist-packages/sklearn/model_selection/_validation.py:515: DataConversionWarning: A column-vector y was passed when a 1d array was expected. Please change the shape of y to (n_samples, ), for example using ravel().\n",
            "  estimator.fit(X_train, y_train, **fit_params)\n",
            "/usr/local/lib/python3.6/dist-packages/sklearn/model_selection/_validation.py:515: DataConversionWarning: A column-vector y was passed when a 1d array was expected. Please change the shape of y to (n_samples, ), for example using ravel().\n",
            "  estimator.fit(X_train, y_train, **fit_params)\n",
            "/usr/local/lib/python3.6/dist-packages/sklearn/model_selection/_validation.py:515: DataConversionWarning: A column-vector y was passed when a 1d array was expected. Please change the shape of y to (n_samples, ), for example using ravel().\n",
            "  estimator.fit(X_train, y_train, **fit_params)\n",
            "/usr/local/lib/python3.6/dist-packages/sklearn/model_selection/_validation.py:515: DataConversionWarning: A column-vector y was passed when a 1d array was expected. Please change the shape of y to (n_samples, ), for example using ravel().\n",
            "  estimator.fit(X_train, y_train, **fit_params)\n",
            "/usr/local/lib/python3.6/dist-packages/sklearn/model_selection/_validation.py:515: DataConversionWarning: A column-vector y was passed when a 1d array was expected. Please change the shape of y to (n_samples, ), for example using ravel().\n",
            "  estimator.fit(X_train, y_train, **fit_params)\n",
            "/usr/local/lib/python3.6/dist-packages/sklearn/model_selection/_validation.py:515: DataConversionWarning: A column-vector y was passed when a 1d array was expected. Please change the shape of y to (n_samples, ), for example using ravel().\n",
            "  estimator.fit(X_train, y_train, **fit_params)\n",
            "/usr/local/lib/python3.6/dist-packages/sklearn/model_selection/_validation.py:515: DataConversionWarning: A column-vector y was passed when a 1d array was expected. Please change the shape of y to (n_samples, ), for example using ravel().\n",
            "  estimator.fit(X_train, y_train, **fit_params)\n",
            "/usr/local/lib/python3.6/dist-packages/sklearn/model_selection/_validation.py:515: DataConversionWarning: A column-vector y was passed when a 1d array was expected. Please change the shape of y to (n_samples, ), for example using ravel().\n",
            "  estimator.fit(X_train, y_train, **fit_params)\n",
            "/usr/local/lib/python3.6/dist-packages/sklearn/model_selection/_validation.py:515: DataConversionWarning: A column-vector y was passed when a 1d array was expected. Please change the shape of y to (n_samples, ), for example using ravel().\n",
            "  estimator.fit(X_train, y_train, **fit_params)\n",
            "/usr/local/lib/python3.6/dist-packages/sklearn/model_selection/_validation.py:515: DataConversionWarning: A column-vector y was passed when a 1d array was expected. Please change the shape of y to (n_samples, ), for example using ravel().\n",
            "  estimator.fit(X_train, y_train, **fit_params)\n",
            "/usr/local/lib/python3.6/dist-packages/sklearn/model_selection/_validation.py:515: DataConversionWarning: A column-vector y was passed when a 1d array was expected. Please change the shape of y to (n_samples, ), for example using ravel().\n",
            "  estimator.fit(X_train, y_train, **fit_params)\n",
            "/usr/local/lib/python3.6/dist-packages/sklearn/model_selection/_validation.py:515: DataConversionWarning: A column-vector y was passed when a 1d array was expected. Please change the shape of y to (n_samples, ), for example using ravel().\n",
            "  estimator.fit(X_train, y_train, **fit_params)\n",
            "/usr/local/lib/python3.6/dist-packages/sklearn/model_selection/_validation.py:515: DataConversionWarning: A column-vector y was passed when a 1d array was expected. Please change the shape of y to (n_samples, ), for example using ravel().\n",
            "  estimator.fit(X_train, y_train, **fit_params)\n",
            "/usr/local/lib/python3.6/dist-packages/sklearn/model_selection/_validation.py:515: DataConversionWarning: A column-vector y was passed when a 1d array was expected. Please change the shape of y to (n_samples, ), for example using ravel().\n",
            "  estimator.fit(X_train, y_train, **fit_params)\n",
            "/usr/local/lib/python3.6/dist-packages/sklearn/model_selection/_validation.py:515: DataConversionWarning: A column-vector y was passed when a 1d array was expected. Please change the shape of y to (n_samples, ), for example using ravel().\n",
            "  estimator.fit(X_train, y_train, **fit_params)\n",
            "/usr/local/lib/python3.6/dist-packages/sklearn/model_selection/_validation.py:515: DataConversionWarning: A column-vector y was passed when a 1d array was expected. Please change the shape of y to (n_samples, ), for example using ravel().\n",
            "  estimator.fit(X_train, y_train, **fit_params)\n",
            "/usr/local/lib/python3.6/dist-packages/sklearn/model_selection/_validation.py:515: DataConversionWarning: A column-vector y was passed when a 1d array was expected. Please change the shape of y to (n_samples, ), for example using ravel().\n",
            "  estimator.fit(X_train, y_train, **fit_params)\n",
            "/usr/local/lib/python3.6/dist-packages/sklearn/model_selection/_validation.py:515: DataConversionWarning: A column-vector y was passed when a 1d array was expected. Please change the shape of y to (n_samples, ), for example using ravel().\n",
            "  estimator.fit(X_train, y_train, **fit_params)\n",
            "/usr/local/lib/python3.6/dist-packages/sklearn/model_selection/_validation.py:515: DataConversionWarning: A column-vector y was passed when a 1d array was expected. Please change the shape of y to (n_samples, ), for example using ravel().\n",
            "  estimator.fit(X_train, y_train, **fit_params)\n",
            "/usr/local/lib/python3.6/dist-packages/sklearn/model_selection/_validation.py:515: DataConversionWarning: A column-vector y was passed when a 1d array was expected. Please change the shape of y to (n_samples, ), for example using ravel().\n",
            "  estimator.fit(X_train, y_train, **fit_params)\n",
            "/usr/local/lib/python3.6/dist-packages/sklearn/model_selection/_validation.py:515: DataConversionWarning: A column-vector y was passed when a 1d array was expected. Please change the shape of y to (n_samples, ), for example using ravel().\n",
            "  estimator.fit(X_train, y_train, **fit_params)\n",
            "/usr/local/lib/python3.6/dist-packages/sklearn/model_selection/_validation.py:515: DataConversionWarning: A column-vector y was passed when a 1d array was expected. Please change the shape of y to (n_samples, ), for example using ravel().\n",
            "  estimator.fit(X_train, y_train, **fit_params)\n",
            "/usr/local/lib/python3.6/dist-packages/sklearn/model_selection/_validation.py:515: DataConversionWarning: A column-vector y was passed when a 1d array was expected. Please change the shape of y to (n_samples, ), for example using ravel().\n",
            "  estimator.fit(X_train, y_train, **fit_params)\n",
            "/usr/local/lib/python3.6/dist-packages/sklearn/model_selection/_validation.py:515: DataConversionWarning: A column-vector y was passed when a 1d array was expected. Please change the shape of y to (n_samples, ), for example using ravel().\n",
            "  estimator.fit(X_train, y_train, **fit_params)\n",
            "/usr/local/lib/python3.6/dist-packages/sklearn/model_selection/_validation.py:515: DataConversionWarning: A column-vector y was passed when a 1d array was expected. Please change the shape of y to (n_samples, ), for example using ravel().\n",
            "  estimator.fit(X_train, y_train, **fit_params)\n",
            "/usr/local/lib/python3.6/dist-packages/sklearn/model_selection/_validation.py:515: DataConversionWarning: A column-vector y was passed when a 1d array was expected. Please change the shape of y to (n_samples, ), for example using ravel().\n",
            "  estimator.fit(X_train, y_train, **fit_params)\n",
            "/usr/local/lib/python3.6/dist-packages/sklearn/model_selection/_validation.py:515: DataConversionWarning: A column-vector y was passed when a 1d array was expected. Please change the shape of y to (n_samples, ), for example using ravel().\n",
            "  estimator.fit(X_train, y_train, **fit_params)\n",
            "/usr/local/lib/python3.6/dist-packages/sklearn/model_selection/_validation.py:515: DataConversionWarning: A column-vector y was passed when a 1d array was expected. Please change the shape of y to (n_samples, ), for example using ravel().\n",
            "  estimator.fit(X_train, y_train, **fit_params)\n",
            "/usr/local/lib/python3.6/dist-packages/sklearn/model_selection/_validation.py:515: DataConversionWarning: A column-vector y was passed when a 1d array was expected. Please change the shape of y to (n_samples, ), for example using ravel().\n",
            "  estimator.fit(X_train, y_train, **fit_params)\n",
            "/usr/local/lib/python3.6/dist-packages/sklearn/model_selection/_validation.py:515: DataConversionWarning: A column-vector y was passed when a 1d array was expected. Please change the shape of y to (n_samples, ), for example using ravel().\n",
            "  estimator.fit(X_train, y_train, **fit_params)\n",
            "/usr/local/lib/python3.6/dist-packages/sklearn/model_selection/_validation.py:515: DataConversionWarning: A column-vector y was passed when a 1d array was expected. Please change the shape of y to (n_samples, ), for example using ravel().\n",
            "  estimator.fit(X_train, y_train, **fit_params)\n",
            "/usr/local/lib/python3.6/dist-packages/sklearn/model_selection/_validation.py:515: DataConversionWarning: A column-vector y was passed when a 1d array was expected. Please change the shape of y to (n_samples, ), for example using ravel().\n",
            "  estimator.fit(X_train, y_train, **fit_params)\n",
            "/usr/local/lib/python3.6/dist-packages/sklearn/model_selection/_validation.py:515: DataConversionWarning: A column-vector y was passed when a 1d array was expected. Please change the shape of y to (n_samples, ), for example using ravel().\n",
            "  estimator.fit(X_train, y_train, **fit_params)\n",
            "/usr/local/lib/python3.6/dist-packages/sklearn/model_selection/_validation.py:515: DataConversionWarning: A column-vector y was passed when a 1d array was expected. Please change the shape of y to (n_samples, ), for example using ravel().\n",
            "  estimator.fit(X_train, y_train, **fit_params)\n",
            "/usr/local/lib/python3.6/dist-packages/sklearn/model_selection/_validation.py:515: DataConversionWarning: A column-vector y was passed when a 1d array was expected. Please change the shape of y to (n_samples, ), for example using ravel().\n",
            "  estimator.fit(X_train, y_train, **fit_params)\n",
            "/usr/local/lib/python3.6/dist-packages/sklearn/model_selection/_validation.py:515: DataConversionWarning: A column-vector y was passed when a 1d array was expected. Please change the shape of y to (n_samples, ), for example using ravel().\n",
            "  estimator.fit(X_train, y_train, **fit_params)\n",
            "/usr/local/lib/python3.6/dist-packages/sklearn/model_selection/_validation.py:515: DataConversionWarning: A column-vector y was passed when a 1d array was expected. Please change the shape of y to (n_samples, ), for example using ravel().\n",
            "  estimator.fit(X_train, y_train, **fit_params)\n",
            "/usr/local/lib/python3.6/dist-packages/sklearn/model_selection/_validation.py:515: DataConversionWarning: A column-vector y was passed when a 1d array was expected. Please change the shape of y to (n_samples, ), for example using ravel().\n",
            "  estimator.fit(X_train, y_train, **fit_params)\n",
            "/usr/local/lib/python3.6/dist-packages/sklearn/model_selection/_validation.py:515: DataConversionWarning: A column-vector y was passed when a 1d array was expected. Please change the shape of y to (n_samples, ), for example using ravel().\n",
            "  estimator.fit(X_train, y_train, **fit_params)\n",
            "/usr/local/lib/python3.6/dist-packages/sklearn/model_selection/_validation.py:515: DataConversionWarning: A column-vector y was passed when a 1d array was expected. Please change the shape of y to (n_samples, ), for example using ravel().\n",
            "  estimator.fit(X_train, y_train, **fit_params)\n",
            "/usr/local/lib/python3.6/dist-packages/sklearn/model_selection/_validation.py:515: DataConversionWarning: A column-vector y was passed when a 1d array was expected. Please change the shape of y to (n_samples, ), for example using ravel().\n",
            "  estimator.fit(X_train, y_train, **fit_params)\n",
            "/usr/local/lib/python3.6/dist-packages/sklearn/model_selection/_validation.py:515: DataConversionWarning: A column-vector y was passed when a 1d array was expected. Please change the shape of y to (n_samples, ), for example using ravel().\n",
            "  estimator.fit(X_train, y_train, **fit_params)\n",
            "/usr/local/lib/python3.6/dist-packages/sklearn/model_selection/_validation.py:515: DataConversionWarning: A column-vector y was passed when a 1d array was expected. Please change the shape of y to (n_samples, ), for example using ravel().\n",
            "  estimator.fit(X_train, y_train, **fit_params)\n",
            "/usr/local/lib/python3.6/dist-packages/sklearn/model_selection/_validation.py:515: DataConversionWarning: A column-vector y was passed when a 1d array was expected. Please change the shape of y to (n_samples, ), for example using ravel().\n",
            "  estimator.fit(X_train, y_train, **fit_params)\n",
            "/usr/local/lib/python3.6/dist-packages/sklearn/model_selection/_validation.py:515: DataConversionWarning: A column-vector y was passed when a 1d array was expected. Please change the shape of y to (n_samples, ), for example using ravel().\n",
            "  estimator.fit(X_train, y_train, **fit_params)\n",
            "/usr/local/lib/python3.6/dist-packages/sklearn/model_selection/_validation.py:515: DataConversionWarning: A column-vector y was passed when a 1d array was expected. Please change the shape of y to (n_samples, ), for example using ravel().\n",
            "  estimator.fit(X_train, y_train, **fit_params)\n",
            "/usr/local/lib/python3.6/dist-packages/sklearn/model_selection/_validation.py:515: DataConversionWarning: A column-vector y was passed when a 1d array was expected. Please change the shape of y to (n_samples, ), for example using ravel().\n",
            "  estimator.fit(X_train, y_train, **fit_params)\n",
            "/usr/local/lib/python3.6/dist-packages/sklearn/model_selection/_validation.py:515: DataConversionWarning: A column-vector y was passed when a 1d array was expected. Please change the shape of y to (n_samples, ), for example using ravel().\n",
            "  estimator.fit(X_train, y_train, **fit_params)\n",
            "/usr/local/lib/python3.6/dist-packages/sklearn/model_selection/_validation.py:515: DataConversionWarning: A column-vector y was passed when a 1d array was expected. Please change the shape of y to (n_samples, ), for example using ravel().\n",
            "  estimator.fit(X_train, y_train, **fit_params)\n",
            "/usr/local/lib/python3.6/dist-packages/sklearn/model_selection/_validation.py:515: DataConversionWarning: A column-vector y was passed when a 1d array was expected. Please change the shape of y to (n_samples, ), for example using ravel().\n",
            "  estimator.fit(X_train, y_train, **fit_params)\n",
            "/usr/local/lib/python3.6/dist-packages/sklearn/model_selection/_validation.py:515: DataConversionWarning: A column-vector y was passed when a 1d array was expected. Please change the shape of y to (n_samples, ), for example using ravel().\n",
            "  estimator.fit(X_train, y_train, **fit_params)\n",
            "/usr/local/lib/python3.6/dist-packages/sklearn/model_selection/_validation.py:515: DataConversionWarning: A column-vector y was passed when a 1d array was expected. Please change the shape of y to (n_samples, ), for example using ravel().\n",
            "  estimator.fit(X_train, y_train, **fit_params)\n",
            "/usr/local/lib/python3.6/dist-packages/sklearn/model_selection/_validation.py:515: DataConversionWarning: A column-vector y was passed when a 1d array was expected. Please change the shape of y to (n_samples, ), for example using ravel().\n",
            "  estimator.fit(X_train, y_train, **fit_params)\n",
            "/usr/local/lib/python3.6/dist-packages/sklearn/model_selection/_validation.py:515: DataConversionWarning: A column-vector y was passed when a 1d array was expected. Please change the shape of y to (n_samples, ), for example using ravel().\n",
            "  estimator.fit(X_train, y_train, **fit_params)\n",
            "/usr/local/lib/python3.6/dist-packages/sklearn/model_selection/_validation.py:515: DataConversionWarning: A column-vector y was passed when a 1d array was expected. Please change the shape of y to (n_samples, ), for example using ravel().\n",
            "  estimator.fit(X_train, y_train, **fit_params)\n",
            "/usr/local/lib/python3.6/dist-packages/sklearn/model_selection/_validation.py:515: DataConversionWarning: A column-vector y was passed when a 1d array was expected. Please change the shape of y to (n_samples, ), for example using ravel().\n",
            "  estimator.fit(X_train, y_train, **fit_params)\n",
            "/usr/local/lib/python3.6/dist-packages/sklearn/model_selection/_validation.py:515: DataConversionWarning: A column-vector y was passed when a 1d array was expected. Please change the shape of y to (n_samples, ), for example using ravel().\n",
            "  estimator.fit(X_train, y_train, **fit_params)\n",
            "/usr/local/lib/python3.6/dist-packages/sklearn/model_selection/_validation.py:515: DataConversionWarning: A column-vector y was passed when a 1d array was expected. Please change the shape of y to (n_samples, ), for example using ravel().\n",
            "  estimator.fit(X_train, y_train, **fit_params)\n",
            "/usr/local/lib/python3.6/dist-packages/sklearn/model_selection/_validation.py:515: DataConversionWarning: A column-vector y was passed when a 1d array was expected. Please change the shape of y to (n_samples, ), for example using ravel().\n",
            "  estimator.fit(X_train, y_train, **fit_params)\n",
            "/usr/local/lib/python3.6/dist-packages/sklearn/model_selection/_validation.py:515: DataConversionWarning: A column-vector y was passed when a 1d array was expected. Please change the shape of y to (n_samples, ), for example using ravel().\n",
            "  estimator.fit(X_train, y_train, **fit_params)\n",
            "/usr/local/lib/python3.6/dist-packages/sklearn/model_selection/_validation.py:515: DataConversionWarning: A column-vector y was passed when a 1d array was expected. Please change the shape of y to (n_samples, ), for example using ravel().\n",
            "  estimator.fit(X_train, y_train, **fit_params)\n",
            "/usr/local/lib/python3.6/dist-packages/sklearn/model_selection/_validation.py:515: DataConversionWarning: A column-vector y was passed when a 1d array was expected. Please change the shape of y to (n_samples, ), for example using ravel().\n",
            "  estimator.fit(X_train, y_train, **fit_params)\n",
            "/usr/local/lib/python3.6/dist-packages/sklearn/model_selection/_validation.py:515: DataConversionWarning: A column-vector y was passed when a 1d array was expected. Please change the shape of y to (n_samples, ), for example using ravel().\n",
            "  estimator.fit(X_train, y_train, **fit_params)\n",
            "/usr/local/lib/python3.6/dist-packages/sklearn/model_selection/_validation.py:515: DataConversionWarning: A column-vector y was passed when a 1d array was expected. Please change the shape of y to (n_samples, ), for example using ravel().\n",
            "  estimator.fit(X_train, y_train, **fit_params)\n",
            "/usr/local/lib/python3.6/dist-packages/sklearn/model_selection/_validation.py:515: DataConversionWarning: A column-vector y was passed when a 1d array was expected. Please change the shape of y to (n_samples, ), for example using ravel().\n",
            "  estimator.fit(X_train, y_train, **fit_params)\n",
            "/usr/local/lib/python3.6/dist-packages/sklearn/model_selection/_validation.py:515: DataConversionWarning: A column-vector y was passed when a 1d array was expected. Please change the shape of y to (n_samples, ), for example using ravel().\n",
            "  estimator.fit(X_train, y_train, **fit_params)\n",
            "/usr/local/lib/python3.6/dist-packages/sklearn/model_selection/_validation.py:515: DataConversionWarning: A column-vector y was passed when a 1d array was expected. Please change the shape of y to (n_samples, ), for example using ravel().\n",
            "  estimator.fit(X_train, y_train, **fit_params)\n",
            "/usr/local/lib/python3.6/dist-packages/sklearn/model_selection/_validation.py:515: DataConversionWarning: A column-vector y was passed when a 1d array was expected. Please change the shape of y to (n_samples, ), for example using ravel().\n",
            "  estimator.fit(X_train, y_train, **fit_params)\n",
            "/usr/local/lib/python3.6/dist-packages/sklearn/model_selection/_validation.py:515: DataConversionWarning: A column-vector y was passed when a 1d array was expected. Please change the shape of y to (n_samples, ), for example using ravel().\n",
            "  estimator.fit(X_train, y_train, **fit_params)\n",
            "/usr/local/lib/python3.6/dist-packages/sklearn/model_selection/_validation.py:515: DataConversionWarning: A column-vector y was passed when a 1d array was expected. Please change the shape of y to (n_samples, ), for example using ravel().\n",
            "  estimator.fit(X_train, y_train, **fit_params)\n",
            "/usr/local/lib/python3.6/dist-packages/sklearn/model_selection/_validation.py:515: DataConversionWarning: A column-vector y was passed when a 1d array was expected. Please change the shape of y to (n_samples, ), for example using ravel().\n",
            "  estimator.fit(X_train, y_train, **fit_params)\n",
            "/usr/local/lib/python3.6/dist-packages/sklearn/model_selection/_validation.py:515: DataConversionWarning: A column-vector y was passed when a 1d array was expected. Please change the shape of y to (n_samples, ), for example using ravel().\n",
            "  estimator.fit(X_train, y_train, **fit_params)\n",
            "/usr/local/lib/python3.6/dist-packages/sklearn/model_selection/_validation.py:515: DataConversionWarning: A column-vector y was passed when a 1d array was expected. Please change the shape of y to (n_samples, ), for example using ravel().\n",
            "  estimator.fit(X_train, y_train, **fit_params)\n",
            "/usr/local/lib/python3.6/dist-packages/sklearn/model_selection/_validation.py:515: DataConversionWarning: A column-vector y was passed when a 1d array was expected. Please change the shape of y to (n_samples, ), for example using ravel().\n",
            "  estimator.fit(X_train, y_train, **fit_params)\n",
            "/usr/local/lib/python3.6/dist-packages/sklearn/model_selection/_validation.py:515: DataConversionWarning: A column-vector y was passed when a 1d array was expected. Please change the shape of y to (n_samples, ), for example using ravel().\n",
            "  estimator.fit(X_train, y_train, **fit_params)\n",
            "/usr/local/lib/python3.6/dist-packages/sklearn/model_selection/_validation.py:515: DataConversionWarning: A column-vector y was passed when a 1d array was expected. Please change the shape of y to (n_samples, ), for example using ravel().\n",
            "  estimator.fit(X_train, y_train, **fit_params)\n",
            "/usr/local/lib/python3.6/dist-packages/sklearn/model_selection/_validation.py:515: DataConversionWarning: A column-vector y was passed when a 1d array was expected. Please change the shape of y to (n_samples, ), for example using ravel().\n",
            "  estimator.fit(X_train, y_train, **fit_params)\n",
            "/usr/local/lib/python3.6/dist-packages/sklearn/model_selection/_validation.py:515: DataConversionWarning: A column-vector y was passed when a 1d array was expected. Please change the shape of y to (n_samples, ), for example using ravel().\n",
            "  estimator.fit(X_train, y_train, **fit_params)\n",
            "/usr/local/lib/python3.6/dist-packages/sklearn/model_selection/_validation.py:515: DataConversionWarning: A column-vector y was passed when a 1d array was expected. Please change the shape of y to (n_samples, ), for example using ravel().\n",
            "  estimator.fit(X_train, y_train, **fit_params)\n",
            "/usr/local/lib/python3.6/dist-packages/sklearn/model_selection/_validation.py:515: DataConversionWarning: A column-vector y was passed when a 1d array was expected. Please change the shape of y to (n_samples, ), for example using ravel().\n",
            "  estimator.fit(X_train, y_train, **fit_params)\n",
            "/usr/local/lib/python3.6/dist-packages/sklearn/model_selection/_validation.py:515: DataConversionWarning: A column-vector y was passed when a 1d array was expected. Please change the shape of y to (n_samples, ), for example using ravel().\n",
            "  estimator.fit(X_train, y_train, **fit_params)\n",
            "/usr/local/lib/python3.6/dist-packages/sklearn/model_selection/_validation.py:515: DataConversionWarning: A column-vector y was passed when a 1d array was expected. Please change the shape of y to (n_samples, ), for example using ravel().\n",
            "  estimator.fit(X_train, y_train, **fit_params)\n",
            "/usr/local/lib/python3.6/dist-packages/sklearn/model_selection/_validation.py:515: DataConversionWarning: A column-vector y was passed when a 1d array was expected. Please change the shape of y to (n_samples, ), for example using ravel().\n",
            "  estimator.fit(X_train, y_train, **fit_params)\n",
            "/usr/local/lib/python3.6/dist-packages/sklearn/model_selection/_validation.py:515: DataConversionWarning: A column-vector y was passed when a 1d array was expected. Please change the shape of y to (n_samples, ), for example using ravel().\n",
            "  estimator.fit(X_train, y_train, **fit_params)\n",
            "/usr/local/lib/python3.6/dist-packages/sklearn/model_selection/_validation.py:515: DataConversionWarning: A column-vector y was passed when a 1d array was expected. Please change the shape of y to (n_samples, ), for example using ravel().\n",
            "  estimator.fit(X_train, y_train, **fit_params)\n",
            "/usr/local/lib/python3.6/dist-packages/sklearn/model_selection/_validation.py:515: DataConversionWarning: A column-vector y was passed when a 1d array was expected. Please change the shape of y to (n_samples, ), for example using ravel().\n",
            "  estimator.fit(X_train, y_train, **fit_params)\n",
            "/usr/local/lib/python3.6/dist-packages/sklearn/model_selection/_validation.py:515: DataConversionWarning: A column-vector y was passed when a 1d array was expected. Please change the shape of y to (n_samples, ), for example using ravel().\n",
            "  estimator.fit(X_train, y_train, **fit_params)\n",
            "/usr/local/lib/python3.6/dist-packages/sklearn/model_selection/_validation.py:515: DataConversionWarning: A column-vector y was passed when a 1d array was expected. Please change the shape of y to (n_samples, ), for example using ravel().\n",
            "  estimator.fit(X_train, y_train, **fit_params)\n",
            "/usr/local/lib/python3.6/dist-packages/sklearn/model_selection/_validation.py:515: DataConversionWarning: A column-vector y was passed when a 1d array was expected. Please change the shape of y to (n_samples, ), for example using ravel().\n",
            "  estimator.fit(X_train, y_train, **fit_params)\n",
            "/usr/local/lib/python3.6/dist-packages/sklearn/model_selection/_validation.py:515: DataConversionWarning: A column-vector y was passed when a 1d array was expected. Please change the shape of y to (n_samples, ), for example using ravel().\n",
            "  estimator.fit(X_train, y_train, **fit_params)\n",
            "/usr/local/lib/python3.6/dist-packages/sklearn/model_selection/_validation.py:515: DataConversionWarning: A column-vector y was passed when a 1d array was expected. Please change the shape of y to (n_samples, ), for example using ravel().\n",
            "  estimator.fit(X_train, y_train, **fit_params)\n",
            "/usr/local/lib/python3.6/dist-packages/sklearn/model_selection/_validation.py:515: DataConversionWarning: A column-vector y was passed when a 1d array was expected. Please change the shape of y to (n_samples, ), for example using ravel().\n",
            "  estimator.fit(X_train, y_train, **fit_params)\n",
            "/usr/local/lib/python3.6/dist-packages/sklearn/model_selection/_validation.py:515: DataConversionWarning: A column-vector y was passed when a 1d array was expected. Please change the shape of y to (n_samples, ), for example using ravel().\n",
            "  estimator.fit(X_train, y_train, **fit_params)\n",
            "/usr/local/lib/python3.6/dist-packages/sklearn/model_selection/_validation.py:515: DataConversionWarning: A column-vector y was passed when a 1d array was expected. Please change the shape of y to (n_samples, ), for example using ravel().\n",
            "  estimator.fit(X_train, y_train, **fit_params)\n",
            "/usr/local/lib/python3.6/dist-packages/sklearn/model_selection/_validation.py:515: DataConversionWarning: A column-vector y was passed when a 1d array was expected. Please change the shape of y to (n_samples, ), for example using ravel().\n",
            "  estimator.fit(X_train, y_train, **fit_params)\n",
            "/usr/local/lib/python3.6/dist-packages/sklearn/model_selection/_validation.py:515: DataConversionWarning: A column-vector y was passed when a 1d array was expected. Please change the shape of y to (n_samples, ), for example using ravel().\n",
            "  estimator.fit(X_train, y_train, **fit_params)\n",
            "/usr/local/lib/python3.6/dist-packages/sklearn/model_selection/_validation.py:515: DataConversionWarning: A column-vector y was passed when a 1d array was expected. Please change the shape of y to (n_samples, ), for example using ravel().\n",
            "  estimator.fit(X_train, y_train, **fit_params)\n",
            "/usr/local/lib/python3.6/dist-packages/sklearn/model_selection/_validation.py:515: DataConversionWarning: A column-vector y was passed when a 1d array was expected. Please change the shape of y to (n_samples, ), for example using ravel().\n",
            "  estimator.fit(X_train, y_train, **fit_params)\n",
            "/usr/local/lib/python3.6/dist-packages/sklearn/model_selection/_validation.py:515: DataConversionWarning: A column-vector y was passed when a 1d array was expected. Please change the shape of y to (n_samples, ), for example using ravel().\n",
            "  estimator.fit(X_train, y_train, **fit_params)\n",
            "/usr/local/lib/python3.6/dist-packages/sklearn/model_selection/_validation.py:515: DataConversionWarning: A column-vector y was passed when a 1d array was expected. Please change the shape of y to (n_samples, ), for example using ravel().\n",
            "  estimator.fit(X_train, y_train, **fit_params)\n",
            "/usr/local/lib/python3.6/dist-packages/sklearn/model_selection/_validation.py:515: DataConversionWarning: A column-vector y was passed when a 1d array was expected. Please change the shape of y to (n_samples, ), for example using ravel().\n",
            "  estimator.fit(X_train, y_train, **fit_params)\n",
            "/usr/local/lib/python3.6/dist-packages/sklearn/model_selection/_validation.py:515: DataConversionWarning: A column-vector y was passed when a 1d array was expected. Please change the shape of y to (n_samples, ), for example using ravel().\n",
            "  estimator.fit(X_train, y_train, **fit_params)\n",
            "/usr/local/lib/python3.6/dist-packages/sklearn/model_selection/_validation.py:515: DataConversionWarning: A column-vector y was passed when a 1d array was expected. Please change the shape of y to (n_samples, ), for example using ravel().\n",
            "  estimator.fit(X_train, y_train, **fit_params)\n",
            "/usr/local/lib/python3.6/dist-packages/sklearn/model_selection/_validation.py:515: DataConversionWarning: A column-vector y was passed when a 1d array was expected. Please change the shape of y to (n_samples, ), for example using ravel().\n",
            "  estimator.fit(X_train, y_train, **fit_params)\n",
            "/usr/local/lib/python3.6/dist-packages/sklearn/model_selection/_validation.py:515: DataConversionWarning: A column-vector y was passed when a 1d array was expected. Please change the shape of y to (n_samples, ), for example using ravel().\n",
            "  estimator.fit(X_train, y_train, **fit_params)\n",
            "/usr/local/lib/python3.6/dist-packages/sklearn/model_selection/_validation.py:515: DataConversionWarning: A column-vector y was passed when a 1d array was expected. Please change the shape of y to (n_samples, ), for example using ravel().\n",
            "  estimator.fit(X_train, y_train, **fit_params)\n",
            "/usr/local/lib/python3.6/dist-packages/sklearn/model_selection/_validation.py:515: DataConversionWarning: A column-vector y was passed when a 1d array was expected. Please change the shape of y to (n_samples, ), for example using ravel().\n",
            "  estimator.fit(X_train, y_train, **fit_params)\n",
            "/usr/local/lib/python3.6/dist-packages/sklearn/model_selection/_validation.py:515: DataConversionWarning: A column-vector y was passed when a 1d array was expected. Please change the shape of y to (n_samples, ), for example using ravel().\n",
            "  estimator.fit(X_train, y_train, **fit_params)\n",
            "/usr/local/lib/python3.6/dist-packages/sklearn/model_selection/_validation.py:515: DataConversionWarning: A column-vector y was passed when a 1d array was expected. Please change the shape of y to (n_samples, ), for example using ravel().\n",
            "  estimator.fit(X_train, y_train, **fit_params)\n",
            "/usr/local/lib/python3.6/dist-packages/sklearn/model_selection/_validation.py:515: DataConversionWarning: A column-vector y was passed when a 1d array was expected. Please change the shape of y to (n_samples, ), for example using ravel().\n",
            "  estimator.fit(X_train, y_train, **fit_params)\n",
            "/usr/local/lib/python3.6/dist-packages/sklearn/model_selection/_validation.py:515: DataConversionWarning: A column-vector y was passed when a 1d array was expected. Please change the shape of y to (n_samples, ), for example using ravel().\n",
            "  estimator.fit(X_train, y_train, **fit_params)\n",
            "/usr/local/lib/python3.6/dist-packages/sklearn/model_selection/_validation.py:515: DataConversionWarning: A column-vector y was passed when a 1d array was expected. Please change the shape of y to (n_samples, ), for example using ravel().\n",
            "  estimator.fit(X_train, y_train, **fit_params)\n",
            "/usr/local/lib/python3.6/dist-packages/sklearn/model_selection/_validation.py:515: DataConversionWarning: A column-vector y was passed when a 1d array was expected. Please change the shape of y to (n_samples, ), for example using ravel().\n",
            "  estimator.fit(X_train, y_train, **fit_params)\n",
            "/usr/local/lib/python3.6/dist-packages/sklearn/model_selection/_validation.py:515: DataConversionWarning: A column-vector y was passed when a 1d array was expected. Please change the shape of y to (n_samples, ), for example using ravel().\n",
            "  estimator.fit(X_train, y_train, **fit_params)\n",
            "/usr/local/lib/python3.6/dist-packages/sklearn/model_selection/_validation.py:515: DataConversionWarning: A column-vector y was passed when a 1d array was expected. Please change the shape of y to (n_samples, ), for example using ravel().\n",
            "  estimator.fit(X_train, y_train, **fit_params)\n",
            "/usr/local/lib/python3.6/dist-packages/sklearn/model_selection/_validation.py:515: DataConversionWarning: A column-vector y was passed when a 1d array was expected. Please change the shape of y to (n_samples, ), for example using ravel().\n",
            "  estimator.fit(X_train, y_train, **fit_params)\n",
            "/usr/local/lib/python3.6/dist-packages/sklearn/model_selection/_validation.py:515: DataConversionWarning: A column-vector y was passed when a 1d array was expected. Please change the shape of y to (n_samples, ), for example using ravel().\n",
            "  estimator.fit(X_train, y_train, **fit_params)\n",
            "/usr/local/lib/python3.6/dist-packages/sklearn/model_selection/_validation.py:515: DataConversionWarning: A column-vector y was passed when a 1d array was expected. Please change the shape of y to (n_samples, ), for example using ravel().\n",
            "  estimator.fit(X_train, y_train, **fit_params)\n",
            "/usr/local/lib/python3.6/dist-packages/sklearn/model_selection/_validation.py:515: DataConversionWarning: A column-vector y was passed when a 1d array was expected. Please change the shape of y to (n_samples, ), for example using ravel().\n",
            "  estimator.fit(X_train, y_train, **fit_params)\n",
            "/usr/local/lib/python3.6/dist-packages/sklearn/model_selection/_validation.py:515: DataConversionWarning: A column-vector y was passed when a 1d array was expected. Please change the shape of y to (n_samples, ), for example using ravel().\n",
            "  estimator.fit(X_train, y_train, **fit_params)\n",
            "/usr/local/lib/python3.6/dist-packages/sklearn/model_selection/_validation.py:515: DataConversionWarning: A column-vector y was passed when a 1d array was expected. Please change the shape of y to (n_samples, ), for example using ravel().\n",
            "  estimator.fit(X_train, y_train, **fit_params)\n",
            "/usr/local/lib/python3.6/dist-packages/sklearn/model_selection/_validation.py:515: DataConversionWarning: A column-vector y was passed when a 1d array was expected. Please change the shape of y to (n_samples, ), for example using ravel().\n",
            "  estimator.fit(X_train, y_train, **fit_params)\n",
            "/usr/local/lib/python3.6/dist-packages/sklearn/model_selection/_validation.py:515: DataConversionWarning: A column-vector y was passed when a 1d array was expected. Please change the shape of y to (n_samples, ), for example using ravel().\n",
            "  estimator.fit(X_train, y_train, **fit_params)\n",
            "/usr/local/lib/python3.6/dist-packages/sklearn/model_selection/_validation.py:515: DataConversionWarning: A column-vector y was passed when a 1d array was expected. Please change the shape of y to (n_samples, ), for example using ravel().\n",
            "  estimator.fit(X_train, y_train, **fit_params)\n",
            "/usr/local/lib/python3.6/dist-packages/sklearn/model_selection/_validation.py:515: DataConversionWarning: A column-vector y was passed when a 1d array was expected. Please change the shape of y to (n_samples, ), for example using ravel().\n",
            "  estimator.fit(X_train, y_train, **fit_params)\n",
            "/usr/local/lib/python3.6/dist-packages/sklearn/model_selection/_validation.py:515: DataConversionWarning: A column-vector y was passed when a 1d array was expected. Please change the shape of y to (n_samples, ), for example using ravel().\n",
            "  estimator.fit(X_train, y_train, **fit_params)\n",
            "/usr/local/lib/python3.6/dist-packages/sklearn/model_selection/_validation.py:515: DataConversionWarning: A column-vector y was passed when a 1d array was expected. Please change the shape of y to (n_samples, ), for example using ravel().\n",
            "  estimator.fit(X_train, y_train, **fit_params)\n",
            "/usr/local/lib/python3.6/dist-packages/sklearn/model_selection/_validation.py:515: DataConversionWarning: A column-vector y was passed when a 1d array was expected. Please change the shape of y to (n_samples, ), for example using ravel().\n",
            "  estimator.fit(X_train, y_train, **fit_params)\n",
            "/usr/local/lib/python3.6/dist-packages/sklearn/model_selection/_validation.py:515: DataConversionWarning: A column-vector y was passed when a 1d array was expected. Please change the shape of y to (n_samples, ), for example using ravel().\n",
            "  estimator.fit(X_train, y_train, **fit_params)\n",
            "/usr/local/lib/python3.6/dist-packages/sklearn/model_selection/_validation.py:515: DataConversionWarning: A column-vector y was passed when a 1d array was expected. Please change the shape of y to (n_samples, ), for example using ravel().\n",
            "  estimator.fit(X_train, y_train, **fit_params)\n",
            "/usr/local/lib/python3.6/dist-packages/sklearn/model_selection/_validation.py:515: DataConversionWarning: A column-vector y was passed when a 1d array was expected. Please change the shape of y to (n_samples, ), for example using ravel().\n",
            "  estimator.fit(X_train, y_train, **fit_params)\n",
            "/usr/local/lib/python3.6/dist-packages/sklearn/model_selection/_validation.py:515: DataConversionWarning: A column-vector y was passed when a 1d array was expected. Please change the shape of y to (n_samples, ), for example using ravel().\n",
            "  estimator.fit(X_train, y_train, **fit_params)\n",
            "/usr/local/lib/python3.6/dist-packages/sklearn/model_selection/_validation.py:515: DataConversionWarning: A column-vector y was passed when a 1d array was expected. Please change the shape of y to (n_samples, ), for example using ravel().\n",
            "  estimator.fit(X_train, y_train, **fit_params)\n",
            "/usr/local/lib/python3.6/dist-packages/sklearn/model_selection/_validation.py:515: DataConversionWarning: A column-vector y was passed when a 1d array was expected. Please change the shape of y to (n_samples, ), for example using ravel().\n",
            "  estimator.fit(X_train, y_train, **fit_params)\n",
            "/usr/local/lib/python3.6/dist-packages/sklearn/model_selection/_validation.py:515: DataConversionWarning: A column-vector y was passed when a 1d array was expected. Please change the shape of y to (n_samples, ), for example using ravel().\n",
            "  estimator.fit(X_train, y_train, **fit_params)\n",
            "/usr/local/lib/python3.6/dist-packages/sklearn/model_selection/_validation.py:515: DataConversionWarning: A column-vector y was passed when a 1d array was expected. Please change the shape of y to (n_samples, ), for example using ravel().\n",
            "  estimator.fit(X_train, y_train, **fit_params)\n",
            "/usr/local/lib/python3.6/dist-packages/sklearn/model_selection/_validation.py:515: DataConversionWarning: A column-vector y was passed when a 1d array was expected. Please change the shape of y to (n_samples, ), for example using ravel().\n",
            "  estimator.fit(X_train, y_train, **fit_params)\n",
            "/usr/local/lib/python3.6/dist-packages/sklearn/model_selection/_validation.py:515: DataConversionWarning: A column-vector y was passed when a 1d array was expected. Please change the shape of y to (n_samples, ), for example using ravel().\n",
            "  estimator.fit(X_train, y_train, **fit_params)\n",
            "/usr/local/lib/python3.6/dist-packages/sklearn/model_selection/_validation.py:515: DataConversionWarning: A column-vector y was passed when a 1d array was expected. Please change the shape of y to (n_samples, ), for example using ravel().\n",
            "  estimator.fit(X_train, y_train, **fit_params)\n",
            "/usr/local/lib/python3.6/dist-packages/sklearn/model_selection/_validation.py:515: DataConversionWarning: A column-vector y was passed when a 1d array was expected. Please change the shape of y to (n_samples, ), for example using ravel().\n",
            "  estimator.fit(X_train, y_train, **fit_params)\n",
            "/usr/local/lib/python3.6/dist-packages/sklearn/model_selection/_validation.py:515: DataConversionWarning: A column-vector y was passed when a 1d array was expected. Please change the shape of y to (n_samples, ), for example using ravel().\n",
            "  estimator.fit(X_train, y_train, **fit_params)\n",
            "/usr/local/lib/python3.6/dist-packages/sklearn/model_selection/_validation.py:515: DataConversionWarning: A column-vector y was passed when a 1d array was expected. Please change the shape of y to (n_samples, ), for example using ravel().\n",
            "  estimator.fit(X_train, y_train, **fit_params)\n",
            "/usr/local/lib/python3.6/dist-packages/sklearn/model_selection/_validation.py:515: DataConversionWarning: A column-vector y was passed when a 1d array was expected. Please change the shape of y to (n_samples, ), for example using ravel().\n",
            "  estimator.fit(X_train, y_train, **fit_params)\n",
            "/usr/local/lib/python3.6/dist-packages/sklearn/model_selection/_validation.py:515: DataConversionWarning: A column-vector y was passed when a 1d array was expected. Please change the shape of y to (n_samples, ), for example using ravel().\n",
            "  estimator.fit(X_train, y_train, **fit_params)\n",
            "/usr/local/lib/python3.6/dist-packages/sklearn/model_selection/_validation.py:515: DataConversionWarning: A column-vector y was passed when a 1d array was expected. Please change the shape of y to (n_samples, ), for example using ravel().\n",
            "  estimator.fit(X_train, y_train, **fit_params)\n",
            "/usr/local/lib/python3.6/dist-packages/sklearn/model_selection/_validation.py:515: DataConversionWarning: A column-vector y was passed when a 1d array was expected. Please change the shape of y to (n_samples, ), for example using ravel().\n",
            "  estimator.fit(X_train, y_train, **fit_params)\n",
            "/usr/local/lib/python3.6/dist-packages/sklearn/model_selection/_validation.py:515: DataConversionWarning: A column-vector y was passed when a 1d array was expected. Please change the shape of y to (n_samples, ), for example using ravel().\n",
            "  estimator.fit(X_train, y_train, **fit_params)\n",
            "/usr/local/lib/python3.6/dist-packages/sklearn/model_selection/_validation.py:515: DataConversionWarning: A column-vector y was passed when a 1d array was expected. Please change the shape of y to (n_samples, ), for example using ravel().\n",
            "  estimator.fit(X_train, y_train, **fit_params)\n",
            "/usr/local/lib/python3.6/dist-packages/sklearn/model_selection/_validation.py:515: DataConversionWarning: A column-vector y was passed when a 1d array was expected. Please change the shape of y to (n_samples, ), for example using ravel().\n",
            "  estimator.fit(X_train, y_train, **fit_params)\n",
            "/usr/local/lib/python3.6/dist-packages/sklearn/model_selection/_validation.py:515: DataConversionWarning: A column-vector y was passed when a 1d array was expected. Please change the shape of y to (n_samples, ), for example using ravel().\n",
            "  estimator.fit(X_train, y_train, **fit_params)\n",
            "/usr/local/lib/python3.6/dist-packages/sklearn/model_selection/_validation.py:515: DataConversionWarning: A column-vector y was passed when a 1d array was expected. Please change the shape of y to (n_samples, ), for example using ravel().\n",
            "  estimator.fit(X_train, y_train, **fit_params)\n",
            "/usr/local/lib/python3.6/dist-packages/sklearn/model_selection/_validation.py:515: DataConversionWarning: A column-vector y was passed when a 1d array was expected. Please change the shape of y to (n_samples, ), for example using ravel().\n",
            "  estimator.fit(X_train, y_train, **fit_params)\n",
            "/usr/local/lib/python3.6/dist-packages/sklearn/model_selection/_validation.py:515: DataConversionWarning: A column-vector y was passed when a 1d array was expected. Please change the shape of y to (n_samples, ), for example using ravel().\n",
            "  estimator.fit(X_train, y_train, **fit_params)\n",
            "/usr/local/lib/python3.6/dist-packages/sklearn/model_selection/_validation.py:515: DataConversionWarning: A column-vector y was passed when a 1d array was expected. Please change the shape of y to (n_samples, ), for example using ravel().\n",
            "  estimator.fit(X_train, y_train, **fit_params)\n",
            "/usr/local/lib/python3.6/dist-packages/sklearn/model_selection/_validation.py:515: DataConversionWarning: A column-vector y was passed when a 1d array was expected. Please change the shape of y to (n_samples, ), for example using ravel().\n",
            "  estimator.fit(X_train, y_train, **fit_params)\n",
            "/usr/local/lib/python3.6/dist-packages/sklearn/model_selection/_validation.py:515: DataConversionWarning: A column-vector y was passed when a 1d array was expected. Please change the shape of y to (n_samples, ), for example using ravel().\n",
            "  estimator.fit(X_train, y_train, **fit_params)\n",
            "/usr/local/lib/python3.6/dist-packages/sklearn/model_selection/_validation.py:515: DataConversionWarning: A column-vector y was passed when a 1d array was expected. Please change the shape of y to (n_samples, ), for example using ravel().\n",
            "  estimator.fit(X_train, y_train, **fit_params)\n",
            "/usr/local/lib/python3.6/dist-packages/sklearn/model_selection/_validation.py:515: DataConversionWarning: A column-vector y was passed when a 1d array was expected. Please change the shape of y to (n_samples, ), for example using ravel().\n",
            "  estimator.fit(X_train, y_train, **fit_params)\n",
            "/usr/local/lib/python3.6/dist-packages/sklearn/model_selection/_validation.py:515: DataConversionWarning: A column-vector y was passed when a 1d array was expected. Please change the shape of y to (n_samples, ), for example using ravel().\n",
            "  estimator.fit(X_train, y_train, **fit_params)\n",
            "/usr/local/lib/python3.6/dist-packages/sklearn/model_selection/_validation.py:515: DataConversionWarning: A column-vector y was passed when a 1d array was expected. Please change the shape of y to (n_samples, ), for example using ravel().\n",
            "  estimator.fit(X_train, y_train, **fit_params)\n",
            "/usr/local/lib/python3.6/dist-packages/sklearn/model_selection/_validation.py:515: DataConversionWarning: A column-vector y was passed when a 1d array was expected. Please change the shape of y to (n_samples, ), for example using ravel().\n",
            "  estimator.fit(X_train, y_train, **fit_params)\n",
            "/usr/local/lib/python3.6/dist-packages/sklearn/model_selection/_validation.py:515: DataConversionWarning: A column-vector y was passed when a 1d array was expected. Please change the shape of y to (n_samples, ), for example using ravel().\n",
            "  estimator.fit(X_train, y_train, **fit_params)\n",
            "/usr/local/lib/python3.6/dist-packages/sklearn/model_selection/_validation.py:515: DataConversionWarning: A column-vector y was passed when a 1d array was expected. Please change the shape of y to (n_samples, ), for example using ravel().\n",
            "  estimator.fit(X_train, y_train, **fit_params)\n",
            "/usr/local/lib/python3.6/dist-packages/sklearn/model_selection/_validation.py:515: DataConversionWarning: A column-vector y was passed when a 1d array was expected. Please change the shape of y to (n_samples, ), for example using ravel().\n",
            "  estimator.fit(X_train, y_train, **fit_params)\n",
            "/usr/local/lib/python3.6/dist-packages/sklearn/model_selection/_validation.py:515: DataConversionWarning: A column-vector y was passed when a 1d array was expected. Please change the shape of y to (n_samples, ), for example using ravel().\n",
            "  estimator.fit(X_train, y_train, **fit_params)\n",
            "/usr/local/lib/python3.6/dist-packages/sklearn/model_selection/_validation.py:515: DataConversionWarning: A column-vector y was passed when a 1d array was expected. Please change the shape of y to (n_samples, ), for example using ravel().\n",
            "  estimator.fit(X_train, y_train, **fit_params)\n",
            "/usr/local/lib/python3.6/dist-packages/sklearn/model_selection/_validation.py:515: DataConversionWarning: A column-vector y was passed when a 1d array was expected. Please change the shape of y to (n_samples, ), for example using ravel().\n",
            "  estimator.fit(X_train, y_train, **fit_params)\n",
            "/usr/local/lib/python3.6/dist-packages/sklearn/model_selection/_validation.py:515: DataConversionWarning: A column-vector y was passed when a 1d array was expected. Please change the shape of y to (n_samples, ), for example using ravel().\n",
            "  estimator.fit(X_train, y_train, **fit_params)\n",
            "/usr/local/lib/python3.6/dist-packages/sklearn/model_selection/_validation.py:515: DataConversionWarning: A column-vector y was passed when a 1d array was expected. Please change the shape of y to (n_samples, ), for example using ravel().\n",
            "  estimator.fit(X_train, y_train, **fit_params)\n",
            "/usr/local/lib/python3.6/dist-packages/sklearn/model_selection/_validation.py:515: DataConversionWarning: A column-vector y was passed when a 1d array was expected. Please change the shape of y to (n_samples, ), for example using ravel().\n",
            "  estimator.fit(X_train, y_train, **fit_params)\n",
            "/usr/local/lib/python3.6/dist-packages/sklearn/model_selection/_validation.py:515: DataConversionWarning: A column-vector y was passed when a 1d array was expected. Please change the shape of y to (n_samples, ), for example using ravel().\n",
            "  estimator.fit(X_train, y_train, **fit_params)\n",
            "/usr/local/lib/python3.6/dist-packages/sklearn/model_selection/_validation.py:515: DataConversionWarning: A column-vector y was passed when a 1d array was expected. Please change the shape of y to (n_samples, ), for example using ravel().\n",
            "  estimator.fit(X_train, y_train, **fit_params)\n",
            "/usr/local/lib/python3.6/dist-packages/sklearn/model_selection/_validation.py:515: DataConversionWarning: A column-vector y was passed when a 1d array was expected. Please change the shape of y to (n_samples, ), for example using ravel().\n",
            "  estimator.fit(X_train, y_train, **fit_params)\n",
            "/usr/local/lib/python3.6/dist-packages/sklearn/model_selection/_validation.py:515: DataConversionWarning: A column-vector y was passed when a 1d array was expected. Please change the shape of y to (n_samples, ), for example using ravel().\n",
            "  estimator.fit(X_train, y_train, **fit_params)\n",
            "/usr/local/lib/python3.6/dist-packages/sklearn/model_selection/_validation.py:515: DataConversionWarning: A column-vector y was passed when a 1d array was expected. Please change the shape of y to (n_samples, ), for example using ravel().\n",
            "  estimator.fit(X_train, y_train, **fit_params)\n",
            "/usr/local/lib/python3.6/dist-packages/sklearn/model_selection/_validation.py:515: DataConversionWarning: A column-vector y was passed when a 1d array was expected. Please change the shape of y to (n_samples, ), for example using ravel().\n",
            "  estimator.fit(X_train, y_train, **fit_params)\n",
            "/usr/local/lib/python3.6/dist-packages/sklearn/model_selection/_validation.py:515: DataConversionWarning: A column-vector y was passed when a 1d array was expected. Please change the shape of y to (n_samples, ), for example using ravel().\n",
            "  estimator.fit(X_train, y_train, **fit_params)\n",
            "/usr/local/lib/python3.6/dist-packages/sklearn/model_selection/_validation.py:515: DataConversionWarning: A column-vector y was passed when a 1d array was expected. Please change the shape of y to (n_samples, ), for example using ravel().\n",
            "  estimator.fit(X_train, y_train, **fit_params)\n",
            "/usr/local/lib/python3.6/dist-packages/sklearn/model_selection/_validation.py:515: DataConversionWarning: A column-vector y was passed when a 1d array was expected. Please change the shape of y to (n_samples, ), for example using ravel().\n",
            "  estimator.fit(X_train, y_train, **fit_params)\n",
            "/usr/local/lib/python3.6/dist-packages/sklearn/model_selection/_validation.py:515: DataConversionWarning: A column-vector y was passed when a 1d array was expected. Please change the shape of y to (n_samples, ), for example using ravel().\n",
            "  estimator.fit(X_train, y_train, **fit_params)\n",
            "/usr/local/lib/python3.6/dist-packages/sklearn/model_selection/_validation.py:515: DataConversionWarning: A column-vector y was passed when a 1d array was expected. Please change the shape of y to (n_samples, ), for example using ravel().\n",
            "  estimator.fit(X_train, y_train, **fit_params)\n",
            "/usr/local/lib/python3.6/dist-packages/sklearn/model_selection/_validation.py:515: DataConversionWarning: A column-vector y was passed when a 1d array was expected. Please change the shape of y to (n_samples, ), for example using ravel().\n",
            "  estimator.fit(X_train, y_train, **fit_params)\n",
            "/usr/local/lib/python3.6/dist-packages/sklearn/model_selection/_validation.py:515: DataConversionWarning: A column-vector y was passed when a 1d array was expected. Please change the shape of y to (n_samples, ), for example using ravel().\n",
            "  estimator.fit(X_train, y_train, **fit_params)\n",
            "/usr/local/lib/python3.6/dist-packages/sklearn/model_selection/_validation.py:515: DataConversionWarning: A column-vector y was passed when a 1d array was expected. Please change the shape of y to (n_samples, ), for example using ravel().\n",
            "  estimator.fit(X_train, y_train, **fit_params)\n",
            "/usr/local/lib/python3.6/dist-packages/sklearn/model_selection/_validation.py:515: DataConversionWarning: A column-vector y was passed when a 1d array was expected. Please change the shape of y to (n_samples, ), for example using ravel().\n",
            "  estimator.fit(X_train, y_train, **fit_params)\n",
            "/usr/local/lib/python3.6/dist-packages/sklearn/model_selection/_validation.py:515: DataConversionWarning: A column-vector y was passed when a 1d array was expected. Please change the shape of y to (n_samples, ), for example using ravel().\n",
            "  estimator.fit(X_train, y_train, **fit_params)\n",
            "/usr/local/lib/python3.6/dist-packages/sklearn/model_selection/_validation.py:515: DataConversionWarning: A column-vector y was passed when a 1d array was expected. Please change the shape of y to (n_samples, ), for example using ravel().\n",
            "  estimator.fit(X_train, y_train, **fit_params)\n",
            "/usr/local/lib/python3.6/dist-packages/sklearn/model_selection/_validation.py:515: DataConversionWarning: A column-vector y was passed when a 1d array was expected. Please change the shape of y to (n_samples, ), for example using ravel().\n",
            "  estimator.fit(X_train, y_train, **fit_params)\n",
            "/usr/local/lib/python3.6/dist-packages/sklearn/model_selection/_validation.py:515: DataConversionWarning: A column-vector y was passed when a 1d array was expected. Please change the shape of y to (n_samples, ), for example using ravel().\n",
            "  estimator.fit(X_train, y_train, **fit_params)\n",
            "/usr/local/lib/python3.6/dist-packages/sklearn/model_selection/_validation.py:515: DataConversionWarning: A column-vector y was passed when a 1d array was expected. Please change the shape of y to (n_samples, ), for example using ravel().\n",
            "  estimator.fit(X_train, y_train, **fit_params)\n",
            "/usr/local/lib/python3.6/dist-packages/sklearn/model_selection/_validation.py:515: DataConversionWarning: A column-vector y was passed when a 1d array was expected. Please change the shape of y to (n_samples, ), for example using ravel().\n",
            "  estimator.fit(X_train, y_train, **fit_params)\n",
            "/usr/local/lib/python3.6/dist-packages/sklearn/model_selection/_validation.py:515: DataConversionWarning: A column-vector y was passed when a 1d array was expected. Please change the shape of y to (n_samples, ), for example using ravel().\n",
            "  estimator.fit(X_train, y_train, **fit_params)\n",
            "/usr/local/lib/python3.6/dist-packages/sklearn/model_selection/_validation.py:515: DataConversionWarning: A column-vector y was passed when a 1d array was expected. Please change the shape of y to (n_samples, ), for example using ravel().\n",
            "  estimator.fit(X_train, y_train, **fit_params)\n",
            "/usr/local/lib/python3.6/dist-packages/sklearn/model_selection/_validation.py:515: DataConversionWarning: A column-vector y was passed when a 1d array was expected. Please change the shape of y to (n_samples, ), for example using ravel().\n",
            "  estimator.fit(X_train, y_train, **fit_params)\n",
            "/usr/local/lib/python3.6/dist-packages/sklearn/model_selection/_validation.py:515: DataConversionWarning: A column-vector y was passed when a 1d array was expected. Please change the shape of y to (n_samples, ), for example using ravel().\n",
            "  estimator.fit(X_train, y_train, **fit_params)\n",
            "/usr/local/lib/python3.6/dist-packages/sklearn/model_selection/_validation.py:515: DataConversionWarning: A column-vector y was passed when a 1d array was expected. Please change the shape of y to (n_samples, ), for example using ravel().\n",
            "  estimator.fit(X_train, y_train, **fit_params)\n"
          ],
          "name": "stderr"
        }
      ]
    },
    {
      "cell_type": "code",
      "metadata": {
        "id": "XwpH7wPHTlPw",
        "outputId": "0120462f-d0f5-415c-e808-21196949e7e8",
        "colab": {
          "base_uri": "https://localhost:8080/",
          "height": 718
        }
      },
      "source": [
        "# Mostrando o resultado de média e desvio padrão de cada K em forma de figura\n",
        "plt.figure(figsize=(20,6))\n",
        "plt.errorbar(x = K_param_range,y = knn_acc_table.loc['media',:], yerr = knn_acc_table.loc['desvio-padrao',:],color=\"blue\", linestyle=\"dashed\", marker=\"o\",markerfacecolor=\"red\", markersize=\"20\")\n",
        "plt.xticks(range(1,21,1))"
      ],
      "execution_count": 223,
      "outputs": [
        {
          "output_type": "execute_result",
          "data": {
            "text/plain": [
              "([<matplotlib.axis.XTick at 0x7f12668a1358>,\n",
              "  <matplotlib.axis.XTick at 0x7f1266870ef0>,\n",
              "  <matplotlib.axis.XTick at 0x7f12668730f0>,\n",
              "  <matplotlib.axis.XTick at 0x7f126685a668>,\n",
              "  <matplotlib.axis.XTick at 0x7f1266892eb8>,\n",
              "  <matplotlib.axis.XTick at 0x7f1266819390>,\n",
              "  <matplotlib.axis.XTick at 0x7f1266819828>,\n",
              "  <matplotlib.axis.XTick at 0x7f1266819cc0>,\n",
              "  <matplotlib.axis.XTick at 0x7f1266822208>,\n",
              "  <matplotlib.axis.XTick at 0x7f1266822630>,\n",
              "  <matplotlib.axis.XTick at 0x7f1266819908>,\n",
              "  <matplotlib.axis.XTick at 0x7f1266892f60>,\n",
              "  <matplotlib.axis.XTick at 0x7f1266822ac8>,\n",
              "  <matplotlib.axis.XTick at 0x7f1266822f60>,\n",
              "  <matplotlib.axis.XTick at 0x7f126682a438>,\n",
              "  <matplotlib.axis.XTick at 0x7f126682a8d0>,\n",
              "  <matplotlib.axis.XTick at 0x7f126682ad68>,\n",
              "  <matplotlib.axis.XTick at 0x7f1266832278>,\n",
              "  <matplotlib.axis.XTick at 0x7f12668326d8>,\n",
              "  <matplotlib.axis.XTick at 0x7f1266832b70>],\n",
              " <a list of 20 Text major ticklabel objects>)"
            ]
          },
          "metadata": {
            "tags": []
          },
          "execution_count": 223
        },
        {
          "output_type": "display_data",
          "data": {
            "image/png": "[encoded data removed]",
            "text/plain": [
              "<Figure size 1440x432 with 1 Axes>"
            ]
          },
          "metadata": {
            "tags": []
          }
        }
      ]
    },
    {
      "cell_type": "markdown",
      "metadata": {
        "id": "hFA0cd9wUa34"
      },
      "source": [
        "Pensando na média , k=3 foi o melhor, mas a variação foi alta. O k =4 tem um resultado muito parecido, mas com um desvio menor. "
      ]
    },
    {
      "cell_type": "code",
      "metadata": {
        "id": "hAVOaTt8PHlT",
        "outputId": "e175a2fd-c932-458c-e1e6-37ada14e4bfa",
        "colab": {
          "base_uri": "https://localhost:8080/",
          "height": 143
        }
      },
      "source": [
        "knn_acc_table"
      ],
      "execution_count": 224,
      "outputs": [
        {
          "output_type": "execute_result",
          "data": {
            "text/html": [
              "<div>\n",
              "<style scoped>\n",
              "    .dataframe tbody tr th:only-of-type {\n",
              "        vertical-align: middle;\n",
              "    }\n",
              "\n",
              "    .dataframe tbody tr th {\n",
              "        vertical-align: top;\n",
              "    }\n",
              "\n",
              "    .dataframe thead th {\n",
              "        text-align: right;\n",
              "    }\n",
              "</style>\n",
              "<table border=\"1\" class=\"dataframe\">\n",
              "  <thead>\n",
              "    <tr style=\"text-align: right;\">\n",
              "      <th></th>\n",
              "      <th>K: 1</th>\n",
              "      <th>K: 2</th>\n",
              "      <th>K: 3</th>\n",
              "      <th>K: 4</th>\n",
              "      <th>K: 5</th>\n",
              "      <th>K: 6</th>\n",
              "      <th>K: 7</th>\n",
              "      <th>K: 8</th>\n",
              "      <th>K: 9</th>\n",
              "      <th>K: 10</th>\n",
              "      <th>K: 11</th>\n",
              "      <th>K: 12</th>\n",
              "      <th>K: 13</th>\n",
              "      <th>K: 14</th>\n",
              "      <th>K: 15</th>\n",
              "      <th>K: 16</th>\n",
              "      <th>K: 17</th>\n",
              "      <th>K: 18</th>\n",
              "      <th>K: 19</th>\n",
              "      <th>K: 20</th>\n",
              "    </tr>\n",
              "  </thead>\n",
              "  <tbody>\n",
              "    <tr>\n",
              "      <th>media</th>\n",
              "      <td>0.760563</td>\n",
              "      <td>0.785915</td>\n",
              "      <td>0.811268</td>\n",
              "      <td>0.805634</td>\n",
              "      <td>0.807042</td>\n",
              "      <td>0.802817</td>\n",
              "      <td>0.791549</td>\n",
              "      <td>0.804225</td>\n",
              "      <td>0.787324</td>\n",
              "      <td>0.797183</td>\n",
              "      <td>0.792958</td>\n",
              "      <td>0.795775</td>\n",
              "      <td>0.790141</td>\n",
              "      <td>0.792958</td>\n",
              "      <td>0.792958</td>\n",
              "      <td>0.8</td>\n",
              "      <td>0.797183</td>\n",
              "      <td>0.805634</td>\n",
              "      <td>0.797183</td>\n",
              "      <td>0.805634</td>\n",
              "    </tr>\n",
              "    <tr>\n",
              "      <th>desvio-padrao</th>\n",
              "      <td>0.0462864</td>\n",
              "      <td>0.0287269</td>\n",
              "      <td>0.0357425</td>\n",
              "      <td>0.0242319</td>\n",
              "      <td>0.0413279</td>\n",
              "      <td>0.0356313</td>\n",
              "      <td>0.0287269</td>\n",
              "      <td>0.026312</td>\n",
              "      <td>0.030502</td>\n",
              "      <td>0.0384174</td>\n",
              "      <td>0.043662</td>\n",
              "      <td>0.0423707</td>\n",
              "      <td>0.0369702</td>\n",
              "      <td>0.0427436</td>\n",
              "      <td>0.0398619</td>\n",
              "      <td>0.0440014</td>\n",
              "      <td>0.0432741</td>\n",
              "      <td>0.0392349</td>\n",
              "      <td>0.0389304</td>\n",
              "      <td>0.0382103</td>\n",
              "    </tr>\n",
              "  </tbody>\n",
              "</table>\n",
              "</div>"
            ],
            "text/plain": [
              "                    K: 1       K: 2       K: 3  ...      K: 18      K: 19      K: 20\n",
              "media           0.760563   0.785915   0.811268  ...   0.805634   0.797183   0.805634\n",
              "desvio-padrao  0.0462864  0.0287269  0.0357425  ...  0.0392349  0.0389304  0.0382103\n",
              "\n",
              "[2 rows x 20 columns]"
            ]
          },
          "metadata": {
            "tags": []
          },
          "execution_count": 224
        }
      ]
    },
    {
      "cell_type": "code",
      "metadata": {
        "id": "hQiWirXVWdJ-",
        "outputId": "8ab67e4f-cee0-4bc1-a48f-4ba649698809",
        "colab": {
          "base_uri": "https://localhost:8080/",
          "height": 289
        }
      },
      "source": [
        "# Refazendo o processo de série de treino e teste com normalização Min-Max e k=3 vizinhos\n",
        "from sklearn.neighbors import KNeighborsClassifier                                                  # importando KNN\n",
        "from sklearn.preprocessing import MinMaxScaler\n",
        "\n",
        "\n",
        "# 1 - Normalização MinMaxScaler\n",
        "sc_x = MinMaxScaler()\n",
        "X_train1 = sc_x.fit_transform(X_train)\n",
        "X_test1 = sc_x.transform(X_test)         # normaliza os dados com os parâmetros de X_train\n",
        "X_train1 = pd.DataFrame(X_train1)        # converter o array de novo para dataframe\n",
        "\n",
        "# Iniciação, ajuste e previsão\n",
        "classifier = KNeighborsClassifier(n_neighbors=4, p=2, metric='minkowski')                           # chamando classificador regressão logística\n",
        "\n",
        "# Ajuste\n",
        "classifier.fit(X_train1,y_train)                                                                    # ajustando os dados na série de treino\n",
        "\n",
        "# Previsão\n",
        "y_pred = classifier.predict(X_test1)                                                                # prevendo na série de teste\n",
        "\n",
        "# Métricas\n",
        "acuracia_knn4 = accuracy_score(y_test, y_pred,normalize=True)                                                      # Acurácia \n",
        "print(round(acuracia_knn4,3))\n",
        "\n",
        "# Relatório de Avaliação: Precisão, Recall, F1-score\n",
        "cr_knn4 = classification_report(y_test,y_pred,target_names=['Não Sobreviveu','Sobreviveu'])\n",
        "print(cr_knn4)\n",
        "\n",
        "# Matriz de Confusão:\n",
        "cm_knn4 = confusion_matrix(y_test,y_pred)                        # matriz de confusão (y_real, y_previsto)\n",
        "matriz_confusao_knn4 = pd.DataFrame(cm_knn4, columns = ['Previsão Não Sobreviveu', 'Previsão Sobreviveu'], index = ['Real Não Sobreviveu', 'Real Sobreviveu'] )\n",
        "print(matriz_confusao_knn4)"
      ],
      "execution_count": 225,
      "outputs": [
        {
          "output_type": "stream",
          "text": [
            "0.831\n",
            "                precision    recall  f1-score   support\n",
            "\n",
            "Não Sobreviveu       0.83      0.92      0.87       110\n",
            "    Sobreviveu       0.84      0.69      0.76        68\n",
            "\n",
            "      accuracy                           0.83       178\n",
            "     macro avg       0.83      0.80      0.81       178\n",
            "  weighted avg       0.83      0.83      0.83       178\n",
            "\n",
            "                     Previsão Não Sobreviveu  Previsão Sobreviveu\n",
            "Real Não Sobreviveu                      101                    9\n",
            "Real Sobreviveu                           21                   47\n"
          ],
          "name": "stdout"
        },
        {
          "output_type": "stream",
          "text": [
            "/usr/local/lib/python3.6/dist-packages/ipykernel_launcher.py:16: DataConversionWarning: A column-vector y was passed when a 1d array was expected. Please change the shape of y to (n_samples, ), for example using ravel().\n",
            "  app.launch_new_instance()\n"
          ],
          "name": "stderr"
        }
      ]
    },
    {
      "cell_type": "code",
      "metadata": {
        "id": "2L4a1pr8XEw3",
        "outputId": "c9aa8d91-7e6a-4000-88c9-dd26c6fb94e4",
        "colab": {
          "base_uri": "https://localhost:8080/",
          "height": 84
        }
      },
      "source": [
        "print(f'Acurácia na série de teste para KNN sem normalização: {round(acuracia_knn1,3)}')\n",
        "print(f'Acurácia na série de teste para KNN com normalização min-max: {round(acuracia_knn2,3)}')\n",
        "print(f'Acurácia na série de teste para KNN com normalização StandardScaler: {round(acuracia_knn3,3)}')\n",
        "print(f'Acurácia na série de teste para KNN com normalização min-max e parâmetro otimizado: {round(acuracia_knn4,3)}')"
      ],
      "execution_count": 226,
      "outputs": [
        {
          "output_type": "stream",
          "text": [
            "Acurácia na série de teste para KNN sem normalização: 0.753\n",
            "Acurácia na série de teste para KNN com normalização min-max: 0.831\n",
            "Acurácia na série de teste para KNN com normalização StandardScaler: 0.831\n",
            "Acurácia na série de teste para KNN com normalização min-max e parâmetro otimizado: 0.831\n"
          ],
          "name": "stdout"
        }
      ]
    },
    {
      "cell_type": "markdown",
      "metadata": {
        "id": "JRB2yoajX5SF"
      },
      "source": [
        "## 4.4 - SVM - Support Vector Machine\n",
        "\n",
        "Referência:\n",
        "\n",
        "https://scikit-learn.org/stable/modules/svm.html#svm-classification\n",
        "\n",
        "<br>\n",
        "\n",
        "Comandos:\n",
        "\n",
        "https://scikit-learn.org/stable/modules/generated/sklearn.svm.SVC.html"
      ]
    },
    {
      "cell_type": "markdown",
      "metadata": {
        "id": "_oX8W6z6wCF-"
      },
      "source": [
        "### SVM - Caso 1"
      ]
    },
    {
      "cell_type": "markdown",
      "metadata": {
        "id": "mDOmlLnEqLTI"
      },
      "source": [
        " -  Ajuste Treino e Teste"
      ]
    },
    {
      "cell_type": "code",
      "metadata": {
        "id": "FcRm9bBBwAEl",
        "outputId": "c3ec3890-9ae6-404f-bc18-bc425b51eda6",
        "colab": {
          "base_uri": "https://localhost:8080/",
          "height": 289
        }
      },
      "source": [
        "# Iniciação, ajuste e previsão\n",
        "from sklearn.svm import SVC                                                            # importando SVM\n",
        "classifier = SVC(C=1.0, kernel='rbf', degree=3, gamma='scale', class_weight=None)      # chamando classificador SVC\n",
        "\n",
        "\n",
        "# Ajuste\n",
        "classifier.fit(X_train,y_train)                                                                    # ajustando os dados na série de treino\n",
        "\n",
        "# Previsão\n",
        "y_pred = classifier.predict(X_test)                                                                # prevendo na série de teste\n",
        "\n",
        "# Métricas\n",
        "acuracia_svm1 = accuracy_score(y_test, y_pred,normalize=True)                                      # Acurácia \n",
        "print(round(acuracia_svm1,3))\n",
        "\n",
        "# Relatório de Avaliação: Precisão, Recall, F1-score\n",
        "cr_svm1 = classification_report(y_test,y_pred,target_names=['Não Sobreviveu','Sobreviveu'])\n",
        "print(cr_svm1)\n",
        "\n",
        "# Matriz de Confusão:\n",
        "cm_svm1 = confusion_matrix(y_test,y_pred)                        # matriz de confusão (y_real, y_previsto)\n",
        "matriz_confusao_svm1 = pd.DataFrame(cm_svm1, columns = ['Previsão Não Sobreviveu', 'Previsão Sobreviveu'], index = ['Real Não Sobreviveu', 'Real Sobreviveu'] )\n",
        "print(matriz_confusao_svm1)  "
      ],
      "execution_count": 229,
      "outputs": [
        {
          "output_type": "stream",
          "text": [
            "0.646\n",
            "                precision    recall  f1-score   support\n",
            "\n",
            "Não Sobreviveu       0.66      0.86      0.75       110\n",
            "    Sobreviveu       0.57      0.29      0.39        68\n",
            "\n",
            "      accuracy                           0.65       178\n",
            "     macro avg       0.62      0.58      0.57       178\n",
            "  weighted avg       0.63      0.65      0.61       178\n",
            "\n",
            "                     Previsão Não Sobreviveu  Previsão Sobreviveu\n",
            "Real Não Sobreviveu                       95                   15\n",
            "Real Sobreviveu                           48                   20\n"
          ],
          "name": "stdout"
        },
        {
          "output_type": "stream",
          "text": [
            "/usr/local/lib/python3.6/dist-packages/sklearn/utils/validation.py:760: DataConversionWarning: A column-vector y was passed when a 1d array was expected. Please change the shape of y to (n_samples, ), for example using ravel().\n",
            "  y = column_or_1d(y, warn=True)\n"
          ],
          "name": "stderr"
        }
      ]
    },
    {
      "cell_type": "markdown",
      "metadata": {
        "id": "RvZIRNkK4Q9w"
      },
      "source": [
        "### SVM - Caso 2"
      ]
    },
    {
      "cell_type": "markdown",
      "metadata": {
        "id": "8FTCGzrOqmAN"
      },
      "source": [
        "  - Normalizando os dados antes de aplicar o método Min-Max"
      ]
    },
    {
      "cell_type": "code",
      "metadata": {
        "id": "3fsORWhv4bJh",
        "outputId": "9a90707f-2300-4e81-dfe4-03d1c393fb21",
        "colab": {
          "base_uri": "https://localhost:8080/",
          "height": 289
        }
      },
      "source": [
        "from sklearn.preprocessing import MinMaxScaler\n",
        "\n",
        "# transformar os dados com normalização MinMaxScaler\n",
        "sc_x = MinMaxScaler()\n",
        "X_train1 = sc_x.fit_transform(X_train)\n",
        "X_test1 = sc_x.transform(X_test)         # normaliza os dados com os parâmetros de X_train\n",
        "# convert the array back to a dataframe\n",
        "X_train1 = pd.DataFrame(X_train1)\n",
        "\n",
        "\n",
        "# Iniciação, ajuste e previsão\n",
        "from sklearn.svm import SVC                                                 # importando SVM\n",
        "classifier = SVC(C=1.0, kernel='rbf', degree=3, gamma='scale', class_weight=None)      # chamando classificador SVC\n",
        "\n",
        "\n",
        "# Ajuste\n",
        "classifier.fit(X_train1,y_train)                                                                    # ajustando os dados na série de treino\n",
        "\n",
        "# Previsão\n",
        "y_pred = classifier.predict(X_test1)                                                                # prevendo na série de teste\n",
        "\n",
        "# Métricas\n",
        "acuracia_svm2 = accuracy_score(y_test, y_pred,normalize=True)                                      # Acurácia \n",
        "print(round(acuracia_svm2,3))\n",
        "\n",
        "# Relatório de Avaliação: Precisão, Recall, F1-score\n",
        "cr_svm2 = classification_report(y_test,y_pred,target_names=['Não Sobreviveu','Sobreviveu'])\n",
        "print(cr_svm2)\n",
        "\n",
        "\n",
        "# Matriz de Confusão:\n",
        "cm_svm2 = confusion_matrix(y_test,y_pred)                        # matriz de confusão (y_real, y_previsto)\n",
        "matriz_confusao_svm2 = pd.DataFrame(cm_svm2, columns = ['Previsão Não Sobreviveu', 'Previsão Sobreviveu'], index = ['Real Não Sobreviveu', 'Real Sobreviveu'] )\n",
        "print(matriz_confusao_svm2)"
      ],
      "execution_count": 230,
      "outputs": [
        {
          "output_type": "stream",
          "text": [
            "0.837\n",
            "                precision    recall  f1-score   support\n",
            "\n",
            "Não Sobreviveu       0.81      0.96      0.88       110\n",
            "    Sobreviveu       0.91      0.63      0.75        68\n",
            "\n",
            "      accuracy                           0.84       178\n",
            "     macro avg       0.86      0.80      0.81       178\n",
            "  weighted avg       0.85      0.84      0.83       178\n",
            "\n",
            "                     Previsão Não Sobreviveu  Previsão Sobreviveu\n",
            "Real Não Sobreviveu                      106                    4\n",
            "Real Sobreviveu                           25                   43\n"
          ],
          "name": "stdout"
        },
        {
          "output_type": "stream",
          "text": [
            "/usr/local/lib/python3.6/dist-packages/sklearn/utils/validation.py:760: DataConversionWarning: A column-vector y was passed when a 1d array was expected. Please change the shape of y to (n_samples, ), for example using ravel().\n",
            "  y = column_or_1d(y, warn=True)\n"
          ],
          "name": "stderr"
        }
      ]
    },
    {
      "cell_type": "markdown",
      "metadata": {
        "id": "YbX5tMQ66Haf"
      },
      "source": [
        "### SVM - Caso 3"
      ]
    },
    {
      "cell_type": "markdown",
      "metadata": {
        "id": "llX8blYgrK8J"
      },
      "source": [
        " - Normalização MinMax + Otimização de Parâmetros"
      ]
    },
    {
      "cell_type": "code",
      "metadata": {
        "id": "4sO4_olT8n12",
        "outputId": "a0c92253-2293-4abe-addf-3eab124d4853",
        "colab": {
          "base_uri": "https://localhost:8080/",
          "height": 1000
        }
      },
      "source": [
        "from sklearn.model_selection import cross_val_score                      # chamando pacote para validação cruzada\n",
        "from sklearn.preprocessing import MinMaxScaler\n",
        "from sklearn.svm import SVC\n",
        "\n",
        "# Possíveis valores de C que iremos testar:\n",
        "C_param_range = [0.001,0.01,0.05,0.1,0.5,1,5,10,50,100,500,1000]          \n",
        "\n",
        "# 1 - Normalização MinMaxScaler\n",
        "sc_x = MinMaxScaler()\n",
        "X_train1 = sc_x.fit_transform(X_train)\n",
        "X_test1 = sc_x.transform(X_test)         # normaliza os dados com os parâmetros de X_train\n",
        "X_train1 = pd.DataFrame(X_train1)        # converter o array de novo para dataframe\n",
        "\n",
        "\n",
        "# Para cada k, registrar a média da acurácia e o desvio-padrão da acurácia:\n",
        "svm_acc_table = pd.DataFrame(columns = ['C: '+str(i) for i in C_param_range],index = ['media','desvio-padrao'])\n",
        "\n",
        "\n",
        "for i in C_param_range:   # Para cada valor em C_param_range\n",
        "\n",
        "  # Classificador\n",
        "  classifier = SVC(C=i, kernel='rbf', degree=3, gamma='scale', class_weight=None)      # chamando classificador SVC\n",
        "\n",
        "  # Validação cruzada para cada C = i\n",
        "  vc = cross_val_score(classifier, X = X_train1, y = y_train, scoring = \"accuracy\", cv = kfold)\n",
        "\n",
        "\n",
        "  # Média e Desvio padrão:\n",
        "  media_vc = np.mean(vc)\n",
        "  sd_vc = np.std(vc)\n",
        "\n",
        "  # Adicionando informação no dataframe\n",
        "  svm_acc_table.loc['desvio-padrao','C: '+str(i)] = sd_vc         # adicionando na tabela desvio-padrão\n",
        "  svm_acc_table.loc['media','C: '+str(i)] = media_vc              # adicionando na tabela média"
      ],
      "execution_count": 231,
      "outputs": [
        {
          "output_type": "stream",
          "text": [
            "/usr/local/lib/python3.6/dist-packages/sklearn/utils/validation.py:760: DataConversionWarning: A column-vector y was passed when a 1d array was expected. Please change the shape of y to (n_samples, ), for example using ravel().\n",
            "  y = column_or_1d(y, warn=True)\n",
            "/usr/local/lib/python3.6/dist-packages/sklearn/utils/validation.py:760: DataConversionWarning: A column-vector y was passed when a 1d array was expected. Please change the shape of y to (n_samples, ), for example using ravel().\n",
            "  y = column_or_1d(y, warn=True)\n",
            "/usr/local/lib/python3.6/dist-packages/sklearn/utils/validation.py:760: DataConversionWarning: A column-vector y was passed when a 1d array was expected. Please change the shape of y to (n_samples, ), for example using ravel().\n",
            "  y = column_or_1d(y, warn=True)\n",
            "/usr/local/lib/python3.6/dist-packages/sklearn/utils/validation.py:760: DataConversionWarning: A column-vector y was passed when a 1d array was expected. Please change the shape of y to (n_samples, ), for example using ravel().\n",
            "  y = column_or_1d(y, warn=True)\n",
            "/usr/local/lib/python3.6/dist-packages/sklearn/utils/validation.py:760: DataConversionWarning: A column-vector y was passed when a 1d array was expected. Please change the shape of y to (n_samples, ), for example using ravel().\n",
            "  y = column_or_1d(y, warn=True)\n",
            "/usr/local/lib/python3.6/dist-packages/sklearn/utils/validation.py:760: DataConversionWarning: A column-vector y was passed when a 1d array was expected. Please change the shape of y to (n_samples, ), for example using ravel().\n",
            "  y = column_or_1d(y, warn=True)\n",
            "/usr/local/lib/python3.6/dist-packages/sklearn/utils/validation.py:760: DataConversionWarning: A column-vector y was passed when a 1d array was expected. Please change the shape of y to (n_samples, ), for example using ravel().\n",
            "  y = column_or_1d(y, warn=True)\n",
            "/usr/local/lib/python3.6/dist-packages/sklearn/utils/validation.py:760: DataConversionWarning: A column-vector y was passed when a 1d array was expected. Please change the shape of y to (n_samples, ), for example using ravel().\n",
            "  y = column_or_1d(y, warn=True)\n",
            "/usr/local/lib/python3.6/dist-packages/sklearn/utils/validation.py:760: DataConversionWarning: A column-vector y was passed when a 1d array was expected. Please change the shape of y to (n_samples, ), for example using ravel().\n",
            "  y = column_or_1d(y, warn=True)\n",
            "/usr/local/lib/python3.6/dist-packages/sklearn/utils/validation.py:760: DataConversionWarning: A column-vector y was passed when a 1d array was expected. Please change the shape of y to (n_samples, ), for example using ravel().\n",
            "  y = column_or_1d(y, warn=True)\n",
            "/usr/local/lib/python3.6/dist-packages/sklearn/utils/validation.py:760: DataConversionWarning: A column-vector y was passed when a 1d array was expected. Please change the shape of y to (n_samples, ), for example using ravel().\n",
            "  y = column_or_1d(y, warn=True)\n",
            "/usr/local/lib/python3.6/dist-packages/sklearn/utils/validation.py:760: DataConversionWarning: A column-vector y was passed when a 1d array was expected. Please change the shape of y to (n_samples, ), for example using ravel().\n",
            "  y = column_or_1d(y, warn=True)\n",
            "/usr/local/lib/python3.6/dist-packages/sklearn/utils/validation.py:760: DataConversionWarning: A column-vector y was passed when a 1d array was expected. Please change the shape of y to (n_samples, ), for example using ravel().\n",
            "  y = column_or_1d(y, warn=True)\n",
            "/usr/local/lib/python3.6/dist-packages/sklearn/utils/validation.py:760: DataConversionWarning: A column-vector y was passed when a 1d array was expected. Please change the shape of y to (n_samples, ), for example using ravel().\n",
            "  y = column_or_1d(y, warn=True)\n",
            "/usr/local/lib/python3.6/dist-packages/sklearn/utils/validation.py:760: DataConversionWarning: A column-vector y was passed when a 1d array was expected. Please change the shape of y to (n_samples, ), for example using ravel().\n",
            "  y = column_or_1d(y, warn=True)\n",
            "/usr/local/lib/python3.6/dist-packages/sklearn/utils/validation.py:760: DataConversionWarning: A column-vector y was passed when a 1d array was expected. Please change the shape of y to (n_samples, ), for example using ravel().\n",
            "  y = column_or_1d(y, warn=True)\n",
            "/usr/local/lib/python3.6/dist-packages/sklearn/utils/validation.py:760: DataConversionWarning: A column-vector y was passed when a 1d array was expected. Please change the shape of y to (n_samples, ), for example using ravel().\n",
            "  y = column_or_1d(y, warn=True)\n",
            "/usr/local/lib/python3.6/dist-packages/sklearn/utils/validation.py:760: DataConversionWarning: A column-vector y was passed when a 1d array was expected. Please change the shape of y to (n_samples, ), for example using ravel().\n",
            "  y = column_or_1d(y, warn=True)\n",
            "/usr/local/lib/python3.6/dist-packages/sklearn/utils/validation.py:760: DataConversionWarning: A column-vector y was passed when a 1d array was expected. Please change the shape of y to (n_samples, ), for example using ravel().\n",
            "  y = column_or_1d(y, warn=True)\n",
            "/usr/local/lib/python3.6/dist-packages/sklearn/utils/validation.py:760: DataConversionWarning: A column-vector y was passed when a 1d array was expected. Please change the shape of y to (n_samples, ), for example using ravel().\n",
            "  y = column_or_1d(y, warn=True)\n",
            "/usr/local/lib/python3.6/dist-packages/sklearn/utils/validation.py:760: DataConversionWarning: A column-vector y was passed when a 1d array was expected. Please change the shape of y to (n_samples, ), for example using ravel().\n",
            "  y = column_or_1d(y, warn=True)\n",
            "/usr/local/lib/python3.6/dist-packages/sklearn/utils/validation.py:760: DataConversionWarning: A column-vector y was passed when a 1d array was expected. Please change the shape of y to (n_samples, ), for example using ravel().\n",
            "  y = column_or_1d(y, warn=True)\n",
            "/usr/local/lib/python3.6/dist-packages/sklearn/utils/validation.py:760: DataConversionWarning: A column-vector y was passed when a 1d array was expected. Please change the shape of y to (n_samples, ), for example using ravel().\n",
            "  y = column_or_1d(y, warn=True)\n",
            "/usr/local/lib/python3.6/dist-packages/sklearn/utils/validation.py:760: DataConversionWarning: A column-vector y was passed when a 1d array was expected. Please change the shape of y to (n_samples, ), for example using ravel().\n",
            "  y = column_or_1d(y, warn=True)\n",
            "/usr/local/lib/python3.6/dist-packages/sklearn/utils/validation.py:760: DataConversionWarning: A column-vector y was passed when a 1d array was expected. Please change the shape of y to (n_samples, ), for example using ravel().\n",
            "  y = column_or_1d(y, warn=True)\n",
            "/usr/local/lib/python3.6/dist-packages/sklearn/utils/validation.py:760: DataConversionWarning: A column-vector y was passed when a 1d array was expected. Please change the shape of y to (n_samples, ), for example using ravel().\n",
            "  y = column_or_1d(y, warn=True)\n",
            "/usr/local/lib/python3.6/dist-packages/sklearn/utils/validation.py:760: DataConversionWarning: A column-vector y was passed when a 1d array was expected. Please change the shape of y to (n_samples, ), for example using ravel().\n",
            "  y = column_or_1d(y, warn=True)\n",
            "/usr/local/lib/python3.6/dist-packages/sklearn/utils/validation.py:760: DataConversionWarning: A column-vector y was passed when a 1d array was expected. Please change the shape of y to (n_samples, ), for example using ravel().\n",
            "  y = column_or_1d(y, warn=True)\n",
            "/usr/local/lib/python3.6/dist-packages/sklearn/utils/validation.py:760: DataConversionWarning: A column-vector y was passed when a 1d array was expected. Please change the shape of y to (n_samples, ), for example using ravel().\n",
            "  y = column_or_1d(y, warn=True)\n",
            "/usr/local/lib/python3.6/dist-packages/sklearn/utils/validation.py:760: DataConversionWarning: A column-vector y was passed when a 1d array was expected. Please change the shape of y to (n_samples, ), for example using ravel().\n",
            "  y = column_or_1d(y, warn=True)\n",
            "/usr/local/lib/python3.6/dist-packages/sklearn/utils/validation.py:760: DataConversionWarning: A column-vector y was passed when a 1d array was expected. Please change the shape of y to (n_samples, ), for example using ravel().\n",
            "  y = column_or_1d(y, warn=True)\n",
            "/usr/local/lib/python3.6/dist-packages/sklearn/utils/validation.py:760: DataConversionWarning: A column-vector y was passed when a 1d array was expected. Please change the shape of y to (n_samples, ), for example using ravel().\n",
            "  y = column_or_1d(y, warn=True)\n",
            "/usr/local/lib/python3.6/dist-packages/sklearn/utils/validation.py:760: DataConversionWarning: A column-vector y was passed when a 1d array was expected. Please change the shape of y to (n_samples, ), for example using ravel().\n",
            "  y = column_or_1d(y, warn=True)\n",
            "/usr/local/lib/python3.6/dist-packages/sklearn/utils/validation.py:760: DataConversionWarning: A column-vector y was passed when a 1d array was expected. Please change the shape of y to (n_samples, ), for example using ravel().\n",
            "  y = column_or_1d(y, warn=True)\n",
            "/usr/local/lib/python3.6/dist-packages/sklearn/utils/validation.py:760: DataConversionWarning: A column-vector y was passed when a 1d array was expected. Please change the shape of y to (n_samples, ), for example using ravel().\n",
            "  y = column_or_1d(y, warn=True)\n",
            "/usr/local/lib/python3.6/dist-packages/sklearn/utils/validation.py:760: DataConversionWarning: A column-vector y was passed when a 1d array was expected. Please change the shape of y to (n_samples, ), for example using ravel().\n",
            "  y = column_or_1d(y, warn=True)\n",
            "/usr/local/lib/python3.6/dist-packages/sklearn/utils/validation.py:760: DataConversionWarning: A column-vector y was passed when a 1d array was expected. Please change the shape of y to (n_samples, ), for example using ravel().\n",
            "  y = column_or_1d(y, warn=True)\n",
            "/usr/local/lib/python3.6/dist-packages/sklearn/utils/validation.py:760: DataConversionWarning: A column-vector y was passed when a 1d array was expected. Please change the shape of y to (n_samples, ), for example using ravel().\n",
            "  y = column_or_1d(y, warn=True)\n",
            "/usr/local/lib/python3.6/dist-packages/sklearn/utils/validation.py:760: DataConversionWarning: A column-vector y was passed when a 1d array was expected. Please change the shape of y to (n_samples, ), for example using ravel().\n",
            "  y = column_or_1d(y, warn=True)\n",
            "/usr/local/lib/python3.6/dist-packages/sklearn/utils/validation.py:760: DataConversionWarning: A column-vector y was passed when a 1d array was expected. Please change the shape of y to (n_samples, ), for example using ravel().\n",
            "  y = column_or_1d(y, warn=True)\n",
            "/usr/local/lib/python3.6/dist-packages/sklearn/utils/validation.py:760: DataConversionWarning: A column-vector y was passed when a 1d array was expected. Please change the shape of y to (n_samples, ), for example using ravel().\n",
            "  y = column_or_1d(y, warn=True)\n",
            "/usr/local/lib/python3.6/dist-packages/sklearn/utils/validation.py:760: DataConversionWarning: A column-vector y was passed when a 1d array was expected. Please change the shape of y to (n_samples, ), for example using ravel().\n",
            "  y = column_or_1d(y, warn=True)\n",
            "/usr/local/lib/python3.6/dist-packages/sklearn/utils/validation.py:760: DataConversionWarning: A column-vector y was passed when a 1d array was expected. Please change the shape of y to (n_samples, ), for example using ravel().\n",
            "  y = column_or_1d(y, warn=True)\n",
            "/usr/local/lib/python3.6/dist-packages/sklearn/utils/validation.py:760: DataConversionWarning: A column-vector y was passed when a 1d array was expected. Please change the shape of y to (n_samples, ), for example using ravel().\n",
            "  y = column_or_1d(y, warn=True)\n",
            "/usr/local/lib/python3.6/dist-packages/sklearn/utils/validation.py:760: DataConversionWarning: A column-vector y was passed when a 1d array was expected. Please change the shape of y to (n_samples, ), for example using ravel().\n",
            "  y = column_or_1d(y, warn=True)\n",
            "/usr/local/lib/python3.6/dist-packages/sklearn/utils/validation.py:760: DataConversionWarning: A column-vector y was passed when a 1d array was expected. Please change the shape of y to (n_samples, ), for example using ravel().\n",
            "  y = column_or_1d(y, warn=True)\n",
            "/usr/local/lib/python3.6/dist-packages/sklearn/utils/validation.py:760: DataConversionWarning: A column-vector y was passed when a 1d array was expected. Please change the shape of y to (n_samples, ), for example using ravel().\n",
            "  y = column_or_1d(y, warn=True)\n",
            "/usr/local/lib/python3.6/dist-packages/sklearn/utils/validation.py:760: DataConversionWarning: A column-vector y was passed when a 1d array was expected. Please change the shape of y to (n_samples, ), for example using ravel().\n",
            "  y = column_or_1d(y, warn=True)\n",
            "/usr/local/lib/python3.6/dist-packages/sklearn/utils/validation.py:760: DataConversionWarning: A column-vector y was passed when a 1d array was expected. Please change the shape of y to (n_samples, ), for example using ravel().\n",
            "  y = column_or_1d(y, warn=True)\n",
            "/usr/local/lib/python3.6/dist-packages/sklearn/utils/validation.py:760: DataConversionWarning: A column-vector y was passed when a 1d array was expected. Please change the shape of y to (n_samples, ), for example using ravel().\n",
            "  y = column_or_1d(y, warn=True)\n",
            "/usr/local/lib/python3.6/dist-packages/sklearn/utils/validation.py:760: DataConversionWarning: A column-vector y was passed when a 1d array was expected. Please change the shape of y to (n_samples, ), for example using ravel().\n",
            "  y = column_or_1d(y, warn=True)\n",
            "/usr/local/lib/python3.6/dist-packages/sklearn/utils/validation.py:760: DataConversionWarning: A column-vector y was passed when a 1d array was expected. Please change the shape of y to (n_samples, ), for example using ravel().\n",
            "  y = column_or_1d(y, warn=True)\n",
            "/usr/local/lib/python3.6/dist-packages/sklearn/utils/validation.py:760: DataConversionWarning: A column-vector y was passed when a 1d array was expected. Please change the shape of y to (n_samples, ), for example using ravel().\n",
            "  y = column_or_1d(y, warn=True)\n",
            "/usr/local/lib/python3.6/dist-packages/sklearn/utils/validation.py:760: DataConversionWarning: A column-vector y was passed when a 1d array was expected. Please change the shape of y to (n_samples, ), for example using ravel().\n",
            "  y = column_or_1d(y, warn=True)\n",
            "/usr/local/lib/python3.6/dist-packages/sklearn/utils/validation.py:760: DataConversionWarning: A column-vector y was passed when a 1d array was expected. Please change the shape of y to (n_samples, ), for example using ravel().\n",
            "  y = column_or_1d(y, warn=True)\n",
            "/usr/local/lib/python3.6/dist-packages/sklearn/utils/validation.py:760: DataConversionWarning: A column-vector y was passed when a 1d array was expected. Please change the shape of y to (n_samples, ), for example using ravel().\n",
            "  y = column_or_1d(y, warn=True)\n",
            "/usr/local/lib/python3.6/dist-packages/sklearn/utils/validation.py:760: DataConversionWarning: A column-vector y was passed when a 1d array was expected. Please change the shape of y to (n_samples, ), for example using ravel().\n",
            "  y = column_or_1d(y, warn=True)\n",
            "/usr/local/lib/python3.6/dist-packages/sklearn/utils/validation.py:760: DataConversionWarning: A column-vector y was passed when a 1d array was expected. Please change the shape of y to (n_samples, ), for example using ravel().\n",
            "  y = column_or_1d(y, warn=True)\n",
            "/usr/local/lib/python3.6/dist-packages/sklearn/utils/validation.py:760: DataConversionWarning: A column-vector y was passed when a 1d array was expected. Please change the shape of y to (n_samples, ), for example using ravel().\n",
            "  y = column_or_1d(y, warn=True)\n",
            "/usr/local/lib/python3.6/dist-packages/sklearn/utils/validation.py:760: DataConversionWarning: A column-vector y was passed when a 1d array was expected. Please change the shape of y to (n_samples, ), for example using ravel().\n",
            "  y = column_or_1d(y, warn=True)\n",
            "/usr/local/lib/python3.6/dist-packages/sklearn/utils/validation.py:760: DataConversionWarning: A column-vector y was passed when a 1d array was expected. Please change the shape of y to (n_samples, ), for example using ravel().\n",
            "  y = column_or_1d(y, warn=True)\n",
            "/usr/local/lib/python3.6/dist-packages/sklearn/utils/validation.py:760: DataConversionWarning: A column-vector y was passed when a 1d array was expected. Please change the shape of y to (n_samples, ), for example using ravel().\n",
            "  y = column_or_1d(y, warn=True)\n",
            "/usr/local/lib/python3.6/dist-packages/sklearn/utils/validation.py:760: DataConversionWarning: A column-vector y was passed when a 1d array was expected. Please change the shape of y to (n_samples, ), for example using ravel().\n",
            "  y = column_or_1d(y, warn=True)\n",
            "/usr/local/lib/python3.6/dist-packages/sklearn/utils/validation.py:760: DataConversionWarning: A column-vector y was passed when a 1d array was expected. Please change the shape of y to (n_samples, ), for example using ravel().\n",
            "  y = column_or_1d(y, warn=True)\n",
            "/usr/local/lib/python3.6/dist-packages/sklearn/utils/validation.py:760: DataConversionWarning: A column-vector y was passed when a 1d array was expected. Please change the shape of y to (n_samples, ), for example using ravel().\n",
            "  y = column_or_1d(y, warn=True)\n",
            "/usr/local/lib/python3.6/dist-packages/sklearn/utils/validation.py:760: DataConversionWarning: A column-vector y was passed when a 1d array was expected. Please change the shape of y to (n_samples, ), for example using ravel().\n",
            "  y = column_or_1d(y, warn=True)\n",
            "/usr/local/lib/python3.6/dist-packages/sklearn/utils/validation.py:760: DataConversionWarning: A column-vector y was passed when a 1d array was expected. Please change the shape of y to (n_samples, ), for example using ravel().\n",
            "  y = column_or_1d(y, warn=True)\n",
            "/usr/local/lib/python3.6/dist-packages/sklearn/utils/validation.py:760: DataConversionWarning: A column-vector y was passed when a 1d array was expected. Please change the shape of y to (n_samples, ), for example using ravel().\n",
            "  y = column_or_1d(y, warn=True)\n",
            "/usr/local/lib/python3.6/dist-packages/sklearn/utils/validation.py:760: DataConversionWarning: A column-vector y was passed when a 1d array was expected. Please change the shape of y to (n_samples, ), for example using ravel().\n",
            "  y = column_or_1d(y, warn=True)\n",
            "/usr/local/lib/python3.6/dist-packages/sklearn/utils/validation.py:760: DataConversionWarning: A column-vector y was passed when a 1d array was expected. Please change the shape of y to (n_samples, ), for example using ravel().\n",
            "  y = column_or_1d(y, warn=True)\n",
            "/usr/local/lib/python3.6/dist-packages/sklearn/utils/validation.py:760: DataConversionWarning: A column-vector y was passed when a 1d array was expected. Please change the shape of y to (n_samples, ), for example using ravel().\n",
            "  y = column_or_1d(y, warn=True)\n",
            "/usr/local/lib/python3.6/dist-packages/sklearn/utils/validation.py:760: DataConversionWarning: A column-vector y was passed when a 1d array was expected. Please change the shape of y to (n_samples, ), for example using ravel().\n",
            "  y = column_or_1d(y, warn=True)\n",
            "/usr/local/lib/python3.6/dist-packages/sklearn/utils/validation.py:760: DataConversionWarning: A column-vector y was passed when a 1d array was expected. Please change the shape of y to (n_samples, ), for example using ravel().\n",
            "  y = column_or_1d(y, warn=True)\n",
            "/usr/local/lib/python3.6/dist-packages/sklearn/utils/validation.py:760: DataConversionWarning: A column-vector y was passed when a 1d array was expected. Please change the shape of y to (n_samples, ), for example using ravel().\n",
            "  y = column_or_1d(y, warn=True)\n",
            "/usr/local/lib/python3.6/dist-packages/sklearn/utils/validation.py:760: DataConversionWarning: A column-vector y was passed when a 1d array was expected. Please change the shape of y to (n_samples, ), for example using ravel().\n",
            "  y = column_or_1d(y, warn=True)\n",
            "/usr/local/lib/python3.6/dist-packages/sklearn/utils/validation.py:760: DataConversionWarning: A column-vector y was passed when a 1d array was expected. Please change the shape of y to (n_samples, ), for example using ravel().\n",
            "  y = column_or_1d(y, warn=True)\n",
            "/usr/local/lib/python3.6/dist-packages/sklearn/utils/validation.py:760: DataConversionWarning: A column-vector y was passed when a 1d array was expected. Please change the shape of y to (n_samples, ), for example using ravel().\n",
            "  y = column_or_1d(y, warn=True)\n",
            "/usr/local/lib/python3.6/dist-packages/sklearn/utils/validation.py:760: DataConversionWarning: A column-vector y was passed when a 1d array was expected. Please change the shape of y to (n_samples, ), for example using ravel().\n",
            "  y = column_or_1d(y, warn=True)\n",
            "/usr/local/lib/python3.6/dist-packages/sklearn/utils/validation.py:760: DataConversionWarning: A column-vector y was passed when a 1d array was expected. Please change the shape of y to (n_samples, ), for example using ravel().\n",
            "  y = column_or_1d(y, warn=True)\n",
            "/usr/local/lib/python3.6/dist-packages/sklearn/utils/validation.py:760: DataConversionWarning: A column-vector y was passed when a 1d array was expected. Please change the shape of y to (n_samples, ), for example using ravel().\n",
            "  y = column_or_1d(y, warn=True)\n",
            "/usr/local/lib/python3.6/dist-packages/sklearn/utils/validation.py:760: DataConversionWarning: A column-vector y was passed when a 1d array was expected. Please change the shape of y to (n_samples, ), for example using ravel().\n",
            "  y = column_or_1d(y, warn=True)\n",
            "/usr/local/lib/python3.6/dist-packages/sklearn/utils/validation.py:760: DataConversionWarning: A column-vector y was passed when a 1d array was expected. Please change the shape of y to (n_samples, ), for example using ravel().\n",
            "  y = column_or_1d(y, warn=True)\n",
            "/usr/local/lib/python3.6/dist-packages/sklearn/utils/validation.py:760: DataConversionWarning: A column-vector y was passed when a 1d array was expected. Please change the shape of y to (n_samples, ), for example using ravel().\n",
            "  y = column_or_1d(y, warn=True)\n",
            "/usr/local/lib/python3.6/dist-packages/sklearn/utils/validation.py:760: DataConversionWarning: A column-vector y was passed when a 1d array was expected. Please change the shape of y to (n_samples, ), for example using ravel().\n",
            "  y = column_or_1d(y, warn=True)\n",
            "/usr/local/lib/python3.6/dist-packages/sklearn/utils/validation.py:760: DataConversionWarning: A column-vector y was passed when a 1d array was expected. Please change the shape of y to (n_samples, ), for example using ravel().\n",
            "  y = column_or_1d(y, warn=True)\n",
            "/usr/local/lib/python3.6/dist-packages/sklearn/utils/validation.py:760: DataConversionWarning: A column-vector y was passed when a 1d array was expected. Please change the shape of y to (n_samples, ), for example using ravel().\n",
            "  y = column_or_1d(y, warn=True)\n",
            "/usr/local/lib/python3.6/dist-packages/sklearn/utils/validation.py:760: DataConversionWarning: A column-vector y was passed when a 1d array was expected. Please change the shape of y to (n_samples, ), for example using ravel().\n",
            "  y = column_or_1d(y, warn=True)\n",
            "/usr/local/lib/python3.6/dist-packages/sklearn/utils/validation.py:760: DataConversionWarning: A column-vector y was passed when a 1d array was expected. Please change the shape of y to (n_samples, ), for example using ravel().\n",
            "  y = column_or_1d(y, warn=True)\n",
            "/usr/local/lib/python3.6/dist-packages/sklearn/utils/validation.py:760: DataConversionWarning: A column-vector y was passed when a 1d array was expected. Please change the shape of y to (n_samples, ), for example using ravel().\n",
            "  y = column_or_1d(y, warn=True)\n",
            "/usr/local/lib/python3.6/dist-packages/sklearn/utils/validation.py:760: DataConversionWarning: A column-vector y was passed when a 1d array was expected. Please change the shape of y to (n_samples, ), for example using ravel().\n",
            "  y = column_or_1d(y, warn=True)\n",
            "/usr/local/lib/python3.6/dist-packages/sklearn/utils/validation.py:760: DataConversionWarning: A column-vector y was passed when a 1d array was expected. Please change the shape of y to (n_samples, ), for example using ravel().\n",
            "  y = column_or_1d(y, warn=True)\n",
            "/usr/local/lib/python3.6/dist-packages/sklearn/utils/validation.py:760: DataConversionWarning: A column-vector y was passed when a 1d array was expected. Please change the shape of y to (n_samples, ), for example using ravel().\n",
            "  y = column_or_1d(y, warn=True)\n",
            "/usr/local/lib/python3.6/dist-packages/sklearn/utils/validation.py:760: DataConversionWarning: A column-vector y was passed when a 1d array was expected. Please change the shape of y to (n_samples, ), for example using ravel().\n",
            "  y = column_or_1d(y, warn=True)\n",
            "/usr/local/lib/python3.6/dist-packages/sklearn/utils/validation.py:760: DataConversionWarning: A column-vector y was passed when a 1d array was expected. Please change the shape of y to (n_samples, ), for example using ravel().\n",
            "  y = column_or_1d(y, warn=True)\n",
            "/usr/local/lib/python3.6/dist-packages/sklearn/utils/validation.py:760: DataConversionWarning: A column-vector y was passed when a 1d array was expected. Please change the shape of y to (n_samples, ), for example using ravel().\n",
            "  y = column_or_1d(y, warn=True)\n",
            "/usr/local/lib/python3.6/dist-packages/sklearn/utils/validation.py:760: DataConversionWarning: A column-vector y was passed when a 1d array was expected. Please change the shape of y to (n_samples, ), for example using ravel().\n",
            "  y = column_or_1d(y, warn=True)\n",
            "/usr/local/lib/python3.6/dist-packages/sklearn/utils/validation.py:760: DataConversionWarning: A column-vector y was passed when a 1d array was expected. Please change the shape of y to (n_samples, ), for example using ravel().\n",
            "  y = column_or_1d(y, warn=True)\n",
            "/usr/local/lib/python3.6/dist-packages/sklearn/utils/validation.py:760: DataConversionWarning: A column-vector y was passed when a 1d array was expected. Please change the shape of y to (n_samples, ), for example using ravel().\n",
            "  y = column_or_1d(y, warn=True)\n",
            "/usr/local/lib/python3.6/dist-packages/sklearn/utils/validation.py:760: DataConversionWarning: A column-vector y was passed when a 1d array was expected. Please change the shape of y to (n_samples, ), for example using ravel().\n",
            "  y = column_or_1d(y, warn=True)\n",
            "/usr/local/lib/python3.6/dist-packages/sklearn/utils/validation.py:760: DataConversionWarning: A column-vector y was passed when a 1d array was expected. Please change the shape of y to (n_samples, ), for example using ravel().\n",
            "  y = column_or_1d(y, warn=True)\n",
            "/usr/local/lib/python3.6/dist-packages/sklearn/utils/validation.py:760: DataConversionWarning: A column-vector y was passed when a 1d array was expected. Please change the shape of y to (n_samples, ), for example using ravel().\n",
            "  y = column_or_1d(y, warn=True)\n",
            "/usr/local/lib/python3.6/dist-packages/sklearn/utils/validation.py:760: DataConversionWarning: A column-vector y was passed when a 1d array was expected. Please change the shape of y to (n_samples, ), for example using ravel().\n",
            "  y = column_or_1d(y, warn=True)\n",
            "/usr/local/lib/python3.6/dist-packages/sklearn/utils/validation.py:760: DataConversionWarning: A column-vector y was passed when a 1d array was expected. Please change the shape of y to (n_samples, ), for example using ravel().\n",
            "  y = column_or_1d(y, warn=True)\n",
            "/usr/local/lib/python3.6/dist-packages/sklearn/utils/validation.py:760: DataConversionWarning: A column-vector y was passed when a 1d array was expected. Please change the shape of y to (n_samples, ), for example using ravel().\n",
            "  y = column_or_1d(y, warn=True)\n",
            "/usr/local/lib/python3.6/dist-packages/sklearn/utils/validation.py:760: DataConversionWarning: A column-vector y was passed when a 1d array was expected. Please change the shape of y to (n_samples, ), for example using ravel().\n",
            "  y = column_or_1d(y, warn=True)\n",
            "/usr/local/lib/python3.6/dist-packages/sklearn/utils/validation.py:760: DataConversionWarning: A column-vector y was passed when a 1d array was expected. Please change the shape of y to (n_samples, ), for example using ravel().\n",
            "  y = column_or_1d(y, warn=True)\n",
            "/usr/local/lib/python3.6/dist-packages/sklearn/utils/validation.py:760: DataConversionWarning: A column-vector y was passed when a 1d array was expected. Please change the shape of y to (n_samples, ), for example using ravel().\n",
            "  y = column_or_1d(y, warn=True)\n",
            "/usr/local/lib/python3.6/dist-packages/sklearn/utils/validation.py:760: DataConversionWarning: A column-vector y was passed when a 1d array was expected. Please change the shape of y to (n_samples, ), for example using ravel().\n",
            "  y = column_or_1d(y, warn=True)\n",
            "/usr/local/lib/python3.6/dist-packages/sklearn/utils/validation.py:760: DataConversionWarning: A column-vector y was passed when a 1d array was expected. Please change the shape of y to (n_samples, ), for example using ravel().\n",
            "  y = column_or_1d(y, warn=True)\n",
            "/usr/local/lib/python3.6/dist-packages/sklearn/utils/validation.py:760: DataConversionWarning: A column-vector y was passed when a 1d array was expected. Please change the shape of y to (n_samples, ), for example using ravel().\n",
            "  y = column_or_1d(y, warn=True)\n",
            "/usr/local/lib/python3.6/dist-packages/sklearn/utils/validation.py:760: DataConversionWarning: A column-vector y was passed when a 1d array was expected. Please change the shape of y to (n_samples, ), for example using ravel().\n",
            "  y = column_or_1d(y, warn=True)\n",
            "/usr/local/lib/python3.6/dist-packages/sklearn/utils/validation.py:760: DataConversionWarning: A column-vector y was passed when a 1d array was expected. Please change the shape of y to (n_samples, ), for example using ravel().\n",
            "  y = column_or_1d(y, warn=True)\n",
            "/usr/local/lib/python3.6/dist-packages/sklearn/utils/validation.py:760: DataConversionWarning: A column-vector y was passed when a 1d array was expected. Please change the shape of y to (n_samples, ), for example using ravel().\n",
            "  y = column_or_1d(y, warn=True)\n",
            "/usr/local/lib/python3.6/dist-packages/sklearn/utils/validation.py:760: DataConversionWarning: A column-vector y was passed when a 1d array was expected. Please change the shape of y to (n_samples, ), for example using ravel().\n",
            "  y = column_or_1d(y, warn=True)\n",
            "/usr/local/lib/python3.6/dist-packages/sklearn/utils/validation.py:760: DataConversionWarning: A column-vector y was passed when a 1d array was expected. Please change the shape of y to (n_samples, ), for example using ravel().\n",
            "  y = column_or_1d(y, warn=True)\n",
            "/usr/local/lib/python3.6/dist-packages/sklearn/utils/validation.py:760: DataConversionWarning: A column-vector y was passed when a 1d array was expected. Please change the shape of y to (n_samples, ), for example using ravel().\n",
            "  y = column_or_1d(y, warn=True)\n",
            "/usr/local/lib/python3.6/dist-packages/sklearn/utils/validation.py:760: DataConversionWarning: A column-vector y was passed when a 1d array was expected. Please change the shape of y to (n_samples, ), for example using ravel().\n",
            "  y = column_or_1d(y, warn=True)\n",
            "/usr/local/lib/python3.6/dist-packages/sklearn/utils/validation.py:760: DataConversionWarning: A column-vector y was passed when a 1d array was expected. Please change the shape of y to (n_samples, ), for example using ravel().\n",
            "  y = column_or_1d(y, warn=True)\n",
            "/usr/local/lib/python3.6/dist-packages/sklearn/utils/validation.py:760: DataConversionWarning: A column-vector y was passed when a 1d array was expected. Please change the shape of y to (n_samples, ), for example using ravel().\n",
            "  y = column_or_1d(y, warn=True)\n",
            "/usr/local/lib/python3.6/dist-packages/sklearn/utils/validation.py:760: DataConversionWarning: A column-vector y was passed when a 1d array was expected. Please change the shape of y to (n_samples, ), for example using ravel().\n",
            "  y = column_or_1d(y, warn=True)\n"
          ],
          "name": "stderr"
        }
      ]
    },
    {
      "cell_type": "code",
      "metadata": {
        "id": "bvE4rH8X_1Kl",
        "outputId": "43743f03-45b3-4486-b1a5-1406c8e677d2",
        "colab": {
          "base_uri": "https://localhost:8080/",
          "height": 769
        }
      },
      "source": [
        "plt.figure(figsize=(20,6))\n",
        "plt.errorbar(x = range(len(C_param_range)),y = svm_acc_table.loc['media',:], yerr = svm_acc_table.loc['desvio-padrao',:],color=\"blue\", linestyle=\"dashed\", marker=\"o\",markerfacecolor=\"red\", markersize=\"20\")\n",
        "plt.xticks(np.arange(len(C_param_range)), C_param_range)"
      ],
      "execution_count": 232,
      "outputs": [
        {
          "output_type": "execute_result",
          "data": {
            "text/plain": [
              "([<matplotlib.axis.XTick at 0x7f12667fa198>,\n",
              "  <matplotlib.axis.XTick at 0x7f12667fa160>,\n",
              "  <matplotlib.axis.XTick at 0x7f1266803d68>,\n",
              "  <matplotlib.axis.XTick at 0x7f12667a84e0>,\n",
              "  <matplotlib.axis.XTick at 0x7f12667a8978>,\n",
              "  <matplotlib.axis.XTick at 0x7f12667a8e10>,\n",
              "  <matplotlib.axis.XTick at 0x7f12667b1320>,\n",
              "  <matplotlib.axis.XTick at 0x7f12667b1780>,\n",
              "  <matplotlib.axis.XTick at 0x7f12667a8a58>,\n",
              "  <matplotlib.axis.XTick at 0x7f12667b1a20>,\n",
              "  <matplotlib.axis.XTick at 0x7f12667b1208>,\n",
              "  <matplotlib.axis.XTick at 0x7f12667b9390>],\n",
              " [Text(0, 0, '0.001'),\n",
              "  Text(0, 0, '0.01'),\n",
              "  Text(0, 0, '0.05'),\n",
              "  Text(0, 0, '0.1'),\n",
              "  Text(0, 0, '0.5'),\n",
              "  Text(0, 0, '1'),\n",
              "  Text(0, 0, '5'),\n",
              "  Text(0, 0, '10'),\n",
              "  Text(0, 0, '50'),\n",
              "  Text(0, 0, '100'),\n",
              "  Text(0, 0, '500'),\n",
              "  Text(0, 0, '1000')])"
            ]
          },
          "metadata": {
            "tags": []
          },
          "execution_count": 232
        },
        {
          "output_type": "display_data",
          "data": {
            "image/png": "[encoded data removed]",
            "text/plain": [
              "<Figure size 1440x432 with 1 Axes>"
            ]
          },
          "metadata": {
            "tags": []
          }
        }
      ]
    },
    {
      "cell_type": "markdown",
      "metadata": {
        "id": "-2ZhGbvhrelE"
      },
      "source": [
        "Refazendo o processo com C = 10 (métrica boa, com desvio-padrão não muito alto)"
      ]
    },
    {
      "cell_type": "code",
      "metadata": {
        "id": "7X-LKcyY8fGU",
        "outputId": "0e02e052-daf2-4eaa-eb39-0a41cea2365b",
        "colab": {
          "base_uri": "https://localhost:8080/",
          "height": 289
        }
      },
      "source": [
        "# Refazendo o processo de série de treino e teste com normalização Min-Max e C=10\n",
        "from sklearn.svm import SVC                                                # importando SVC\n",
        "from sklearn.preprocessing import MinMaxScaler\n",
        "\n",
        "\n",
        "# 1 - Normalização MinMaxScaler\n",
        "sc_x = MinMaxScaler()\n",
        "X_train1 = sc_x.fit_transform(X_train)\n",
        "X_test1 = sc_x.transform(X_test)         # normaliza os dados com os parâmetros de X_train\n",
        "X_train1 = pd.DataFrame(X_train1)        # converter o array de novo para dataframe\n",
        "\n",
        "# Iniciação, ajuste e previsão\n",
        "classifier = SVC(C=10, kernel='rbf', degree=3, gamma='scale', class_weight=None)                   # chamando classificador SVC                           # chamando classificador regressão logística\n",
        "\n",
        "# Ajuste\n",
        "classifier.fit(X_train1,y_train)                                                                    # ajustando os dados na série de treino\n",
        "\n",
        "# Previsão\n",
        "y_pred = classifier.predict(X_test1)                                                                # prevendo na série de teste\n",
        "\n",
        "# Métricas\n",
        "acuracia_svm3 = accuracy_score(y_test, y_pred,normalize=True)                                      # Acurácia \n",
        "print(round(acuracia_svm3,3))\n",
        "\n",
        "# Relatório de Avaliação: Precisão, Recall, F1-score\n",
        "cr_svm3 = classification_report(y_test,y_pred,target_names=['Não Sobreviveu','Sobreviveu'])\n",
        "print(cr_svm3)\n",
        "\n",
        "# Matriz de Confusão\n",
        "from sklearn.metrics import confusion_matrix\n",
        "cm_svm3 = confusion_matrix(y_test,y_pred)\n",
        "matriz_confusao_svm3 = pd.DataFrame(cm_svm3, columns = ['Previsão Não Sobreviveu', 'Previsão Sobreviveu'], index = ['Real Não Sobreviveu', 'Real Sobreviveu'] )\n",
        "print(matriz_confusao_svm3)\n"
      ],
      "execution_count": 234,
      "outputs": [
        {
          "output_type": "stream",
          "text": [
            "0.837\n",
            "                precision    recall  f1-score   support\n",
            "\n",
            "Não Sobreviveu       0.81      0.96      0.88       110\n",
            "    Sobreviveu       0.91      0.63      0.75        68\n",
            "\n",
            "      accuracy                           0.84       178\n",
            "     macro avg       0.86      0.80      0.81       178\n",
            "  weighted avg       0.85      0.84      0.83       178\n",
            "\n",
            "                     Previsão Não Sobreviveu  Previsão Sobreviveu\n",
            "Real Não Sobreviveu                      106                    4\n",
            "Real Sobreviveu                           25                   43\n"
          ],
          "name": "stdout"
        },
        {
          "output_type": "stream",
          "text": [
            "/usr/local/lib/python3.6/dist-packages/sklearn/utils/validation.py:760: DataConversionWarning: A column-vector y was passed when a 1d array was expected. Please change the shape of y to (n_samples, ), for example using ravel().\n",
            "  y = column_or_1d(y, warn=True)\n"
          ],
          "name": "stderr"
        }
      ]
    },
    {
      "cell_type": "code",
      "metadata": {
        "id": "YtFl_Gbu4QA0"
      },
      "source": [
        ""
      ],
      "execution_count": null,
      "outputs": []
    },
    {
      "cell_type": "markdown",
      "metadata": {
        "id": "2Bffc1vGDXuu"
      },
      "source": [
        "# Resumo de todas as etapas"
      ]
    },
    {
      "cell_type": "code",
      "metadata": {
        "id": "_TA7BzesWqiF",
        "outputId": "ed5273bd-ffe3-4060-e115-d41ca45498ff",
        "colab": {
          "base_uri": "https://localhost:8080/",
          "height": 1000
        }
      },
      "source": [
        "# Análise da Série de Teste\n",
        "\n",
        "# Naive Bayes:\n",
        "\n",
        "print('Naiva Bayes')\n",
        "# Caso 1 - Treino e Teste apenas\n",
        "print(\"\")\n",
        "print(\"Caso 1: Treino e Teste apenas\")\n",
        "print(acuracia_nb1)\n",
        "print(cr_nb1)\n",
        "print(matriz_confusao_nb1)\n",
        "print(\"\")\n",
        "# Caso 2 - Treino e Teste apenas, removendo variáveis\n",
        "print(\"\")\n",
        "print(\"Caso 2: Treino e Teste apenas, removendo variáveis\")\n",
        "print(acuracia_nb2)\n",
        "print(cr_nb2)\n",
        "print(matriz_confusao_nb2)\n",
        "\n",
        "\n",
        "# Regressão Logística:\n",
        "\n",
        "print('Regressão Logística')\n",
        "# Caso 1 - Treino e Teste apenas\n",
        "print(\"\")\n",
        "print(\"Caso 1:  Treino e Teste apenas\")\n",
        "print(acuracia_rl1)\n",
        "print(cr_rl1)\n",
        "print(matriz_confusao_rl1)\n",
        "print(\"\")\n",
        "\n",
        "\n",
        "# KNN:\n",
        "\n",
        "print('KNN')\n",
        "# Caso 1 - Treino e Teste apenas\n",
        "print(\"\")\n",
        "print(\"Caso 1: Treino e Teste apenas\")\n",
        "print(acuracia_knn1)\n",
        "print(cr_knn1)\n",
        "print(matriz_confusao_knn1)\n",
        "print(\"\")\n",
        "\n",
        "# Caso 2 - Treino e Teste com normalização Min-Max\n",
        "print(\"\")\n",
        "print(\"Caso 2: Treino e Teste com normalização Min-Max\")\n",
        "print(acuracia_knn2)\n",
        "print(cr_knn2)\n",
        "print(matriz_confusao_knn2)\n",
        "print(\"\")\n",
        "\n",
        "# Caso 3 - Treino e Teste com normalização StandardScaler\n",
        "print(\"\")\n",
        "print(\"Caso 3: Treino e Teste com normalização StandardScaler\")\n",
        "print(acuracia_knn3)\n",
        "print(cr_knn3)\n",
        "print(matriz_confusao_knn3)\n",
        "print(\"\")\n",
        "\n",
        "# Caso 4 - Normalizando os dados com método Min-Max + otimização dos parâmetros\n",
        "print(\"\")\n",
        "print(\"Caso 4: Normalizando os dados com método Min-Max + otimização dos parâmetros\")\n",
        "print(acuracia_knn4)\n",
        "print(cr_knn4)\n",
        "print(matriz_confusao_knn4)\n",
        "print(\"\")\n",
        "\n",
        "\n",
        "\n",
        "# SVM:\n",
        "\n",
        "print('SVM')\n",
        "# Caso 1 - Treino e Teste apenas\n",
        "print(\"\")\n",
        "print(\"Caso 1: Treino e Teste apenas\")\n",
        "print(acuracia_svm1)\n",
        "print(cr_svm1)\n",
        "print(matriz_confusao_svm1)\n",
        "print(\"\")\n",
        "\n",
        "# Caso 2 - Treino e Teste com normalização Min-Max\n",
        "print(\"\")\n",
        "print(\"Caso 2: Treino e Teste com normalização Min-Max\")\n",
        "print(acuracia_svm2)\n",
        "print(cr_svm2)\n",
        "print(matriz_confusao_svm2)\n",
        "print(\"\")\n",
        "\n",
        "# Caso 3 - Treino e Teste com normalização normalização Min-Max + Otimização do Parâmetro C\"\n",
        "print(\"\")\n",
        "print(\"Caso 3: Treino e Teste com normalização normalização Min-Max + Otimização do Parâmetro C\")\n",
        "print(acuracia_svm3)\n",
        "print(cr_svm3)\n",
        "print(matriz_confusao_svm3)\n",
        "print(\"\")"
      ],
      "execution_count": 236,
      "outputs": [
        {
          "output_type": "stream",
          "text": [
            "Naiva Bayes\n",
            "\n",
            "Caso 1: Treino e Teste apenas\n",
            "0.8146067415730337\n",
            "               precision    recall  f1-score   support\n",
            "\n",
            "Não Sobrevieu       0.85      0.85      0.85       110\n",
            "   Sobreviveu       0.75      0.76      0.76        68\n",
            "\n",
            "     accuracy                           0.81       178\n",
            "    macro avg       0.80      0.81      0.80       178\n",
            " weighted avg       0.82      0.81      0.81       178\n",
            "\n",
            "                     Previsão Não Sobreviveu  Previsão Sobreviveu\n",
            "Real Não Sobreviveu                       93                   17\n",
            "Real Sobreviveu                           16                   52\n",
            "\n",
            "\n",
            "Caso 2: Treino e Teste apenas, removendo variáveis\n",
            "0.8146067415730337\n",
            "                precision    recall  f1-score   support\n",
            "\n",
            "Não Sobreviveu       0.86      0.84      0.85       110\n",
            "    Sobreviveu       0.75      0.78      0.76        68\n",
            "\n",
            "      accuracy                           0.81       178\n",
            "     macro avg       0.80      0.81      0.81       178\n",
            "  weighted avg       0.82      0.81      0.82       178\n",
            "\n",
            "                     Previsão Não Sobreviveu  Previsão Sobreviveu\n",
            "Real Não Sobreviveu                       92                   18\n",
            "Real Sobreviveu                           15                   53\n",
            "Regressão Logística\n",
            "\n",
            "Caso 1:  Treino e Teste apenas\n",
            "0.8146067415730337\n",
            "                precision    recall  f1-score   support\n",
            "\n",
            "Não Sobreviveu       0.84      0.86      0.85       110\n",
            "    Sobreviveu       0.77      0.74      0.75        68\n",
            "\n",
            "      accuracy                           0.81       178\n",
            "     macro avg       0.80      0.80      0.80       178\n",
            "  weighted avg       0.81      0.81      0.81       178\n",
            "\n",
            "                     Previsão Não Sobreviveu  Previsão Sobreviveu\n",
            "Real Não Sobreviveu                       95                   15\n",
            "Real Sobreviveu                           18                   50\n",
            "\n",
            "KNN\n",
            "\n",
            "Caso 1: Treino e Teste apenas\n",
            "0.7528089887640449\n",
            "                precision    recall  f1-score   support\n",
            "\n",
            "Não Sobreviveu       0.78      0.83      0.81       110\n",
            "    Sobreviveu       0.69      0.63      0.66        68\n",
            "\n",
            "      accuracy                           0.75       178\n",
            "     macro avg       0.74      0.73      0.73       178\n",
            "  weighted avg       0.75      0.75      0.75       178\n",
            "\n",
            "                     Previsão Não Sobreviveu  Previsão Sobreviveu\n",
            "Real Não Sobreviveu                       91                   19\n",
            "Real Sobreviveu                           25                   43\n",
            "\n",
            "\n",
            "Caso 2: Treino e Teste com normalização Min-Max\n",
            "0.8314606741573034\n",
            "                precision    recall  f1-score   support\n",
            "\n",
            "Não Sobreviveu       0.84      0.89      0.87       110\n",
            "    Sobreviveu       0.81      0.74      0.77        68\n",
            "\n",
            "      accuracy                           0.83       178\n",
            "     macro avg       0.83      0.81      0.82       178\n",
            "  weighted avg       0.83      0.83      0.83       178\n",
            "\n",
            "                     Previsão Não Sobreviveu  Previsão Sobreviveu\n",
            "Real Não Sobreviveu                       98                   12\n",
            "Real Sobreviveu                           18                   50\n",
            "\n",
            "\n",
            "Caso 3: Treino e Teste com normalização StandardScaler\n",
            "0.8314606741573034\n",
            "                precision    recall  f1-score   support\n",
            "\n",
            "Não Sobreviveu       0.85      0.88      0.87       110\n",
            "    Sobreviveu       0.80      0.75      0.77        68\n",
            "\n",
            "      accuracy                           0.83       178\n",
            "     macro avg       0.82      0.82      0.82       178\n",
            "  weighted avg       0.83      0.83      0.83       178\n",
            "\n",
            "                     Previsão Não Sobreviveu  Previsão Sobreviveu\n",
            "Real Não Sobreviveu                       97                   13\n",
            "Real Sobreviveu                           17                   51\n",
            "\n",
            "\n",
            "Caso 4: Normalizando os dados com método Min-Max + otimização dos parâmetros\n",
            "0.8314606741573034\n",
            "                precision    recall  f1-score   support\n",
            "\n",
            "Não Sobreviveu       0.83      0.92      0.87       110\n",
            "    Sobreviveu       0.84      0.69      0.76        68\n",
            "\n",
            "      accuracy                           0.83       178\n",
            "     macro avg       0.83      0.80      0.81       178\n",
            "  weighted avg       0.83      0.83      0.83       178\n",
            "\n",
            "                     Previsão Não Sobreviveu  Previsão Sobreviveu\n",
            "Real Não Sobreviveu                      101                    9\n",
            "Real Sobreviveu                           21                   47\n",
            "\n",
            "SVM\n",
            "\n",
            "Caso 1: Treino e Teste apenas\n",
            "0.6460674157303371\n",
            "                precision    recall  f1-score   support\n",
            "\n",
            "Não Sobreviveu       0.66      0.86      0.75       110\n",
            "    Sobreviveu       0.57      0.29      0.39        68\n",
            "\n",
            "      accuracy                           0.65       178\n",
            "     macro avg       0.62      0.58      0.57       178\n",
            "  weighted avg       0.63      0.65      0.61       178\n",
            "\n",
            "                     Previsão Não Sobreviveu  Previsão Sobreviveu\n",
            "Real Não Sobreviveu                       95                   15\n",
            "Real Sobreviveu                           48                   20\n",
            "\n",
            "\n",
            "Caso 2: Treino e Teste com normalização Min-Max\n",
            "0.8370786516853933\n",
            "                precision    recall  f1-score   support\n",
            "\n",
            "Não Sobreviveu       0.81      0.96      0.88       110\n",
            "    Sobreviveu       0.91      0.63      0.75        68\n",
            "\n",
            "      accuracy                           0.84       178\n",
            "     macro avg       0.86      0.80      0.81       178\n",
            "  weighted avg       0.85      0.84      0.83       178\n",
            "\n",
            "                     Previsão Não Sobreviveu  Previsão Sobreviveu\n",
            "Real Não Sobreviveu                      106                    4\n",
            "Real Sobreviveu                           25                   43\n",
            "\n",
            "\n",
            "Caso 3: Treino e Teste com normalização normalização Min-Max + Otimização do Parâmetro C\n",
            "0.8370786516853933\n",
            "                precision    recall  f1-score   support\n",
            "\n",
            "Não Sobreviveu       0.81      0.96      0.88       110\n",
            "    Sobreviveu       0.91      0.63      0.75        68\n",
            "\n",
            "      accuracy                           0.84       178\n",
            "     macro avg       0.86      0.80      0.81       178\n",
            "  weighted avg       0.85      0.84      0.83       178\n",
            "\n",
            "                     Previsão Não Sobreviveu  Previsão Sobreviveu\n",
            "Real Não Sobreviveu                      106                    4\n",
            "Real Sobreviveu                           25                   43\n",
            "\n"
          ],
          "name": "stdout"
        }
      ]
    }
  ]
}